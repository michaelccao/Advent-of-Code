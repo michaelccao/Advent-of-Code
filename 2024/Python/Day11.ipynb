{
 "cells": [
  {
   "cell_type": "code",
   "execution_count": 1,
   "metadata": {},
   "outputs": [],
   "source": [
    "from pathlib import Path"
   ]
  },
  {
   "cell_type": "code",
   "execution_count": 2,
   "metadata": {},
   "outputs": [],
   "source": [
    "data = Path('../Data/Day11.txt').read_text().split()"
   ]
  },
  {
   "cell_type": "code",
   "execution_count": 4,
   "metadata": {},
   "outputs": [
    {
     "name": "stdout",
     "output_type": "stream",
     "text": [
      "231278\n"
     ]
    }
   ],
   "source": [
    "# Slow version, can't do Part 2 with this\n",
    "\n",
    "nums = [int(num) for num in data]\n",
    "\n",
    "for _ in range(25):\n",
    "\n",
    "    i = 0\n",
    "    \n",
    "    while i < len(nums):\n",
    "        num = nums[i]\n",
    "\n",
    "        if num == 0:\n",
    "            nums[i] = 1\n",
    "            i += 1\n",
    "        elif len(str(num)) % 2 == 0:\n",
    "            num = str(num)\n",
    "\n",
    "            nums[i] = int(num[:len(num)//2])\n",
    "            nums.insert(i+1, int(num[len(num)//2:]))\n",
    "            i += 2\n",
    "        else:\n",
    "            nums[i] *= 2024\n",
    "            i += 1\n",
    "\n",
    "print(len(nums))"
   ]
  },
  {
   "cell_type": "code",
   "execution_count": 3,
   "metadata": {},
   "outputs": [],
   "source": [
    "cache = {}\n",
    "\n",
    "def blink(num, blinks):\n",
    "\n",
    "    if (num, blinks) in cache:\n",
    "        return cache[num, blinks]\n",
    "    \n",
    "    if blinks == 1:\n",
    "        if len(str(num)) % 2 == 0:\n",
    "            cache[num, blinks] = 2\n",
    "        else:\n",
    "            cache[num, blinks] = 1\n",
    "    else:\n",
    "        if num == 0:\n",
    "            cache[num, blinks] = blink(1, blinks-1)\n",
    "        elif len(str(num)) % 2 == 0:\n",
    "            num1 = int(str(num)[:len(str(num))//2])\n",
    "            num2 = int(str(num)[len(str(num))//2:])\n",
    "\n",
    "            cache[num, blinks] = blink(num1, blinks-1) + blink(num2, blinks-1)\n",
    "        else:\n",
    "            cache[num, blinks] = blink(num*2024, blinks-1)\n",
    "\n",
    "    return cache[num, blinks]"
   ]
  },
  {
   "cell_type": "code",
   "execution_count": 4,
   "metadata": {},
   "outputs": [
    {
     "name": "stdout",
     "output_type": "stream",
     "text": [
      "231278\n",
      "274229228071551\n"
     ]
    }
   ],
   "source": [
    "nums = [int(num) for num in data]\n",
    "\n",
    "print(sum([blink(num, 25) for num in nums]))\n",
    "\n",
    "print(sum([blink(num, 75) for num in nums]))"
   ]
  }
 ],
 "metadata": {
  "kernelspec": {
   "display_name": "base",
   "language": "python",
   "name": "python3"
  },
  "language_info": {
   "codemirror_mode": {
    "name": "ipython",
    "version": 3
   },
   "file_extension": ".py",
   "mimetype": "text/x-python",
   "name": "python",
   "nbconvert_exporter": "python",
   "pygments_lexer": "ipython3",
   "version": "3.10.9"
  }
 },
 "nbformat": 4,
 "nbformat_minor": 2
}
