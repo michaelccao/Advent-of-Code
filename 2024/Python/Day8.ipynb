{
 "cells": [
  {
   "cell_type": "code",
   "execution_count": 21,
   "metadata": {},
   "outputs": [],
   "source": [
    "from pathlib import Path\n",
    "import numpy as np\n",
    "from collections import defaultdict\n",
    "from itertools import combinations"
   ]
  },
  {
   "cell_type": "code",
   "execution_count": 33,
   "metadata": {},
   "outputs": [],
   "source": [
    "data = Path('../Data/Day8.txt').read_text().splitlines()"
   ]
  },
  {
   "cell_type": "code",
   "execution_count": 38,
   "metadata": {},
   "outputs": [],
   "source": [
    "ant = defaultdict(list)\n",
    "\n",
    "for row, line in enumerate(data):\n",
    "    for col, c in enumerate(line):\n",
    "        if c != '.':\n",
    "            ant[c].append((row, col))\n",
    "\n",
    "rows = len(data)\n",
    "cols = len(data[0])"
   ]
  },
  {
   "cell_type": "code",
   "execution_count": 39,
   "metadata": {},
   "outputs": [
    {
     "name": "stdout",
     "output_type": "stream",
     "text": [
      "371\n"
     ]
    }
   ],
   "source": [
    "nodes = set()\n",
    "\n",
    "for f in ant:\n",
    "    for (x,y), (x2, y2) in combinations(ant[f], 2):\n",
    "        \n",
    "        dx = x2 - x\n",
    "        dy = y2 - y\n",
    "\n",
    "        anodes = [(x + 2*dx, y + 2*dy), (x2 - 2*dx, y2 - 2*dy)]\n",
    "        \n",
    "        for anode in anodes:\n",
    "            if 0 <= anode[0] < rows and 0 <= anode[1] < cols:\n",
    "                nodes.add(anode)\n",
    "\n",
    "print(len(nodes))"
   ]
  },
  {
   "cell_type": "code",
   "execution_count": 40,
   "metadata": {},
   "outputs": [
    {
     "name": "stdout",
     "output_type": "stream",
     "text": [
      "1229\n"
     ]
    }
   ],
   "source": [
    "nodes = set()\n",
    "\n",
    "for f in ant:\n",
    "    for (x,y), (x2, y2) in combinations(ant[f], 2):\n",
    "        \n",
    "        dx = x2 - x\n",
    "        dy = y2 - y\n",
    "\n",
    "        anodes = [(x + step*dx, y + step*dy) for step in range(-rows-cols-1, rows+cols+1)]\n",
    "        \n",
    "        for anode in anodes:\n",
    "            if 0 <= anode[0] < rows and 0 <= anode[1] < cols:\n",
    "                nodes.add(anode)\n",
    "\n",
    "print(len(nodes))"
   ]
  }
 ],
 "metadata": {
  "kernelspec": {
   "display_name": "base",
   "language": "python",
   "name": "python3"
  },
  "language_info": {
   "codemirror_mode": {
    "name": "ipython",
    "version": 3
   },
   "file_extension": ".py",
   "mimetype": "text/x-python",
   "name": "python",
   "nbconvert_exporter": "python",
   "pygments_lexer": "ipython3",
   "version": "3.10.9"
  }
 },
 "nbformat": 4,
 "nbformat_minor": 2
}
