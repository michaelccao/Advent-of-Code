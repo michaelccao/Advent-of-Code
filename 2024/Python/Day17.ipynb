{
 "cells": [
  {
   "cell_type": "code",
   "execution_count": 1,
   "metadata": {},
   "outputs": [],
   "source": [
    "from pathlib import Path\n",
    "import numpy as np\n",
    "import re\n",
    "from math import prod\n",
    "from collections import defaultdict, deque\n",
    "from copy import copy"
   ]
  },
  {
   "cell_type": "code",
   "execution_count": 2,
   "metadata": {},
   "outputs": [],
   "source": [
    "data = Path('../Data/Day17.txt').read_text().splitlines()"
   ]
  },
  {
   "cell_type": "code",
   "execution_count": 3,
   "metadata": {},
   "outputs": [],
   "source": [
    "[a, b, c] = [int(data[i].split(':')[1].strip()) for i in range(3)]\n",
    "program = [int(num) for num in data[-1].split(': ')[1].split(',')]"
   ]
  },
  {
   "cell_type": "code",
   "execution_count": 4,
   "metadata": {},
   "outputs": [],
   "source": [
    "def execute_program(a, b, c, program):\n",
    "    combo = {\n",
    "        0: 0,\n",
    "        1: 1,\n",
    "        2: 2,\n",
    "        3: 3,\n",
    "        4: a,\n",
    "        5: b,\n",
    "        6: c,\n",
    "    }\n",
    "\n",
    "    outputs = []\n",
    "\n",
    "    pointer = 0\n",
    "\n",
    "    while pointer < len(program):\n",
    "        opcode = program[pointer]\n",
    "        operand = program[pointer+1]\n",
    "\n",
    "        match opcode:\n",
    "            case 0:\n",
    "                a = int(a / 2**combo[operand])\n",
    "                combo[4] = a\n",
    "            case 1:\n",
    "                b = b ^ operand\n",
    "                combo[5] = b\n",
    "            case 2:\n",
    "                b = combo[operand] % 8\n",
    "                combo[5] = b\n",
    "            case 3:\n",
    "                if a != 0:\n",
    "                    pointer = operand\n",
    "                    continue\n",
    "            case 4:\n",
    "                b = b ^ c\n",
    "                combo[5] = b\n",
    "            case 5:\n",
    "                outputs.append(combo[operand] % 8)\n",
    "            case 6:\n",
    "                b = int(a / 2 ** combo[operand])\n",
    "                combo[5] = b\n",
    "            case 7:\n",
    "                c = int(a / 2**combo[operand])\n",
    "                combo[6] = c\n",
    "        \n",
    "        pointer += 2\n",
    "\n",
    "    return outputs"
   ]
  },
  {
   "cell_type": "code",
   "execution_count": 5,
   "metadata": {},
   "outputs": [
    {
     "data": {
      "text/plain": [
       "'7,1,5,2,4,0,7,6,1'"
      ]
     },
     "execution_count": 5,
     "metadata": {},
     "output_type": "execute_result"
    }
   ],
   "source": [
    "','.join(str(num) for num in execute_program(a, b, c, program))"
   ]
  },
  {
   "cell_type": "code",
   "execution_count": 6,
   "metadata": {},
   "outputs": [],
   "source": [
    "# (2, 4) Set B to A % 8\n",
    "# (1, 2) Set B to B ^ 2 \n",
    "# (7, 5) Set C to A // 2**B\n",
    "# (1, 3) Set B to B ^ 3\n",
    "# (4, 4) Set B to B ^ C\n",
    "# (5, 5) Output B % 8\n",
    "# (0, 3) Set A = A // 2**3\n",
    "# (3, 0) If A != 0, jump to start\n",
    "\n",
    "# Recognize that program is 16 numbers\n",
    "# That requires 8**15 <= A < 8**16, aka A is a 48 bit number\n",
    "\n",
    "# The state of B, C do not matter at the start of the cycle \n",
    "# as B is immediately determined by A\n",
    "# and C is determined by A and B\n",
    "# Thus the output is only determined by value of A at beginning of cycle\n",
    "# And the next output is simply determined by A // 8\n",
    "\n",
    "# B % 8 only cares about the last 3 bits of B\n",
    "# So we only care about last 3 bits of B ^ C\n",
    "# So we only care about last 3 bits of B and C\n",
    "# B is based off of last 3 bits of A\n",
    "# C is based off of last 3 bits after right shifting anywhere from 0 to 7 bits based on B (A % 8 ^ 2)\n",
    "# Therefore B tells us last three bits of A at that cycle\n",
    "# C tells us bits B to B+3\n",
    "# Only 64 combinations of B and C to consider\n",
    "\n",
    "# Some combinations of B and C cannot happen\n",
    "# E.G. B,C cannot start as 2 and 5 as that would imply\n",
    "# Last 3 bits of A are 010 and 101 simultaneously\n",
    "# In general, if B^2 < 3, there is a chance of contradiction\n"
   ]
  },
  {
   "cell_type": "code",
   "execution_count": 7,
   "metadata": {},
   "outputs": [],
   "source": [
    "# For an output, find valid B,C pairs that generate that output\n",
    "bc_map = defaultdict(set)\n",
    "\n",
    "for b_ in range(8):\n",
    "    for c_ in range(8):\n",
    "        shift = b_ ^ 2\n",
    "        if shift < 3:\n",
    "            b_bits = f\"{b_:03b}\"\n",
    "            c_bits = f\"{c_:03b}\"\n",
    "\n",
    "            if b_bits[0:3-shift] != c_bits[shift:]:\n",
    "                continue\n",
    "        \n",
    "        # Program is all the relevant commands that affect output\n",
    "        # Except for the commands that initialized B and C\n",
    "        out, *_ = execute_program(0, b_, c_, [1, 2, 1, 3, 4, 4, 5, 5])\n",
    "\n",
    "        bc_map[out].add((b_, c_))"
   ]
  },
  {
   "cell_type": "code",
   "execution_count": 8,
   "metadata": {},
   "outputs": [
    {
     "data": {
      "text/plain": [
       "defaultdict(set,\n",
       "            {1: {(0, 0), (1, 1), (2, 2), (4, 4), (5, 5), (6, 6), (7, 7)},\n",
       "             3: {(0, 2), (1, 3), (3, 1), (4, 6), (5, 7), (6, 4), (7, 5)},\n",
       "             5: {(0, 4), (1, 5), (4, 0), (5, 1), (6, 2), (7, 3)},\n",
       "             7: {(0, 6), (1, 7), (3, 5), (4, 2), (5, 3), (6, 0), (7, 1)},\n",
       "             0: {(1, 0), (4, 5), (5, 4), (6, 7), (7, 6)},\n",
       "             2: {(1, 2), (4, 7), (5, 6), (6, 5), (7, 4)},\n",
       "             4: {(1, 4), (4, 1), (5, 0), (6, 3), (7, 2)},\n",
       "             6: {(1, 6), (4, 3), (5, 2), (6, 1), (7, 0)}})"
      ]
     },
     "execution_count": 8,
     "metadata": {},
     "output_type": "execute_result"
    }
   ],
   "source": [
    "bc_map"
   ]
  },
  {
   "cell_type": "code",
   "execution_count": 9,
   "metadata": {},
   "outputs": [],
   "source": [
    "# Every ith output gives us info on last 3 bits of A at that cycle\n",
    "# Plus some more info depending on how much A was right shifted to get C\n",
    "# Explore possibilities and generate final candidates that satisfy output condition\n",
    "\n",
    "def determine_bits(program):\n",
    "    total_bits = len(program)*3\n",
    "\n",
    "    nodes = deque([(0, [-1]*total_bits)])\n",
    "\n",
    "    candidates = []\n",
    "\n",
    "    while nodes:\n",
    "        pointer, guess = nodes.pop()\n",
    "\n",
    "        if pointer == len(program):\n",
    "            candidates.append(guess)\n",
    "            continue\n",
    "\n",
    "        target = program[pointer]\n",
    "\n",
    "        \n",
    "\n",
    "        for b,c in bc_map[target]:\n",
    "            \n",
    "            b_bits = f\"{b:03b}\"\n",
    "            c_bits = f\"{c:03b}\"\n",
    "\n",
    "            valid = True\n",
    "\n",
    "            guess2 = copy(guess)\n",
    "\n",
    "            b_start = total_bits - 3*pointer - 3\n",
    "        \n",
    "            c_start = total_bits - 3*pointer - 3 - (b ^ 2)\n",
    "\n",
    "            for i in range(3):\n",
    "                b_ind = b_start + i\n",
    "\n",
    "                if guess2[b_ind] == -1:\n",
    "                    guess2[b_ind] = int(b_bits[i])\n",
    "                elif guess2[b_ind] != int(b_bits[i]):\n",
    "                    valid = False\n",
    "                    break\n",
    "\n",
    "            if not valid:\n",
    "                continue\n",
    "\n",
    "            for j in range(3):\n",
    "                c_ind = c_start + j\n",
    "                \n",
    "                if c_ind < 0:\n",
    "                    if int(c_bits[j]) == 0:\n",
    "                        continue\n",
    "                    else:\n",
    "                        valid = False\n",
    "                        break\n",
    "                elif guess2[c_ind] == -1:\n",
    "                    guess2[c_ind] = int(c_bits[j])\n",
    "                elif guess2[c_ind] != int(c_bits[j]):\n",
    "                    valid = False\n",
    "                    if pointer == 15:\n",
    "                        print(c_ind, \"error here\")\n",
    "                    break\n",
    "            \n",
    "            if not valid:\n",
    "                continue\n",
    "\n",
    "            nodes.append((pointer+1, guess2))\n",
    "    \n",
    "    return int(''.join(str(num) for num in min(candidates)), 2)\n",
    "                \n",
    "\n",
    "\n"
   ]
  },
  {
   "cell_type": "code",
   "execution_count": 10,
   "metadata": {},
   "outputs": [
    {
     "data": {
      "text/plain": [
       "37222273957364"
      ]
     },
     "execution_count": 10,
     "metadata": {},
     "output_type": "execute_result"
    }
   ],
   "source": [
    "determine_bits(program)"
   ]
  }
 ],
 "metadata": {
  "kernelspec": {
   "display_name": "trucking",
   "language": "python",
   "name": "python3"
  },
  "language_info": {
   "codemirror_mode": {
    "name": "ipython",
    "version": 3
   },
   "file_extension": ".py",
   "mimetype": "text/x-python",
   "name": "python",
   "nbconvert_exporter": "python",
   "pygments_lexer": "ipython3",
   "version": "3.11.2"
  }
 },
 "nbformat": 4,
 "nbformat_minor": 2
}
