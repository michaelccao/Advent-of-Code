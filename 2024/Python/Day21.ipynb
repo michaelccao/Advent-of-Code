{
 "cells": [
  {
   "cell_type": "code",
   "execution_count": 1,
   "metadata": {},
   "outputs": [],
   "source": [
    "from pathlib import Path\n",
    "import numpy as np\n",
    "import re\n",
    "from math import prod\n",
    "from collections import defaultdict, deque\n",
    "from copy import copy\n",
    "from itertools import pairwise, permutations, product"
   ]
  },
  {
   "cell_type": "code",
   "execution_count": 2,
   "metadata": {},
   "outputs": [],
   "source": [
    "data = Path('../Data/Day21.txt').read_text().splitlines()"
   ]
  },
  {
   "cell_type": "code",
   "execution_count": 3,
   "metadata": {},
   "outputs": [],
   "source": [
    "# Big ideas\n",
    "\n",
    "# Keep moves in the same direction together\n",
    "\n",
    "# Because our encode assumes start position is at A\n",
    "# We can always segment our encode for each segment ending in A\n",
    "\n",
    "# Codes always end in A\n",
    "# Shortest length = sum of shortest segments\n",
    "# We can perform that calculation recursively with memoization\n",
    "\n",
    "# DO NOT TRY TO GET STRING AT 25 ROBOS, IT'S WAY TOO LONG AND WILL FREEZE YOUR PC\n",
    "# DON'T ASK ME HOW I KNOW"
   ]
  },
  {
   "cell_type": "code",
   "execution_count": 4,
   "metadata": {},
   "outputs": [],
   "source": [
    "numpad = {\n",
    "    '7': (0, 0),\n",
    "    '8': (0, 1),\n",
    "    '9': (0, 2),\n",
    "    '4': (1, 0),\n",
    "    '5': (1, 1),\n",
    "    '6': (1, 2),\n",
    "    '1': (2, 0),\n",
    "    '2': (2, 1),\n",
    "    '3': (2, 2),\n",
    "    '0': (3, 1),\n",
    "    'A': (3, 2)\n",
    "}\n",
    "\n",
    "dirpad = {\n",
    "    '^': (0, 1),\n",
    "    'A': (0, 2),\n",
    "    '<': (1, 0),\n",
    "    'v': (1, 1),\n",
    "    '>': (1, 2)\n",
    "}\n",
    "\n",
    "\n",
    "\n",
    "def get_sequences(pad, forbidden):\n",
    "\n",
    "    dr = {\n",
    "        '^': (-1, 0),\n",
    "        '>': (0, 1),\n",
    "        'v': (1, 0),\n",
    "        '<': (0, -1)\n",
    "    }\n",
    "    \n",
    "    moves = {}\n",
    "\n",
    "    for num, (i, j) in pad.items():\n",
    "        for num2, (i2, j2) in pad.items():\n",
    "\n",
    "            di = i2 - i\n",
    "            dj = j2 - j\n",
    "\n",
    "            up = '^'*abs(di)*(di < 0)\n",
    "            down = 'v'*abs(di)*(di > 0)\n",
    "\n",
    "            right = '>'*abs(dj)*(dj > 0)\n",
    "            left = '<'*abs(dj)*(dj < 0)\n",
    "\n",
    "            # Better to keep directions together\n",
    "            # rather than mix\n",
    "            # E.g. >>^^ and ^^>> are fine\n",
    "            # But >^>^ is not\n",
    "            sequence = [up, down, right, left]\n",
    "\n",
    "            moves[num, num2] = set()\n",
    "\n",
    "            for p in permutations(sequence):\n",
    "                p = ''.join(p)\n",
    "                if p in moves[num, num2]:\n",
    "                    continue\n",
    "\n",
    "                valid = True\n",
    "\n",
    "                i3 = i\n",
    "                j3 = j\n",
    "\n",
    "                for move in p:\n",
    "                    \n",
    "                    di2, dj2 = dr[move]\n",
    "\n",
    "                    i3 += di2\n",
    "                    j3 += dj2\n",
    "\n",
    "                    if (i3, j3) == forbidden:\n",
    "                        valid = False\n",
    "                        break\n",
    "                if valid:\n",
    "                    moves[num, num2].add(''.join(p))\n",
    "    \n",
    "    return moves\n",
    "            "
   ]
  },
  {
   "cell_type": "code",
   "execution_count": 5,
   "metadata": {},
   "outputs": [],
   "source": [
    "num_to_num = get_sequences(numpad, (3, 0))\n",
    "dir_to_dir = get_sequences(dirpad, (0, 0))"
   ]
  },
  {
   "cell_type": "code",
   "execution_count": 6,
   "metadata": {},
   "outputs": [],
   "source": [
    "def numcode_to_dircodes(code, num_to_num = num_to_num):\n",
    "    return {'A'.join(p)+'A' for p in product(*[num_to_num[num1, num2] for num1, num2 in pairwise('A'+code)])}\n",
    "\n",
    "cache = {}\n",
    "\n",
    "def dircode_to_dircodes(code, dir_to_dir = dir_to_dir, cache = cache):\n",
    "\n",
    "    if code in cache:\n",
    "        return cache[code]\n",
    "\n",
    "    if code.find('A') == len(code)-1:\n",
    "        cache[code] = {'A'.join(p)+'A' for p in product(*[dir_to_dir[d1, d2] for d1, d2 in pairwise('A'+code)])}\n",
    "        return cache[code]\n",
    "    \n",
    "    return {''.join(p) for p in product(*[dircode_to_dircodes(seg + 'A') for seg in code.split('A')[:-1]])}"
   ]
  },
  {
   "cell_type": "code",
   "execution_count": 7,
   "metadata": {},
   "outputs": [],
   "source": [
    "shortest_cache = {}\n",
    "\n",
    "def find_shortest(code, layers, cache = shortest_cache):\n",
    "\n",
    "    if code == 'A':\n",
    "        return 1\n",
    "\n",
    "    if (code, layers) in cache:\n",
    "        return cache[code, layers]\n",
    "    \n",
    "    elif layers == 1:\n",
    "        cache[code, layers] = len(min(dircode_to_dircodes(code), key = len))\n",
    "\n",
    "    \n",
    "    elif code.index('A') == len(code) - 1:\n",
    "        codes = dircode_to_dircodes(code)\n",
    "        cache[code, layers] = min([find_shortest(c, layers - 1) for c in codes])\n",
    "\n",
    "    else:\n",
    "        cache[code, layers] = sum(find_shortest(seg + 'A', layers) for seg in code.split('A')[:-1])\n",
    "\n",
    "    return cache[code, layers]"
   ]
  },
  {
   "cell_type": "code",
   "execution_count": 8,
   "metadata": {},
   "outputs": [
    {
     "data": {
      "text/plain": [
       "132532"
      ]
     },
     "execution_count": 8,
     "metadata": {},
     "output_type": "execute_result"
    }
   ],
   "source": [
    "sum([min(find_shortest(code2, 2) for code2 in numcode_to_dircodes(code))*int(code[:-1]) for code in data])"
   ]
  },
  {
   "cell_type": "code",
   "execution_count": 9,
   "metadata": {},
   "outputs": [
    {
     "data": {
      "text/plain": [
       "165644591859332"
      ]
     },
     "execution_count": 9,
     "metadata": {},
     "output_type": "execute_result"
    }
   ],
   "source": [
    "sum([min(find_shortest(code2, 25) for code2 in numcode_to_dircodes(code))*int(code[:-1]) for code in data])"
   ]
  }
 ],
 "metadata": {
  "kernelspec": {
   "display_name": "base",
   "language": "python",
   "name": "python3"
  },
  "language_info": {
   "codemirror_mode": {
    "name": "ipython",
    "version": 3
   },
   "file_extension": ".py",
   "mimetype": "text/x-python",
   "name": "python",
   "nbconvert_exporter": "python",
   "pygments_lexer": "ipython3",
   "version": "3.10.9"
  }
 },
 "nbformat": 4,
 "nbformat_minor": 2
}
