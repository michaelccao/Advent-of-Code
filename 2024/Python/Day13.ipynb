{
 "cells": [
  {
   "cell_type": "code",
   "execution_count": 5,
   "metadata": {},
   "outputs": [],
   "source": [
    "from pathlib import Path\n",
    "import numpy as np\n",
    "from collections import deque\n",
    "import re"
   ]
  },
  {
   "cell_type": "code",
   "execution_count": 59,
   "metadata": {},
   "outputs": [],
   "source": [
    "data = Path('../Data/Day13.txt').read_text()"
   ]
  },
  {
   "cell_type": "code",
   "execution_count": 60,
   "metadata": {},
   "outputs": [],
   "source": [
    "patt = r\"X\\+(\\d+), Y\\+(\\d+)\\nButton B: X\\+(\\d+), Y\\+(\\d+)\\nPrize: X=(\\d+), Y=(\\d+)\""
   ]
  },
  {
   "cell_type": "code",
   "execution_count": 61,
   "metadata": {},
   "outputs": [],
   "source": [
    "games = [[int(num) for num in match] for match in re.findall(patt, data)]"
   ]
  },
  {
   "cell_type": "code",
   "execution_count": 64,
   "metadata": {},
   "outputs": [
    {
     "name": "stdout",
     "output_type": "stream",
     "text": [
      "31065\n"
     ]
    }
   ],
   "source": [
    "tokens = 0\n",
    "\n",
    "for game in games:\n",
    "    x1, y1, x2, y2, xf, yf = game\n",
    "\n",
    "    a, b = np.linalg.solve([[x1, x2], [y1, y2]], [xf, yf])\n",
    "\n",
    "    a = int(np.round(a, 0))\n",
    "    b = int(np.round(b, 0))\n",
    "    \n",
    "    if a*x1 + b*x2 == xf and a*y1 + b*y2 == yf:\n",
    "        tokens += 3*a + b\n",
    "\n",
    "print(tokens)"
   ]
  },
  {
   "cell_type": "code",
   "execution_count": 65,
   "metadata": {},
   "outputs": [
    {
     "name": "stdout",
     "output_type": "stream",
     "text": [
      "93866170395343\n"
     ]
    }
   ],
   "source": [
    "tokens = 0\n",
    "\n",
    "for game in games:\n",
    "    x1, y1, x2, y2, xf, yf = game\n",
    "\n",
    "    xf += 10000000000000\n",
    "    yf += 10000000000000\n",
    "\n",
    "    a, b = np.linalg.solve([[x1, x2], [y1, y2]], [xf, yf])\n",
    "\n",
    "    a = int(np.round(a, 0))\n",
    "    b = int(np.round(b, 0))\n",
    "\n",
    "\n",
    "    \n",
    "    if a*x1 + b*x2 == xf and a*y1 + b*y2 == yf:\n",
    "        tokens += 3*a + b\n",
    "\n",
    "print(tokens)\n"
   ]
  }
 ],
 "metadata": {
  "kernelspec": {
   "display_name": "base",
   "language": "python",
   "name": "python3"
  },
  "language_info": {
   "codemirror_mode": {
    "name": "ipython",
    "version": 3
   },
   "file_extension": ".py",
   "mimetype": "text/x-python",
   "name": "python",
   "nbconvert_exporter": "python",
   "pygments_lexer": "ipython3",
   "version": "3.10.9"
  }
 },
 "nbformat": 4,
 "nbformat_minor": 2
}
