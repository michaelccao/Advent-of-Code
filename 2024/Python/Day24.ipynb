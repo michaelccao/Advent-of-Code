{
 "cells": [
  {
   "cell_type": "code",
   "execution_count": 60,
   "metadata": {},
   "outputs": [],
   "source": [
    "from pathlib import Path\n",
    "import numpy as np\n",
    "import re\n",
    "from math import prod\n",
    "from collections import defaultdict, deque\n",
    "from copy import copy\n",
    "from itertools import pairwise, permutations, product, combinations"
   ]
  },
  {
   "cell_type": "code",
   "execution_count": 196,
   "metadata": {},
   "outputs": [],
   "source": [
    "data = Path('../Data/Day24.txt').read_text().splitlines()"
   ]
  },
  {
   "cell_type": "code",
   "execution_count": 197,
   "metadata": {},
   "outputs": [],
   "source": [
    "wires = {}\n",
    "gates = {}\n",
    "\n",
    "for line in data:\n",
    "    if line.find('->') != -1:\n",
    "        w1, op, w2, _, out = line.split()\n",
    "        gates[out] = [w1, w2, op]\n",
    "    elif line.find(': ') != -1:\n",
    "        w, v = line.split(': ')\n",
    "        wires[w] = int(v)\n"
   ]
  },
  {
   "cell_type": "code",
   "execution_count": 243,
   "metadata": {},
   "outputs": [],
   "source": [
    "def get_wire_output(wire, wires = wires, gates = gates):\n",
    "    if wire in wires:\n",
    "        return wires[wire]\n",
    "    \n",
    "    w1, w2, op = gates[wire]\n",
    "\n",
    "    out1 = get_wire_output(w1, wires, gates)\n",
    "    out2 = get_wire_output(w2, wires, gates)\n",
    "\n",
    "    match op:\n",
    "        case 'OR':\n",
    "            wires[wire] = out1 | out2 \n",
    "        case 'XOR':\n",
    "            wires[wire] = out1 ^ out2\n",
    "        case 'AND':\n",
    "            wires[wire] = out1 * out2\n",
    "    \n",
    "    return wires[wire]\n",
    "\n",
    "def calculate_final_output(wires = wires, gates = gates):\n",
    "\n",
    "    for wire in gates:\n",
    "        get_wire_output(wire, wires, gates)\n",
    "\n",
    "    return int(''.join([str(wires[z]) for z in sorted([w for w in wires if w.startswith('z')], reverse = True)]), 2)"
   ]
  },
  {
   "cell_type": "code",
   "execution_count": 244,
   "metadata": {},
   "outputs": [
    {
     "data": {
      "text/plain": [
       "57344080719736"
      ]
     },
     "execution_count": 244,
     "metadata": {},
     "output_type": "execute_result"
    }
   ],
   "source": [
    "calculate_final_output()"
   ]
  },
  {
   "cell_type": "code",
   "execution_count": 174,
   "metadata": {},
   "outputs": [],
   "source": [
    "num_bits = len([wire for wire in wires if wire[0] == 'x'])\n",
    "\n",
    "def calculate_from_xy(x, y, num_bits = num_bits):\n",
    "    wires2 = {}\n",
    "    for i in range(num_bits):\n",
    "        wires2[f\"x{i:02}\"] = (x >> i) % 2\n",
    "        wires2[f\"y{i:02}\"] = (y >> i) % 2\n",
    "\n",
    "    return calculate_final_output(wires2, gates)"
   ]
  },
  {
   "cell_type": "code",
   "execution_count": 246,
   "metadata": {},
   "outputs": [
    {
     "name": "stdout",
     "output_type": "stream",
     "text": [
      "z05\n",
      "z15\n",
      "z23\n"
     ]
    }
   ],
   "source": [
    "for i in range(num_bits):\n",
    "    clean_wires = {f\"{x}{bit:02}\": 0 for x in ['x', 'y'] for bit in range(num_bits)}\n",
    "    clean_wires[f\"x{i:02}\"] = 1\n",
    "    clean_wires[f\"y{i:02}\"] = 1\n",
    "\n",
    "    if get_wire_output(f\"z{i:02}\", clean_wires, gates) != 0:\n",
    "        print(f\"z{i:02}\")"
   ]
  },
  {
   "cell_type": "code",
   "execution_count": 259,
   "metadata": {},
   "outputs": [],
   "source": [
    "def traceback(wire, gates = gates):\n",
    "\n",
    "    visited = set()\n",
    "\n",
    "    nodes = deque([wire])\n",
    "\n",
    "    while nodes:\n",
    "        wire = nodes.pop()\n",
    "\n",
    "        visited.add(wire)\n",
    "\n",
    "        if wire[0] not in 'xy':\n",
    "            w1, w2, op = gates[wire]\n",
    "\n",
    "            if w1 not in visited:\n",
    "                nodes.append(w1)\n",
    "            if w2 not in visited:\n",
    "                nodes.append(w2)\n",
    "\n",
    "    return visited\n",
    "    "
   ]
  },
  {
   "cell_type": "code",
   "execution_count": 277,
   "metadata": {},
   "outputs": [
    {
     "data": {
      "text/plain": [
       "{'svm': ['y05', 'x05', 'AND'], 'nbc': ['y05', 'x05', 'XOR']}"
      ]
     },
     "execution_count": 277,
     "metadata": {},
     "output_type": "execute_result"
    }
   ],
   "source": [
    "{k:v for k,v in gates.items() if 'x05' in v and 'y05' in v}"
   ]
  },
  {
   "cell_type": "code",
   "execution_count": 278,
   "metadata": {},
   "outputs": [
    {
     "data": {
      "text/plain": [
       "{'z05': ['rgq', 'svm', 'XOR'], 'skn': ['svm', 'rgq', 'AND']}"
      ]
     },
     "execution_count": 278,
     "metadata": {},
     "output_type": "execute_result"
    }
   ],
   "source": [
    "{k:v for k,v in gates.items() if 'svm' in v}"
   ]
  },
  {
   "cell_type": "code",
   "execution_count": 283,
   "metadata": {},
   "outputs": [
    {
     "data": {
      "text/plain": [
       "{'z07': ['rnc', 'cqp', 'XOR'], 'hdk': ['cqp', 'rnc', 'AND']}"
      ]
     },
     "execution_count": 283,
     "metadata": {},
     "output_type": "execute_result"
    }
   ],
   "source": [
    "{k:v for k,v in gates.items() if 'cqp' in v}"
   ]
  }
 ],
 "metadata": {
  "kernelspec": {
   "display_name": "aoc",
   "language": "python",
   "name": "python3"
  },
  "language_info": {
   "codemirror_mode": {
    "name": "ipython",
    "version": 3
   },
   "file_extension": ".py",
   "mimetype": "text/x-python",
   "name": "python",
   "nbconvert_exporter": "python",
   "pygments_lexer": "ipython3",
   "version": "3.13.0"
  }
 },
 "nbformat": 4,
 "nbformat_minor": 2
}
