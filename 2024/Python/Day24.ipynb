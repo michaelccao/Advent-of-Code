{
 "cells": [
  {
   "cell_type": "code",
   "execution_count": 359,
   "metadata": {},
   "outputs": [],
   "source": [
    "from pathlib import Path\n",
    "import numpy as np\n",
    "import re\n",
    "from math import prod\n",
    "from collections import defaultdict, deque\n",
    "from copy import copy\n",
    "from itertools import pairwise, permutations, product, combinations"
   ]
  },
  {
   "cell_type": "code",
   "execution_count": 360,
   "metadata": {},
   "outputs": [],
   "source": [
    "data = Path('../Data/Day24.txt').read_text().splitlines()"
   ]
  },
  {
   "cell_type": "code",
   "execution_count": 368,
   "metadata": {},
   "outputs": [],
   "source": [
    "wires = {}\n",
    "gates = {}\n",
    "\n",
    "for line in data:\n",
    "    if line.find('->') != -1:\n",
    "        w1, op, w2, _, out = line.split()\n",
    "        gates[out] = [w1, w2, op]\n",
    "    elif line.find(': ') != -1:\n",
    "        w, v = line.split(': ')\n",
    "        wires[w] = int(v)\n",
    "\n",
    "num_bits = len([wire for wire in wires if wire[0] == 'x'])\n"
   ]
  },
  {
   "cell_type": "code",
   "execution_count": 392,
   "metadata": {},
   "outputs": [],
   "source": [
    "def get_wire_output(wire, wires = wires, gates = gates, swaps = {}):\n",
    "    if wire in wires:\n",
    "        return wires[wire]\n",
    "    \n",
    "    if wire not in swaps:\n",
    "        w1, w2, op = gates[wire]\n",
    "    else:\n",
    "        w1, w2, op = gates[swaps[wire]]\n",
    "\n",
    "    out1 = get_wire_output(w1, wires, gates, swaps)\n",
    "    out2 = get_wire_output(w2, wires, gates, swaps)\n",
    "\n",
    "    match op:\n",
    "        case 'OR':\n",
    "            wires[wire] = out1 | out2 \n",
    "        case 'XOR':\n",
    "            wires[wire] = out1 ^ out2\n",
    "        case 'AND':\n",
    "            wires[wire] = out1 * out2\n",
    "    \n",
    "    return wires[wire]\n",
    "\n",
    "def calculate_final_output(wires = wires, gates = gates, swaps = {}):\n",
    "\n",
    "    for wire in gates:\n",
    "        get_wire_output(wire, wires, gates, swaps)\n",
    "\n",
    "    return int(''.join([str(wires[z]) for z in sorted([w for w in wires if w.startswith('z')], reverse = True)]), 2)\n",
    "\n",
    "def calculate_from_xy(x, y, num_bits = num_bits, swaps = {}):\n",
    "    wires2 = {}\n",
    "    for i in range(num_bits):\n",
    "        wires2[f\"x{i:02}\"] = (x >> i) % 2\n",
    "        wires2[f\"y{i:02}\"] = (y >> i) % 2\n",
    "\n",
    "    return calculate_final_output(wires2, gates, swaps), wires2\n",
    "\n",
    "def get_lineage(gate, gates = gates):\n",
    "\n",
    "    lineage = set()\n",
    "\n",
    "    nodes = deque([gate])\n",
    "\n",
    "    while nodes:\n",
    "        node = nodes.pop()\n",
    "\n",
    "        lineage.add(node)\n",
    "\n",
    "        if node in gates:\n",
    "            w1, w2, _ = gates[node]\n",
    "\n",
    "            for w in [w1, w2]:\n",
    "                if w not in lineage:\n",
    "                    nodes.append(w)\n",
    "\n",
    "    return lineage"
   ]
  },
  {
   "cell_type": "code",
   "execution_count": 393,
   "metadata": {},
   "outputs": [
    {
     "data": {
      "text/plain": [
       "57344080719736"
      ]
     },
     "execution_count": 393,
     "metadata": {},
     "output_type": "execute_result"
    }
   ],
   "source": [
    "calculate_final_output()"
   ]
  },
  {
   "cell_type": "code",
   "execution_count": 394,
   "metadata": {},
   "outputs": [],
   "source": [
    "# Ideas\n",
    "\n",
    "# 0 for both gates returns 0 regardless of operation\n",
    "# We can select our inputs so only a few gate operations are significant\n",
    "# Swaps only matter if we swap 0's with 1's\n",
    "# Some swaps cause infinite loops"
   ]
  },
  {
   "cell_type": "code",
   "execution_count": 482,
   "metadata": {},
   "outputs": [
    {
     "name": "stdout",
     "output_type": "stream",
     "text": [
      "5 {'nbc', 'pdf', 'z06', 'x05'}\n",
      "15 {'kqk', 'z16', 'fwr', 'x15'}\n",
      "23 {'z24', 'cgq', 'hpw', 'x23', 'ngq'}\n",
      "39 {'fnr', 'z40', 'bdr', 'x39', 'sbn'}\n"
     ]
    }
   ],
   "source": [
    "# We noticed that there are four distinct cases that each require at least one swap\n",
    "# Therefore, we can get our four swaps by taking one good swap from each case\n",
    "for i in range(45):\n",
    "    res, output_wires = calculate_from_xy(2**i, 0)\n",
    "\n",
    "    if res != 2**i:\n",
    "        print(i, {wire for wire,value in output_wires.items() if value == 1})"
   ]
  },
  {
   "cell_type": "code",
   "execution_count": 483,
   "metadata": {},
   "outputs": [],
   "source": [
    "# Same as prior, but now we look for good swaps for each case\n",
    "\n",
    "lineages = {gate:get_lineage(gate) for gate in gates}\n",
    "swap_candidates = []\n",
    "for i in range(45):\n",
    "    res, output_wires = calculate_from_xy(2**i, 0)\n",
    "    if  res != 2**i:\n",
    "        zero_gates = []\n",
    "        one_gates = []\n",
    "        for gate in gates:\n",
    "            if output_wires[gate] == 0:\n",
    "                zero_gates.append(gate)\n",
    "            else:\n",
    "                one_gates.append(gate)\n",
    "        \n",
    "        good_swaps = []\n",
    "        for g1, g2 in product(one_gates, zero_gates):\n",
    "            if g2 in lineages[g1] or g1 in lineages[g2]:\n",
    "                continue\n",
    "            swaps = {\n",
    "                g1: g2,\n",
    "                g2: g1\n",
    "            }\n",
    "\n",
    "            swap_res, _ = calculate_from_xy(2**i, 0, swaps = swaps)\n",
    "\n",
    "            if swap_res == 2**i:\n",
    "                good_swaps.append(swaps)\n",
    "        \n",
    "        swap_candidates.append(good_swaps)"
   ]
  },
  {
   "cell_type": "code",
   "execution_count": 484,
   "metadata": {},
   "outputs": [
    {
     "name": "stdout",
     "output_type": "stream",
     "text": [
      "2\n"
     ]
    }
   ],
   "source": [
    "# Test possible swap candidates\n",
    "\n",
    "tests = [\n",
    "    [2**45-1, 2**45-1],\n",
    "]\n",
    "\n",
    "tests += [[2**i, 0] for i in range(45)]\n",
    "tests += [[0, 2**i] for i in range(45)]\n",
    "\n",
    "tests.append([int('10'*22, 2), int('01'*22, 2)])\n",
    "\n",
    "tests.append([int(''.join(str(wires[f\"{x}{i:02}\"]) for i in range(44, -1, -1)), 2) for x in 'xy'])\n",
    "\n",
    "good_candidates = set()\n",
    "\n",
    "for candidate in product(*swap_candidates):\n",
    "    swaps = {k:v for swap in candidate for k,v in swap.items()}\n",
    "\n",
    "    good_swap = True\n",
    "    \n",
    "    for x,y in tests:\n",
    "        if calculate_from_xy(x, y, swaps = swaps)[0] != x+y:\n",
    "            good_swap = False\n",
    "            break\n",
    "    \n",
    "    if good_swap:\n",
    "        good_candidates.add(','.join(sorted(swaps.keys())))\n",
    "\n",
    "print(len(good_candidates))"
   ]
  },
  {
   "cell_type": "code",
   "execution_count": 485,
   "metadata": {},
   "outputs": [
    {
     "data": {
      "text/plain": [
       "{'cgq,fnr,kqk,nbc,svm,z15,z23,z39', 'fnr,kqk,nbc,ngq,svm,z15,z23,z39'}"
      ]
     },
     "execution_count": 485,
     "metadata": {},
     "output_type": "execute_result"
    }
   ],
   "source": [
    "# Down to 2 candidates, good enough!\n",
    "\n",
    "good_candidates"
   ]
  }
 ],
 "metadata": {
  "kernelspec": {
   "display_name": "aoc",
   "language": "python",
   "name": "python3"
  },
  "language_info": {
   "codemirror_mode": {
    "name": "ipython",
    "version": 3
   },
   "file_extension": ".py",
   "mimetype": "text/x-python",
   "name": "python",
   "nbconvert_exporter": "python",
   "pygments_lexer": "ipython3",
   "version": "3.13.0"
  }
 },
 "nbformat": 4,
 "nbformat_minor": 2
}
