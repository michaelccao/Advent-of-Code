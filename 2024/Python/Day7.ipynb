{
 "cells": [
  {
   "cell_type": "code",
   "execution_count": 25,
   "metadata": {},
   "outputs": [],
   "source": [
    "from pathlib import Path\n",
    "import numpy as np\n",
    "from itertools import product"
   ]
  },
  {
   "cell_type": "code",
   "execution_count": 39,
   "metadata": {},
   "outputs": [],
   "source": [
    "data = Path('../Data/Day7.txt').read_text().splitlines()"
   ]
  },
  {
   "cell_type": "code",
   "execution_count": 40,
   "metadata": {},
   "outputs": [],
   "source": [
    "eqns = {int((x:=line.split(':'))[0]) : [int(num) for num in x[1].strip().split()] for line in data}"
   ]
  },
  {
   "cell_type": "code",
   "execution_count": 44,
   "metadata": {},
   "outputs": [
    {
     "name": "stdout",
     "output_type": "stream",
     "text": [
      "267566105056\n"
     ]
    }
   ],
   "source": [
    "valid = 0\n",
    "\n",
    "for total, nums in eqns.items():\n",
    "    for ops in product([0, 1], repeat = len(nums)-1):\n",
    "        calc = nums[0]\n",
    "\n",
    "        for i, op in enumerate(ops):\n",
    "            if op == 0:\n",
    "                calc += nums[i+1]\n",
    "            elif op == 1:\n",
    "                calc *= nums[i+1]\n",
    "\n",
    "            if calc > total:\n",
    "                break\n",
    "        \n",
    "        if calc == total:\n",
    "            valid += total\n",
    "            break\n",
    "\n",
    "print(valid)"
   ]
  },
  {
   "cell_type": "code",
   "execution_count": 43,
   "metadata": {},
   "outputs": [
    {
     "name": "stdout",
     "output_type": "stream",
     "text": [
      "116094961956019\n"
     ]
    }
   ],
   "source": [
    "valid = 0\n",
    "\n",
    "for total, nums in eqns.items():\n",
    "    for ops in product([0, 1, 2], repeat = len(nums)-1):\n",
    "        calc = nums[0]\n",
    "\n",
    "        for i, op in enumerate(ops):\n",
    "            if op == 0:\n",
    "                calc += nums[i+1]\n",
    "            elif op == 1:\n",
    "                calc *= nums[i+1]\n",
    "            elif op == 2:\n",
    "                calc = int(str(calc) + str(nums[i+1]))\n",
    "        \n",
    "            if calc > total:\n",
    "                break\n",
    "        \n",
    "\n",
    "        if calc == total:\n",
    "            valid += total\n",
    "            break\n",
    "\n",
    "print(valid)"
   ]
  }
 ],
 "metadata": {
  "kernelspec": {
   "display_name": "base",
   "language": "python",
   "name": "python3"
  },
  "language_info": {
   "codemirror_mode": {
    "name": "ipython",
    "version": 3
   },
   "file_extension": ".py",
   "mimetype": "text/x-python",
   "name": "python",
   "nbconvert_exporter": "python",
   "pygments_lexer": "ipython3",
   "version": "3.10.9"
  }
 },
 "nbformat": 4,
 "nbformat_minor": 2
}
