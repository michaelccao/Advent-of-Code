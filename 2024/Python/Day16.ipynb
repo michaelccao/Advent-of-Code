{
 "cells": [
  {
   "cell_type": "code",
   "execution_count": 1,
   "metadata": {},
   "outputs": [],
   "source": [
    "from pathlib import Path\n",
    "import numpy as np\n",
    "import re\n",
    "from math import prod\n",
    "from collections import defaultdict, deque\n",
    "from copy import copy"
   ]
  },
  {
   "cell_type": "code",
   "execution_count": 32,
   "metadata": {},
   "outputs": [],
   "source": [
    "data = Path('../Data/Day16.txt').read_text().splitlines()"
   ]
  },
  {
   "cell_type": "code",
   "execution_count": 33,
   "metadata": {},
   "outputs": [],
   "source": [
    "grid = np.array([[c for c in line] for line in data])"
   ]
  },
  {
   "cell_type": "code",
   "execution_count": 34,
   "metadata": {},
   "outputs": [],
   "source": [
    "[i0, *_], [j0, *_] = np.where(grid == 'S')"
   ]
  },
  {
   "cell_type": "code",
   "execution_count": 35,
   "metadata": {},
   "outputs": [],
   "source": [
    "def travel(i, j, grid = grid):\n",
    "    neighbors = [\n",
    "        (0, 1),\n",
    "        (1, 0),\n",
    "        (0, -1),\n",
    "        (-1, 0)\n",
    "    ]\n",
    "\n",
    "    visited = {}\n",
    "\n",
    "    best_score = None\n",
    "\n",
    "    nodes = deque([(i, j, 0, 0, [])])\n",
    "\n",
    "    good_paths = []\n",
    "\n",
    "    while nodes:\n",
    "\n",
    "        i, j, score, heading, history = nodes.pop()\n",
    "\n",
    "        visited[i, j, heading] = score\n",
    "\n",
    "        if grid[i][j] == 'E':\n",
    "            if best_score is None:\n",
    "                best_score = score\n",
    "                good_paths.append([history, score])\n",
    "            else:\n",
    "                if score <= best_score:\n",
    "                    best_score = score\n",
    "                    good_paths.append([history, score])\n",
    "            \n",
    "            continue\n",
    "        \n",
    "        if best_score and score > best_score:\n",
    "            continue\n",
    "\n",
    "        for k in [-1, 0, 1]:\n",
    "            history2 = history.copy()\n",
    "            heading2 = (heading + k) % 4\n",
    "            history2.append(heading2)\n",
    "            di, dj = neighbors[heading2]\n",
    "            score2 = score + 1 + 1000*abs(k)\n",
    "\n",
    "            i2 = i + di\n",
    "            j2 = j + dj\n",
    "\n",
    "            # You can drop the equality for Part 1 for much faster routing\n",
    "            # Equality gets multiple good paths but does repetitive calculations, should find a way to cache this...\n",
    "            if grid[i2, j2] != '#' and ((i2, j2, heading2) not in visited or visited[i2, j2, heading2] >= score2):\n",
    "                \n",
    "                nodes.append((i2, j2, score2, heading2, history2))\n",
    "    \n",
    "    return best_score, [v[0] for v in good_paths if v[1] == best_score]"
   ]
  },
  {
   "cell_type": "code",
   "execution_count": 36,
   "metadata": {},
   "outputs": [],
   "source": [
    "best_score, best_paths = travel(i0, j0, grid)"
   ]
  },
  {
   "cell_type": "code",
   "execution_count": 38,
   "metadata": {},
   "outputs": [
    {
     "name": "stdout",
     "output_type": "stream",
     "text": [
      "65436\n"
     ]
    }
   ],
   "source": [
    "print(best_score)"
   ]
  },
  {
   "cell_type": "code",
   "execution_count": 37,
   "metadata": {},
   "outputs": [
    {
     "name": "stdout",
     "output_type": "stream",
     "text": [
      "489\n"
     ]
    }
   ],
   "source": [
    "neighbors = [\n",
    "        (0, 1),\n",
    "        (1, 0),\n",
    "        (0, -1),\n",
    "        (-1, 0)\n",
    "    ]\n",
    "\n",
    "good_tiles = {(i0, j0)}\n",
    "\n",
    "for path in best_paths:\n",
    "    i = i0\n",
    "    j = j0\n",
    "    for heading in path:\n",
    "        di, dj = neighbors[heading]\n",
    "\n",
    "        i += di\n",
    "        j += dj\n",
    "\n",
    "        good_tiles.add((i, j))\n",
    "\n",
    "print(len(good_tiles))"
   ]
  }
 ],
 "metadata": {
  "kernelspec": {
   "display_name": "base",
   "language": "python",
   "name": "python3"
  },
  "language_info": {
   "codemirror_mode": {
    "name": "ipython",
    "version": 3
   },
   "file_extension": ".py",
   "mimetype": "text/x-python",
   "name": "python",
   "nbconvert_exporter": "python",
   "pygments_lexer": "ipython3",
   "version": "3.10.9"
  }
 },
 "nbformat": 4,
 "nbformat_minor": 2
}
