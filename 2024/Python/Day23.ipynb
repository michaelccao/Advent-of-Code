{
 "cells": [
  {
   "cell_type": "code",
   "execution_count": 53,
   "metadata": {},
   "outputs": [],
   "source": [
    "from pathlib import Path\n",
    "import numpy as np\n",
    "import re\n",
    "from math import prod\n",
    "from collections import defaultdict, deque\n",
    "from copy import copy\n",
    "from itertools import pairwise, permutations, product, combinations\n",
    "import networkx as nx"
   ]
  },
  {
   "cell_type": "code",
   "execution_count": 78,
   "metadata": {},
   "outputs": [],
   "source": [
    "data = Path('../Data/Day23.txt').read_text().splitlines()"
   ]
  },
  {
   "cell_type": "code",
   "execution_count": 79,
   "metadata": {},
   "outputs": [],
   "source": [
    "connections = defaultdict(set)\n",
    "\n",
    "for line in data:\n",
    "    p1, p2 = line.split('-')\n",
    "\n",
    "    connections[p1].add(p2)\n",
    "    connections[p2].add(p1)"
   ]
  },
  {
   "cell_type": "code",
   "execution_count": 80,
   "metadata": {},
   "outputs": [
    {
     "name": "stdout",
     "output_type": "stream",
     "text": [
      "926\n"
     ]
    }
   ],
   "source": [
    "tpcs = [k for k in connections if k[0] == 't']\n",
    "\n",
    "t_sets = set()\n",
    "\n",
    "for t in tpcs:\n",
    "    for p1 in connections[t]:\n",
    "        for p2 in connections[p1]:\n",
    "            if t in connections[p2]:\n",
    "                t_sets.add(tuple(sorted([t, p1, p2])))\n",
    "\n",
    "print(len(t_sets))"
   ]
  },
  {
   "cell_type": "code",
   "execution_count": 85,
   "metadata": {},
   "outputs": [
    {
     "data": {
      "text/plain": [
       "'az,ed,hz,it,ld,nh,pc,td,ty,ux,wc,yg,zz'"
      ]
     },
     "execution_count": 85,
     "metadata": {},
     "output_type": "execute_result"
    }
   ],
   "source": [
    "# Man, NetworkX feels like cheating\n",
    "\n",
    "G = nx.Graph()\n",
    "\n",
    "for line in data:\n",
    "    G.add_edge(*line.split('-'))\n",
    "\n",
    "','.join(sorted(max(nx.find_cliques(G), key = len)))"
   ]
  },
  {
   "cell_type": "code",
   "execution_count": 102,
   "metadata": {},
   "outputs": [
    {
     "data": {
      "text/plain": [
       "'az,ed,hz,it,ld,nh,pc,td,ty,ux,wc,yg,zz'"
      ]
     },
     "execution_count": 102,
     "metadata": {},
     "output_type": "execute_result"
    }
   ],
   "source": [
    "# Standard library solution\n",
    "\n",
    "# Key idea, look for set intersections to add another PC\n",
    "# At any set intersections, members of the largest clique\n",
    "# are all in that set intersection, so we can be greedy\n",
    "# and find the next pc that reduces the set intersection\n",
    "# the least\n",
    "\n",
    "def find_biggest_clique(pc, connections = connections):\n",
    "    clique = [pc]\n",
    "    candidates = connections[pc]\n",
    "\n",
    "    while candidates:\n",
    "        next_pc = max(candidates, key = lambda x: len(candidates.intersection(connections[x])))\n",
    "        candidates = candidates.intersection(connections[next_pc])\n",
    "        clique.append(next_pc)\n",
    "\n",
    "    return sorted(clique)\n",
    "\n",
    "','.join(max([find_biggest_clique(pc) for pc in connections], key = len))"
   ]
  }
 ],
 "metadata": {
  "kernelspec": {
   "display_name": "base",
   "language": "python",
   "name": "python3"
  },
  "language_info": {
   "codemirror_mode": {
    "name": "ipython",
    "version": 3
   },
   "file_extension": ".py",
   "mimetype": "text/x-python",
   "name": "python",
   "nbconvert_exporter": "python",
   "pygments_lexer": "ipython3",
   "version": "3.10.9"
  }
 },
 "nbformat": 4,
 "nbformat_minor": 2
}
