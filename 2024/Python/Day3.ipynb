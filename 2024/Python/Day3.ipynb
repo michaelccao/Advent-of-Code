{
 "cells": [
  {
   "cell_type": "code",
   "execution_count": 6,
   "metadata": {},
   "outputs": [],
   "source": [
    "from pathlib import Path\n",
    "import re"
   ]
  },
  {
   "cell_type": "code",
   "execution_count": 97,
   "metadata": {},
   "outputs": [],
   "source": [
    "data = Path('../Data/Day3.txt').read_text()"
   ]
  },
  {
   "cell_type": "markdown",
   "metadata": {},
   "source": [
    "# Part 1"
   ]
  },
  {
   "cell_type": "code",
   "execution_count": 104,
   "metadata": {},
   "outputs": [],
   "source": [
    "ops = re.findall(r'mul\\((\\d+),(\\d+)\\)', data)"
   ]
  },
  {
   "cell_type": "code",
   "execution_count": 105,
   "metadata": {},
   "outputs": [
    {
     "data": {
      "text/plain": [
       "183788984"
      ]
     },
     "execution_count": 105,
     "metadata": {},
     "output_type": "execute_result"
    }
   ],
   "source": [
    "sum([int(op[0])*int(op[1]) for op in ops])"
   ]
  },
  {
   "cell_type": "markdown",
   "metadata": {},
   "source": [
    "# Part 2"
   ]
  },
  {
   "cell_type": "code",
   "execution_count": 106,
   "metadata": {},
   "outputs": [
    {
     "name": "stdout",
     "output_type": "stream",
     "text": [
      "62098619\n"
     ]
    }
   ],
   "source": [
    "ops = re.finditer(r'mul\\((\\d+),(\\d+)\\)', data)\n",
    "\n",
    "do = True\n",
    "\n",
    "total = 0\n",
    "\n",
    "border = 0\n",
    "\n",
    "for op in ops:\n",
    "    dont_ind = data[border:op.start()].find(\"don't()\")\n",
    "    do_ind = data[border:op.start()].find(\"do()\")\n",
    "\n",
    "    if dont_ind != -1 and dont_ind > do_ind:\n",
    "        do = False\n",
    "    elif do_ind != -1 and do_ind > dont_ind:\n",
    "        do = True\n",
    "\n",
    "    if do:\n",
    "        total += int(op.group(1))*int(op.group(2))\n",
    "\n",
    "    border = op.end()\n",
    "\n",
    "print(total)"
   ]
  }
 ],
 "metadata": {
  "kernelspec": {
   "display_name": "aoc",
   "language": "python",
   "name": "python3"
  },
  "language_info": {
   "codemirror_mode": {
    "name": "ipython",
    "version": 3
   },
   "file_extension": ".py",
   "mimetype": "text/x-python",
   "name": "python",
   "nbconvert_exporter": "python",
   "pygments_lexer": "ipython3",
   "version": "3.13.0"
  }
 },
 "nbformat": 4,
 "nbformat_minor": 2
}
