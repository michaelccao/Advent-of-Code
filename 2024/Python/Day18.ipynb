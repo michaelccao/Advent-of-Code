{
 "cells": [
  {
   "cell_type": "code",
   "execution_count": 1,
   "metadata": {},
   "outputs": [],
   "source": [
    "from pathlib import Path\n",
    "import numpy as np\n",
    "import re\n",
    "from math import prod\n",
    "from collections import defaultdict, deque\n",
    "from copy import copy"
   ]
  },
  {
   "cell_type": "code",
   "execution_count": 100,
   "metadata": {},
   "outputs": [],
   "source": [
    "data = Path('../Data/Day18.txt').read_text().splitlines()"
   ]
  },
  {
   "cell_type": "code",
   "execution_count": 101,
   "metadata": {},
   "outputs": [],
   "source": [
    "bts = [tuple(int(num) for num in line.split(',')) for line in data]"
   ]
  },
  {
   "cell_type": "code",
   "execution_count": 102,
   "metadata": {},
   "outputs": [],
   "source": [
    "def travel(i0, j0, bts, t, width, height):\n",
    "    dr = [\n",
    "        (0, 1),\n",
    "        (1, 0),\n",
    "        (0, -1),\n",
    "        (-1, 0)\n",
    "    ]\n",
    "\n",
    "    obstacles = set(bts[:t])\n",
    "\n",
    "    nodes = deque([(0, 0, 0)])\n",
    "\n",
    "    visited = {}\n",
    "\n",
    "    best_dist = width*height\n",
    "\n",
    "\n",
    "    while nodes:\n",
    "        i, j, traveled = nodes.pop()\n",
    "\n",
    "        visited[i, j] = traveled\n",
    "\n",
    "        if i == height - 1 and j == width - 1:\n",
    "            \n",
    "            best_dist = min(best_dist, traveled)\n",
    "            continue\n",
    "\n",
    "        if traveled >= best_dist:\n",
    "            continue\n",
    "\n",
    "        for di, dj in dr:\n",
    "            i2 = i + di\n",
    "            j2 = j + dj\n",
    "            \n",
    "            if 0 <= i2 < height and 0 <= j2 < width and (j2, i2) not in obstacles and ((i2, j2) not in visited or (traveled + 1) < visited[i2, j2]):\n",
    "\n",
    "                nodes.append((i2, j2, traveled+1))\n",
    "\n",
    "    return best_dist"
   ]
  },
  {
   "cell_type": "code",
   "execution_count": 103,
   "metadata": {},
   "outputs": [
    {
     "data": {
      "text/plain": [
       "246"
      ]
     },
     "execution_count": 103,
     "metadata": {},
     "output_type": "execute_result"
    }
   ],
   "source": [
    "travel(0, 0, bts, 1024, 71, 71)"
   ]
  },
  {
   "cell_type": "code",
   "execution_count": 113,
   "metadata": {},
   "outputs": [
    {
     "name": "stdout",
     "output_type": "stream",
     "text": [
      "(22, 50)\n"
     ]
    }
   ],
   "source": [
    "i = 1024\n",
    "j = len(bts)\n",
    "\n",
    "while i < j-1:\n",
    "    t = (i + j) // 2\n",
    "\n",
    "    dist = travel(0, 0, bts, t, 71, 71)\n",
    "\n",
    "    if dist < 71*71:\n",
    "        i = t\n",
    "    if dist == 71*71:\n",
    "        j = t\n",
    "\n",
    "print(bts[i])"
   ]
  }
 ],
 "metadata": {
  "kernelspec": {
   "display_name": "base",
   "language": "python",
   "name": "python3"
  },
  "language_info": {
   "codemirror_mode": {
    "name": "ipython",
    "version": 3
   },
   "file_extension": ".py",
   "mimetype": "text/x-python",
   "name": "python",
   "nbconvert_exporter": "python",
   "pygments_lexer": "ipython3",
   "version": "3.10.9"
  }
 },
 "nbformat": 4,
 "nbformat_minor": 2
}
