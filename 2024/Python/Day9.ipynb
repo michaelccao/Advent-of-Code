{
 "cells": [
  {
   "cell_type": "code",
   "execution_count": 56,
   "metadata": {},
   "outputs": [],
   "source": [
    "from pathlib import Path\n",
    "from collections import deque"
   ]
  },
  {
   "cell_type": "code",
   "execution_count": 118,
   "metadata": {},
   "outputs": [],
   "source": [
    "data = Path('../Data/Day9.txt').read_text()"
   ]
  },
  {
   "cell_type": "code",
   "execution_count": 119,
   "metadata": {},
   "outputs": [
    {
     "name": "stdout",
     "output_type": "stream",
     "text": [
      "6398252054886\n"
     ]
    }
   ],
   "source": [
    "files = []\n",
    "id_num = 0\n",
    "\n",
    "for i,c in enumerate(data):\n",
    "    if i % 2 == 1:\n",
    "        files += ['.']*int(c)\n",
    "    else:\n",
    "        files += [id_num]*int(c)\n",
    "        id_num += 1\n",
    "\n",
    "i = 0\n",
    "j = len(files)-1\n",
    "\n",
    "while j > i:\n",
    "\n",
    "    if files[i] != '.':\n",
    "        i += 1\n",
    "    if files[j] == '.':\n",
    "        j -= 1\n",
    "    \n",
    "    if files[i] == '.' and files[j] != '.':\n",
    "        files[i], files[j] = files[j], files[i]\n",
    "        i += 1\n",
    "        j -= 1\n",
    "\n",
    "print(sum(i*file for i, file in enumerate(files) if isinstance(file, int)))"
   ]
  },
  {
   "cell_type": "code",
   "execution_count": 128,
   "metadata": {},
   "outputs": [
    {
     "data": {
      "text/plain": [
       "6415666220005"
      ]
     },
     "execution_count": 128,
     "metadata": {},
     "output_type": "execute_result"
    }
   ],
   "source": [
    "files = {}\n",
    "spaces = []\n",
    "id_num = 0\n",
    "\n",
    "pointer = 0\n",
    "\n",
    "for i,c in enumerate(data):\n",
    "    if i % 2 == 0:\n",
    "        files[id_num] = [pointer, int(c)]\n",
    "        id_num += 1\n",
    "    else:\n",
    "        spaces.append([pointer, int(c)])\n",
    "\n",
    "    pointer += int(c)\n",
    "\n",
    "for file in range(max(files), -1, -1):\n",
    "    file_pointer, block = files[file]\n",
    "    for i, [pointer, space] in enumerate(spaces):\n",
    "        if pointer >= file_pointer:\n",
    "            break\n",
    "        if space >= block and pointer < file_pointer:\n",
    "            spaces[i] = [pointer + block, space-block]\n",
    "            \n",
    "            files[file] = [pointer, block]\n",
    "\n",
    "            break\n",
    "\n",
    "sum(file*(2*pointer + block-1)*block//2 for file, [pointer, block] in files.items())"
   ]
  }
 ],
 "metadata": {
  "kernelspec": {
   "display_name": "base",
   "language": "python",
   "name": "python3"
  },
  "language_info": {
   "codemirror_mode": {
    "name": "ipython",
    "version": 3
   },
   "file_extension": ".py",
   "mimetype": "text/x-python",
   "name": "python",
   "nbconvert_exporter": "python",
   "pygments_lexer": "ipython3",
   "version": "3.10.9"
  }
 },
 "nbformat": 4,
 "nbformat_minor": 2
}
