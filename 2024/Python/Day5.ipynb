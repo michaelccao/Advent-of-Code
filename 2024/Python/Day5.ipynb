{
 "cells": [
  {
   "cell_type": "code",
   "execution_count": 50,
   "metadata": {},
   "outputs": [],
   "source": [
    "from pathlib import Path\n",
    "from copy import copy"
   ]
  },
  {
   "cell_type": "code",
   "execution_count": 54,
   "metadata": {},
   "outputs": [],
   "source": [
    "data = Path('../Data/Day5.txt').read_text().splitlines()"
   ]
  },
  {
   "cell_type": "code",
   "execution_count": 55,
   "metadata": {},
   "outputs": [],
   "source": [
    "rules = {}\n",
    "updates = []\n",
    "\n",
    "for line in data:\n",
    "    if '|' in line:\n",
    "        p1, p2 = line.split('|')\n",
    "        p1 = int(p1)\n",
    "        p2 = int(p2)\n",
    "\n",
    "        rules[p1, p2] = True\n",
    "        rules[p2, p1] = False\n",
    "\n",
    "    if ',' in line:\n",
    "        updates.append([int(page) for page in line.split(',')])"
   ]
  },
  {
   "cell_type": "code",
   "execution_count": 56,
   "metadata": {},
   "outputs": [],
   "source": [
    "def is_safe(pages, rules = rules):\n",
    "    for i,p1 in enumerate(pages):\n",
    "        for p2 in pages[i+1:]:\n",
    "            if not rules.get((p1, p2), True):\n",
    "                return 0\n",
    "    \n",
    "    return pages[len(pages)//2]"
   ]
  },
  {
   "cell_type": "code",
   "execution_count": 57,
   "metadata": {},
   "outputs": [
    {
     "data": {
      "text/plain": [
       "5509"
      ]
     },
     "execution_count": 57,
     "metadata": {},
     "output_type": "execute_result"
    }
   ],
   "source": [
    "sum([is_safe(pages) for pages in updates])"
   ]
  },
  {
   "cell_type": "code",
   "execution_count": 58,
   "metadata": {},
   "outputs": [],
   "source": [
    "def correct(pages, rules = rules):\n",
    "    corrected = False\n",
    "    pages = copy(pages)\n",
    "    for i in range(len(pages)):\n",
    "        for j in range(i+1, len(pages)):\n",
    "            p1 = pages[i]\n",
    "            p2 = pages[j]\n",
    "\n",
    "            if not rules.get((p1, p2), True):\n",
    "                pages.pop(j)\n",
    "                pages.insert(i, p2)\n",
    "                corrected = True\n",
    "\n",
    "    if corrected:\n",
    "        return pages[len(pages)//2]\n",
    "    else:\n",
    "        return 0"
   ]
  },
  {
   "cell_type": "code",
   "execution_count": 59,
   "metadata": {},
   "outputs": [
    {
     "data": {
      "text/plain": [
       "4407"
      ]
     },
     "execution_count": 59,
     "metadata": {},
     "output_type": "execute_result"
    }
   ],
   "source": [
    "sum([correct(pages) for pages in updates])"
   ]
  }
 ],
 "metadata": {
  "kernelspec": {
   "display_name": "base",
   "language": "python",
   "name": "python3"
  },
  "language_info": {
   "codemirror_mode": {
    "name": "ipython",
    "version": 3
   },
   "file_extension": ".py",
   "mimetype": "text/x-python",
   "name": "python",
   "nbconvert_exporter": "python",
   "pygments_lexer": "ipython3",
   "version": "3.10.9"
  }
 },
 "nbformat": 4,
 "nbformat_minor": 2
}
