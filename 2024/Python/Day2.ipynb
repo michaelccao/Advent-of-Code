{
 "cells": [
  {
   "cell_type": "code",
   "execution_count": 1,
   "metadata": {},
   "outputs": [],
   "source": [
    "from pathlib import Path\n",
    "from itertools import pairwise"
   ]
  },
  {
   "cell_type": "code",
   "execution_count": 2,
   "metadata": {},
   "outputs": [],
   "source": [
    "data = Path('../Data/Day2.txt').read_text().splitlines()\n",
    "\n",
    "data = [[int(num) for num in line.split()] for line in data ]\n",
    "data = [[b-a for a,b in pairwise(line)] for line in data]"
   ]
  },
  {
   "cell_type": "code",
   "execution_count": 3,
   "metadata": {},
   "outputs": [
    {
     "data": {
      "text/plain": [
       "359"
      ]
     },
     "execution_count": 3,
     "metadata": {},
     "output_type": "execute_result"
    }
   ],
   "source": [
    "sum([all([1 <= num <= 3 for num in line]) for line in data]) + sum([all([-3 <= num <= -1 for num in line]) for line in data])"
   ]
  },
  {
   "cell_type": "code",
   "execution_count": 4,
   "metadata": {},
   "outputs": [],
   "source": [
    "data = Path('../Data/Day2.txt').read_text().splitlines()\n",
    "\n",
    "data = [[int(num) for num in line.split()] for line in data ]"
   ]
  },
  {
   "cell_type": "code",
   "execution_count": 5,
   "metadata": {},
   "outputs": [],
   "source": [
    "def is_safe(diffs):\n",
    "    return all( 1 <= num <= 3 for num in diffs) or all( -3 <= num <= -1 for num in diffs)"
   ]
  },
  {
   "cell_type": "code",
   "execution_count": 6,
   "metadata": {},
   "outputs": [
    {
     "name": "stdout",
     "output_type": "stream",
     "text": [
      "418\n"
     ]
    }
   ],
   "source": [
    "safe = 0\n",
    "\n",
    "for line in data:\n",
    "    if is_safe(line):\n",
    "        safe += 1\n",
    "    else:\n",
    "        for i in range(len(line)):\n",
    "            if is_safe([b-a for a,b in pairwise(line[:i] + line[i+1:])]):\n",
    "                safe += 1\n",
    "                break\n",
    "\n",
    "print(safe)"
   ]
  }
 ],
 "metadata": {
  "kernelspec": {
   "display_name": "aoc",
   "language": "python",
   "name": "python3"
  },
  "language_info": {
   "codemirror_mode": {
    "name": "ipython",
    "version": 3
   },
   "file_extension": ".py",
   "mimetype": "text/x-python",
   "name": "python",
   "nbconvert_exporter": "python",
   "pygments_lexer": "ipython3",
   "version": "3.13.0"
  }
 },
 "nbformat": 4,
 "nbformat_minor": 2
}
