{
 "cells": [
  {
   "cell_type": "code",
   "execution_count": 13,
   "metadata": {},
   "outputs": [],
   "source": [
    "from pathlib import Path\n",
    "import numpy as np"
   ]
  },
  {
   "cell_type": "code",
   "execution_count": 80,
   "metadata": {},
   "outputs": [],
   "source": [
    "data = Path('../Data/Day4.txt').read_text().splitlines()"
   ]
  },
  {
   "cell_type": "code",
   "execution_count": 81,
   "metadata": {},
   "outputs": [],
   "source": [
    "data = np.array([[letter for letter in line] for line in data])"
   ]
  },
  {
   "cell_type": "code",
   "execution_count": 82,
   "metadata": {},
   "outputs": [],
   "source": [
    "h, w = data.shape"
   ]
  },
  {
   "cell_type": "code",
   "execution_count": 83,
   "metadata": {},
   "outputs": [],
   "source": [
    "def search(arr, i, j, rows = h, columns = w):\n",
    "    if arr[i,j] != 'X':\n",
    "        return 0\n",
    "    \n",
    "    dv = [[0, 1], [0, -1], [1, 0], [-1, 0], [1, 1], [-1, -1], [1, -1], [-1, 1]]\n",
    "\n",
    "    total = 0\n",
    "\n",
    "    for di, dj in dv:\n",
    "        word = ''\n",
    "        for k in range(4):\n",
    "            i2 = i + di*k\n",
    "            j2 = j + dj*k\n",
    "\n",
    "            if 0 <= i2 < h and 0 <= j2 < w:\n",
    "                word += arr[i2, j2]\n",
    "            else:\n",
    "                break\n",
    "        \n",
    "        if word == 'XMAS':\n",
    "            total += 1\n",
    "    \n",
    "    return total"
   ]
  },
  {
   "cell_type": "code",
   "execution_count": 84,
   "metadata": {},
   "outputs": [
    {
     "data": {
      "text/plain": [
       "2545"
      ]
     },
     "execution_count": 84,
     "metadata": {},
     "output_type": "execute_result"
    }
   ],
   "source": [
    "sum(search(data, i, j) for i in range(0, h) for j in range(0, w))"
   ]
  },
  {
   "cell_type": "code",
   "execution_count": 87,
   "metadata": {},
   "outputs": [],
   "source": [
    "def search2(arr, i, j, rows = h, columns = w):\n",
    "    if arr[i,j] != 'A':\n",
    "        return 0\n",
    "    \n",
    "    if i == 0 or i == rows-1 or j == 0 or j == columns - 1:\n",
    "        return 0\n",
    "    \n",
    "    cross1 = ''.join([arr[i-1, j-1], arr[i, j], arr[i+1, j+1]])\n",
    "    cross2 = ''.join([arr[i-1, j+1], arr[i, j], arr[i+1, j-1]])\n",
    "\n",
    "    if (cross1 == 'MAS' or cross1 == 'SAM') and (cross2 == 'MAS' or cross2 == 'SAM'):\n",
    "        return 1\n",
    "    else:\n",
    "        return 0"
   ]
  },
  {
   "cell_type": "code",
   "execution_count": 88,
   "metadata": {},
   "outputs": [
    {
     "data": {
      "text/plain": [
       "1886"
      ]
     },
     "execution_count": 88,
     "metadata": {},
     "output_type": "execute_result"
    }
   ],
   "source": [
    "sum(search2(data, i, j) for i in range(0, h) for j in range(0, w))"
   ]
  }
 ],
 "metadata": {
  "kernelspec": {
   "display_name": "base",
   "language": "python",
   "name": "python3"
  },
  "language_info": {
   "codemirror_mode": {
    "name": "ipython",
    "version": 3
   },
   "file_extension": ".py",
   "mimetype": "text/x-python",
   "name": "python",
   "nbconvert_exporter": "python",
   "pygments_lexer": "ipython3",
   "version": "3.10.9"
  }
 },
 "nbformat": 4,
 "nbformat_minor": 2
}
