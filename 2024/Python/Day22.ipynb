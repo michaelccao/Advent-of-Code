{
 "cells": [
  {
   "cell_type": "code",
   "execution_count": 1,
   "metadata": {},
   "outputs": [],
   "source": [
    "from pathlib import Path\n",
    "import numpy as np\n",
    "import re\n",
    "from math import prod\n",
    "from collections import defaultdict, deque\n",
    "from copy import copy\n",
    "from itertools import pairwise, permutations, product"
   ]
  },
  {
   "cell_type": "code",
   "execution_count": 2,
   "metadata": {},
   "outputs": [],
   "source": [
    "data = Path('../Data/Day22.txt').read_text().splitlines()"
   ]
  },
  {
   "cell_type": "code",
   "execution_count": 3,
   "metadata": {},
   "outputs": [],
   "source": [
    "secrets = [int(num) for num in data]"
   ]
  },
  {
   "cell_type": "code",
   "execution_count": 4,
   "metadata": {},
   "outputs": [],
   "source": [
    "def generate_secret(secret, n = 1):\n",
    "\n",
    "    if n == 0:\n",
    "        return secret\n",
    "\n",
    "    secret ^= secret<<6\n",
    "    secret %= 16777216\n",
    "\n",
    "    secret ^= secret >> 5\n",
    "    secret %= 16777216\n",
    "\n",
    "    secret ^= secret << 11\n",
    "    secret %= 16777216\n",
    "\n",
    "    if n == 1:\n",
    "        return secret\n",
    "    else:\n",
    "        return generate_secret(secret, n-1)"
   ]
  },
  {
   "cell_type": "code",
   "execution_count": 5,
   "metadata": {},
   "outputs": [
    {
     "data": {
      "text/plain": [
       "17163502021"
      ]
     },
     "execution_count": 5,
     "metadata": {},
     "output_type": "execute_result"
    }
   ],
   "source": [
    "sum([generate_secret(secret, 2000) for secret in secrets])"
   ]
  },
  {
   "cell_type": "code",
   "execution_count": 6,
   "metadata": {},
   "outputs": [],
   "source": [
    "buys = defaultdict(lambda: [None]*len(secrets))\n",
    "\n",
    "for i, secret in enumerate(secrets):\n",
    "    prices = [secret % 10]\n",
    "\n",
    "    moves = []\n",
    "\n",
    "    for j in range(2000):\n",
    "        secret = generate_secret(secret)\n",
    "        prices.append(secret % 10)\n",
    "        moves.append(prices[-1] - prices[-2])\n",
    "    \n",
    "        if j >= 4:\n",
    "            last_four_moves = tuple(moves[-4:])\n",
    "\n",
    "            if buys[last_four_moves][i] is None:\n",
    "                buys[last_four_moves][i] = prices[-1]"
   ]
  },
  {
   "cell_type": "code",
   "execution_count": 7,
   "metadata": {},
   "outputs": [
    {
     "data": {
      "text/plain": [
       "1938"
      ]
     },
     "execution_count": 7,
     "metadata": {},
     "output_type": "execute_result"
    }
   ],
   "source": [
    "max(sum(price for price in prices if price is not None) for prices in buys.values())"
   ]
  }
 ],
 "metadata": {
  "kernelspec": {
   "display_name": "base",
   "language": "python",
   "name": "python3"
  },
  "language_info": {
   "codemirror_mode": {
    "name": "ipython",
    "version": 3
   },
   "file_extension": ".py",
   "mimetype": "text/x-python",
   "name": "python",
   "nbconvert_exporter": "python",
   "pygments_lexer": "ipython3",
   "version": "3.10.9"
  }
 },
 "nbformat": 4,
 "nbformat_minor": 2
}
