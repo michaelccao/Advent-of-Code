{
 "cells": [
  {
   "cell_type": "code",
   "execution_count": 1,
   "metadata": {},
   "outputs": [],
   "source": [
    "from pathlib import Path\n",
    "import numpy as np\n",
    "import re\n",
    "from math import prod\n",
    "from collections import defaultdict, deque\n",
    "from copy import copy"
   ]
  },
  {
   "cell_type": "code",
   "execution_count": 147,
   "metadata": {},
   "outputs": [],
   "source": [
    "data = Path('../Data/Day20.txt').read_text().splitlines()"
   ]
  },
  {
   "cell_type": "code",
   "execution_count": 148,
   "metadata": {},
   "outputs": [],
   "source": [
    "grid = np.array([[c for c in line] for line in data])"
   ]
  },
  {
   "cell_type": "code",
   "execution_count": 149,
   "metadata": {},
   "outputs": [],
   "source": [
    "[i0, *_], [j0, *_] = np.where(grid == 'S')"
   ]
  },
  {
   "cell_type": "code",
   "execution_count": 150,
   "metadata": {},
   "outputs": [],
   "source": [
    "def get_paths(i0, j0, grid):\n",
    "\n",
    "    one_step = [\n",
    "        [0, 1],\n",
    "        [1, 0],\n",
    "        [0, -1],\n",
    "        [-1, 0]\n",
    "    ]\n",
    "\n",
    "    \n",
    "\n",
    "    nodes = deque([(i0, j0, 0)])\n",
    "\n",
    "    visited = {}\n",
    "\n",
    "    best_time = len(grid)*len(grid[0])\n",
    "\n",
    "    rows, cols = grid.shape\n",
    "\n",
    "    while nodes:\n",
    "        i, j, t = nodes.pop()\n",
    "        \n",
    "        visited[i, j] = t\n",
    "\n",
    "        if grid[i, j] == 'E' and t < best_time:        \n",
    "            best_time = min(best_time, t)\n",
    "            continue\n",
    "\n",
    "        for di, dj in one_step:\n",
    "            i2 = i + di\n",
    "            j2 = j + dj\n",
    "            t2 = t + 1\n",
    "\n",
    "            on_grid = 0 <= i2 < rows and 0 <= j2 < cols\n",
    "\n",
    "            if on_grid and grid[i2, j2] != '#' and t2 < visited.get((i2, j2), best_time):\n",
    "                nodes.append((i2, j2, t2))\n",
    "\n",
    "    return best_time, visited\n",
    "\n",
    "def find_cheats(visited, margin = 0):\n",
    "    two_step = [\n",
    "        [0, 2], \n",
    "        [1, 1],\n",
    "        [2, 0],\n",
    "        [1, -1],\n",
    "        [0, -2],\n",
    "        [-1, -1],\n",
    "        [-2, 0],\n",
    "        [-1, 1]\n",
    "    ]\n",
    "\n",
    "    shortcuts = {}\n",
    "\n",
    "    for (i, j), t in visited.items():\n",
    "        for di, dj in two_step:\n",
    "            i2 = i + di\n",
    "            j2 = j + dj\n",
    "\n",
    "            if (i2, j2) in visited and t + 2 < visited[i2, j2] - margin:\n",
    "                shortcuts[i, j, i2, j2] = visited[i2, j2] - t - 2\n",
    "    \n",
    "    return shortcuts\n",
    "\n",
    "def find_cheats2(visited, margin = 0):\n",
    "    path = sorted(visited, key = lambda k: visited[k])\n",
    "\n",
    "    cheats = {}\n",
    "\n",
    "    for t, (i, j) in enumerate(path):\n",
    "        for dt, (i2, j2) in enumerate(path[t+1:]):\n",
    "            dist = abs(i2 - i) + abs(j2 - j)\n",
    "\n",
    "            if dist > 20:\n",
    "                continue\n",
    "\n",
    "            time_save = dt - dist + 1\n",
    "\n",
    "            if time_save > margin:\n",
    "                cheats[i, j, i2, j2] = time_save\n",
    "\n",
    "    return cheats\n"
   ]
  },
  {
   "cell_type": "code",
   "execution_count": 151,
   "metadata": {},
   "outputs": [],
   "source": [
    "best_time, visited = get_paths(i0, j0, grid)"
   ]
  },
  {
   "cell_type": "code",
   "execution_count": 153,
   "metadata": {},
   "outputs": [
    {
     "name": "stdout",
     "output_type": "stream",
     "text": [
      "1415\n"
     ]
    }
   ],
   "source": [
    "cheats = find_cheats(visited, 99)\n",
    "print(len(cheats))"
   ]
  },
  {
   "cell_type": "code",
   "execution_count": 154,
   "metadata": {},
   "outputs": [
    {
     "name": "stdout",
     "output_type": "stream",
     "text": [
      "1022577\n"
     ]
    }
   ],
   "source": [
    "cheats2 = find_cheats2(visited, 99)\n",
    "print(len(cheats2))"
   ]
  }
 ],
 "metadata": {
  "kernelspec": {
   "display_name": "base",
   "language": "python",
   "name": "python3"
  },
  "language_info": {
   "codemirror_mode": {
    "name": "ipython",
    "version": 3
   },
   "file_extension": ".py",
   "mimetype": "text/x-python",
   "name": "python",
   "nbconvert_exporter": "python",
   "pygments_lexer": "ipython3",
   "version": "3.10.9"
  }
 },
 "nbformat": 4,
 "nbformat_minor": 2
}
