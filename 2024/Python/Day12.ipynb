{
 "cells": [
  {
   "cell_type": "code",
   "execution_count": 1,
   "metadata": {},
   "outputs": [],
   "source": [
    "from pathlib import Path\n",
    "import numpy as np\n",
    "from collections import deque"
   ]
  },
  {
   "cell_type": "code",
   "execution_count": 27,
   "metadata": {},
   "outputs": [],
   "source": [
    "data = Path('../Data/Day12.txt').read_text().split()"
   ]
  },
  {
   "cell_type": "code",
   "execution_count": 28,
   "metadata": {},
   "outputs": [],
   "source": [
    "grid = np.array([[c for c in line] for line in data])"
   ]
  },
  {
   "cell_type": "code",
   "execution_count": 29,
   "metadata": {},
   "outputs": [],
   "source": [
    "def get_area(i0, j0, grid = grid):\n",
    "    plant = grid[i0, j0]\n",
    "\n",
    "    rows, cols = grid.shape\n",
    "\n",
    "    nodes = deque([(i0, j0)])\n",
    "    visited = set()\n",
    "    fences = set()\n",
    "\n",
    "    neighbors = {\n",
    "        'N': (-1, 0),\n",
    "        'S': (1, 0),\n",
    "        'E': (0, 1),\n",
    "        'W': (0, -1)\n",
    "    }\n",
    "\n",
    "    while nodes:\n",
    "        i, j= nodes.pop()\n",
    "\n",
    "        visited.add((i,j))\n",
    "\n",
    "        for heading, (di, dj) in neighbors.items():\n",
    "            if 0 <= i + di < rows and 0 <= j + dj < cols and grid[i+di, j+dj] == plant:\n",
    "                if (i+di,j+dj) not in visited:\n",
    "                    nodes.append((i+di, j+dj))\n",
    "            else:\n",
    "                fences.add((i, j, heading))\n",
    "\n",
    "    sides = 0\n",
    "\n",
    "    perimeter = len(fences)\n",
    "\n",
    "    while fences:\n",
    "\n",
    "        fence_nodes = deque([fences.pop()])\n",
    "        sides += 1\n",
    "\n",
    "        while fence_nodes:\n",
    "            i,j,heading = fence_nodes.pop()\n",
    "\n",
    "            for di, dj in neighbors.values():\n",
    "                if (i+di, j+dj, heading) in fences:\n",
    "                    fences.remove((i+di, j+dj, heading))\n",
    "                    fence_nodes.append((i+di, j+dj, heading))\n",
    "    \n",
    "    \n",
    "    return visited, perimeter, sides"
   ]
  },
  {
   "cell_type": "code",
   "execution_count": 30,
   "metadata": {},
   "outputs": [
    {
     "name": "stdout",
     "output_type": "stream",
     "text": [
      "1431316\n",
      "821428\n"
     ]
    }
   ],
   "source": [
    "visited = set()\n",
    "\n",
    "rows, cols = grid.shape\n",
    "\n",
    "p1 = 0\n",
    "p2 = 0\n",
    "\n",
    "for i in range(rows):\n",
    "    for j in range(cols):\n",
    "        if (i,j) not in visited:\n",
    "            v, p, s = get_area(i,j)\n",
    "\n",
    "            p1 += len(v)*p\n",
    "            p2 += len(v)*s\n",
    "\n",
    "            visited.update(v)\n",
    "\n",
    "print(p1)\n",
    "print(p2)"
   ]
  }
 ],
 "metadata": {
  "kernelspec": {
   "display_name": "trucking",
   "language": "python",
   "name": "python3"
  },
  "language_info": {
   "codemirror_mode": {
    "name": "ipython",
    "version": 3
   },
   "file_extension": ".py",
   "mimetype": "text/x-python",
   "name": "python",
   "nbconvert_exporter": "python",
   "pygments_lexer": "ipython3",
   "version": "3.11.2"
  }
 },
 "nbformat": 4,
 "nbformat_minor": 2
}
