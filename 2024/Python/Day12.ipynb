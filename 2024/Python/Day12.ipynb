{
 "cells": [
  {
   "cell_type": "code",
   "execution_count": 1,
   "metadata": {},
   "outputs": [],
   "source": [
    "from pathlib import Path\n",
    "import numpy as np\n",
    "from collections import deque"
   ]
  },
  {
   "cell_type": "code",
   "execution_count": 23,
   "metadata": {},
   "outputs": [],
   "source": [
    "data = Path('../Data/Day12.txt').read_text().split()"
   ]
  },
  {
   "cell_type": "code",
   "execution_count": 24,
   "metadata": {},
   "outputs": [],
   "source": [
    "grid = np.array([[c for c in line] for line in data])"
   ]
  },
  {
   "cell_type": "code",
   "execution_count": 25,
   "metadata": {},
   "outputs": [],
   "source": [
    "def get_area(i0, j0, grid = grid):\n",
    "    plant = grid[i0, j0]\n",
    "\n",
    "    rows, cols = grid.shape\n",
    "\n",
    "    nodes = deque([(i0, j0)])\n",
    "    visited = set()\n",
    "\n",
    "    neighbors = [(1, 0), (-1, 0), (0, 1), (0, -1)]\n",
    "\n",
    "    while nodes:\n",
    "        i, j= nodes.pop()\n",
    "\n",
    "        visited.add((i,j))\n",
    "\n",
    "        for di, dj in neighbors:\n",
    "            if 0 <= i + di < rows and 0 <= j + dj < cols and grid[i+di, j+dj] == plant and (i+di,j+dj) not in visited:\n",
    "                nodes.append((i+di, j+dj))\n",
    "\n",
    "    perimeter = len(visited)*4\n",
    "\n",
    "    for (i,j) in visited:\n",
    "\n",
    "        for di, dj in neighbors:\n",
    "            i2, j2 = i+di, j+dj\n",
    "\n",
    "            if (i2, j2) in visited:\n",
    "                perimeter -= 1\n",
    "    \n",
    "    return visited, perimeter"
   ]
  },
  {
   "cell_type": "code",
   "execution_count": 43,
   "metadata": {},
   "outputs": [
    {
     "name": "stdout",
     "output_type": "stream",
     "text": [
      "1431316\n"
     ]
    }
   ],
   "source": [
    "visited = set()\n",
    "\n",
    "rows, cols = grid.shape\n",
    "\n",
    "total = 0\n",
    "\n",
    "for i in range(rows):\n",
    "    for j in range(cols):\n",
    "        if (i,j) not in visited:\n",
    "            v, p = get_area(i,j)\n",
    "\n",
    "            total += len(v)*p\n",
    "\n",
    "            visited.update(v)\n",
    "\n",
    "print(total)"
   ]
  },
  {
   "cell_type": "code",
   "execution_count": 27,
   "metadata": {},
   "outputs": [],
   "source": [
    "rows, cols = grid.shape\n",
    "grid2 = np.zeros((3*rows+2, 3*cols+2), dtype = str)\n",
    "grid2[:, :] = '0'\n",
    "\n",
    "for i in range(rows):\n",
    "    for j in range(cols):\n",
    "        grid2[1+3*i:1+3*i+3, 1+3*j:1+3*j+3] = grid[i,j]"
   ]
  },
  {
   "cell_type": "code",
   "execution_count": 37,
   "metadata": {},
   "outputs": [],
   "source": [
    "def get_area2(i0, j0, grid = grid2):\n",
    "    plant = grid[i0, j0]\n",
    "\n",
    "    rows, cols = grid.shape\n",
    "\n",
    "    nodes = deque([(i0, j0)])\n",
    "    visited = set()\n",
    "\n",
    "    neighbors = [(0, 1), (1, 0), (0, -1), (-1, 0), (1, 1), (-1, -1), (1, -1), (-1, 1)]\n",
    "\n",
    "    while nodes:\n",
    "        i, j= nodes.pop()\n",
    "\n",
    "        visited.add((i,j))\n",
    "\n",
    "        for di, dj in neighbors[:4]:\n",
    "            if 0 <= i + di < rows and 0 <= j + dj < cols and grid[i+di, j+dj] == plant and (i+di,j+dj) not in visited:\n",
    "                nodes.append((i+di, j+dj))\n",
    "\n",
    "    side_nodes = set()\n",
    "\n",
    "    for (i,j) in visited:\n",
    "\n",
    "        for di, dj in neighbors:\n",
    "            i2, j2 = i+di, j+dj\n",
    "\n",
    "            if grid[i2, j2] != plant:\n",
    "                side_nodes.add((i2, j2))\n",
    "\n",
    "\n",
    "    i, j = min(side_nodes)\n",
    "\n",
    "\n",
    "    heading = 0\n",
    "    sides = 1\n",
    "\n",
    "    while side_nodes:\n",
    "        try:\n",
    "            side_nodes.remove((i,j))\n",
    "        except:\n",
    "            i,j = min(side_nodes)\n",
    "            sides += 1\n",
    "            \n",
    "            for heading2 in range(4):\n",
    "                di, dj = neighbors[heading2]\n",
    "                if (i+di, j+dj) in side_nodes:\n",
    "                    heading = heading2\n",
    "                    break\n",
    "            \n",
    "            continue\n",
    "\n",
    "        di, dj = neighbors[heading]\n",
    "\n",
    "        if (i+di, j+dj) in side_nodes:\n",
    "            i = i + di\n",
    "            j = j + dj\n",
    "        else:\n",
    "            for heading2 in range(4):\n",
    "                di, dj = neighbors[heading2]\n",
    "                if (i+di, j+dj) in side_nodes:\n",
    "                    i = i + di\n",
    "                    j = j + dj\n",
    "                    heading = heading2\n",
    "                    sides += 1\n",
    "                    break\n",
    "            \n",
    "    \n",
    "    return visited, sides"
   ]
  },
  {
   "cell_type": "code",
   "execution_count": 42,
   "metadata": {},
   "outputs": [
    {
     "name": "stdout",
     "output_type": "stream",
     "text": [
      "821428\n"
     ]
    }
   ],
   "source": [
    "visited = set()\n",
    "\n",
    "rows, cols = grid2.shape\n",
    "\n",
    "total = 0\n",
    "\n",
    "for i in range(rows):\n",
    "    for j in range(cols):\n",
    "        if grid2[i,j] != '0' and (i,j) not in visited:\n",
    "            v, s = get_area2(i,j)\n",
    "\n",
    "            total += len(v)*s//9\n",
    "\n",
    "            visited.update(v)\n",
    "\n",
    "print(total)"
   ]
  }
 ],
 "metadata": {
  "kernelspec": {
   "display_name": "base",
   "language": "python",
   "name": "python3"
  },
  "language_info": {
   "codemirror_mode": {
    "name": "ipython",
    "version": 3
   },
   "file_extension": ".py",
   "mimetype": "text/x-python",
   "name": "python",
   "nbconvert_exporter": "python",
   "pygments_lexer": "ipython3",
   "version": "3.10.9"
  }
 },
 "nbformat": 4,
 "nbformat_minor": 2
}
