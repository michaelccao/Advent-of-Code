{
 "cells": [
  {
   "cell_type": "code",
   "execution_count": 14,
   "metadata": {},
   "outputs": [],
   "source": [
    "from pathlib import Path\n",
    "import numpy as np\n",
    "from collections import deque"
   ]
  },
  {
   "cell_type": "code",
   "execution_count": 56,
   "metadata": {},
   "outputs": [],
   "source": [
    "data = Path('../Data/Day10.txt').read_text().splitlines()"
   ]
  },
  {
   "cell_type": "code",
   "execution_count": 57,
   "metadata": {},
   "outputs": [],
   "source": [
    "grid = np.array([[int(c) for c in line] for line in data])"
   ]
  },
  {
   "cell_type": "code",
   "execution_count": 58,
   "metadata": {},
   "outputs": [],
   "source": [
    "i0s, j0s = np.where(grid == 0)"
   ]
  },
  {
   "cell_type": "code",
   "execution_count": 59,
   "metadata": {},
   "outputs": [],
   "source": [
    "def dfs(i0, j0, grid = grid, part1 = True):\n",
    "\n",
    "    rows, cols = grid.shape\n",
    "\n",
    "    neighbors = [[1, 0], [-1, 0], [0, 1], [0, -1]]\n",
    "\n",
    "    if part1:\n",
    "        good_trails = set()\n",
    "    else:\n",
    "        good_trails = 0\n",
    "\n",
    "    nodes = deque([(i0, j0)])\n",
    "\n",
    "    while nodes:\n",
    "        i,j = nodes.pop()\n",
    "\n",
    "        if grid[i, j] == 9:\n",
    "            if part1:\n",
    "                good_trails.add((i,j))\n",
    "            else:\n",
    "                good_trails += 1\n",
    "            continue\n",
    "\n",
    "        for di, dj in neighbors:\n",
    "\n",
    "            if 0 <= i + di < rows and 0 <= j + dj < cols and grid[i+di, j+dj] == grid[i, j] + 1:\n",
    "                nodes.append((i+di, j+dj))\n",
    "    \n",
    "    return len(good_trails) if part1 else good_trails"
   ]
  },
  {
   "cell_type": "code",
   "execution_count": 61,
   "metadata": {},
   "outputs": [
    {
     "data": {
      "text/plain": [
       "517"
      ]
     },
     "execution_count": 61,
     "metadata": {},
     "output_type": "execute_result"
    }
   ],
   "source": [
    "sum(dfs(i0, j0) for i0,j0 in zip(i0s, j0s))"
   ]
  },
  {
   "cell_type": "code",
   "execution_count": 62,
   "metadata": {},
   "outputs": [
    {
     "data": {
      "text/plain": [
       "1116"
      ]
     },
     "execution_count": 62,
     "metadata": {},
     "output_type": "execute_result"
    }
   ],
   "source": [
    "sum(dfs(i0, j0, part1 = False) for i0,j0 in zip(i0s, j0s))"
   ]
  }
 ],
 "metadata": {
  "kernelspec": {
   "display_name": "base",
   "language": "python",
   "name": "python3"
  },
  "language_info": {
   "codemirror_mode": {
    "name": "ipython",
    "version": 3
   },
   "file_extension": ".py",
   "mimetype": "text/x-python",
   "name": "python",
   "nbconvert_exporter": "python",
   "pygments_lexer": "ipython3",
   "version": "3.10.9"
  }
 },
 "nbformat": 4,
 "nbformat_minor": 2
}
