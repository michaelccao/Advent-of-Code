{
 "cells": [
  {
   "cell_type": "code",
   "execution_count": 1,
   "metadata": {},
   "outputs": [],
   "source": [
    "from pathlib import Path\n",
    "import numpy as np\n",
    "import re\n",
    "from math import prod\n",
    "from collections import defaultdict, deque"
   ]
  },
  {
   "cell_type": "code",
   "execution_count": 2,
   "metadata": {},
   "outputs": [],
   "source": [
    "data = Path('../Data/Day15.txt').read_text()"
   ]
  },
  {
   "cell_type": "code",
   "execution_count": 3,
   "metadata": {},
   "outputs": [],
   "source": [
    "grid, directions = data.split('\\n\\n')\n",
    "directions = directions.replace('\\n', '')\n",
    "\n",
    "grid = np.array([[c for c in line] for line in grid.split('\\n')])"
   ]
  },
  {
   "cell_type": "code",
   "execution_count": 4,
   "metadata": {},
   "outputs": [],
   "source": [
    "def perform_move(i0, j0, d, grid):\n",
    "\n",
    "    moves = {\n",
    "        '>': (0, 1),\n",
    "        '<': (0, -1),\n",
    "        '^': (-1, 0),\n",
    "        'v': (1, 0)\n",
    "    }\n",
    "    \n",
    "    di, dj = moves[d]\n",
    "\n",
    "    nodes = deque([(i0, j0)])\n",
    "    visited = {}\n",
    "\n",
    "    while nodes:\n",
    "        i, j = nodes.pop()\n",
    "        if grid[i, j] in '@O[]':\n",
    "            visited[i, j] = grid[i, j]\n",
    "\n",
    "            if (i+di, j+dj) not in visited:\n",
    "                nodes.append((i+di, j+dj))\n",
    "\n",
    "            if grid[i, j] == '[' and (i, j+1) not in visited:\n",
    "                nodes.append((i, j+1))\n",
    "            elif grid[i, j] == ']' and (i, j-1) not in visited:\n",
    "                nodes.append((i, j-1))\n",
    "        elif grid[i,j] == '#':\n",
    "            return grid, i0, j0\n",
    "        \n",
    "        \n",
    "    for (i, j), feature in visited.items():\n",
    "        if grid[i,j] != '#':\n",
    "            grid[i+di, j+dj] = feature\n",
    "            if (i-di, j-dj) not in visited:\n",
    "                grid[i, j] = '.'\n",
    "\n",
    "    return grid, i0+di, j0+dj\n"
   ]
  },
  {
   "cell_type": "code",
   "execution_count": 5,
   "metadata": {},
   "outputs": [
    {
     "name": "stdout",
     "output_type": "stream",
     "text": [
      "1486930\n"
     ]
    }
   ],
   "source": [
    "[i, *_], [j, *_] = np.where(grid == '@')\n",
    "\n",
    "grid2 = np.copy(grid)\n",
    "\n",
    "for d in directions:\n",
    "    grid2, i, j = perform_move(i, j, d, grid2)\n",
    "\n",
    "total = 0\n",
    "for (i, j) in zip(*np.where(grid2 == 'O')):\n",
    "    total += 100*i + j\n",
    "\n",
    "print(total)"
   ]
  },
  {
   "cell_type": "code",
   "execution_count": 6,
   "metadata": {},
   "outputs": [],
   "source": [
    "w_grid = np.zeros((grid.shape[0], grid.shape[1]*2), str)\n",
    "\n",
    "w_map = {\n",
    "    '#': ['#', '#'],\n",
    "    'O': ['[', ']'],\n",
    "    '.': ['.', '.'],\n",
    "    '@': ['@', '.']\n",
    "}\n",
    "\n",
    "for i in range(grid.shape[0]):\n",
    "    for j in range(grid.shape[1]):\n",
    "        w_grid[i, 2*j:2*j+2] = w_map[grid[i,j]]"
   ]
  },
  {
   "cell_type": "code",
   "execution_count": 7,
   "metadata": {},
   "outputs": [
    {
     "name": "stdout",
     "output_type": "stream",
     "text": [
      "1492011\n"
     ]
    }
   ],
   "source": [
    "[i, *_], [j, *_] = np.where(w_grid == '@')\n",
    "\n",
    "w_grid2 = np.copy(w_grid)\n",
    "\n",
    "for d in directions:\n",
    "    w_grid2, i, j = perform_move(i, j, d, w_grid2)\n",
    "\n",
    "total = 0\n",
    "for (i, j) in zip(*np.where(w_grid2 == '[')):\n",
    "    total += 100*i + j\n",
    "\n",
    "print(total)"
   ]
  }
 ],
 "metadata": {
  "kernelspec": {
   "display_name": "base",
   "language": "python",
   "name": "python3"
  },
  "language_info": {
   "codemirror_mode": {
    "name": "ipython",
    "version": 3
   },
   "file_extension": ".py",
   "mimetype": "text/x-python",
   "name": "python",
   "nbconvert_exporter": "python",
   "pygments_lexer": "ipython3",
   "version": "3.10.9"
  }
 },
 "nbformat": 4,
 "nbformat_minor": 2
}
