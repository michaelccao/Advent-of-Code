{
 "cells": [
  {
   "cell_type": "code",
   "execution_count": 7,
   "metadata": {},
   "outputs": [],
   "source": [
    "from pathlib import Path\n",
    "import numpy as np"
   ]
  },
  {
   "cell_type": "code",
   "execution_count": 94,
   "metadata": {},
   "outputs": [],
   "source": [
    "data = Path('../Data/Day6.txt').read_text().splitlines()"
   ]
  },
  {
   "cell_type": "code",
   "execution_count": 95,
   "metadata": {},
   "outputs": [],
   "source": [
    "grid = np.array([[c for c in line] for line in data])"
   ]
  },
  {
   "cell_type": "code",
   "execution_count": 96,
   "metadata": {},
   "outputs": [],
   "source": [
    "[i0, *_], [j0, *_] = np.where(grid == '^')"
   ]
  },
  {
   "cell_type": "code",
   "execution_count": 97,
   "metadata": {},
   "outputs": [
    {
     "data": {
      "text/plain": [
       "(90, 66)"
      ]
     },
     "execution_count": 97,
     "metadata": {},
     "output_type": "execute_result"
    }
   ],
   "source": [
    "i0, j0"
   ]
  },
  {
   "cell_type": "code",
   "execution_count": 98,
   "metadata": {},
   "outputs": [
    {
     "name": "stdout",
     "output_type": "stream",
     "text": [
      "5086\n"
     ]
    }
   ],
   "source": [
    "visited = set()\n",
    "\n",
    "dv = [(-1, 0), (0, 1), (1, 0), (0, -1)]\n",
    "heading = 0\n",
    "\n",
    "i = i0\n",
    "j = j0\n",
    "\n",
    "rows, cols = grid.shape\n",
    "\n",
    "while True:\n",
    "    if 0 <= i < rows and 0 <= j < cols:\n",
    "        visited.add((i, j))\n",
    "\n",
    "        di, dj = dv[heading]\n",
    "\n",
    "        if 0 <= i+di < rows and 0 <= j+dj < cols:\n",
    "            if grid[i+di, j+dj] == '#':\n",
    "                heading = (heading + 1) % 4\n",
    "            else:\n",
    "                i = i + di\n",
    "                j = j + dj\n",
    "        else:\n",
    "            i = i + di\n",
    "            j = j + dj\n",
    "    else:\n",
    "        break\n",
    "\n",
    "print(len(visited))"
   ]
  },
  {
   "cell_type": "code",
   "execution_count": 99,
   "metadata": {},
   "outputs": [],
   "source": [
    "def traverse(grid, i0, j0, heading = 0):\n",
    "    visited = set()\n",
    "\n",
    "    dv = [(-1, 0), (0, 1), (1, 0), (0, -1)]\n",
    "\n",
    "    i = i0\n",
    "    j = j0\n",
    "\n",
    "    rows, cols = grid.shape\n",
    "\n",
    "    while True:\n",
    "        if 0 <= i < rows and 0 <= j < cols:\n",
    "            if (i, j, heading) in visited:\n",
    "                return True\n",
    "            else:\n",
    "                visited.add((i, j, heading))\n",
    "\n",
    "            di, dj = dv[heading]\n",
    "\n",
    "            if 0 <= i+di < rows and 0 <= j+dj < cols:\n",
    "                if grid[i+di, j+dj] == '#':\n",
    "                    heading = (heading + 1) % 4\n",
    "                else:\n",
    "                    i = i + di\n",
    "                    j = j + dj\n",
    "            else:\n",
    "                i = i + di\n",
    "                j = j + dj\n",
    "        else:\n",
    "            break\n",
    "    \n",
    "    return False\n",
    "    "
   ]
  },
  {
   "cell_type": "code",
   "execution_count": 100,
   "metadata": {},
   "outputs": [
    {
     "name": "stdout",
     "output_type": "stream",
     "text": [
      "1770\n"
     ]
    }
   ],
   "source": [
    "valid_obstacles = 0\n",
    "\n",
    "for i in range(rows):\n",
    "    for j in range(cols):\n",
    "\n",
    "        grid2 = np.copy(grid)\n",
    "\n",
    "        if grid2[i,j] == '#':\n",
    "            continue\n",
    "        else:\n",
    "            grid2[i,j] = '#'\n",
    "            if traverse(grid2, i0, j0):\n",
    "                valid_obstacles += 1\n",
    "\n",
    "print(valid_obstacles)"
   ]
  }
 ],
 "metadata": {
  "kernelspec": {
   "display_name": "base",
   "language": "python",
   "name": "python3"
  },
  "language_info": {
   "codemirror_mode": {
    "name": "ipython",
    "version": 3
   },
   "file_extension": ".py",
   "mimetype": "text/x-python",
   "name": "python",
   "nbconvert_exporter": "python",
   "pygments_lexer": "ipython3",
   "version": "3.10.9"
  }
 },
 "nbformat": 4,
 "nbformat_minor": 2
}
