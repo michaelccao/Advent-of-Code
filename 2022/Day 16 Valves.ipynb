{
 "cells": [
  {
   "cell_type": "markdown",
   "id": "d9b05d26-a3a4-4e2d-9ca6-f85bed354fc6",
   "metadata": {},
   "source": [
    "## Under pressure"
   ]
  },
  {
   "cell_type": "code",
   "execution_count": 1,
   "id": "634cb6d0-262e-4839-87d5-bccbdf95dec3",
   "metadata": {},
   "outputs": [],
   "source": [
    "from pathlib import Path\n",
    "import numpy as np\n",
    "import re\n",
    "import itertools"
   ]
  },
  {
   "cell_type": "code",
   "execution_count": 2,
   "id": "783b2544-fbcc-4995-bce9-e2929ee0fd31",
   "metadata": {},
   "outputs": [],
   "source": [
    "pattern = 'Valve (.+) has flow rate=(\\d+); tunnels? leads? to valves? (.+)'\n",
    "pattern = re.compile(pattern)"
   ]
  },
  {
   "cell_type": "code",
   "execution_count": 55,
   "id": "c0effdcb-b0a1-41cd-aba9-061f45b963df",
   "metadata": {},
   "outputs": [],
   "source": [
    "valves = Path('valves.txt').read_text().split('\\n')\n",
    "\n",
    "valve_map = {}\n",
    "\n",
    "for line in valves:\n",
    "    [key, flow, stations] = re.match(pattern, line).groups()\n",
    "    \n",
    "    valve_map[key] = [stations.split(', '), int(flow)]\n",
    "\n",
    "# Identify valves with non-zero flow and order them from largest to lowest flow\n",
    "non_zero_valves = [key for key in valve_map if valve_map[key][1] > 0]\n",
    "non_zero_valves = sorted(non_zero_valves, key = lambda x: valve_map[x][1], reverse = True)"
   ]
  },
  {
   "cell_type": "code",
   "execution_count": 56,
   "id": "b4156e80-5df0-42c6-bbe6-7134092bc959",
   "metadata": {},
   "outputs": [],
   "source": [
    "def find_shortest_path(start, end):\n",
    "    paths = [[start]]\n",
    "    visited = [start]\n",
    "    \n",
    "    if start == end:\n",
    "        return [start]\n",
    "    \n",
    "    while end not in visited:\n",
    "        new_paths = []\n",
    "        \n",
    "        for path in paths:\n",
    "            last = path[-1]\n",
    "            routes = valve_map[last][0]\n",
    "            \n",
    "            \n",
    "            for route in routes:\n",
    "                if route in path:\n",
    "                    continue\n",
    "                \n",
    "                else:\n",
    "                    if route not in visited:\n",
    "                        visited += [route]\n",
    "                    \n",
    "                    new_path = path + [route]\n",
    "                \n",
    "                    new_paths += [new_path]\n",
    "                    \n",
    "                    if route == end:\n",
    "                        return new_path\n",
    "        \n",
    "        paths = new_paths\n",
    "                \n",
    "    return None"
   ]
  },
  {
   "cell_type": "code",
   "execution_count": 58,
   "id": "5e8c25a3",
   "metadata": {},
   "outputs": [],
   "source": [
    "def calculate_path_time(path):\n",
    "    if len(path) == 0:\n",
    "        return 0\n",
    "    else:\n",
    "        if path[-1] == 'STOP':\n",
    "            path = path[0:-1]\n",
    "        time = 0\n",
    "        for i in range(1, len(path)):\n",
    "            time += distances[path[i-1], path[i]]\n",
    "            \n",
    "        return time"
   ]
  },
  {
   "cell_type": "code",
   "execution_count": 59,
   "id": "9b3cdd50",
   "metadata": {},
   "outputs": [],
   "source": [
    "locations = ['AA'] + non_zero_valves\n",
    "\n",
    "distances = {}\n",
    "\n",
    "for start in locations:\n",
    "    for end in locations:\n",
    "        distances[start, end] = len(find_shortest_path(start, end))-1"
   ]
  },
  {
   "cell_type": "code",
   "execution_count": 60,
   "id": "5977ea2a",
   "metadata": {},
   "outputs": [],
   "source": [
    "def calculate_total_pressure(path, time_limit = 30):\n",
    "    if path[-1] == 'STOP':\n",
    "        path = path[0:-1]\n",
    "        \n",
    "    times = np.zeros(len(path), dtype = 'int')\n",
    "    for i in range(1, len(path)):\n",
    "        times[i] = times[i-1] + distances[path[i-1], path[i]] + 1\n",
    "        \n",
    "    pressures = np.array([valve_map[valve][1] for valve in path])\n",
    "    \n",
    "    time_remaining = time_limit - times\n",
    "    \n",
    "    time_remaining[time_remaining < 0] = 0\n",
    "    \n",
    "    pressure_released = np.sum(time_remaining * pressures)\n",
    "        \n",
    "    return pressure_released\n",
    "        "
   ]
  },
  {
   "cell_type": "code",
   "execution_count": 61,
   "id": "ac28829c",
   "metadata": {},
   "outputs": [],
   "source": [
    "def max_pressure(path, valves = non_zero_valves, time_limit = 30, distances = distances):\n",
    "    if path[-1] == 'STOP':\n",
    "        path = path[0:-1]\n",
    "    \n",
    "    base_pressure = calculate_total_pressure(path, time_limit)\n",
    "    \n",
    "    time_remaining = time_limit - calculate_path_time(path) - len(path) + 1\n",
    "    \n",
    "    last_valve = path[-1]\n",
    "    \n",
    "    remaining_valves = np.setdiff1d(valves, path)\n",
    "    \n",
    "    additional_pressure = sum([valve_map[valve][1]*(time_remaining - distances[last_valve, valve] - 1) \n",
    "                               for valve in remaining_valves if distances[last_valve, valve] < time_remaining-1])\n",
    "    \n",
    "    return base_pressure + additional_pressure"
   ]
  },
  {
   "cell_type": "code",
   "execution_count": 105,
   "id": "a8cb8ea1",
   "metadata": {},
   "outputs": [],
   "source": [
    "start = 'AA'\n",
    "\n",
    "num_nzv = len(non_zero_valves)\n",
    "\n",
    "paths = [[start]]\n",
    "\n",
    "final_paths = []\n",
    "\n",
    "time_limit = 26\n",
    "\n",
    "for i in range(num_nzv):\n",
    "    new_paths = []\n",
    "    \n",
    "    best_so_far = max([calculate_total_pressure(path, time_limit) for path in paths])\n",
    "\n",
    "    for path in paths:\n",
    "        \n",
    "        if max_pressure(path, non_zero_valves, time_limit) < best_so_far:\n",
    "            continue\n",
    "        \n",
    "        if path[-1] == 'STOP':\n",
    "            final_paths += [path]\n",
    "            continue\n",
    "        \n",
    "        elif calculate_path_time(path) > time_limit - len(path):\n",
    "            final_paths += [path + ['STOP']]\n",
    "            continue\n",
    "        \n",
    "        remaining_valves = np.setdiff1d(non_zero_valves, path)\n",
    "        \n",
    "        for valve in remaining_valves:\n",
    "            new_path = path + [valve]\n",
    "            \n",
    "            new_paths += [new_path]\n",
    "        \n",
    "    paths = new_paths\n",
    "    \n",
    "    if len(new_paths) == 0:\n",
    "        break\n",
    "    \n",
    "final_paths += paths"
   ]
  },
  {
   "cell_type": "code",
   "execution_count": 104,
   "id": "65472971",
   "metadata": {},
   "outputs": [
    {
     "data": {
      "text/plain": [
       "1205"
      ]
     },
     "execution_count": 104,
     "metadata": {},
     "output_type": "execute_result"
    }
   ],
   "source": [
    "max([calculate_total_pressure(path, 26) for path in final_paths])"
   ]
  },
  {
   "cell_type": "markdown",
   "id": "d10578cc",
   "metadata": {},
   "source": [
    "## Part 2: This is our last dance"
   ]
  },
  {
   "cell_type": "code",
   "execution_count": 107,
   "id": "10e606f4",
   "metadata": {},
   "outputs": [],
   "source": [
    "def best_pressure(valves = non_zero_valves, time_limit = 26):\n",
    "\n",
    "    start = 'AA'\n",
    "\n",
    "    paths = [[start]]\n",
    "    \n",
    "    final_paths = []\n",
    "\n",
    "    for i in range(len(valves)):\n",
    "        new_paths = []\n",
    "\n",
    "        best_so_far = max([calculate_total_pressure(path, time_limit) for path in paths])\n",
    "\n",
    "        for path in paths:\n",
    "\n",
    "            if max_pressure(path, valves, time_limit) < best_so_far:\n",
    "                continue\n",
    "\n",
    "            if path[-1] == 'STOP':\n",
    "                final_paths += [path]\n",
    "                continue\n",
    "\n",
    "            elif calculate_path_time(path) > time_limit - len(path):\n",
    "                final_paths += [path + ['STOP']]\n",
    "                continue\n",
    "\n",
    "            remaining_valves = np.setdiff1d(valves, path)\n",
    "\n",
    "            for valve in remaining_valves:\n",
    "                new_path = path + [valve]\n",
    "\n",
    "                new_paths += [new_path]\n",
    "\n",
    "        \n",
    "\n",
    "        paths = new_paths\n",
    "        \n",
    "        if len(new_paths) == 0:\n",
    "            break\n",
    "        \n",
    "    final_paths += paths\n",
    "\n",
    "    return max([calculate_total_pressure(path, time_limit) for path in final_paths])"
   ]
  },
  {
   "cell_type": "code",
   "execution_count": 109,
   "id": "ade2082b",
   "metadata": {},
   "outputs": [
    {
     "name": "stdout",
     "output_type": "stream",
     "text": [
      "1\n",
      "2\n",
      "3\n",
      "4\n",
      "5\n",
      "6\n",
      "7\n"
     ]
    }
   ],
   "source": [
    "best_combined_pressure = 0\n",
    "\n",
    "for i in range(1, len(non_zero_valves)//2+1):\n",
    "    print(i)\n",
    "    my_valve_sets = itertools.combinations(non_zero_valves, i)\n",
    "    \n",
    "    for my_valves in my_valve_sets:\n",
    "        elephant_valves = np.setdiff1d(non_zero_valves, my_valves)\n",
    "        \n",
    "        best_combined_pressure = max(best_combined_pressure, \n",
    "                                     best_pressure(my_valves, 26) + best_pressure(elephant_valves, 26))"
   ]
  },
  {
   "cell_type": "code",
   "execution_count": 110,
   "id": "51b019a3",
   "metadata": {},
   "outputs": [
    {
     "data": {
      "text/plain": [
       "2343"
      ]
     },
     "execution_count": 110,
     "metadata": {},
     "output_type": "execute_result"
    }
   ],
   "source": [
    "best_combined_pressure"
   ]
  }
 ],
 "metadata": {
  "kernelspec": {
   "display_name": "Python 3 (ipykernel)",
   "language": "python",
   "name": "python3"
  },
  "language_info": {
   "codemirror_mode": {
    "name": "ipython",
    "version": 3
   },
   "file_extension": ".py",
   "mimetype": "text/x-python",
   "name": "python",
   "nbconvert_exporter": "python",
   "pygments_lexer": "ipython3",
   "version": "3.9.7"
  }
 },
 "nbformat": 4,
 "nbformat_minor": 5
}
