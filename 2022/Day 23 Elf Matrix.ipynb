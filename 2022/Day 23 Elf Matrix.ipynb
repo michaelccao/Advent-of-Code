{
 "cells": [
  {
   "cell_type": "markdown",
   "id": "a26a9e5e",
   "metadata": {},
   "source": [
    "## Slide to the left..."
   ]
  },
  {
   "cell_type": "code",
   "execution_count": 152,
   "id": "839c72da",
   "metadata": {},
   "outputs": [],
   "source": [
    "import numpy as np\n",
    "from pathlib import Path\n",
    "import matplotlib.pyplot as plt\n",
    "import sys"
   ]
  },
  {
   "cell_type": "code",
   "execution_count": 132,
   "id": "e625bfef",
   "metadata": {},
   "outputs": [],
   "source": [
    "elves = Path('elves.txt').read_text().split('\\n')\n",
    "elves = [[0 if char == '.' else '1' for char in line] for line in elves]\n",
    "\n",
    "\n",
    "buffer = 10\n",
    "width = len(elves[0])\n",
    "height = len(elves)\n",
    "\n",
    "elf_map = np.zeros((height+2*buffer, width + 2*buffer), dtype = 'u1')\n",
    "\n",
    "elf_map[buffer:buffer+height, buffer:buffer+width] = np.array(elves)"
   ]
  },
  {
   "cell_type": "code",
   "execution_count": 133,
   "id": "ffc0eaf0",
   "metadata": {
    "scrolled": false
   },
   "outputs": [
    {
     "data": {
      "text/plain": [
       "<matplotlib.image.AxesImage at 0x27613d50550>"
      ]
     },
     "execution_count": 133,
     "metadata": {},
     "output_type": "execute_result"
    },
    {
     "data": {
      "image/png": "[encoded data removed]",
      "text/plain": [
       "<Figure size 720x720 with 1 Axes>"
      ]
     },
     "metadata": {
      "needs_background": "light"
     },
     "output_type": "display_data"
    }
   ],
   "source": [
    "plt.figure(figsize = (10, 10))\n",
    "plt.imshow(elf_map, aspect = 'equal', interpolation = 'none')"
   ]
  },
  {
   "cell_type": "code",
   "execution_count": 134,
   "id": "c6b7f432",
   "metadata": {},
   "outputs": [],
   "source": [
    "def get_proposal(y, x, current_map, directions):\n",
    "    nw = current_map[y-1, x-1] == 0\n",
    "    n = current_map[y-1, x] == 0\n",
    "    ne = current_map[y-1, x+1] == 0\n",
    "    e = current_map[y, x+1] == 0\n",
    "    se = current_map[y+1, x+1] == 0\n",
    "    s = current_map[y+1, x] == 0\n",
    "    sw = current_map[y+1, x-1] == 0\n",
    "    w = current_map[y, x-1] == 0\n",
    "    \n",
    "    proposals = []\n",
    "    \n",
    "    if nw and n and ne and e and se and s and sw and w:\n",
    "        return [(y,x), (y,x)]\n",
    "    \n",
    "    if nw and n and ne:\n",
    "        proposals += ['North']\n",
    "    \n",
    "    if ne and e and se:\n",
    "        proposals += ['East']\n",
    "    \n",
    "    if se and s and sw:\n",
    "        proposals += ['South']\n",
    "        \n",
    "    if sw and w and nw:\n",
    "        proposals += ['West']\n",
    "    \n",
    "    for direction in directions:\n",
    "        if direction in proposals:\n",
    "            dy, dx = dydx[direction]\n",
    "            \n",
    "            return [(y,x), (y+dy, x + dx)]\n",
    "        \n",
    "    return [(y,x), (y,x)]"
   ]
  },
  {
   "cell_type": "code",
   "execution_count": 135,
   "id": "d4a88cc8",
   "metadata": {},
   "outputs": [],
   "source": [
    "def update_map(moves, current_map):\n",
    "    current_map = np.copy(current_map)\n",
    "    \n",
    "    origins = [move[0] for move in moves]\n",
    "    dests = [move[1] for move in moves]\n",
    "    \n",
    "    unique_moves = [tuple(move) for move,count in zip(*np.unique(dests, axis = 0, return_counts = True)) if count == 1]\n",
    "    \n",
    "    for i in range(len(moves)):\n",
    "        if dests[i] in unique_moves:\n",
    "            current_map[dests[i]] = 1\n",
    "            if dests[i] != origins[i]:\n",
    "                current_map[origins[i]] = 0\n",
    "            \n",
    "    return current_map"
   ]
  },
  {
   "cell_type": "code",
   "execution_count": 136,
   "id": "710e63fe",
   "metadata": {},
   "outputs": [],
   "source": [
    "directions = np.array(['North', 'South', 'West', 'East'])\n",
    "\n",
    "dydx = {'North': [-1, 0], 'South': [1, 0], 'West': [0, -1], 'East': [0, 1]}"
   ]
  },
  {
   "cell_type": "code",
   "execution_count": 138,
   "id": "d3782c8e",
   "metadata": {},
   "outputs": [
    {
     "name": "stdout",
     "output_type": "stream",
     "text": [
      "4195\n"
     ]
    }
   ],
   "source": [
    "rounds = 10\n",
    "\n",
    "current_map = np.copy(elf_map)\n",
    "\n",
    "num_elves = np.sum(elf_map)\n",
    "\n",
    "current_directions = np.copy(directions)\n",
    "\n",
    "for i in range(rounds):\n",
    "    # Get all elf poisitions\n",
    "    coords = np.where(current_map == 1)\n",
    "    # Get all elf proposed movements\n",
    "    moves = [get_proposal(coords[0][j], coords[1][j], current_map, current_directions) for j in range(num_elves)]\n",
    "    # Resolve all movements\n",
    "    current_map = update_map(moves, current_map)\n",
    "    \n",
    "    # Shift priorities\n",
    "    current_directions = np.roll(current_directions, -1)\n",
    "    \n",
    "y, x = np.where(current_map == 1)\n",
    "print((max(y)-min(y)+1)*(max(x)-min(x)+1) - np.sum(current_map))"
   ]
  },
  {
   "cell_type": "code",
   "execution_count": 139,
   "id": "ab4fdfa9",
   "metadata": {},
   "outputs": [
    {
     "data": {
      "text/plain": [
       "<matplotlib.image.AxesImage at 0x27613fc4af0>"
      ]
     },
     "execution_count": 139,
     "metadata": {},
     "output_type": "execute_result"
    },
    {
     "data": {
      "image/png": "[encoded data removed]",
      "text/plain": [
       "<Figure size 720x720 with 1 Axes>"
      ]
     },
     "metadata": {
      "needs_background": "light"
     },
     "output_type": "display_data"
    }
   ],
   "source": [
    "plt.figure(figsize = (10, 10))\n",
    "plt.imshow(current_map, aspect = 'equal', interpolation = 'none')"
   ]
  },
  {
   "cell_type": "markdown",
   "id": "0a5a4b1a",
   "metadata": {},
   "source": [
    "## Time to get funky"
   ]
  },
  {
   "cell_type": "code",
   "execution_count": 156,
   "id": "bfba9aa8",
   "metadata": {},
   "outputs": [],
   "source": [
    "elves = Path('elves.txt').read_text().split('\\n')\n",
    "elves = [[0 if char == '.' else '1' for char in line] for line in elves]\n",
    "\n",
    "\n",
    "max_rounds = 5000\n",
    "buffer = max_rounds\n",
    "width = len(elves[0])\n",
    "height = len(elves)\n",
    "\n",
    "elf_map = np.zeros((height+2*buffer, width + 2*buffer), dtype = 'u1')\n",
    "\n",
    "elf_map[buffer:buffer+height, buffer:buffer+width] = np.array(elves)"
   ]
  },
  {
   "cell_type": "code",
   "execution_count": 157,
   "id": "d5611151",
   "metadata": {},
   "outputs": [
    {
     "name": "stdout",
     "output_type": "stream",
     "text": [
      "Round 1069      "
     ]
    }
   ],
   "source": [
    "current_map = np.copy(elf_map)\n",
    "\n",
    "num_elves = np.sum(elf_map)\n",
    "\n",
    "current_directions = np.copy(directions)\n",
    "\n",
    "for i in range(max_rounds):\n",
    "    sys.stdout.write(f'\\rRound {i+1:<10}')\n",
    "    # Get all elf poisitions\n",
    "    coords = np.where(current_map == 1)\n",
    "    # Get all elf proposed movements\n",
    "    moves = [get_proposal(coords[0][j], coords[1][j], current_map, current_directions) for j in range(num_elves)]\n",
    "    # Resolve all movements\n",
    "    new_map = update_map(moves, current_map)\n",
    "    \n",
    "    if np.all(new_map == current_map):\n",
    "        break\n",
    "    else:\n",
    "        current_map = new_map\n",
    "    \n",
    "    # Shift priorities\n",
    "    current_directions = np.roll(current_directions, -1)\n",
    "    \n",
    "y, x = np.where(current_map == 1)"
   ]
  },
  {
   "cell_type": "code",
   "execution_count": 161,
   "id": "4155c110",
   "metadata": {},
   "outputs": [
    {
     "data": {
      "text/plain": [
       "(4986.0, 5126.0)"
      ]
     },
     "execution_count": 161,
     "metadata": {},
     "output_type": "execute_result"
    },
    {
     "data": {
      "image/png": "[encoded data removed]",
      "text/plain": [
       "<Figure size 720x720 with 1 Axes>"
      ]
     },
     "metadata": {
      "needs_background": "light"
     },
     "output_type": "display_data"
    }
   ],
   "source": [
    "plt.figure(figsize = (10, 10))\n",
    "plt.imshow(current_map, aspect = 'equal', interpolation = 'none')\n",
    "plt.ylim(max(y), min(y))\n",
    "plt.xlim(min(x), max(x))"
   ]
  }
 ],
 "metadata": {
  "kernelspec": {
   "display_name": "Python 3 (ipykernel)",
   "language": "python",
   "name": "python3"
  },
  "language_info": {
   "codemirror_mode": {
    "name": "ipython",
    "version": 3
   },
   "file_extension": ".py",
   "mimetype": "text/x-python",
   "name": "python",
   "nbconvert_exporter": "python",
   "pygments_lexer": "ipython3",
   "version": "3.9.7"
  }
 },
 "nbformat": 4,
 "nbformat_minor": 5
}
