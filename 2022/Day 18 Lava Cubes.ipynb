{
 "cells": [
  {
   "cell_type": "markdown",
   "id": "dd965730",
   "metadata": {},
   "source": [
    "## Yes, I'm on fire"
   ]
  },
  {
   "cell_type": "code",
   "execution_count": 108,
   "id": "5136f263",
   "metadata": {},
   "outputs": [],
   "source": [
    "from pathlib import Path\n",
    "import numpy as np\n",
    "import itertools as it\n",
    "import sys"
   ]
  },
  {
   "cell_type": "code",
   "execution_count": 222,
   "id": "8845f6c2",
   "metadata": {},
   "outputs": [],
   "source": [
    "cubes = [tuple([int(x) for x in cube.split(',')])  for cube in Path('cubes.txt').read_text().split('\\n') ]"
   ]
  },
  {
   "cell_type": "code",
   "execution_count": 223,
   "id": "6ed3eab2",
   "metadata": {},
   "outputs": [],
   "source": [
    "touching_cubes = [(c1, c2) for c1, c2 in it.combinations(cubes, 2) if np.sum(np.abs(np.array(c1) - np.array(c2))) == 1]"
   ]
  },
  {
   "cell_type": "code",
   "execution_count": 224,
   "id": "7fe4a239",
   "metadata": {},
   "outputs": [],
   "source": [
    "faces = 6*len(cubes) - 2*len(touching_cubes)"
   ]
  },
  {
   "cell_type": "code",
   "execution_count": 225,
   "id": "e8b35189",
   "metadata": {},
   "outputs": [
    {
     "name": "stdout",
     "output_type": "stream",
     "text": [
      "4482\n"
     ]
    }
   ],
   "source": [
    "print(faces)"
   ]
  },
  {
   "cell_type": "markdown",
   "id": "5c8fd8d4",
   "metadata": {},
   "source": [
    "## Part 2: Ignited by a burning desire"
   ]
  },
  {
   "cell_type": "code",
   "execution_count": 226,
   "id": "57975ae8",
   "metadata": {},
   "outputs": [],
   "source": [
    "adjacent_air_cubes = []\n",
    "\n",
    "cubes_ar = np.array(cubes)\n",
    "\n",
    "[xi, yi, zi] = np.min(cubes_ar, axis = 0)\n",
    "\n",
    "[xf, yf, zf] = np.max(cubes_ar, axis = 0)\n",
    "\n",
    "for x in range(xi, xf+1):\n",
    "    for y in range(yi, yf+1):\n",
    "        for z in range(zi, zf + 1):\n",
    "            if (x,y,z) in cubes:\n",
    "                continue\n",
    "            \n",
    "            distances = np.sum(np.abs(cubes_ar - [x,y,z]), axis = 1)\n",
    "            if np.any(distances == 1):\n",
    "                adjacent_air_cubes += [(x,y,z)]"
   ]
  },
  {
   "cell_type": "code",
   "execution_count": 227,
   "id": "eb03fc54",
   "metadata": {},
   "outputs": [],
   "source": [
    "def is_external(air_cube):\n",
    "    \n",
    "    \n",
    "    prev_visited = []\n",
    "\n",
    "    current_cubes = [air_cube]\n",
    "\n",
    "    escape = False\n",
    "\n",
    "    while len(current_cubes) > 0 and not escape:\n",
    "        new_cubes = []\n",
    "        for cube in current_cubes:\n",
    "            x,y,z = cube\n",
    "            adjacent_cubes = [(x+1, y, z), (x-1, y, z), \n",
    "                              (x, y+1, z), (x, y-1, z), \n",
    "                              (x, y, z+1), (x, y, z-1)]\n",
    "\n",
    "            for new_cube in adjacent_cubes:\n",
    "                x2,y2,z2 = new_cube\n",
    "\n",
    "                if x2 < xi or x2 > xf or y2 < yi or y2 > yf or z2 < zi or z2 > zf:\n",
    "                    prev_visited += [(x2, y2, z2)]\n",
    "                    escape = True\n",
    "                    break\n",
    "\n",
    "                else:\n",
    "                    if new_cube not in cubes and new_cube not in prev_visited and new_cube not in new_cubes:\n",
    "                        prev_visited += [new_cube]\n",
    "                        new_cubes += [new_cube]\n",
    "\n",
    "\n",
    "            if escape:\n",
    "                break\n",
    "\n",
    "        current_cubes = new_cubes\n",
    "        \n",
    "    return escape"
   ]
  },
  {
   "cell_type": "code",
   "execution_count": 229,
   "id": "7d922504",
   "metadata": {},
   "outputs": [],
   "source": [
    "int_adj_air_cubes = [cube for cube in adjacent_air_cubes if is_external(cube) == False]"
   ]
  },
  {
   "cell_type": "code",
   "execution_count": 249,
   "id": "20e009e4",
   "metadata": {},
   "outputs": [],
   "source": [
    "internal_lava_faces = [np.sum(np.sum(np.abs(cubes_ar - int_cube), axis = 1) == 1) for int_cube in int_adj_air_cubes]"
   ]
  },
  {
   "cell_type": "code",
   "execution_count": 251,
   "id": "20adcaea",
   "metadata": {},
   "outputs": [
    {
     "name": "stdout",
     "output_type": "stream",
     "text": [
      "2576\n"
     ]
    }
   ],
   "source": [
    "faces = 6*len(cubes) - 2*len(touching_cubes) - sum(internal_lava_faces)\n",
    "print(faces)"
   ]
  }
 ],
 "metadata": {
  "kernelspec": {
   "display_name": "Python 3 (ipykernel)",
   "language": "python",
   "name": "python3"
  },
  "language_info": {
   "codemirror_mode": {
    "name": "ipython",
    "version": 3
   },
   "file_extension": ".py",
   "mimetype": "text/x-python",
   "name": "python",
   "nbconvert_exporter": "python",
   "pygments_lexer": "ipython3",
   "version": "3.7.1"
  }
 },
 "nbformat": 4,
 "nbformat_minor": 5
}
