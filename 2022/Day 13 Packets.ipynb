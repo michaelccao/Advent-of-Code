{
 "cells": [
  {
   "cell_type": "markdown",
   "id": "7b87c09e-9a97-4df9-a661-2c933a619c25",
   "metadata": {},
   "source": [
    "## This is Radio Nowhere"
   ]
  },
  {
   "cell_type": "code",
   "execution_count": 17,
   "id": "5a1df5ea-7e12-4956-b1c7-81c2ac3efa74",
   "metadata": {},
   "outputs": [],
   "source": [
    "import numpy as np\n",
    "from pathlib import Path\n",
    "import ast"
   ]
  },
  {
   "cell_type": "code",
   "execution_count": 38,
   "id": "fbde3975-a287-44ca-8338-61eb72fafd71",
   "metadata": {},
   "outputs": [],
   "source": [
    "packets = Path('packets.txt').read_text().split('\\n\\n')\n",
    "packets = [packet.split('\\n') for packet in packets]\n",
    "packets = [ast.literal_eval(packet) for packetpair in packets for packet in packetpair]"
   ]
  },
  {
   "cell_type": "code",
   "execution_count": 4,
   "id": "7611cab1-f619-4cff-a351-b57703880660",
   "metadata": {},
   "outputs": [],
   "source": [
    "def compare_elements(e1, e2):\n",
    "    \n",
    "    if isinstance(e1, int) and isinstance(e2, int):\n",
    "        if e1 < e2:\n",
    "            return True\n",
    "        elif e1 == e2:\n",
    "            return 'Tie'\n",
    "        else:\n",
    "            return False\n",
    "    \n",
    "    elif isinstance(e1, int) and isinstance(e2, list):\n",
    "        return compare_elements([e1], e2)\n",
    "    \n",
    "    elif isinstance(e1, list) and isinstance(e2, int):\n",
    "        return compare_elements(e1, [e2])\n",
    "    \n",
    "    elif isinstance(e1, list) and isinstance(e2, list):\n",
    "        l1 = len(e1)\n",
    "        l2 = len(e2)\n",
    "        \n",
    "        for i in range(min(l1, l2)):\n",
    "            test = compare_elements(e1[i], e2[i])\n",
    "            if test == True:\n",
    "                return True\n",
    "            elif test == False:\n",
    "                return False\n",
    "            elif test == 'Tie':\n",
    "                continue\n",
    "                \n",
    "        if l1 < l2:\n",
    "            return True\n",
    "        \n",
    "        elif l1 > l2:\n",
    "            return False\n",
    "\n",
    "            \n",
    "        "
   ]
  },
  {
   "cell_type": "code",
   "execution_count": 41,
   "id": "94a08669-f794-4ce8-aa8f-74a58b7b993c",
   "metadata": {},
   "outputs": [
    {
     "name": "stdout",
     "output_type": "stream",
     "text": [
      "6395\n"
     ]
    }
   ],
   "source": [
    "total = 0\n",
    "\n",
    "for i in range(len(packets)//2):\n",
    "    p1 = packets[2*i]\n",
    "    p2 = packets[2*i + 1]\n",
    "    \n",
    "    if compare_elements(p1, p2):\n",
    "        total += i+1\n",
    "        \n",
    "print(total)"
   ]
  },
  {
   "cell_type": "markdown",
   "id": "19901081-7c91-4d87-aa34-924a13d0da90",
   "metadata": {},
   "source": [
    "## Part 2: Is there anybody alive out there?"
   ]
  },
  {
   "cell_type": "code",
   "execution_count": 50,
   "id": "c2159e80-6225-4483-ac07-3f19366c3988",
   "metadata": {},
   "outputs": [],
   "source": [
    "def find_lowest_packet(packs):\n",
    "    lowest = 0\n",
    "    \n",
    "    for i in range(1, len(packs)):\n",
    "        if compare_elements(packs[i], packs[lowest]):\n",
    "            lowest = i\n",
    "            \n",
    "    return lowest"
   ]
  },
  {
   "cell_type": "code",
   "execution_count": 67,
   "id": "51ce801d-4a11-424f-a773-d5b19a49c6fd",
   "metadata": {},
   "outputs": [],
   "source": [
    "new_packets = packets + [[[2]]] + [[[6]]]\n",
    "sorted_packets = []\n",
    "\n",
    "for i in range(len(new_packets)):\n",
    "    lowest = find_lowest_packet(new_packets)\n",
    "    sorted_packets.append(new_packets[lowest])\n",
    "    new_packets.pop(lowest)"
   ]
  },
  {
   "cell_type": "code",
   "execution_count": 72,
   "id": "13915e7f-4fe2-403f-aca3-15d7723e0ada",
   "metadata": {},
   "outputs": [
    {
     "data": {
      "text/plain": [
       "True"
      ]
     },
     "execution_count": 72,
     "metadata": {},
     "output_type": "execute_result"
    }
   ],
   "source": [
    "# Check sort\n",
    "np.all([compare_elements(sorted_packets[i], sorted_packets[i+1]) for i in range(len(sorted_packets)-1)])"
   ]
  },
  {
   "cell_type": "code",
   "execution_count": 76,
   "id": "e0081f72-392e-4363-bff2-ef93024e82d4",
   "metadata": {},
   "outputs": [
    {
     "data": {
      "text/plain": [
       "24921"
      ]
     },
     "execution_count": 76,
     "metadata": {},
     "output_type": "execute_result"
    }
   ],
   "source": [
    "(sorted_packets.index([[2]])+1)*(sorted_packets.index([[6]])+1)"
   ]
  }
 ],
 "metadata": {
  "kernelspec": {
   "display_name": "Python 3 (ipykernel)",
   "language": "python",
   "name": "python3"
  },
  "language_info": {
   "codemirror_mode": {
    "name": "ipython",
    "version": 3
   },
   "file_extension": ".py",
   "mimetype": "text/x-python",
   "name": "python",
   "nbconvert_exporter": "python",
   "pygments_lexer": "ipython3",
   "version": "3.10.4"
  }
 },
 "nbformat": 4,
 "nbformat_minor": 5
}
