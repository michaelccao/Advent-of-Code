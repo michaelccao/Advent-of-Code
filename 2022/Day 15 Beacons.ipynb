{
 "cells": [
  {
   "cell_type": "markdown",
   "id": "4586113d-b126-4715-8f5b-ca94292f6e2d",
   "metadata": {},
   "source": [
    "## All my life, I've been searching for something"
   ]
  },
  {
   "cell_type": "code",
   "execution_count": 1,
   "id": "ce354b05-c445-412e-a57e-113ee9d4cb13",
   "metadata": {},
   "outputs": [],
   "source": [
    "from pathlib import Path\n",
    "import matplotlib.pyplot as plt\n",
    "import re\n",
    "import numpy as np"
   ]
  },
  {
   "cell_type": "code",
   "execution_count": 2,
   "id": "7830ffa5-602e-4ffe-95b1-ffe832090048",
   "metadata": {},
   "outputs": [],
   "source": [
    "pattern = 'Sensor at x=(-?\\d+), y=(-?\\d+): closest beacon is at x=(-?\\d+), y=(-?\\d+)'\n",
    "\n",
    "pattern = re.compile(pattern)\n",
    "\n",
    "beacons = [[sx, sy, bx, by, abs(sx-bx) + abs(sy-by)]\n",
    "           for sx, sy, bx, by in [[int(coord) for coord in re.search(pattern, line).groups()] for line in Path('beacons.txt').read_text().split('\\n')]]\n",
    "\n",
    "beacon_locations = [[bx, by] for sx, sy, bx, by, dist in beacons]\n",
    "sensor_locations = [[sx, sy] for sx, sy, bx, by, dist in beacons]"
   ]
  },
  {
   "cell_type": "code",
   "execution_count": 3,
   "id": "597045e3-918c-4548-85bd-a58fc7254ae8",
   "metadata": {},
   "outputs": [
    {
     "name": "stdout",
     "output_type": "stream",
     "text": [
      "5403290\n"
     ]
    }
   ],
   "source": [
    "target_row = 2000000\n",
    "\n",
    "forbidden_xcoords = []\n",
    "\n",
    "for sx, sy, bx, by, dist in beacons:\n",
    "    remaining_dist = dist - abs(target_row - sy)\n",
    "    if remaining_dist < 0:\n",
    "        continue\n",
    "    else:\n",
    "        forbidden_xcoords += [x for x in range(sx-remaining_dist, sx + remaining_dist + 1) if [x, target_row] not in beacon_locations and [x, target_row] not in sensor_locations]\n",
    "        \n",
    "print(len(set(forbidden_xcoords)))"
   ]
  },
  {
   "cell_type": "markdown",
   "id": "1c955014-8949-4809-a398-b97f859d024f",
   "metadata": {},
   "source": [
    "## Part 2: Nothing satisfies but I'm getting close"
   ]
  },
  {
   "cell_type": "code",
   "execution_count": null,
   "id": "fe5c2580",
   "metadata": {},
   "outputs": [],
   "source": [
    "# Every sensor, beacon combo gives the following four conditions:\n",
    "# x + y > dist + sx + sy\n",
    "# x + y < -dist + sx + sy\n",
    "# x - y > dist + sx - sy\n",
    "# x - y < -dist + sx - sy\n",
    "\n",
    "# Allowed region for beacon is the union of these four conditions\n",
    "\n",
    "# The 8 neighboring points to the unique solution must be on the edge of vertex of a region\n",
    "# Unique solution is at minimum dist + 1 from a sensor\n",
    "\n",
    "# Moving from arbitrary point (x0, y0) diagonally towards a boundary, the length t of the vector is:\n",
    "\n",
    "# 2t > dist + sx + sy - x0 - y0\n",
    "# 2t > dist - sx - sy + x0 + y0\n",
    "# 2t > dist + sx - sy - x0 + y0\n",
    "# 2t > dist - sx + sy + x0 - y0\n",
    "\n",
    "# The four points (x1, y1) of possible travel are:\n",
    "# x1 = x0 + (dist + sx + sy - x0 - y0)/2, y1 = y0 + (dist + sx + sy - x0 - y0)/2\n",
    "# x1 = x0 + (dist - sx - sy + x0 + y0)/2, y1 = y0 + (dist - sx - sy + x0 + y0)/2\n",
    "# x1 = x0 + (dist + sx - sy - x0 + y0)/2, y1 = y0 + (dist + sx - sy - x0 + y0)/2\n",
    "# x1 = x0 + (dist - sx + sy + x0 - y0)/2, y1 = y0 + (dist - sx + sy + x0 - y0)/2"
   ]
  },
  {
   "cell_type": "code",
   "execution_count": 170,
   "id": "b57118c4",
   "metadata": {},
   "outputs": [],
   "source": [
    "def travel(x, y, beacons, xymax = 4000000):\n",
    "    inside = [[sx, sy, dist] for sx, sy, bx, by, dist in beacons if dist - abs(sx-x) - abs(sy-y) >= 0]\n",
    "    \n",
    "    if len(inside) == 0:\n",
    "        return ['Found it!', x, y]\n",
    "    \n",
    "    points = []\n",
    "    \n",
    "    for sx, sy, dist in inside:\n",
    "\n",
    "        a = sx + sy - x - y\n",
    "        b = sx - sy - x + y\n",
    "\n",
    "        vels = [[1, 1], [-1, -1], [1, -1], [-1, 1]]\n",
    "\n",
    "        num_steps = [(dist + a)//2 + 1, (dist - a)//2 + 1, (dist + b)//2 + 1, (dist - b)//2 + 1]\n",
    "\n",
    "        new_coords = [[x + ns*vel[0], y + ns*vel[1]] for ns, vel in zip(num_steps, vels)]\n",
    "\n",
    "        filtered = [[nx, ny] for nx, ny in new_coords if nx >= 0 and nx <= xymax and ny >= 0 and ny <= xymax]\n",
    "        \n",
    "        distances = [(abs(sx - nx) + abs(sy - ny) - dist) for nx, ny in filtered]\n",
    "        \n",
    "        if np.all(np.array(distances) == 2):\n",
    "            shifts = [[1, 0], [-1, 0], [0, 1], [0, -1]]\n",
    "            filtered = [[nx+shift[0], ny + shift[1]] for nx, ny in filtered for shift in shifts \n",
    "                    if abs(sx - nx - shift[0]) + abs(sy - ny - shift[1]) == dist + 1]\n",
    "            \n",
    "            distances = [(abs(sx - nx) + abs(sy - ny) - dist) for nx, ny in filtered]\n",
    "            \n",
    "            assert(np.all(np.array(distances)) == 1)\n",
    "        \n",
    "        points += [point for point in filtered if filtered not in points]\n",
    "    \n",
    "    return points"
   ]
  },
  {
   "cell_type": "code",
   "execution_count": 174,
   "id": "cb466aea-4f00-45df-866a-088289e0b6ce",
   "metadata": {},
   "outputs": [
    {
     "name": "stdout",
     "output_type": "stream",
     "text": [
      "10291582906626\n"
     ]
    }
   ],
   "source": [
    "xymax = 4000000\n",
    "\n",
    "prev_visited = [[0, 0]]\n",
    "\n",
    "new_points = {0: prev_visited}\n",
    "\n",
    "found = False\n",
    "\n",
    "layer = 0\n",
    "\n",
    "while not found:\n",
    "    \n",
    "    new_points[layer+1] = []\n",
    "    \n",
    "    for x, y in new_points[layer]:\n",
    "        \n",
    "        possibly_new = travel(x, y, beacons)\n",
    "        \n",
    "        if possibly_new[0] == 'Found it!':\n",
    "            found = True\n",
    "            foundx, foundy = possibly_new[1:]\n",
    "            break\n",
    "        \n",
    "        actually_new = [new for new in possibly_new if new not in prev_visited]\n",
    "        \n",
    "        prev_visited += actually_new\n",
    "    \n",
    "        new_points[layer+1] += actually_new\n",
    "        \n",
    "    layer += 1\n",
    "    \n",
    "print(foundx*xymax + foundy)"
   ]
  },
  {
   "cell_type": "markdown",
   "id": "a6c7eab3",
   "metadata": {},
   "source": [
    "## Then I'm done, done, on to the next one"
   ]
  }
 ],
 "metadata": {
  "kernelspec": {
   "display_name": "Python 3 (ipykernel)",
   "language": "python",
   "name": "python3"
  },
  "language_info": {
   "codemirror_mode": {
    "name": "ipython",
    "version": 3
   },
   "file_extension": ".py",
   "mimetype": "text/x-python",
   "name": "python",
   "nbconvert_exporter": "python",
   "pygments_lexer": "ipython3",
   "version": "3.7.1"
  }
 },
 "nbformat": 4,
 "nbformat_minor": 5
}
