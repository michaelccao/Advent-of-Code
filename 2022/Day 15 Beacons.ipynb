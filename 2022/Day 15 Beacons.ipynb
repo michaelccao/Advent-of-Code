{
 "cells": [
  {
   "cell_type": "markdown",
   "id": "4586113d-b126-4715-8f5b-ca94292f6e2d",
   "metadata": {},
   "source": [
    "## All my life, I've been searching for something"
   ]
  },
  {
   "cell_type": "code",
   "execution_count": 28,
   "id": "ce354b05-c445-412e-a57e-113ee9d4cb13",
   "metadata": {},
   "outputs": [],
   "source": [
    "from pathlib import Path\n",
    "import matplotlib.pyplot as plt\n",
    "import re\n",
    "import numpy as np"
   ]
  },
  {
   "cell_type": "code",
   "execution_count": 142,
   "id": "7830ffa5-602e-4ffe-95b1-ffe832090048",
   "metadata": {},
   "outputs": [],
   "source": [
    "pattern = 'Sensor at x=(-?\\d+), y=(-?\\d+): closest beacon is at x=(-?\\d+), y=(-?\\d+)'\n",
    "\n",
    "pattern = re.compile(pattern)\n",
    "\n",
    "beacons = [[sx, sy, bx, by, abs(sx-bx) + abs(sy-by)]\n",
    "           for sx, sy, bx, by in [[int(coord) for coord in re.search(pattern, line).groups()] for line in Path('beacons.txt').read_text().split('\\n')]]\n",
    "\n",
    "beacon_locations = [[bx, by] for sx, sy, bx, by, dist in beacons]\n",
    "sensor_locations = [[sx, sy] for sx, sy, bx, by, dist in beacons]"
   ]
  },
  {
   "cell_type": "code",
   "execution_count": 143,
   "id": "597045e3-918c-4548-85bd-a58fc7254ae8",
   "metadata": {},
   "outputs": [
    {
     "name": "stdout",
     "output_type": "stream",
     "text": [
      "5403290\n"
     ]
    }
   ],
   "source": [
    "target_row = 2000000\n",
    "\n",
    "forbidden_xcoords = []\n",
    "\n",
    "for sx, sy, bx, by, dist in beacons:\n",
    "    remaining_dist = dist - abs(target_row - sy)\n",
    "    if remaining_dist < 0:\n",
    "        continue\n",
    "    else:\n",
    "        forbidden_xcoords += [x for x in range(sx-remaining_dist, sx + remaining_dist + 1) if [x, target_row] not in beacon_locations and [x, target_row] not in sensor_locations]\n",
    "        \n",
    "print(len(set(forbidden_xcoords)))"
   ]
  },
  {
   "cell_type": "markdown",
   "id": "1c955014-8949-4809-a398-b97f859d024f",
   "metadata": {},
   "source": [
    "## Part 2: Nothing satisfies but I'm getting close"
   ]
  },
  {
   "cell_type": "code",
   "execution_count": 156,
   "id": "048f18f3-813a-47c9-b4cf-d7269916751d",
   "metadata": {},
   "outputs": [],
   "source": [
    "x_intercepts = np.array([[dist + sx + sy, -dist + sx + sy, dist + sx - sy, -dist + sx - sy] for sx, sy, bx, by, dist in beacons])"
   ]
  },
  {
   "cell_type": "code",
   "execution_count": 264,
   "id": "cb466aea-4f00-45df-866a-088289e0b6ce",
   "metadata": {},
   "outputs": [],
   "source": [
    "x, y = [0, 0]\n",
    "\n",
    "inside = [[sx, sy, dist, dist - abs(sx-x) - abs(sy-y)] for sx, sy, bx, by, dist in beacons if dist - abs(sx-x) - abs(sy-y) >= 0]\n",
    "\n",
    "vx, vy = [1, 1]\n",
    "\n",
    "num_steps = [(dist + sx + sy - x - y)//2 + 1 for sx, sy, bx, by, dist in beacons if dist - abs(sx -x) - abs(sy-y) >= 0]"
   ]
  },
  {
   "cell_type": "code",
   "execution_count": 265,
   "id": "b454deee-6535-48fd-9d18-b34c0a52878a",
   "metadata": {},
   "outputs": [],
   "source": [
    "x, y = [max(num_steps)]*2\n",
    "\n",
    "inside = [[sx, sy, dist, dist - abs(sx-x) - abs(sy-y)] for sx, sy, bx, by, dist in beacons if dist - abs(sx-x) - abs(sy-y) >= 0]\n",
    "\n",
    "vx, vy = [1, -1]\n",
    "vx, vy = [-1, 1]\n",
    "\n",
    "num_steps = [(dist - sx + sy + x - y)//2 + 1 for sx, sy, bx, by, dist in beacons if dist - abs(sx -x) - abs(sy-y) >= 0]"
   ]
  },
  {
   "cell_type": "code",
   "execution_count": 266,
   "id": "a4470e4a-ef30-4b82-a8d5-b32a2088d16e",
   "metadata": {},
   "outputs": [
    {
     "data": {
      "text/plain": [
       "([[1003362, 1946094, 1586508, 643776]], 1312902, 1312902)"
      ]
     },
     "execution_count": 266,
     "metadata": {},
     "output_type": "execute_result"
    }
   ],
   "source": [
    "inside, x, y"
   ]
  },
  {
   "cell_type": "code",
   "execution_count": 267,
   "id": "96e21437-10c1-47e0-8393-492902c72077",
   "metadata": {},
   "outputs": [],
   "source": [
    "x, y = [x - max(num_steps), y + max(num_steps)]\n",
    "\n",
    "inside = [[sx, sy, dist, dist - abs(sx-x) - abs(sy-y)] for sx, sy, bx, by, dist in beacons if dist - abs(sx-x) - abs(sy-y) >= 0]"
   ]
  },
  {
   "cell_type": "code",
   "execution_count": 268,
   "id": "acaf5026-9cad-44f4-9c2f-bcc6da148db8",
   "metadata": {},
   "outputs": [
    {
     "data": {
      "text/plain": [
       "([[600131, 3861189, 1988710, 153194]], 48281, 2577523)"
      ]
     },
     "execution_count": 268,
     "metadata": {},
     "output_type": "execute_result"
    }
   ],
   "source": [
    "inside, x, y"
   ]
  },
  {
   "cell_type": "code",
   "execution_count": null,
   "id": "e54406f1-c0e5-4e37-97fd-9a5a12f6ebef",
   "metadata": {},
   "outputs": [],
   "source": []
  }
 ],
 "metadata": {
  "kernelspec": {
   "display_name": "Python 3 (ipykernel)",
   "language": "python",
   "name": "python3"
  },
  "language_info": {
   "codemirror_mode": {
    "name": "ipython",
    "version": 3
   },
   "file_extension": ".py",
   "mimetype": "text/x-python",
   "name": "python",
   "nbconvert_exporter": "python",
   "pygments_lexer": "ipython3",
   "version": "3.10.4"
  }
 },
 "nbformat": 4,
 "nbformat_minor": 5
}
