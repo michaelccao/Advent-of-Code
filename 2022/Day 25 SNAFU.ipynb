{
 "cells": [
  {
   "cell_type": "markdown",
   "id": "cdff09d5",
   "metadata": {},
   "source": [
    "## There was a bit of a budget SNAFU"
   ]
  },
  {
   "cell_type": "code",
   "execution_count": 81,
   "id": "e27b1f07",
   "metadata": {},
   "outputs": [],
   "source": [
    "from pathlib import Path\n",
    "from math import log"
   ]
  },
  {
   "cell_type": "code",
   "execution_count": 82,
   "id": "d4f50c22",
   "metadata": {},
   "outputs": [],
   "source": [
    "fuels = Path('snafu.txt').read_text().split('\\n')"
   ]
  },
  {
   "cell_type": "code",
   "execution_count": 83,
   "id": "07963e58",
   "metadata": {},
   "outputs": [],
   "source": [
    "num_dict = {'0': 0, '1': 1, '2': 2, '-': -1, '=': -2}\n",
    "snafu_dict = {value:key for key, value in num_dict.items()}\n",
    "\n",
    "def snafu_to_num(snafu, num_dict = num_dict):\n",
    "    total = 0\n",
    "    for i in range(len(snafu)):\n",
    "        total += (5**i)*num_dict[snafu[len(snafu)-1-i]]\n",
    "        \n",
    "    return total"
   ]
  },
  {
   "cell_type": "code",
   "execution_count": 84,
   "id": "593a4b28",
   "metadata": {},
   "outputs": [],
   "source": [
    "def log5(num):\n",
    "    return log(num)/log(5)\n",
    "\n",
    "def num_to_base5(num):\n",
    "    if num < 5:\n",
    "        return num\n",
    "    \n",
    "    place = int(log5(num))\n",
    "    \n",
    "    first_digit = int(num/5**place)\n",
    "    \n",
    "    remainder = num - first_digit*5**place\n",
    "    \n",
    "    return first_digit*10**place + num_to_base5(remainder)"
   ]
  },
  {
   "cell_type": "code",
   "execution_count": 85,
   "id": "08da48e4",
   "metadata": {},
   "outputs": [],
   "source": [
    "# 4*5**n = (5 - 1)*5**n = 5**(n+1) - 1*5**n\n",
    "# 3*5**n = (5 - 2)*5**n = 5**(n+1) - 2*5**n\n",
    "\n",
    "def base5_to_snafu(num, snafu_dict = snafu_dict):\n",
    "    num = str(num)\n",
    "    \n",
    "    digits = [digit for digit in num]\n",
    "    \n",
    "    for i in range(len(digits)-1, -1, -1):\n",
    "        if int(digits[i]) > 2:\n",
    "            digits[i] = str(int(digits[i])-5)\n",
    "            \n",
    "            if i > 0:\n",
    "                digits[i-1] = str(int(digits[i-1]) + 1)\n",
    "            else:\n",
    "                digits.insert(0, '1')\n",
    "                \n",
    "    digits = ''.join([snafu_dict[int(digit)] for digit in digits])\n",
    "    \n",
    "    return digits\n",
    "\n",
    "def num_to_snafu(num, snafu_dict = snafu_dict):\n",
    "    return base5_to_snafu(num_to_base5(num), snafu_dict)"
   ]
  },
  {
   "cell_type": "code",
   "execution_count": 86,
   "id": "96e77452",
   "metadata": {},
   "outputs": [],
   "source": [
    "fuel_nums = [snafu_to_num(num) for num in fuels]"
   ]
  },
  {
   "cell_type": "code",
   "execution_count": 87,
   "id": "1e53204d",
   "metadata": {},
   "outputs": [
    {
     "data": {
      "text/plain": [
       "36251175625102"
      ]
     },
     "execution_count": 87,
     "metadata": {},
     "output_type": "execute_result"
    }
   ],
   "source": [
    "sum(fuel_nums)"
   ]
  },
  {
   "cell_type": "code",
   "execution_count": 88,
   "id": "1e60041c",
   "metadata": {},
   "outputs": [
    {
     "data": {
      "text/plain": [
       "'20===-20-020=0001-02'"
      ]
     },
     "execution_count": 88,
     "metadata": {},
     "output_type": "execute_result"
    }
   ],
   "source": [
    "num_to_snafu(sum(fuel_nums))"
   ]
  },
  {
   "cell_type": "markdown",
   "id": "58d1424d",
   "metadata": {},
   "source": [
    "## And somebody hit self-destruct!"
   ]
  }
 ],
 "metadata": {
  "kernelspec": {
   "display_name": "Python 3 (ipykernel)",
   "language": "python",
   "name": "python3"
  },
  "language_info": {
   "codemirror_mode": {
    "name": "ipython",
    "version": 3
   },
   "file_extension": ".py",
   "mimetype": "text/x-python",
   "name": "python",
   "nbconvert_exporter": "python",
   "pygments_lexer": "ipython3",
   "version": "3.9.7"
  }
 },
 "nbformat": 4,
 "nbformat_minor": 5
}
