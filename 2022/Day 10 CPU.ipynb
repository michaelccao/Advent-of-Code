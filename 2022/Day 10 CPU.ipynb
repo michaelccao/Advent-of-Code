{
 "cells": [
  {
   "cell_type": "markdown",
   "id": "93066906",
   "metadata": {},
   "source": [
    "## This was a triumph"
   ]
  },
  {
   "cell_type": "code",
   "execution_count": 2,
   "id": "0e570092",
   "metadata": {},
   "outputs": [],
   "source": [
    "import numpy as np\n",
    "from pathlib import Path"
   ]
  },
  {
   "cell_type": "code",
   "execution_count": 3,
   "id": "aee458e3",
   "metadata": {},
   "outputs": [],
   "source": [
    "cpu_instructions = Path('cpu_instructions.txt').read_text().split('\\n')"
   ]
  },
  {
   "cell_type": "code",
   "execution_count": 27,
   "id": "201f08fa",
   "metadata": {},
   "outputs": [
    {
     "data": {
      "text/plain": [
       "12560"
      ]
     },
     "execution_count": 27,
     "metadata": {},
     "output_type": "execute_result"
    }
   ],
   "source": [
    "x_values = [1]\n",
    "\n",
    "for i in range(len(cpu_instructions)):\n",
    "    instruction = cpu_instructions[i]\n",
    "    \n",
    "    current_x = x_values[-1]\n",
    "    \n",
    "    if instruction.startswith('noop'):\n",
    "        x_values += [current_x]\n",
    "    \n",
    "    else:\n",
    "        add_value = int(instruction.split(' ')[-1])\n",
    "        x_values += [current_x, current_x + add_value]\n",
    "        \n",
    "cycles = len(x_values)\n",
    "\n",
    "sum([x*cycle for x, cycle in zip(x_values[19::40], range(20, cycles+1, 40))])"
   ]
  },
  {
   "cell_type": "markdown",
   "id": "c0f04a0e",
   "metadata": {},
   "source": [
    "## Part 2"
   ]
  },
  {
   "cell_type": "code",
   "execution_count": 33,
   "id": "31f1690f",
   "metadata": {},
   "outputs": [],
   "source": [
    "output = ''\n",
    "for i in range(cycles-1):\n",
    "    \n",
    "    pixel = i % 40\n",
    "    \n",
    "    if pixel == 0 and i > 0:\n",
    "        output += '\\n'\n",
    "    \n",
    "    if np.abs(x_values[i] - pixel) <= 1:\n",
    "        output += '#'\n",
    "    else:\n",
    "        output += '.'"
   ]
  },
  {
   "cell_type": "code",
   "execution_count": 35,
   "id": "02dec000",
   "metadata": {},
   "outputs": [
    {
     "name": "stdout",
     "output_type": "stream",
     "text": [
      "###..#....###...##..####.###...##..#....\n",
      "#..#.#....#..#.#..#.#....#..#.#..#.#....\n",
      "#..#.#....#..#.#..#.###..###..#....#....\n",
      "###..#....###..####.#....#..#.#....#....\n",
      "#....#....#....#..#.#....#..#.#..#.#....\n",
      "#....####.#....#..#.#....###...##..####.\n"
     ]
    }
   ],
   "source": [
    "print(output)"
   ]
  },
  {
   "cell_type": "markdown",
   "id": "6570f4b5",
   "metadata": {},
   "source": [
    "## I'm making a note here: Huge Success"
   ]
  }
 ],
 "metadata": {
  "kernelspec": {
   "display_name": "Python 3 (ipykernel)",
   "language": "python",
   "name": "python3"
  },
  "language_info": {
   "codemirror_mode": {
    "name": "ipython",
    "version": 3
   },
   "file_extension": ".py",
   "mimetype": "text/x-python",
   "name": "python",
   "nbconvert_exporter": "python",
   "pygments_lexer": "ipython3",
   "version": "3.7.1"
  }
 },
 "nbformat": 4,
 "nbformat_minor": 5
}
