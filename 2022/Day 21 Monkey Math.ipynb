{
 "cells": [
  {
   "cell_type": "markdown",
   "id": "712a9a56-6b39-4989-92b5-d2596188d59b",
   "metadata": {},
   "source": [
    "## I'd rather leave than suffer this"
   ]
  },
  {
   "cell_type": "code",
   "execution_count": 1,
   "id": "267b484c-2e42-40f2-ae79-34b09ae755ce",
   "metadata": {},
   "outputs": [],
   "source": [
    "from pathlib import Path"
   ]
  },
  {
   "cell_type": "code",
   "execution_count": 76,
   "id": "f61ab9a3-d7a6-408d-81e6-14233ccb9056",
   "metadata": {},
   "outputs": [],
   "source": [
    "monkeys = Path('monkey_math.txt').read_text().split('\\n')\n",
    "monkeys = {monkey: rule for monkey, rule in [line.split(': ') for line in monkeys]}"
   ]
  },
  {
   "cell_type": "code",
   "execution_count": 103,
   "id": "117f311b-e15b-422e-897e-5d08d4a26022",
   "metadata": {},
   "outputs": [],
   "source": [
    "def evaluate(monkey, rules = monkeys):\n",
    "    if rules[monkey].isnumeric():\n",
    "        return int(rules[monkey])\n",
    "    else:\n",
    "        m1, op, m2 = rules[monkey].split(' ')\n",
    "        \n",
    "        if op == '+':\n",
    "            return evaluate(m1, rules) + evaluate(m2, rules)\n",
    "        elif op == '-':\n",
    "            return evaluate(m1, rules) - evaluate(m2, rules)\n",
    "        elif op == '*':\n",
    "            return evaluate(m1, rules) * evaluate(m2, rules)\n",
    "        elif op == '/':\n",
    "            return evaluate(m1, rules) / evaluate(m2, rules)"
   ]
  },
  {
   "cell_type": "code",
   "execution_count": 20,
   "id": "d127d2c4-a78a-4c4f-b35a-69d6f773cc02",
   "metadata": {},
   "outputs": [
    {
     "data": {
      "text/plain": [
       "38731621732448.0"
      ]
     },
     "execution_count": 20,
     "metadata": {},
     "output_type": "execute_result"
    }
   ],
   "source": [
    "evaluate('root', monkeys)"
   ]
  },
  {
   "cell_type": "markdown",
   "id": "f11393cc-344a-44cb-af0c-469e56aaa714",
   "metadata": {},
   "source": [
    "## Part 2: I'll never be your monkey wrench"
   ]
  },
  {
   "cell_type": "code",
   "execution_count": 198,
   "id": "879f0018-afe1-415f-9d00-1168fb2312c0",
   "metadata": {},
   "outputs": [],
   "source": [
    "# Always return a, b, c to represent a + b*humn**c\n",
    "\n",
    "def evaluate(monkey, rules = monkeys, humn = 3502):\n",
    "    if monkey == 'humn':\n",
    "        return 0, 1, 1\n",
    "    \n",
    "    if rules[monkey].isnumeric():\n",
    "        return int(rules[monkey]), 0, 1\n",
    "    else:\n",
    "        m1, op, m2 = rules[monkey].split(' ')\n",
    "        a, b, c = evaluate(m1, rules, humn)\n",
    "        a2, b2, c2 = evaluate(m2, rules, humn)\n",
    "        \n",
    "        if monkey == 'root':\n",
    "            return evaluate(m1, rules, humn), evaluate(m2, rules, humn)\n",
    "        \n",
    "        if op == '+':\n",
    "            if b != 0:\n",
    "                return a + a2, b, c\n",
    "            elif b2 != 0:\n",
    "                return a + a2, b2, c2\n",
    "            else:\n",
    "                return a + a2, 0, 1\n",
    "            \n",
    "        elif op == '-':\n",
    "            if b != 0:\n",
    "                return a - a2, b, c\n",
    "            elif b2 != 0:\n",
    "                return a - a2, -b2, c2\n",
    "            else:\n",
    "                return a - a2, 0, 1\n",
    "            \n",
    "        elif op == '*':\n",
    "            if b != 0:\n",
    "                return a*a2, a2*b, c\n",
    "            elif b2 != 0:\n",
    "                return a*a2, a*b2, c2\n",
    "            else:\n",
    "                return a*a2, 0, 1\n",
    "            \n",
    "        elif op == '/':\n",
    "            if b != 0:\n",
    "                return a/a2, b/a2, c\n",
    "            elif b2 != 0:\n",
    "                print('whelp')\n",
    "                return 'whelp'\n",
    "            else:\n",
    "                return a/a2, 0, 1"
   ]
  },
  {
   "cell_type": "code",
   "execution_count": 200,
   "id": "5d974db0-5684-4524-81e3-82944d975ab5",
   "metadata": {},
   "outputs": [],
   "source": [
    "((a, b, c), (d, e, f)) = evaluate('root', monkeys)"
   ]
  },
  {
   "cell_type": "code",
   "execution_count": 201,
   "id": "7c67598b-aa19-451c-92c9-78944d8e2795",
   "metadata": {},
   "outputs": [
    {
     "data": {
      "text/plain": [
       "(36502853210309.83, -8.906289046230738, 1, 2228768553328.0, 0, 1)"
      ]
     },
     "execution_count": 201,
     "metadata": {},
     "output_type": "execute_result"
    }
   ],
   "source": [
    "a, b, c, d, e, f"
   ]
  },
  {
   "cell_type": "code",
   "execution_count": 203,
   "id": "1cb3b1a3-027f-401d-937d-8b0380122370",
   "metadata": {},
   "outputs": [
    {
     "name": "stdout",
     "output_type": "stream",
     "text": [
      "3848301405790.0005\n"
     ]
    }
   ],
   "source": [
    "human = (d - a)/b\n",
    "print(human)"
   ]
  }
 ],
 "metadata": {
  "kernelspec": {
   "display_name": "Python 3 (ipykernel)",
   "language": "python",
   "name": "python3"
  },
  "language_info": {
   "codemirror_mode": {
    "name": "ipython",
    "version": 3
   },
   "file_extension": ".py",
   "mimetype": "text/x-python",
   "name": "python",
   "nbconvert_exporter": "python",
   "pygments_lexer": "ipython3",
   "version": "3.10.4"
  }
 },
 "nbformat": 4,
 "nbformat_minor": 5
}
