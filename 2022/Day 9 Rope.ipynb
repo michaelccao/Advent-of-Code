{
 "cells": [
  {
   "cell_type": "markdown",
   "id": "5394f3ef-7f8a-414b-a815-d5a406bd2709",
   "metadata": {},
   "source": [
    "# Give me some rope, I'm coming loose"
   ]
  },
  {
   "cell_type": "code",
   "execution_count": 1,
   "id": "ab2772aa-417b-48bb-903d-a641322e4629",
   "metadata": {},
   "outputs": [],
   "source": [
    "import numpy as np\n",
    "from pathlib import Path"
   ]
  },
  {
   "cell_type": "code",
   "execution_count": 2,
   "id": "b049afad-ccd0-4a9c-8269-59fcc1813b80",
   "metadata": {},
   "outputs": [],
   "source": [
    "movements = Path('rope_head_moves.txt').read_text().split('\\n')"
   ]
  },
  {
   "cell_type": "code",
   "execution_count": 90,
   "id": "e9909187-df7e-4762-b8d9-863a633f4db4",
   "metadata": {},
   "outputs": [],
   "source": [
    "velocities = {'R': [1, 0], 'L': [-1, 0], 'U': [0, 1], 'D': [0, -1]}"
   ]
  },
  {
   "cell_type": "code",
   "execution_count": 117,
   "id": "fa8f8701-f61c-420e-85b0-96a302b38536",
   "metadata": {},
   "outputs": [
    {
     "name": "stdout",
     "output_type": "stream",
     "text": [
      "6057\n"
     ]
    }
   ],
   "source": [
    "head_coords = np.array([0, 0])\n",
    "tail_coords = np.array([0, 0])\n",
    "\n",
    "tail_locations = [[0, 0]]\n",
    "\n",
    "for movement in movements:\n",
    "    direction, steps = movement.split(' ')\n",
    "    steps = int(steps)\n",
    "    head_v = velocities[direction]\n",
    "    \n",
    "    for i in range(steps):\n",
    "        head_coords += head_v\n",
    "        \n",
    "        diff = head_coords - tail_coords\n",
    "        distance = np.hypot(*diff)\n",
    "        \n",
    "        if distance > np.sqrt(2):\n",
    "            \n",
    "            tail_v = np.where(diff > 0, 1, -1) * np.where(diff == 0, 0, 1)\n",
    "            \n",
    "            tail_coords += tail_v\n",
    "            if list(tail_coords) not in tail_locations:\n",
    "                tail_locations += [list(tail_coords)]\n",
    "                \n",
    "print(len(tail_locations))"
   ]
  },
  {
   "cell_type": "markdown",
   "id": "9bab081d-db43-44f5-b35d-9557eeb07080",
   "metadata": {},
   "source": [
    "## Part 2"
   ]
  },
  {
   "cell_type": "code",
   "execution_count": 116,
   "id": "62ada128-6768-412b-8c1b-adf3a278af92",
   "metadata": {},
   "outputs": [
    {
     "name": "stdout",
     "output_type": "stream",
     "text": [
      "2514\n"
     ]
    }
   ],
   "source": [
    "knot_coords = {i: np.array([0, 0]) for i in range(10)}\n",
    "tail_locations = [[0, 0]]\n",
    "\n",
    "for movement in movements:\n",
    "    direction, steps = movement.split(' ')\n",
    "    steps = int(steps)\n",
    "    head_v = velocities[direction]\n",
    "    \n",
    "    for i in range(steps):\n",
    "        for j in range(10):\n",
    "            if j == 0:\n",
    "                knot_coords[j] += head_v\n",
    "            else:\n",
    "                diff = knot_coords[j-1] - knot_coords[j]\n",
    "                distance = np.hypot(*diff)\n",
    "                \n",
    "                if distance > np.sqrt(2):\n",
    "                    \n",
    "                    knot_v = np.where(diff > 0, 1, -1) * np.where(diff == 0, 0, 1)\n",
    "                    \n",
    "                    knot_coords[j] += knot_v\n",
    "                    \n",
    "                    if j == 9 and list(knot_coords[j]) not in tail_locations:\n",
    "                        tail_locations += [list(knot_coords[j])]\n",
    "                        \n",
    "print(len(tail_locations))\n",
    "                "
   ]
  }
 ],
 "metadata": {
  "kernelspec": {
   "display_name": "Python 3 (ipykernel)",
   "language": "python",
   "name": "python3"
  },
  "language_info": {
   "codemirror_mode": {
    "name": "ipython",
    "version": 3
   },
   "file_extension": ".py",
   "mimetype": "text/x-python",
   "name": "python",
   "nbconvert_exporter": "python",
   "pygments_lexer": "ipython3",
   "version": "3.10.4"
  }
 },
 "nbformat": 4,
 "nbformat_minor": 5
}
