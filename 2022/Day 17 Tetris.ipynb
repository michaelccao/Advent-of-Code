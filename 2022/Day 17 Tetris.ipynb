{
 "cells": [
  {
   "cell_type": "markdown",
   "id": "5aa02cff",
   "metadata": {},
   "source": [
    "## I am the man who arranges the blocks"
   ]
  },
  {
   "cell_type": "code",
   "execution_count": 175,
   "id": "3d120a70",
   "metadata": {},
   "outputs": [],
   "source": [
    "import numpy as np\n",
    "from pathlib import Path\n",
    "import matplotlib.pyplot as plt\n",
    "\n",
    "import sys"
   ]
  },
  {
   "cell_type": "code",
   "execution_count": 498,
   "id": "25840f02",
   "metadata": {},
   "outputs": [],
   "source": [
    "jets = [1 if jet == '>' else -1 for jet in Path('tetris_test.txt').read_text()]\n",
    "\n",
    "rock_types = ['horizontal', 'cross', 'backl', 'vertical', 'square']\n",
    "\n",
    "shaft_width = 7\n",
    "\n",
    "num_types = len(rock_types)\n",
    "\n",
    "num_jets = len(jets)"
   ]
  },
  {
   "cell_type": "code",
   "execution_count": 499,
   "id": "5f25f33a",
   "metadata": {},
   "outputs": [],
   "source": [
    "# Worst case scenario of rock height is +1, +3, +3, +4, +2 and then cycling\n",
    "\n",
    "def calculate_max_height(num_rocks):\n",
    "    heights = [1, 3, 3, 4, 2]\n",
    "    \n",
    "    rock_types = len(heights)\n",
    "    \n",
    "    total_height = 0\n",
    "    \n",
    "    total_height += (num_rocks // rock_types)*sum(heights)\n",
    "    \n",
    "    for i in range(num_rocks % rock_types):\n",
    "        total_height += heights[i]\n",
    "        \n",
    "    return total_height"
   ]
  },
  {
   "cell_type": "code",
   "execution_count": 500,
   "id": "2bf72a4f",
   "metadata": {},
   "outputs": [],
   "source": [
    "def find_max_rock_height(shaft):\n",
    "    max_y = np.where(shaft == 1)[0]\n",
    "    if len(max_y) == 0:\n",
    "        return 0\n",
    "    else:\n",
    "        return np.max(max_y)"
   ]
  },
  {
   "cell_type": "code",
   "execution_count": 501,
   "id": "1c9180df",
   "metadata": {},
   "outputs": [],
   "source": [
    "# ####\n",
    "\n",
    "# .#.\n",
    "# ###\n",
    "# .#.\n",
    "\n",
    "# ..#\n",
    "# ..#\n",
    "# ###\n",
    "\n",
    "# #\n",
    "# #\n",
    "# #\n",
    "# #\n",
    "\n",
    "# ##\n",
    "# ##\n",
    "\n",
    "class rock():\n",
    "    \n",
    "    # y coordinate of rock is lowest of rock y-coordinates\n",
    "    # x coordinate of rock is left most coordinate at lowest rock y-coordinate\n",
    "    def __init__(self, shape, coordinate):\n",
    "        self.coordinate = coordinate\n",
    "        self.shape = shape\n",
    "        \n",
    "        self.rock_coordinates = self.generate_coordinates(self.coordinate)\n",
    "        \n",
    "    def generate_coordinates(self, coordinate):\n",
    "        \n",
    "        shape = self.shape\n",
    "        \n",
    "        y, x = coordinate\n",
    "        \n",
    "        if shape == 'horizontal':\n",
    "            rock_coordinates = [[y, x], [y, x+1], [y, x+2], [y, x+3]]\n",
    "        elif shape == 'cross':\n",
    "            rock_coordinates = [[y, x], [y+1, x-1], [y+1, x], [y+1, x+1], [y+2, x]]\n",
    "        elif shape == 'backl':\n",
    "            rock_coordinates = [[y, x], [y, x+1], [y, x+2], [y+1, x+2], [y+2, x+2]]\n",
    "        elif shape == 'vertical':\n",
    "            rock_coordinates = [[y, x], [y+1, x], [y+2, x], [y+3, x]]\n",
    "        elif shape == 'square':\n",
    "            rock_coordinates = [[y, x], [y, x+1], [y+1, x], [y+1, x+1]]\n",
    "            \n",
    "        return rock_coordinates\n",
    "            \n",
    "    def move(self, direction, shaft):\n",
    "        \n",
    "        y0, x0 = self.coordinate\n",
    "        \n",
    "        vy, vx = direction\n",
    "        \n",
    "        y1, x1 = [y0 + vy, x0 + vx]\n",
    "        \n",
    "        new_coords = self.generate_coordinates([y1, x1])\n",
    "        \n",
    "        if check_collision(new_coords, shaft) == False:\n",
    "            self.coordinate = [y1, x1]\n",
    "            self.rock_coordinates = self.generate_coordinates(self.coordinate)\n",
    "            \n",
    "            return True\n",
    "        \n",
    "        else:\n",
    "            return False\n",
    "        \n",
    "def check_collision(coords, shaft):\n",
    "    height, width = shaft.shape\n",
    "    \n",
    "    y_coords = np.array([coord[0] for coord in coords])\n",
    "    x_coords = np.array([coord[1] for coord in coords])\n",
    "    \n",
    "    # Check if within bounds\n",
    "    if np.all(y_coords >= 1) and np.all(y_coords < height) and np.all(x_coords >= 0) and np.all(x_coords < width):\n",
    "        # Check for collision\n",
    "        return np.any(np.array([shaft[tuple(coord)] for coord in coords]) == 1)\n",
    "    \n",
    "    else:\n",
    "        return True"
   ]
  },
  {
   "cell_type": "code",
   "execution_count": 502,
   "id": "4ac168b4",
   "metadata": {},
   "outputs": [],
   "source": [
    "def spawn_rock(shape, height):\n",
    "    if shape in ['horizontal', 'backl', 'vertical', 'square']:\n",
    "        return rock(shape, [height, 2])\n",
    "    elif shape == 'cross':\n",
    "        return rock(shape, [height, 3])"
   ]
  },
  {
   "cell_type": "code",
   "execution_count": 503,
   "id": "fc3c119c",
   "metadata": {},
   "outputs": [],
   "source": [
    "def add_rock(shaft, rock):\n",
    "    for coord in rock.rock_coordinates:\n",
    "        shaft[tuple(coord)] = 1\n",
    "        \n",
    "    return shaft"
   ]
  },
  {
   "cell_type": "code",
   "execution_count": 533,
   "id": "03109a35",
   "metadata": {},
   "outputs": [
    {
     "name": "stdout",
     "output_type": "stream",
     "text": [
      "8 3\n",
      "14 4\n",
      "22 2\n",
      "29 4\n",
      "36 1\n",
      "43 3\n",
      "49 4\n",
      "57 2\n",
      "64 4\n",
      "71 1\n",
      "78 3\n",
      "84 4\n",
      "92 2\n",
      "99 4\n",
      "106 1\n",
      "113 3\n",
      "119 4\n",
      "127 2\n",
      "134 4\n",
      "141 1\n",
      "148 3\n",
      "154 4\n",
      "162 2\n",
      "169 4\n",
      "176 1\n",
      "183 3\n",
      "189 4\n",
      "197 2\n",
      "204 4\n",
      "325\n"
     ]
    }
   ],
   "source": [
    "num_rocks = 210\n",
    "\n",
    "shaft_width = 7\n",
    "\n",
    "shaft = np.zeros((calculate_max_height(num_rocks)+8, shaft_width))\n",
    "\n",
    "rock_types = ['horizontal', 'cross', 'backl', 'vertical', 'square']\n",
    "\n",
    "num_types = len(rock_types)\n",
    "\n",
    "num_jets = len(jets)\n",
    "\n",
    "jet_counter = 0\n",
    "\n",
    "for i in range(num_rocks):\n",
    "    current_rock_type = rock_types[i % num_types]\n",
    "    \n",
    "    current_max_height = find_max_rock_height(shaft)\n",
    "    \n",
    "    current_rock = spawn_rock(current_rock_type, current_max_height + 4)\n",
    "    \n",
    "    current_rock_moving = True\n",
    "    \n",
    "    while current_rock_moving:\n",
    "        current_rock.move([0, jets[jet_counter % num_jets]], shaft)\n",
    "        jet_counter += 1\n",
    "        jet_counter %= num_jets\n",
    "        \n",
    "        if jet_counter == 0:\n",
    "            print(i, i % 5)\n",
    "        \n",
    "        fall = current_rock.move([-1, 0], shaft)\n",
    "        \n",
    "        if not fall:\n",
    "            current_rock_moving = False\n",
    "            \n",
    "    shaft = add_rock(shaft, current_rock)\n",
    "    \n",
    "print(find_max_rock_height(shaft))"
   ]
  },
  {
   "cell_type": "code",
   "execution_count": 525,
   "id": "717c8f04",
   "metadata": {},
   "outputs": [
    {
     "data": {
      "text/plain": [
       "194"
      ]
     },
     "execution_count": 525,
     "metadata": {},
     "output_type": "execute_result"
    }
   ],
   "source": [
    "jet_counter"
   ]
  },
  {
   "cell_type": "code",
   "execution_count": 526,
   "id": "d518221a",
   "metadata": {},
   "outputs": [
    {
     "data": {
      "text/plain": [
       "<matplotlib.image.AxesImage at 0x1d17dcc4550>"
      ]
     },
     "execution_count": 526,
     "metadata": {},
     "output_type": "execute_result"
    },
    {
     "data": {
      "image/png": "[encoded data removed]",
      "text/plain": [
       "<Figure size 720x2880 with 1 Axes>"
      ]
     },
     "metadata": {
      "needs_background": "light"
     },
     "output_type": "display_data"
    }
   ],
   "source": [
    "plt.figure(figsize = (10, 40))\n",
    "plt.imshow(shaft[0:62], aspect = 'auto', origin = 'lower', interpolation = 'none')"
   ]
  },
  {
   "cell_type": "markdown",
   "id": "18e5c260",
   "metadata": {},
   "source": [
    "## Part 2: Pointless work for pointless pay\n",
    "## This is one game I shall not play"
   ]
  },
  {
   "cell_type": "code",
   "execution_count": 448,
   "id": "344ae75a",
   "metadata": {},
   "outputs": [],
   "source": [
    "def build_til_blockade(start_rock, start_jet, shaft):\n",
    "    \n",
    "    shaft = np.copy(shaft)\n",
    "    \n",
    "    rock_counter = 0\n",
    "    jet_counter = start_jet\n",
    "    \n",
    "    blocking_heights = [i for i in range(0, find_max_rock_height(shaft)) if np.all(shaft[i] == 1)]\n",
    "    \n",
    "    while len(blocking_heights) == 0:   \n",
    "        \n",
    "        current_rock_type = rock_types[(start_rock + rock_counter) % num_types]\n",
    "\n",
    "        current_max_height = find_max_rock_height(shaft)\n",
    "\n",
    "        current_rock = spawn_rock(current_rock_type, current_max_height + 4)\n",
    "\n",
    "        current_rock_moving = True\n",
    "\n",
    "        while current_rock_moving:\n",
    "            current_rock.move([0, jets[jet_counter % num_jets]], shaft)\n",
    "            jet_counter += 1\n",
    "            jet_counter %= num_jets\n",
    "\n",
    "            fall = current_rock.move([-1, 0], shaft)\n",
    "\n",
    "            if not fall:\n",
    "                current_rock_moving = False\n",
    "\n",
    "        shaft = add_rock(shaft, current_rock)\n",
    "        \n",
    "        rock_counter += 1\n",
    "\n",
    "        blocking_heights = [i for i in range(0, find_max_rock_height(shaft)) if np.all(shaft[i] == 1)]\n",
    "        \n",
    "    shaft_height = find_max_rock_height(shaft)\n",
    "    \n",
    "    return shaft[0:shaft_height+1], rock_counter, jet_counter\n",
    "\n",
    "def build(start_rock, start_jet, rocks, shaft):\n",
    "    \n",
    "    shaft = np.copy(shaft)\n",
    "    \n",
    "    rock_counter = 0\n",
    "    jet_counter = start_jet\n",
    "    \n",
    "    blocking_heights = [i for i in range(0, find_max_rock_height(shaft)) if np.all(shaft[i] == 1)]\n",
    "    \n",
    "    for i in range(start_rock, start_rock+rocks):   \n",
    "        \n",
    "        current_rock_type = rock_types[i % num_types]\n",
    "\n",
    "        current_max_height = find_max_rock_height(shaft)\n",
    "\n",
    "        current_rock = spawn_rock(current_rock_type, current_max_height + 4)\n",
    "\n",
    "        current_rock_moving = True\n",
    "\n",
    "        while current_rock_moving:\n",
    "            current_rock.move([0, jets[jet_counter % num_jets]], shaft)\n",
    "            jet_counter += 1\n",
    "            jet_counter %= num_jets\n",
    "\n",
    "            fall = current_rock.move([-1, 0], shaft)\n",
    "\n",
    "            if not fall:\n",
    "                current_rock_moving = False\n",
    "\n",
    "        shaft = add_rock(shaft, current_rock)\n",
    "        \n",
    "        rock_counter += 1\n",
    "        \n",
    "    return shaft\n",
    "        \n",
    "    "
   ]
  },
  {
   "cell_type": "code",
   "execution_count": 491,
   "id": "735766a3",
   "metadata": {},
   "outputs": [
    {
     "name": "stdout",
     "output_type": "stream",
     "text": [
      "202131\n",
      "\n",
      "318011\n"
     ]
    }
   ],
   "source": [
    "rock_counter = 0\n",
    "\n",
    "jet_counter = 0\n",
    "\n",
    "buffer_height = 1000\n",
    "\n",
    "empty_shaft = np.zeros((buffer_height, shaft_width))\n",
    "\n",
    "shaft = np.copy(empty_shaft)\n",
    "\n",
    "num_rocks = 202200\n",
    "\n",
    "offset = 0\n",
    "\n",
    "# while rock_counter < num_rocks:\n",
    "\n",
    "while rock_counter < num_rocks:\n",
    "    sys.stdout.write(f'\\r{rock_counter}')\n",
    "    \n",
    "    blockade, rocks_added, moves = build_til_blockade(rock_counter, jet_counter, shaft)\n",
    "    \n",
    "    if rock_counter % 5 == 0 and jet_counter == 0 and rock_counter > 0:\n",
    "        print(rock_counter)\n",
    "        break\n",
    "    \n",
    "    if rock_counter + rocks_added > num_rocks:\n",
    "        break\n",
    "    \n",
    "    blocking_height = max([i for i in range(blockade.shape[0]) if np.all(blockade[i] == 1)])\n",
    "    \n",
    "    offset += blocking_height\n",
    "    rock_counter += rocks_added\n",
    "    \n",
    "    jet_counter += moves\n",
    "    \n",
    "    \n",
    "    above = blockade[blocking_height+1:]\n",
    "    \n",
    "    shaft = np.copy(empty_shaft)\n",
    "    shaft[1:1+above.shape[0]] = above\n",
    "\n",
    "final_shaft = build(rock_counter, jet_counter, num_rocks - rock_counter, shaft)\n",
    "\n",
    "print('\\n')\n",
    "print(offset + find_max_rock_height(final_shaft))"
   ]
  },
  {
   "cell_type": "code",
   "execution_count": 492,
   "id": "4e4945e7",
   "metadata": {},
   "outputs": [
    {
     "data": {
      "text/plain": [
       "69"
      ]
     },
     "execution_count": 492,
     "metadata": {},
     "output_type": "execute_result"
    }
   ],
   "source": []
  }
 ],
 "metadata": {
  "kernelspec": {
   "display_name": "Python 3 (ipykernel)",
   "language": "python",
   "name": "python3"
  },
  "language_info": {
   "codemirror_mode": {
    "name": "ipython",
    "version": 3
   },
   "file_extension": ".py",
   "mimetype": "text/x-python",
   "name": "python",
   "nbconvert_exporter": "python",
   "pygments_lexer": "ipython3",
   "version": "3.7.1"
  }
 },
 "nbformat": 4,
 "nbformat_minor": 5
}
