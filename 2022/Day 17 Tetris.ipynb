{
 "cells": [
  {
   "cell_type": "markdown",
   "id": "5aa02cff",
   "metadata": {},
   "source": [
    "## I am the man who arranges the blocks"
   ]
  },
  {
   "cell_type": "code",
   "execution_count": 1,
   "id": "3d120a70",
   "metadata": {},
   "outputs": [],
   "source": [
    "import numpy as np\n",
    "from pathlib import Path\n",
    "import matplotlib.pyplot as plt\n",
    "\n",
    "import sys"
   ]
  },
  {
   "cell_type": "code",
   "execution_count": 2,
   "id": "25840f02",
   "metadata": {},
   "outputs": [],
   "source": [
    "jets = [1 if jet == '>' else -1 for jet in Path('tetris.txt').read_text()]\n",
    "\n",
    "rock_types = ['horizontal', 'cross', 'backl', 'vertical', 'square']\n",
    "\n",
    "shaft_width = 7\n",
    "\n",
    "num_types = len(rock_types)\n",
    "\n",
    "num_jets = len(jets)"
   ]
  },
  {
   "cell_type": "code",
   "execution_count": 3,
   "id": "5f25f33a",
   "metadata": {},
   "outputs": [],
   "source": [
    "# Worst case scenario of rock height is +1, +3, +3, +4, +2 and then cycling\n",
    "\n",
    "def calculate_max_height(num_rocks):\n",
    "    heights = [1, 3, 3, 4, 2]\n",
    "    \n",
    "    rock_types = len(heights)\n",
    "    \n",
    "    total_height = 0\n",
    "    \n",
    "    total_height += (num_rocks // rock_types)*sum(heights)\n",
    "    \n",
    "    for i in range(num_rocks % rock_types):\n",
    "        total_height += heights[i]\n",
    "        \n",
    "    return total_height"
   ]
  },
  {
   "cell_type": "code",
   "execution_count": 4,
   "id": "2bf72a4f",
   "metadata": {},
   "outputs": [],
   "source": [
    "def find_max_rock_height(shaft):\n",
    "    max_y = np.where(shaft == 1)[0]\n",
    "    if len(max_y) == 0:\n",
    "        return 0\n",
    "    else:\n",
    "        return np.max(max_y)"
   ]
  },
  {
   "cell_type": "code",
   "execution_count": 5,
   "id": "1c9180df",
   "metadata": {},
   "outputs": [],
   "source": [
    "# ####\n",
    "\n",
    "# .#.\n",
    "# ###\n",
    "# .#.\n",
    "\n",
    "# ..#\n",
    "# ..#\n",
    "# ###\n",
    "\n",
    "# #\n",
    "# #\n",
    "# #\n",
    "# #\n",
    "\n",
    "# ##\n",
    "# ##\n",
    "\n",
    "class rock():\n",
    "    \n",
    "    # y coordinate of rock is lowest of rock y-coordinates\n",
    "    # x coordinate of rock is left most coordinate at lowest rock y-coordinate\n",
    "    def __init__(self, shape, coordinate):\n",
    "        self.coordinate = coordinate\n",
    "        self.shape = shape\n",
    "        \n",
    "        self.rock_coordinates = self.generate_coordinates(self.coordinate)\n",
    "        \n",
    "    def generate_coordinates(self, coordinate):\n",
    "        \n",
    "        shape = self.shape\n",
    "        \n",
    "        y, x = coordinate\n",
    "        \n",
    "        if shape == 'horizontal':\n",
    "            rock_coordinates = [[y, x], [y, x+1], [y, x+2], [y, x+3]]\n",
    "        elif shape == 'cross':\n",
    "            rock_coordinates = [[y, x], [y+1, x-1], [y+1, x], [y+1, x+1], [y+2, x]]\n",
    "        elif shape == 'backl':\n",
    "            rock_coordinates = [[y, x], [y, x+1], [y, x+2], [y+1, x+2], [y+2, x+2]]\n",
    "        elif shape == 'vertical':\n",
    "            rock_coordinates = [[y, x], [y+1, x], [y+2, x], [y+3, x]]\n",
    "        elif shape == 'square':\n",
    "            rock_coordinates = [[y, x], [y, x+1], [y+1, x], [y+1, x+1]]\n",
    "            \n",
    "        return rock_coordinates\n",
    "            \n",
    "    def move(self, direction, shaft):\n",
    "        \n",
    "        y0, x0 = self.coordinate\n",
    "        \n",
    "        vy, vx = direction\n",
    "        \n",
    "        y1, x1 = [y0 + vy, x0 + vx]\n",
    "        \n",
    "        new_coords = self.generate_coordinates([y1, x1])\n",
    "        \n",
    "        if check_collision(new_coords, shaft) == False:\n",
    "            self.coordinate = [y1, x1]\n",
    "            self.rock_coordinates = self.generate_coordinates(self.coordinate)\n",
    "            \n",
    "            return True\n",
    "        \n",
    "        else:\n",
    "            return False\n",
    "        \n",
    "def check_collision(coords, shaft):\n",
    "    height, width = shaft.shape\n",
    "    \n",
    "    y_coords = np.array([coord[0] for coord in coords])\n",
    "    x_coords = np.array([coord[1] for coord in coords])\n",
    "    \n",
    "    # Check if within bounds\n",
    "    if np.all(y_coords >= 1) and np.all(y_coords < height) and np.all(x_coords >= 0) and np.all(x_coords < width):\n",
    "        # Check for collision\n",
    "        return np.any(np.array([shaft[tuple(coord)] for coord in coords]) == 1)\n",
    "    \n",
    "    else:\n",
    "        return True"
   ]
  },
  {
   "cell_type": "code",
   "execution_count": 6,
   "id": "4ac168b4",
   "metadata": {},
   "outputs": [],
   "source": [
    "def spawn_rock(shape, height):\n",
    "    if shape in ['horizontal', 'backl', 'vertical', 'square']:\n",
    "        return rock(shape, [height, 2])\n",
    "    elif shape == 'cross':\n",
    "        return rock(shape, [height, 3])"
   ]
  },
  {
   "cell_type": "code",
   "execution_count": 7,
   "id": "fc3c119c",
   "metadata": {},
   "outputs": [],
   "source": [
    "def add_rock(shaft, rock):\n",
    "    for coord in rock.rock_coordinates:\n",
    "        shaft[tuple(coord)] = 1\n",
    "        \n",
    "    return shaft"
   ]
  },
  {
   "cell_type": "code",
   "execution_count": 35,
   "id": "03109a35",
   "metadata": {},
   "outputs": [
    {
     "name": "stdout",
     "output_type": "stream",
     "text": [
      "3184\n"
     ]
    }
   ],
   "source": [
    "num_rocks = 2022\n",
    "\n",
    "shaft_width = 7\n",
    "\n",
    "shaft = np.zeros((calculate_max_height(num_rocks)+8, shaft_width))\n",
    "\n",
    "rock_types = ['horizontal', 'cross', 'backl', 'vertical', 'square']\n",
    "\n",
    "num_types = len(rock_types)\n",
    "\n",
    "num_jets = len(jets)\n",
    "\n",
    "jet_counter = 0\n",
    "\n",
    "for i in range(num_rocks):\n",
    "    current_rock_type = rock_types[i % num_types]\n",
    "    \n",
    "    current_max_height = find_max_rock_height(shaft)\n",
    "    \n",
    "    current_rock = spawn_rock(current_rock_type, current_max_height + 4)\n",
    "    \n",
    "    current_rock_moving = True\n",
    "    \n",
    "    while current_rock_moving:\n",
    "        current_rock.move([0, jets[jet_counter % num_jets]], shaft)\n",
    "        jet_counter += 1\n",
    "        jet_counter %= num_jets\n",
    "        \n",
    "        fall = current_rock.move([-1, 0], shaft)\n",
    "        \n",
    "        if not fall:\n",
    "            current_rock_moving = False\n",
    "            \n",
    "    shaft = add_rock(shaft, current_rock)\n",
    "    \n",
    "print(find_max_rock_height(shaft))"
   ]
  },
  {
   "cell_type": "markdown",
   "id": "18e5c260",
   "metadata": {},
   "source": [
    "## Part 2: Pointless work for pointless pay\n",
    "## This is one game I shall not play"
   ]
  },
  {
   "cell_type": "code",
   "execution_count": 17,
   "id": "344ae75a",
   "metadata": {},
   "outputs": [],
   "source": [
    "def build(start_rock, start_jet, rocks, shaft, print_cycle = True):\n",
    "    \n",
    "    shaft = np.copy(shaft)\n",
    "    \n",
    "    rock_counter = 0\n",
    "    jet_counter = start_jet\n",
    "    \n",
    "    blocking_heights = [i for i in range(0, find_max_rock_height(shaft)) if np.all(shaft[i] == 1)]\n",
    "    \n",
    "    for i in range(start_rock, start_rock+rocks):   \n",
    "        \n",
    "        current_rock_type = rock_types[i % num_types]\n",
    "\n",
    "        current_max_height = find_max_rock_height(shaft)\n",
    "\n",
    "        current_rock = spawn_rock(current_rock_type, current_max_height + 4)\n",
    "\n",
    "        current_rock_moving = True\n",
    "\n",
    "        while current_rock_moving:\n",
    "            current_rock.move([0, jets[jet_counter % num_jets]], shaft)\n",
    "            \n",
    "            # Try to detect cycle:\n",
    "            if jet_counter == 0 and print_cycle:\n",
    "                print(current_rock_type, rock_counter+1)\n",
    "            \n",
    "            jet_counter += 1\n",
    "            jet_counter %= num_jets\n",
    "\n",
    "            fall = current_rock.move([-1, 0], shaft)\n",
    "\n",
    "            if not fall:\n",
    "                current_rock_moving = False\n",
    "\n",
    "        shaft = add_rock(shaft, current_rock)\n",
    "        \n",
    "        rock_counter += 1\n",
    "        \n",
    "    return shaft\n",
    "        \n",
    "    "
   ]
  },
  {
   "cell_type": "code",
   "execution_count": 15,
   "id": "da7b9e1c",
   "metadata": {},
   "outputs": [
    {
     "name": "stdout",
     "output_type": "stream",
     "text": [
      "horizontal 1\n",
      "backl 1748\n",
      "backl 3493\n",
      "backl 5238\n",
      "backl 6983\n",
      "backl 8728\n"
     ]
    }
   ],
   "source": [
    "shaft = build(0, 0, 10000, np.zeros((calculate_max_height(10000)+8, shaft_width)))"
   ]
  },
  {
   "cell_type": "code",
   "execution_count": 18,
   "id": "6cde14b6",
   "metadata": {},
   "outputs": [],
   "source": [
    "# Looks like cycle of 1745 rocks\n",
    "\n",
    "heights = [find_max_rock_height(shaft) for shaft in \n",
    "             [build(0, 0, rocks, np.zeros((calculate_max_height(rocks)+8, shaft_width)), False) \n",
    "              for rocks in range(1748, 1748+1745*10+1, 1745)]]"
   ]
  },
  {
   "cell_type": "code",
   "execution_count": 19,
   "id": "642dffa5",
   "metadata": {},
   "outputs": [
    {
     "data": {
      "text/plain": [
       "[2775, 5527, 8279, 11031, 13783, 16535, 19287, 22039, 24791, 27543, 30295]"
      ]
     },
     "execution_count": 19,
     "metadata": {},
     "output_type": "execute_result"
    }
   ],
   "source": [
    "heights"
   ]
  },
  {
   "cell_type": "code",
   "execution_count": 20,
   "id": "994a6317",
   "metadata": {},
   "outputs": [
    {
     "data": {
      "text/plain": [
       "[2752, 2752, 2752, 2752, 2752, 2752, 2752, 2752, 2752, 2752]"
      ]
     },
     "execution_count": 20,
     "metadata": {},
     "output_type": "execute_result"
    }
   ],
   "source": [
    "[heights[i] - heights[i-1] for i in range(1, len(heights))]"
   ]
  },
  {
   "cell_type": "code",
   "execution_count": 31,
   "id": "67e88d13",
   "metadata": {},
   "outputs": [
    {
     "name": "stdout",
     "output_type": "stream",
     "text": [
      "1577077363915\n"
     ]
    }
   ],
   "source": [
    "cycle_start = 1748\n",
    "cycle_length = 1745\n",
    "\n",
    "initial_height = 2775\n",
    "height_per_cycle = 2752\n",
    "\n",
    "cycles = (1000000000000 - cycle_start)//cycle_length\n",
    "remainder = (1000000000000 - cycle_start)%cycle_length\n",
    "\n",
    "remainder_height = find_max_rock_height(build(0, 0, 1748+remainder, \n",
    "                                              np.zeros((calculate_max_height(1748+remainder)+8, shaft_width)), False))\n",
    "remainder_height -= initial_height\n",
    "\n",
    "total_height = initial_height + cycles*height_per_cycle + remainder_height\n",
    "\n",
    "print(total_height)"
   ]
  }
 ],
 "metadata": {
  "kernelspec": {
   "display_name": "Python 3 (ipykernel)",
   "language": "python",
   "name": "python3"
  },
  "language_info": {
   "codemirror_mode": {
    "name": "ipython",
    "version": 3
   },
   "file_extension": ".py",
   "mimetype": "text/x-python",
   "name": "python",
   "nbconvert_exporter": "python",
   "pygments_lexer": "ipython3",
   "version": "3.9.7"
  }
 },
 "nbformat": 4,
 "nbformat_minor": 5
}
