{
 "cells": [
  {
   "cell_type": "markdown",
   "id": "285a1049-339e-4922-8a5e-126565baa7e7",
   "metadata": {},
   "source": [
    "## And the walls kept tumbling down in the city that we love"
   ]
  },
  {
   "cell_type": "code",
   "execution_count": 1,
   "id": "edef991a-1b6e-42d8-980a-975087ca83b8",
   "metadata": {},
   "outputs": [],
   "source": [
    "import numpy as np\n",
    "from pathlib import Path\n",
    "import matplotlib.pyplot as plt"
   ]
  },
  {
   "cell_type": "code",
   "execution_count": 2,
   "id": "e2b83a81-4f56-4374-9dac-b98cc0e66add",
   "metadata": {},
   "outputs": [
    {
     "name": "stdout",
     "output_type": "stream",
     "text": [
      "x : 488 -> 552\n",
      "y : 13 -> 157\n"
     ]
    }
   ],
   "source": [
    "rocks = [[eval(rock) for rock in line.split(' -> ')] for line in Path('rocks.txt').read_text().split('\\n')]\n",
    "\n",
    "minx, miny = [min([coord[i] for line in rocks for coord in line]) for i in range(2)]\n",
    "maxx, maxy = [max([coord[i] for line in rocks for coord in line]) for i in range(2)]\n",
    "\n",
    "print(f'x : {minx} -> {maxx}')\n",
    "print(f'y : {miny} -> {maxy}')"
   ]
  },
  {
   "cell_type": "code",
   "execution_count": 3,
   "id": "a54ea575-5520-4b2f-8105-89b7fa5d544f",
   "metadata": {},
   "outputs": [],
   "source": [
    "hbuffer = 5\n",
    "rock_locations = np.zeros((maxy+1, maxx-minx+1 + 2*hbuffer), dtype = int)\n",
    "rock_locations[0, 500 - minx + hbuffer] = 4\n",
    "\n",
    "for line in rocks:\n",
    "    for i in range(1, len(line)):\n",
    "        x1, y1 = line[i-1]\n",
    "        x2, y2 = line[i]\n",
    "        \n",
    "        x1 -= minx\n",
    "        x2 -= minx\n",
    "        \n",
    "        if x1 == x2:\n",
    "            rock_locations[min(y1, y2):max(y1, y2) + 1, x1 + hbuffer] = '1'\n",
    "        elif y1 == y2:\n",
    "            rock_locations[y1, hbuffer + min(x1, x2):hbuffer + max(x1, x2) + 1] = '1'\n",
    "\n"
   ]
  },
  {
   "cell_type": "code",
   "execution_count": 4,
   "id": "ce83a9ce-473e-4a85-ab0b-292135242eac",
   "metadata": {},
   "outputs": [
    {
     "data": {
      "text/plain": [
       "<matplotlib.image.AxesImage at 0x20a3bc7e560>"
      ]
     },
     "execution_count": 4,
     "metadata": {},
     "output_type": "execute_result"
    }
   ],
   "source": [
    "plt.figure(figsize = (10, 10))\n",
    "plt.imshow(rock_locations, interpolation = 'none')"
   ]
  },
  {
   "cell_type": "code",
   "execution_count": 5,
   "id": "a06f3c78-0945-461e-bc68-79a73d698bb7",
   "metadata": {},
   "outputs": [
    {
     "name": "stdout",
     "output_type": "stream",
     "text": [
      "719\n"
     ]
    }
   ],
   "source": [
    "sand_locations = np.copy(rock_locations)\n",
    "sand_start = (0, 500 - minx + hbuffer)\n",
    "\n",
    "oblivion = False\n",
    "\n",
    "while not oblivion:\n",
    "    rest = False\n",
    "    current_loc = sand_start\n",
    "    while not rest:\n",
    "        y, x = current_loc\n",
    "        \n",
    "        below = sand_locations[y+1:, x]\n",
    "        \n",
    "        first_block = np.where(below > 0)[0]\n",
    "        \n",
    "        \n",
    "        if len(first_block) == 0: # Nothing but air below\n",
    "            oblivion = True\n",
    "            rest = True\n",
    "        else:\n",
    "            first_block = first_block[0] + y + 1 # Find coordinate of first block\n",
    "            \n",
    "            if first_block == y + 1: # If first block is right below\n",
    "                if x > 0 and sand_locations[y+1, x-1] == 0: # Attempt down-left\n",
    "                    current_loc = (y+1, x-1)\n",
    "                elif x < rock_locations.shape[1] - 1 and sand_locations[y+1, x+1] == 0: # Attempt down-right\n",
    "                    current_loc = (y+1, x+1)\n",
    "                else: # Rest\n",
    "                    sand_locations[y, x] = 2\n",
    "                    rest = True\n",
    "            \n",
    "            else: # Drop to right above first block\n",
    "                current_loc = (first_block-1, x)\n",
    "\n",
    "print(np.sum(sand_locations == 2))"
   ]
  },
  {
   "cell_type": "code",
   "execution_count": 6,
   "id": "cb001078-04f1-4cd8-85e6-7eda45b722ab",
   "metadata": {},
   "outputs": [
    {
     "data": {
      "text/plain": [
       "<matplotlib.image.AxesImage at 0x20a41185db0>"
      ]
     },
     "execution_count": 6,
     "metadata": {},
     "output_type": "execute_result"
    }
   ],
   "source": [
    "plt.figure(figsize = (10, 10))\n",
    "plt.imshow(sand_locations)"
   ]
  },
  {
   "cell_type": "markdown",
   "id": "f6088c50-91fb-4efc-8703-d8f4091ad093",
   "metadata": {},
   "source": [
    "## Part 2: But if you close your eyes..."
   ]
  },
  {
   "cell_type": "code",
   "execution_count": 7,
   "id": "758b5751-c179-4a49-9660-1ba23b460575",
   "metadata": {},
   "outputs": [],
   "source": [
    "hbuffer = rock_locations.shape[0] + 2\n",
    "rock_locations = np.zeros((maxy+3, maxx-minx+1 + 2*hbuffer), dtype = int)\n",
    "rock_locations[0, 500 - minx + hbuffer] = 4\n",
    "rock_locations[-1, :] = 1\n",
    "\n",
    "for line in rocks:\n",
    "    for i in range(1, len(line)):\n",
    "        x1, y1 = line[i-1]\n",
    "        x2, y2 = line[i]\n",
    "        \n",
    "        x1 -= minx\n",
    "        x2 -= minx\n",
    "        \n",
    "        if x1 == x2:\n",
    "            rock_locations[min(y1, y2):max(y1, y2) + 1, x1 + hbuffer] = '1'\n",
    "        elif y1 == y2:\n",
    "            rock_locations[y1, hbuffer + min(x1, x2):hbuffer + max(x1, x2) + 1] = '1'"
   ]
  },
  {
   "cell_type": "code",
   "execution_count": 8,
   "id": "80fafbcf-dd9a-4c7f-a4a0-8cc7ad52a02e",
   "metadata": {},
   "outputs": [
    {
     "data": {
      "text/plain": [
       "<matplotlib.image.AxesImage at 0x20a411f2260>"
      ]
     },
     "execution_count": 8,
     "metadata": {},
     "output_type": "execute_result"
    }
   ],
   "source": [
    "plt.figure()\n",
    "plt.imshow(rock_locations)"
   ]
  },
  {
   "cell_type": "code",
   "execution_count": 38,
   "id": "73982faa-efac-4c6f-84d2-2f86ae8d11c2",
   "metadata": {},
   "outputs": [
    {
     "name": "stdout",
     "output_type": "stream",
     "text": [
      "23390\n"
     ]
    }
   ],
   "source": [
    "sand_locations = np.copy(rock_locations)\n",
    "sand_start = (0, 500 - minx + hbuffer)\n",
    "\n",
    "oblivion = False\n",
    "\n",
    "frames = []\n",
    "\n",
    "while not oblivion:\n",
    "    rest = False\n",
    "    current_loc = sand_start\n",
    "    frames += [[current_loc, rest]]\n",
    "    while not rest:\n",
    "        y, x = current_loc\n",
    "\n",
    "        below = sand_locations[y+1:, x]\n",
    "\n",
    "        first_block = np.where(below > 0)[0]\n",
    "\n",
    "\n",
    "\n",
    "        first_block = first_block[0] + y + 1 # Find coordinate of first block\n",
    "\n",
    "\n",
    "        if first_block == y + 1: # If first block is right below\n",
    "            if first_block == sand_locations.shape[0] - 1: #Rock bottom, rest\n",
    "                sand_locations[y, x] = 2\n",
    "                rest = True\n",
    "\n",
    "            elif sand_locations[y+1, x-1] == 0: # Attempt down-left\n",
    "                current_loc = (y+1, x-1)\n",
    "            elif sand_locations[y+1, x+1] == 0: # Attempt down-right\n",
    "                current_loc = (y+1, x+1)\n",
    "            else: # Rest\n",
    "                sand_locations[y, x] = 2\n",
    "                rest = True\n",
    "\n",
    "        else: # Drop to right above first block\n",
    "            current_loc = (first_block-1, x)\n",
    "\n",
    "        if sand_locations[sand_start] == 2:\n",
    "            oblivion = True\n",
    "            \n",
    "        frames += [[current_loc, rest]]\n",
    "\n",
    "print(np.sum(sand_locations == 2))"
   ]
  },
  {
   "cell_type": "code",
   "execution_count": 10,
   "id": "2c33a326-159a-4e6f-b55f-80b2a4aa6438",
   "metadata": {},
   "outputs": [
    {
     "data": {
      "text/plain": [
       "<matplotlib.image.AxesImage at 0x20a5365b640>"
      ]
     },
     "execution_count": 10,
     "metadata": {},
     "output_type": "execute_result"
    }
   ],
   "source": [
    "plt.figure()\n",
    "plt.imshow(sand_locations)"
   ]
  },
  {
   "cell_type": "markdown",
   "id": "bcc515d4-8399-4bf6-9e89-61c8329b4512",
   "metadata": {},
   "source": [
    "## Movie"
   ]
  },
  {
   "cell_type": "code",
   "execution_count": 11,
   "id": "2afe6394-aa6a-4822-bd59-3552fb07aeba",
   "metadata": {},
   "outputs": [],
   "source": [
    "from matplotlib.animation import FuncAnimation\n",
    "from matplotlib.animation import FFMpegWriter"
   ]
  },
  {
   "cell_type": "code",
   "execution_count": 57,
   "id": "c8697eea-8eca-4688-835d-3c7b211515f7",
   "metadata": {},
   "outputs": [],
   "source": [
    "plt.close('all')\n",
    "\n",
    "animated_locations = np.copy(rock_locations)\n",
    "\n",
    "fig, ax = plt.subplots(1, 1)\n",
    "\n",
    "im = ax.imshow(animated_locations)\n",
    "\n",
    "def update(frame):\n",
    "    global animated_locations\n",
    "    global im\n",
    "    \n",
    "    temp_locations = np.copy(animated_locations)\n",
    "    \n",
    "    coord, rest = frames[frame]\n",
    "    \n",
    "    if rest:\n",
    "        animated_locations[coord] = 4\n",
    "        im.set_data(animated_locations)\n",
    "    else:\n",
    "        temp_locations[coord] = 4\n",
    "        im.set_data(temp_locations)\n",
    "    \n",
    "    return [im]\n",
    "\n",
    "ani = FuncAnimation(fig, update, frames = len(frames), interval = 1, blit = True)\n",
    "\n",
    "\n",
    "# Export: warning: super slow, limit the number of frames for your sanity\n",
    "# plt.rcParams['animation.ffmpeg_path'] = 'C:/ffmpeg/bin/ffmpeg.exe'\n",
    "# writer = FFMpegWriter(fps = 50)\n",
    "# ani.save('test.mp4', writer = writer)"
   ]
  }
 ],
 "metadata": {
  "kernelspec": {
   "display_name": "Python 3 (ipykernel)",
   "language": "python",
   "name": "python3"
  },
  "language_info": {
   "codemirror_mode": {
    "name": "ipython",
    "version": 3
   },
   "file_extension": ".py",
   "mimetype": "text/x-python",
   "name": "python",
   "nbconvert_exporter": "python",
   "pygments_lexer": "ipython3",
   "version": "3.10.4"
  }
 },
 "nbformat": 4,
 "nbformat_minor": 5
}
