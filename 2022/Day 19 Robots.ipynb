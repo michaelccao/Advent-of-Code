{
 "cells": [
  {
   "cell_type": "markdown",
   "id": "8085588a",
   "metadata": {},
   "source": [
    "## Domo arigato, Mr. Roboto"
   ]
  },
  {
   "cell_type": "code",
   "execution_count": 54,
   "id": "5ddbaacc",
   "metadata": {},
   "outputs": [],
   "source": [
    "from pathlib import Path\n",
    "import numpy as np\n",
    "import re\n",
    "import sys\n",
    "import math"
   ]
  },
  {
   "cell_type": "code",
   "execution_count": 55,
   "id": "5b6de4f0",
   "metadata": {},
   "outputs": [],
   "source": [
    "pattern = 'Blueprint (\\d+): Each ore robot costs (\\d+) ore. Each clay robot costs (\\d+) ore.'\n",
    "pattern +=' Each obsidian robot costs (\\d+) ore and (\\d+) clay. Each geode robot costs (\\d+) ore and (\\d+) obsidian.'\n",
    "\n",
    "pattern = re.compile(pattern)"
   ]
  },
  {
   "cell_type": "code",
   "execution_count": 62,
   "id": "434d2b4d",
   "metadata": {},
   "outputs": [],
   "source": [
    "blueprints = [[int(num) for num in re.match(pattern, blueprint).groups()] \n",
    "              for blueprint in Path('blueprints.txt').read_text().split('\\n')]"
   ]
  },
  {
   "cell_type": "code",
   "execution_count": 63,
   "id": "232ff4bc",
   "metadata": {},
   "outputs": [],
   "source": [
    "class Inventory():\n",
    "    \n",
    "    def __init__(self, blueprint, ore_robo = 1, clay_robo = 0, obs_robo = 0, \n",
    "                 geo_robo = 0, ore = 0, clay = 0, obs = 0, geo = 0, \n",
    "                 time = 0, time_limit = 24, prev_inv = None):\n",
    "        \n",
    "        self.blueprint = blueprint\n",
    "        \n",
    "        self.ore_robo_cost = blueprint[1]\n",
    "        self.clay_robo_cost = blueprint[2]\n",
    "        self.obsidian_robo_cost = blueprint[3:5]\n",
    "        self.geode_robo_cost = blueprint[5:]\n",
    "        \n",
    "        \n",
    "        \n",
    "        self.max_ore_cost = max(map(blueprints[0].__getitem__, [1, 2, 3, 5]))\n",
    "        \n",
    "        \n",
    "        self.ore_robo = ore_robo\n",
    "        self.clay_robo = clay_robo\n",
    "        self.obs_robo = obs_robo\n",
    "        self.geo_robo = geo_robo\n",
    "        \n",
    "        self.ore = ore\n",
    "        self.clay = clay\n",
    "        self.obs = obs\n",
    "        self.geo = geo\n",
    "        \n",
    "        self.time = time\n",
    "        self.time_limit = time_limit\n",
    "        \n",
    "        self.prev_inv = prev_inv\n",
    "        \n",
    "    def mine(self, turns = 1):\n",
    "        \n",
    "        return Inventory(self.blueprint, self.ore_robo, self.clay_robo, self.obs_robo, self.geo_robo, \n",
    "                         self.ore + turns*self.ore_robo, self.clay + turns*self.clay_robo, self.obs + turns*self.obs_robo, \n",
    "                         self.geo + turns*self.geo_robo, self.time+turns, self.time_limit)\n",
    "        \n",
    "    def build_options(self):\n",
    "        options = []\n",
    "        \n",
    "        # Logic build a robot or wait until you have enough resources to build a robot you cannot build now\n",
    "        \n",
    "        # Do not build a robot if there are enough of that type such that the resource/minute is enough to build\n",
    "        # any type of robot that requires that resource\n",
    "        \n",
    "        # Wait logic: Look at current income and see what types of robot can be built in the future\n",
    "        # assuming no change in resource production\n",
    "        \n",
    "        # If there are robots within that set that are not buildable now, we can wait\n",
    "        # Otherwise, just build the damn robot, Shinji\n",
    "        \n",
    "        \n",
    "        # Check resource availability and prevent overbuilding robots\n",
    "        if self.ore >= self.ore_robo_cost and self.ore_robo < self.max_ore_cost:\n",
    "            options += ['ore']\n",
    "        if self.ore >= self.clay_robo_cost and self.clay_robo < self.obsidian_robo_cost[1]:\n",
    "            options += ['clay']\n",
    "            \n",
    "        if self.ore >= self.obsidian_robo_cost[0] and self.clay >= self.obsidian_robo_cost[1] and self.obs_robo < self.geode_robo_cost[1]:\n",
    "            options += ['obsidian']\n",
    "            \n",
    "        if self.ore >= self.geode_robo_cost[0] and self.obs >= self.geode_robo_cost[1]:\n",
    "            options += ['geode']\n",
    "            \n",
    "        \n",
    "        # Look at future options, ore and clay is always available\n",
    "        future_options = ['ore', 'clay']\n",
    "        \n",
    "        if self.clay_robo > 0:\n",
    "            future_options += ['obsidian']\n",
    "        if self.obs_robo > 0:\n",
    "            future_options += ['geode']\n",
    "        \n",
    "        # Robos that we need to wait to get availalbe resources\n",
    "        wait_robos = np.setdiff1d(future_options, options)\n",
    "        \n",
    "        if len(wait_robos) > 0:\n",
    "            options += ['wait']\n",
    "            \n",
    "        return options\n",
    "    \n",
    "    def build(self, robo, prev = None):\n",
    "        \n",
    "        if robo == 'ore':\n",
    "            return Inventory(self.blueprint, self.ore_robo+1, self.clay_robo, self.obs_robo, \n",
    "                             self.geo_robo, self.ore - self.ore_robo_cost, self.clay, self.obs, self.geo, \n",
    "                             self.time, self.time_limit, prev)\n",
    "        elif robo == 'clay':\n",
    "            return Inventory(self.blueprint, self.ore_robo, self.clay_robo+1, self.obs_robo, \n",
    "                             self.geo_robo, self.ore - self.clay_robo_cost, self.clay, self.obs, self.geo, \n",
    "                             self.time, self.time_limit, prev)\n",
    "        elif robo == 'obsidian':\n",
    "            ore_cost, clay_cost = self.obsidian_robo_cost\n",
    "            \n",
    "            return Inventory(self.blueprint, self.ore_robo, self.clay_robo, self.obs_robo+1, \n",
    "                             self.geo_robo, self.ore - ore_cost, self.clay - clay_cost, self.obs, self.geo, \n",
    "                             self.time, self.time_limit, prev)\n",
    "        elif robo == 'geode':\n",
    "            ore_cost, obs_cost = self.geode_robo_cost\n",
    "            \n",
    "            return Inventory(self.blueprint, self.ore_robo, self.clay_robo, self.obs_robo, \n",
    "                             self.geo_robo+1, self.ore - ore_cost, self.clay, self.obs - obs_cost, self.geo, \n",
    "                             self.time, self.time_limit, prev)\n",
    "        \n",
    "    def generate_children(self):\n",
    "        options = []\n",
    "        \n",
    "        if self.ore_robo < self.max_ore_cost:\n",
    "            options += ['ore']\n",
    "        if self.clay_robo < self.obsidian_robo_cost[1]:\n",
    "            options += ['clay']     \n",
    "        if self.clay_robo > 0 and self.obs_robo < self.geode_robo_cost[1]:\n",
    "            options += ['obsidian']        \n",
    "        if self.obs_robo > 0:\n",
    "            options += ['geode']\n",
    "        \n",
    "        build_times = [self.time_to_build(robo) for robo in options]\n",
    "        \n",
    "        children = [self.mine(turns+1).build(robo, self) for robo, turns in zip(options, build_times) if self.time + turns + 1 <= self.time_limit]\n",
    "        \n",
    "        \n",
    "        return children\n",
    "    \n",
    "    def time_to_build(self, robo):\n",
    "        \n",
    "        if robo == 'ore':\n",
    "            return max(0, math.ceil((self.ore_robo_cost - self.ore)/self.ore_robo))\n",
    "        \n",
    "        elif robo == 'clay':\n",
    "            return max(0, math.ceil((self.clay_robo_cost - self.ore)/self.ore_robo))\n",
    "        \n",
    "        elif robo == 'obsidian':\n",
    "            ore_turns = math.ceil((self.obsidian_robo_cost[0] - self.ore)/self.ore_robo)\n",
    "            clay_turns = math.ceil((self.obsidian_robo_cost[1] - self.clay)/self.clay_robo)\n",
    "            \n",
    "            return max(0, ore_turns, clay_turns)\n",
    "        \n",
    "        elif robo == 'geode':\n",
    "            ore_turns = math.ceil((self.geode_robo_cost[0] - self.ore)/self.ore_robo)\n",
    "            obs_turns = math.ceil((self.geode_robo_cost[1] - self.obs)/self.obs_robo)\n",
    "            \n",
    "            return max(0, ore_turns, obs_turns)\n",
    "        \n",
    "    def __repr__(self):\n",
    "        resources = f'Ore: {self.ore}, Clay: {self.clay}, Obsidian: {self.obs}, Geode: {self.geo}'\n",
    "        robots = f'Ore Robot: {self.ore_robo}, Clay Robot: {self.clay_robo}, '\n",
    "        robots += f'Obsidian Robot: {self.obs_robo}, Geode Robot: {self.geo_robo}'\n",
    "        turn = f'{self.time} minute' + ('s' if self.time != 1 else '')\n",
    "        \n",
    "        return turn + '\\n' + resources + '\\n' + robots\n",
    "    \n",
    "    def __str__(self):\n",
    "        return self.__repr__()\n",
    "    \n",
    "    def __eq__(self, other):\n",
    "        \n",
    "        props = np.array(\n",
    "            [self.ore_robo_cost, self.clay_robo_cost, *self.obsidian_robo_cost, \n",
    "             *self.geode_robo_cost, self.ore_robo, self.clay_robo, self.obs_robo, \n",
    "             self.geo_robo, self.ore, self.clay, self.obs, self.geo, self.time, self.time_limit]\n",
    "        )\n",
    "        \n",
    "        other_props = np.array(\n",
    "            [other.ore_robo_cost, other.clay_robo_cost, *other.obsidian_robo_cost, \n",
    "             *other.geode_robo_cost, other.ore_robo, other.clay_robo, other.obs_robo, \n",
    "             other.geo_robo, other.ore, other.clay, other.obs, other.geo, other.time, other.time_limit]\n",
    "        )\n",
    "        \n",
    "        return np.all(props == other_props)\n",
    "    \n",
    "    def min_projection(self):\n",
    "        time_left = (self.time_limit - self.time)\n",
    "        return time_left*self.geo_robo + self.geo\n",
    "    \n",
    "    def max_projection(self):\n",
    "        time_left = (self.time_limit - self.time)\n",
    "        return time_left*(self.geo_robo + self.geo_robo + time_left - 1)/2 + self.geo"
   ]
  },
  {
   "cell_type": "code",
   "execution_count": 64,
   "id": "e18c4b65-4248-41a7-9d7c-2c951661dd76",
   "metadata": {},
   "outputs": [],
   "source": [
    "class Inventory_Tree():\n",
    "    \n",
    "    def __init__(self, blueprint, time_limit = 24):\n",
    "        \n",
    "        self.start_node = Inventory(blueprint, time_limit = time_limit)\n",
    "        \n",
    "        self.best_so_far = 0\n",
    "        \n",
    "        self.unvisited_nodes = [self.start_node]\n",
    "        \n",
    "        self.visited_nodes = []\n",
    "        \n",
    "        self.final_nodes = []\n",
    "        \n",
    "    def dfs(self):\n",
    "        while len(self.unvisited_nodes) > 0:\n",
    "            \n",
    "            # sys.stdout.write(f'\\r{len(self.visited_nodes):<10}')\n",
    "            \n",
    "            target_node = self.unvisited_nodes[-1]\n",
    "            self.visited_nodes += [target_node]\n",
    "            self.unvisited_nodes.pop(-1)\n",
    "            \n",
    "            if target_node.max_projection() < self.best_so_far: # Don't pursue this branch    \n",
    "                continue\n",
    "            \n",
    "            else:\n",
    "                children = target_node.generate_children()\n",
    "                \n",
    "                if len(children) == 0:\n",
    "                    self.final_nodes += [target_node]\n",
    "                    self.best_so_far = max(self.best_so_far, target_node.min_projection())\n",
    "                else:\n",
    "                    self.unvisited_nodes += children\n",
    "                    \n",
    "        return self\n",
    "                \n",
    "                \n",
    "            \n",
    "        "
   ]
  },
  {
   "cell_type": "code",
   "execution_count": 65,
   "id": "b23d2aa7-f90c-41d4-8134-8778213118d7",
   "metadata": {},
   "outputs": [
    {
     "name": "stdout",
     "output_type": "stream",
     "text": [
      "1487\n"
     ]
    }
   ],
   "source": [
    "num_blueprints = len(blueprints)\n",
    "\n",
    "qualities = [num*Inventory_Tree(blueprint).dfs().best_so_far for num, blueprint in zip(range(1, num_blueprints + 1), blueprints)]\n",
    "\n",
    "print(sum(qualities))"
   ]
  },
  {
   "cell_type": "markdown",
   "id": "9d6dba0c-e4ff-492c-999a-4d7e685ae2cf",
   "metadata": {},
   "source": [
    "## We require more minerals"
   ]
  },
  {
   "cell_type": "code",
   "execution_count": 66,
   "id": "6fa3e2f6-cf18-4a31-b836-a9bdcc4ce7f3",
   "metadata": {},
   "outputs": [],
   "source": [
    "max_geodes = [Inventory_Tree(blueprint, time_limit = 32).dfs().best_so_far for blueprint in blueprints[0:3]]"
   ]
  },
  {
   "cell_type": "code",
   "execution_count": 67,
   "id": "1dac324d-ae69-4194-a740-4a77fd6cdf30",
   "metadata": {},
   "outputs": [
    {
     "data": {
      "text/plain": [
       "[16, 40, 21]"
      ]
     },
     "execution_count": 67,
     "metadata": {},
     "output_type": "execute_result"
    }
   ],
   "source": [
    "max_geodes"
   ]
  },
  {
   "cell_type": "code",
   "execution_count": 68,
   "id": "d94cfc7a-d70c-4e9d-87ad-6f124d8c2457",
   "metadata": {},
   "outputs": [
    {
     "name": "stdout",
     "output_type": "stream",
     "text": [
      "13440\n"
     ]
    }
   ],
   "source": [
    "print(np.prod(max_geodes))"
   ]
  }
 ],
 "metadata": {
  "kernelspec": {
   "display_name": "Python 3 (ipykernel)",
   "language": "python",
   "name": "python3"
  },
  "language_info": {
   "codemirror_mode": {
    "name": "ipython",
    "version": 3
   },
   "file_extension": ".py",
   "mimetype": "text/x-python",
   "name": "python",
   "nbconvert_exporter": "python",
   "pygments_lexer": "ipython3",
   "version": "3.10.4"
  }
 },
 "nbformat": 4,
 "nbformat_minor": 5
}
