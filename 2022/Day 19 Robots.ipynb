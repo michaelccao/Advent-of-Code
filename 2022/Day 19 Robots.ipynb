{
 "cells": [
  {
   "cell_type": "markdown",
   "id": "8085588a",
   "metadata": {},
   "source": [
    "## Domo arigato, Mr. Roboto"
   ]
  },
  {
   "cell_type": "code",
   "execution_count": 2,
   "id": "5ddbaacc",
   "metadata": {},
   "outputs": [],
   "source": [
    "from pathlib import Path\n",
    "import numpy as np\n",
    "import re"
   ]
  },
  {
   "cell_type": "code",
   "execution_count": 3,
   "id": "5b6de4f0",
   "metadata": {},
   "outputs": [],
   "source": [
    "pattern = 'Blueprint (\\d+): Each ore robot costs (\\d+) ore. Each clay robot costs (\\d+) ore.'\n",
    "pattern +=' Each obsidian robot costs (\\d+) ore and (\\d+) clay. Each geode robot costs (\\d+) ore and (\\d+) obsidian.'\n",
    "\n",
    "pattern = re.compile(pattern)"
   ]
  },
  {
   "cell_type": "code",
   "execution_count": 4,
   "id": "434d2b4d",
   "metadata": {},
   "outputs": [],
   "source": [
    "blueprints = [[int(num) for num in re.match(pattern, blueprint).groups()] \n",
    "              for blueprint in Path('blueprints_test.txt').read_text().split('\\n')]"
   ]
  },
  {
   "cell_type": "code",
   "execution_count": 38,
   "id": "232ff4bc",
   "metadata": {},
   "outputs": [],
   "source": [
    "class Inventory():\n",
    "    \n",
    "    def __init__(self, blueprint, ore_robo = 0, clay_robo = 0, obs_robo = 0, \n",
    "                 geo_robo = 0, ore = 0, clay = 0, obs = 0, geo = 0):\n",
    "        \n",
    "        self.blueprint = blueprint\n",
    "        \n",
    "        self.ore_robo_cost = blueprint[1]\n",
    "        self.clay_robo_cost = blueprint[2]\n",
    "        self.obsidian_robo_cost = blueprint[3:5]\n",
    "        self.geode_robo_cost = blueprint[5:]\n",
    "        \n",
    "        \n",
    "        \n",
    "        self.max_ore_cost = max(map(blueprints[0].__getitem__, [1, 2, 3, 5]))\n",
    "        \n",
    "        \n",
    "        self.ore_robo = ore_robo\n",
    "        self.clay_robo = clay_robo\n",
    "        self.obs_robo = obs_robo\n",
    "        self.geo_robo = geo_robo\n",
    "        \n",
    "        self.ore = ore\n",
    "        self.clay = clay\n",
    "        self.obs = obs\n",
    "        self.geo = geo\n",
    "        \n",
    "    def mine(self):\n",
    "        \n",
    "        return Inventory(self.blueprint, self.ore_robo, self.clay_robo, self.obs_robo, self.geo_robo, \n",
    "                         self.ore + self.ore_robo, self.clay + self.clay_robo, self.obs + self.obs_robo, \n",
    "                         self.geo + self.geo_robo)\n",
    "        \n",
    "    def build_options(self):\n",
    "        options = []\n",
    "        \n",
    "        if self.ore >= self.ore_robo_cost and self.ore_robo < self.max_ore_cost:\n",
    "            options += ['ore']\n",
    "        if self.ore >= self.clay_robo_cost and self.clay_robo < self.obsidian_robo_cost[1]:\n",
    "            options += ['clay']\n",
    "            \n",
    "        if self.ore >= self.obsidian_robo_cost[0] and self.clay >= self.obsidian_robo_cost[1] and self.obs_robo < self.geode_robo_cost[1]:\n",
    "            options += ['obsidian']\n",
    "            \n",
    "        if self.ore >= self.geode_robo_cost[0] and self.obs >= self.geode_robo_cost[1]:\n",
    "            options += ['geode']\n",
    "            \n",
    "        # Need to implement strategy to not wait\n",
    "            \n",
    "        return options\n",
    "    \n",
    "    def build(self, robo):\n",
    "        \n",
    "        if robo == 'ore':\n",
    "            return Inventory(self.blueprint, self.ore_robo+1, self.clay_robo, self.obs_robo, \n",
    "                             self.geo_robo, self.ore - self.ore_robo_cost, self.clay, self.obs, self.geo)\n",
    "        elif robo == 'clay':\n",
    "            return Inventory(self.blueprint, self.ore_robo, self.clay_robo+1, self.obs_robo, \n",
    "                             self.geo_robo, self.ore - self.clay_robo_cost, self.clay, self.obs, self.geo)\n",
    "        elif robo == 'obsidian':\n",
    "            ore_cost, clay_cost = self.obsidian_robo_cost\n",
    "            \n",
    "            return Inventory(self.blueprint, self.ore_robo, self.clay_robo, self.obs_robo+1, \n",
    "                             self.geo_robo, self.ore - ore_cost, self.clay - clay_cost, self.obs, self.geo)\n",
    "        elif robo == 'geode':\n",
    "            ore_cost, obs_cost = self.geode_robo_cost\n",
    "            \n",
    "            return Inventory(self.blueprint, self.ore_robo, self.clay_robo, self.obs_robo, \n",
    "                             self.geo_robo+1, self.ore - ore_cost, self.clay, self.obs - obs_cost, self.geo)\n",
    "        \n",
    "    def __repr__(self):\n",
    "        resources = f'Ore: {self.ore}, Clay: {self.clay}, Obsidian: {self.obs}, Geode: {self.geo}'\n",
    "        robots = f'Ore Robot: {self.ore_robo}, Clay Robot: {self.clay_robo}, '\n",
    "        robots += f'Obsidian Robot: {self.obs_robo}, Geode Robot: {self.geo_robo}'\n",
    "        \n",
    "        return resources + '\\n' + robots\n",
    "    \n",
    "    def __str__(self):\n",
    "        return self.__repr__"
   ]
  },
  {
   "cell_type": "code",
   "execution_count": 46,
   "id": "a3d665dc",
   "metadata": {},
   "outputs": [],
   "source": [
    "def calculate_quality(blueprint, time_limit = 24):\n",
    "    blueprint_num = blueprint[0]\n",
    "    \n",
    "    ore_robo_cost = blueprint[1]\n",
    "    clay_robo_cost = blueprint[2]\n",
    "    obsidian_robo_cost = blueprint[3:5]\n",
    "    geode_robo_cost = blueprint[5:]\n",
    "    \n",
    "    \n",
    "    current_time = 0\n",
    "    \n",
    "    start_inventory = Inventory(blueprint, ore_robo = 1)\n",
    "    \n",
    "    status = [start_inventory]\n",
    "    \n",
    "    while current_time < time_limit:\n",
    "        new_inventories = []\n",
    "        for inventory in status:\n",
    "            build_options = inventory.build_options()\n",
    "            \n",
    "            inventory2 = inventory.mine()\n",
    "            \n",
    "            add_robo = [inventory2.build(robo) for robo in build_options]\n",
    "            \n",
    "            new_inventories += [inventory2] + add_robo\n",
    "                \n",
    "        status = new_inventories\n",
    "        \n",
    "        print(current_time, len(status))\n",
    "        \n",
    "        current_time += 1\n",
    "    \n",
    "    return status"
   ]
  },
  {
   "cell_type": "code",
   "execution_count": 27,
   "id": "4b3f2a01",
   "metadata": {},
   "outputs": [],
   "source": [
    "test = [1, 2, 3, 5]"
   ]
  },
  {
   "cell_type": "code",
   "execution_count": 37,
   "id": "5bcf458b",
   "metadata": {},
   "outputs": [
    {
     "data": {
      "text/plain": [
       "2"
      ]
     },
     "execution_count": 37,
     "metadata": {},
     "output_type": "execute_result"
    }
   ],
   "source": [
    "min(map(blueprints[0].__getitem__, test))"
   ]
  },
  {
   "cell_type": "code",
   "execution_count": 44,
   "id": "0f99795d",
   "metadata": {},
   "outputs": [
    {
     "data": {
      "text/plain": [
       "[1, 4, 2, 3, 14, 2, 7]"
      ]
     },
     "execution_count": 44,
     "metadata": {},
     "output_type": "execute_result"
    }
   ],
   "source": [
    "blueprints[0]"
   ]
  },
  {
   "cell_type": "code",
   "execution_count": 47,
   "id": "872252e1",
   "metadata": {},
   "outputs": [
    {
     "name": "stdout",
     "output_type": "stream",
     "text": [
      "0 1\n",
      "1 1\n",
      "2 2\n",
      "3 3\n",
      "4 7\n",
      "5 12\n",
      "6 29\n",
      "7 57\n",
      "8 143\n",
      "9 320\n",
      "10 846\n",
      "11 2202\n",
      "12 6237\n",
      "13 18267\n",
      "14 56085\n",
      "15 179588\n",
      "16 591458\n",
      "17 1997518\n"
     ]
    },
    {
     "ename": "KeyboardInterrupt",
     "evalue": "",
     "output_type": "error",
     "traceback": [
      "\u001b[1;31m---------------------------------------------------------------------------\u001b[0m",
      "\u001b[1;31mKeyboardInterrupt\u001b[0m                         Traceback (most recent call last)",
      "\u001b[1;32m~\\AppData\\Local\\Temp\\ipykernel_9936\\1819774477.py\u001b[0m in \u001b[0;36m<module>\u001b[1;34m\u001b[0m\n\u001b[1;32m----> 1\u001b[1;33m \u001b[0mcalculate_quality\u001b[0m\u001b[1;33m(\u001b[0m\u001b[0mblueprints\u001b[0m\u001b[1;33m[\u001b[0m\u001b[1;36m0\u001b[0m\u001b[1;33m]\u001b[0m\u001b[1;33m,\u001b[0m \u001b[1;36m24\u001b[0m\u001b[1;33m)\u001b[0m\u001b[1;33m\u001b[0m\u001b[1;33m\u001b[0m\u001b[0m\n\u001b[0m",
      "\u001b[1;32m~\\AppData\\Local\\Temp\\ipykernel_9936\\2058800963.py\u001b[0m in \u001b[0;36mcalculate_quality\u001b[1;34m(blueprint, time_limit)\u001b[0m\n\u001b[0;32m     21\u001b[0m             \u001b[0minventory2\u001b[0m \u001b[1;33m=\u001b[0m \u001b[0minventory\u001b[0m\u001b[1;33m.\u001b[0m\u001b[0mmine\u001b[0m\u001b[1;33m(\u001b[0m\u001b[1;33m)\u001b[0m\u001b[1;33m\u001b[0m\u001b[1;33m\u001b[0m\u001b[0m\n\u001b[0;32m     22\u001b[0m \u001b[1;33m\u001b[0m\u001b[0m\n\u001b[1;32m---> 23\u001b[1;33m             \u001b[0madd_robo\u001b[0m \u001b[1;33m=\u001b[0m \u001b[1;33m[\u001b[0m\u001b[0minventory2\u001b[0m\u001b[1;33m.\u001b[0m\u001b[0mbuild\u001b[0m\u001b[1;33m(\u001b[0m\u001b[0mrobo\u001b[0m\u001b[1;33m)\u001b[0m \u001b[1;32mfor\u001b[0m \u001b[0mrobo\u001b[0m \u001b[1;32min\u001b[0m \u001b[0mbuild_options\u001b[0m\u001b[1;33m]\u001b[0m\u001b[1;33m\u001b[0m\u001b[1;33m\u001b[0m\u001b[0m\n\u001b[0m\u001b[0;32m     24\u001b[0m \u001b[1;33m\u001b[0m\u001b[0m\n\u001b[0;32m     25\u001b[0m             \u001b[0mnew_inventories\u001b[0m \u001b[1;33m+=\u001b[0m \u001b[1;33m[\u001b[0m\u001b[0minventory2\u001b[0m\u001b[1;33m]\u001b[0m \u001b[1;33m+\u001b[0m \u001b[0madd_robo\u001b[0m\u001b[1;33m\u001b[0m\u001b[1;33m\u001b[0m\u001b[0m\n",
      "\u001b[1;32m~\\AppData\\Local\\Temp\\ipykernel_9936\\2058800963.py\u001b[0m in \u001b[0;36m<listcomp>\u001b[1;34m(.0)\u001b[0m\n\u001b[0;32m     21\u001b[0m             \u001b[0minventory2\u001b[0m \u001b[1;33m=\u001b[0m \u001b[0minventory\u001b[0m\u001b[1;33m.\u001b[0m\u001b[0mmine\u001b[0m\u001b[1;33m(\u001b[0m\u001b[1;33m)\u001b[0m\u001b[1;33m\u001b[0m\u001b[1;33m\u001b[0m\u001b[0m\n\u001b[0;32m     22\u001b[0m \u001b[1;33m\u001b[0m\u001b[0m\n\u001b[1;32m---> 23\u001b[1;33m             \u001b[0madd_robo\u001b[0m \u001b[1;33m=\u001b[0m \u001b[1;33m[\u001b[0m\u001b[0minventory2\u001b[0m\u001b[1;33m.\u001b[0m\u001b[0mbuild\u001b[0m\u001b[1;33m(\u001b[0m\u001b[0mrobo\u001b[0m\u001b[1;33m)\u001b[0m \u001b[1;32mfor\u001b[0m \u001b[0mrobo\u001b[0m \u001b[1;32min\u001b[0m \u001b[0mbuild_options\u001b[0m\u001b[1;33m]\u001b[0m\u001b[1;33m\u001b[0m\u001b[1;33m\u001b[0m\u001b[0m\n\u001b[0m\u001b[0;32m     24\u001b[0m \u001b[1;33m\u001b[0m\u001b[0m\n\u001b[0;32m     25\u001b[0m             \u001b[0mnew_inventories\u001b[0m \u001b[1;33m+=\u001b[0m \u001b[1;33m[\u001b[0m\u001b[0minventory2\u001b[0m\u001b[1;33m]\u001b[0m \u001b[1;33m+\u001b[0m \u001b[0madd_robo\u001b[0m\u001b[1;33m\u001b[0m\u001b[1;33m\u001b[0m\u001b[0m\n",
      "\u001b[1;32m~\\AppData\\Local\\Temp\\ipykernel_9936\\1697293999.py\u001b[0m in \u001b[0;36mbuild\u001b[1;34m(self, robo)\u001b[0m\n\u001b[0;32m     52\u001b[0m         \u001b[1;32mif\u001b[0m \u001b[0mrobo\u001b[0m \u001b[1;33m==\u001b[0m \u001b[1;34m'ore'\u001b[0m\u001b[1;33m:\u001b[0m\u001b[1;33m\u001b[0m\u001b[1;33m\u001b[0m\u001b[0m\n\u001b[0;32m     53\u001b[0m             return Inventory(self.blueprint, self.ore_robo+1, self.clay_robo, self.obs_robo, \n\u001b[1;32m---> 54\u001b[1;33m                              self.geo_robo, self.ore - self.ore_robo_cost, self.clay, self.obs, self.geo)\n\u001b[0m\u001b[0;32m     55\u001b[0m         \u001b[1;32melif\u001b[0m \u001b[0mrobo\u001b[0m \u001b[1;33m==\u001b[0m \u001b[1;34m'clay'\u001b[0m\u001b[1;33m:\u001b[0m\u001b[1;33m\u001b[0m\u001b[1;33m\u001b[0m\u001b[0m\n\u001b[0;32m     56\u001b[0m             return Inventory(self.blueprint, self.ore_robo, self.clay_robo+1, self.obs_robo, \n",
      "\u001b[1;32m~\\AppData\\Local\\Temp\\ipykernel_9936\\1697293999.py\u001b[0m in \u001b[0;36m__init__\u001b[1;34m(self, blueprint, ore_robo, clay_robo, obs_robo, geo_robo, ore, clay, obs, geo)\u001b[0m\n\u001b[0;32m      9\u001b[0m         \u001b[0mself\u001b[0m\u001b[1;33m.\u001b[0m\u001b[0mclay_robo_cost\u001b[0m \u001b[1;33m=\u001b[0m \u001b[0mblueprint\u001b[0m\u001b[1;33m[\u001b[0m\u001b[1;36m2\u001b[0m\u001b[1;33m]\u001b[0m\u001b[1;33m\u001b[0m\u001b[1;33m\u001b[0m\u001b[0m\n\u001b[0;32m     10\u001b[0m         \u001b[0mself\u001b[0m\u001b[1;33m.\u001b[0m\u001b[0mobsidian_robo_cost\u001b[0m \u001b[1;33m=\u001b[0m \u001b[0mblueprint\u001b[0m\u001b[1;33m[\u001b[0m\u001b[1;36m3\u001b[0m\u001b[1;33m:\u001b[0m\u001b[1;36m5\u001b[0m\u001b[1;33m]\u001b[0m\u001b[1;33m\u001b[0m\u001b[1;33m\u001b[0m\u001b[0m\n\u001b[1;32m---> 11\u001b[1;33m         \u001b[0mself\u001b[0m\u001b[1;33m.\u001b[0m\u001b[0mgeode_robo_cost\u001b[0m \u001b[1;33m=\u001b[0m \u001b[0mblueprint\u001b[0m\u001b[1;33m[\u001b[0m\u001b[1;36m5\u001b[0m\u001b[1;33m:\u001b[0m\u001b[1;33m]\u001b[0m\u001b[1;33m\u001b[0m\u001b[1;33m\u001b[0m\u001b[0m\n\u001b[0m\u001b[0;32m     12\u001b[0m \u001b[1;33m\u001b[0m\u001b[0m\n\u001b[0;32m     13\u001b[0m \u001b[1;33m\u001b[0m\u001b[0m\n",
      "\u001b[1;31mKeyboardInterrupt\u001b[0m: "
     ]
    }
   ],
   "source": [
    "calculate_quality(blueprints[0], 24)"
   ]
  }
 ],
 "metadata": {
  "kernelspec": {
   "display_name": "Python 3 (ipykernel)",
   "language": "python",
   "name": "python3"
  },
  "language_info": {
   "codemirror_mode": {
    "name": "ipython",
    "version": 3
   },
   "file_extension": ".py",
   "mimetype": "text/x-python",
   "name": "python",
   "nbconvert_exporter": "python",
   "pygments_lexer": "ipython3",
   "version": "3.7.1"
  }
 },
 "nbformat": 4,
 "nbformat_minor": 5
}
