{
 "cells": [
  {
   "cell_type": "markdown",
   "id": "7afcfa14-b08c-46ec-9dd8-1b6511fd4552",
   "metadata": {},
   "source": [
    "## Mixed Messages"
   ]
  },
  {
   "cell_type": "code",
   "execution_count": 83,
   "id": "6bbce9ed-9d35-4b17-95d6-98889e68b877",
   "metadata": {},
   "outputs": [],
   "source": [
    "from pathlib import Path\n",
    "import numpy as np"
   ]
  },
  {
   "cell_type": "code",
   "execution_count": 94,
   "id": "faee9c05-b3da-4c62-8e9f-a12c029fb509",
   "metadata": {},
   "outputs": [],
   "source": [
    "code = [[int(num), False] for num in Path('code.txt').read_text().split('\\n')]"
   ]
  },
  {
   "cell_type": "code",
   "execution_count": 98,
   "id": "f76bfe21-08c4-4731-be0c-c691c5c0cf0e",
   "metadata": {},
   "outputs": [],
   "source": [
    "def decode_list(code):\n",
    "    \n",
    "    code = code.copy()\n",
    "    \n",
    "    sort = np.array([b for a,b in code]) == True\n",
    "    \n",
    "    code_length = len(code)\n",
    "    \n",
    "    while not np.all(sort):\n",
    "        first_unsorted_index = np.where(sort == False)[0][0]\n",
    "        \n",
    "        num_steps = code[first_unsorted_index][0]\n",
    "        \n",
    "        index = target_index(first_unsorted_index, num_steps, code_length)\n",
    "        \n",
    "        \n",
    "        element = code.pop(first_unsorted_index)\n",
    "        code.insert(index, [element[0], True])\n",
    "        \n",
    "        sort = np.array([b for a,b in code]) == True\n",
    "        \n",
    "    return code"
   ]
  },
  {
   "cell_type": "code",
   "execution_count": 102,
   "id": "3f629e71-f4cc-4282-bd05-54bf98f93d50",
   "metadata": {},
   "outputs": [],
   "source": [
    "def target_index(current_index, num_steps, length):\n",
    "    \n",
    "    if current_index + num_steps > 0 and current_index + num_steps < length:\n",
    "        return current_index + num_steps\n",
    "    elif current_index + num_steps >= length:\n",
    "        # steps taken to cross over and be placed at index 1\n",
    "        steps_taken = length - current_index\n",
    "        remainder = num_steps - steps_taken\n",
    "        \n",
    "        # How many steps it takes to reach index 1 again\n",
    "        cycle_length = length - 1\n",
    "        \n",
    "        remainder %= cycle_length\n",
    "        \n",
    "        return target_index(1, remainder, length)\n",
    "    \n",
    "    elif current_index + num_steps <= 0:\n",
    "        \n",
    "        # steps taken to cross over and be placed at index length-1\n",
    "        steps_taken = current_index\n",
    "        remainder = num_steps + steps_taken\n",
    "        \n",
    "        # How may steps ti takes to reach index length-1 again\n",
    "        cycle_length = length - 1\n",
    "        \n",
    "        remainder = -1*(abs(remainder) % cycle_length)\n",
    "        \n",
    "        return target_index(length-1, remainder, length)\n",
    "        "
   ]
  },
  {
   "cell_type": "code",
   "execution_count": 103,
   "id": "e7ee6f45-089c-48d8-bdf2-f0d757ef0e07",
   "metadata": {},
   "outputs": [],
   "source": [
    "code2 = decode_list(code)"
   ]
  },
  {
   "cell_type": "code",
   "execution_count": 104,
   "id": "7ca776e2-0bae-4aaf-84d7-9967c1dd29b0",
   "metadata": {},
   "outputs": [
    {
     "name": "stdout",
     "output_type": "stream",
     "text": [
      "6712\n"
     ]
    }
   ],
   "source": [
    "zero_index = code2.index([0, True])\n",
    "code_length = len(code2)\n",
    "\n",
    "print(sum([code2[(zero_index + index) % code_length][0] for index in [1000, 2000, 3000]]))"
   ]
  },
  {
   "cell_type": "markdown",
   "id": "bd195d6f-e129-40d3-ad27-95277f32ee17",
   "metadata": {},
   "source": [
    "## Part 2: You've played this game before"
   ]
  },
  {
   "cell_type": "code",
   "execution_count": 105,
   "id": "16af45f6-85e8-4348-905c-ee6c1b01a8df",
   "metadata": {},
   "outputs": [],
   "source": [
    "code = Path('code.txt').read_text().split('\\n')\n",
    "code_length = len(code)\n",
    "\n",
    "code = [[int(num)*811589153, index] for num,index in zip(code, range(code_length))]"
   ]
  },
  {
   "cell_type": "code",
   "execution_count": 108,
   "id": "dde8e5df-9032-4b81-ab75-6444f275e313",
   "metadata": {},
   "outputs": [],
   "source": [
    "def decode_list_multiple(code, mixes = 10):\n",
    "    code = code.copy()\n",
    "    code_length = len(code)\n",
    "    \n",
    "    for i in range(mixes):\n",
    "        for j in range(code_length):\n",
    "            index = [b for a, b in code].index(j)\n",
    "            \n",
    "            num_steps = code[index][0]\n",
    "            \n",
    "            index2 = target_index(index, num_steps, code_length)\n",
    "            \n",
    "            element = code.pop(index)\n",
    "            \n",
    "            code.insert(index2, element)\n",
    "            \n",
    "        print(i)\n",
    "        \n",
    "    return code"
   ]
  },
  {
   "cell_type": "code",
   "execution_count": 109,
   "id": "fef1016a-0a1d-41cd-8a3a-c8bbc56568a3",
   "metadata": {},
   "outputs": [
    {
     "name": "stdout",
     "output_type": "stream",
     "text": [
      "0\n",
      "1\n",
      "2\n",
      "3\n",
      "4\n",
      "5\n",
      "6\n",
      "7\n",
      "8\n",
      "9\n"
     ]
    }
   ],
   "source": [
    "code2 = decode_list_multiple(code)"
   ]
  },
  {
   "cell_type": "code",
   "execution_count": null,
   "id": "c3ba9206-7235-46c0-94b8-afda06e03c44",
   "metadata": {},
   "outputs": [],
   "source": [
    "zero_index = code2.index([0, True])\n",
    "code_length = len(code2)\n",
    "\n",
    "print(sum([code2[(zero_index + index) % code_length][0] for index in [1000, 2000, 3000]]))"
   ]
  }
 ],
 "metadata": {
  "kernelspec": {
   "display_name": "Python 3 (ipykernel)",
   "language": "python",
   "name": "python3"
  },
  "language_info": {
   "codemirror_mode": {
    "name": "ipython",
    "version": 3
   },
   "file_extension": ".py",
   "mimetype": "text/x-python",
   "name": "python",
   "nbconvert_exporter": "python",
   "pygments_lexer": "ipython3",
   "version": "3.10.4"
  }
 },
 "nbformat": 4,
 "nbformat_minor": 5
}
