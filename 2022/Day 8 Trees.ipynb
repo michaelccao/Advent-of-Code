{
 "cells": [
  {
   "cell_type": "code",
   "execution_count": 1,
   "id": "322bc86f-b608-43e4-901b-2fa7ef3b8793",
   "metadata": {},
   "outputs": [],
   "source": [
    "import numpy as np\n",
    "from pathlib import Path"
   ]
  },
  {
   "cell_type": "code",
   "execution_count": 2,
   "id": "c285b88a-0a01-44a9-b229-bad6dcc3f364",
   "metadata": {},
   "outputs": [],
   "source": [
    "trees = Path('trees.txt').read_text().split('\\n')"
   ]
  },
  {
   "cell_type": "code",
   "execution_count": 6,
   "id": "39f83d5d-faca-4508-96d2-0dd378e3fa37",
   "metadata": {},
   "outputs": [],
   "source": [
    "trees = np.array([[tree for tree in line] for line in trees])"
   ]
  },
  {
   "cell_type": "code",
   "execution_count": 8,
   "id": "a8722a50-296d-4a54-9c6a-583acc5c143f",
   "metadata": {},
   "outputs": [],
   "source": [
    "height, width = trees.shape"
   ]
  },
  {
   "cell_type": "code",
   "execution_count": 42,
   "id": "92a31dc1-6db2-4ba6-9a06-d9d21e74b6e4",
   "metadata": {},
   "outputs": [
    {
     "name": "stdout",
     "output_type": "stream",
     "text": [
      "1787\n"
     ]
    }
   ],
   "source": [
    "visible_trees = 2*height + 2*width - 4\n",
    "\n",
    "for i in range(1, height - 1):\n",
    "    for j in range(1, width - 1):\n",
    "        target_tree = trees[i, j]\n",
    "        \n",
    "        left = trees[i, 0:j]\n",
    "        right = trees[i, j+1:]\n",
    "        up = trees[0:i, j]\n",
    "        down = trees[i+1:, j]\n",
    "        \n",
    "        left = np.all(target_tree > left)\n",
    "        right = np.all(target_tree > right)\n",
    "        up = np.all(target_tree > up)\n",
    "        down = np.all(target_tree > down)\n",
    "        \n",
    "        if left or right or up or down:\n",
    "            visible_trees += 1\n",
    "            \n",
    "print(visible_trees)"
   ]
  },
  {
   "cell_type": "markdown",
   "id": "52e52399-a67f-47b3-a817-4235eca46645",
   "metadata": {},
   "source": [
    "## Part 2"
   ]
  },
  {
   "cell_type": "code",
   "execution_count": 100,
   "id": "0d254278-8577-466c-aec3-3531a78b5262",
   "metadata": {},
   "outputs": [
    {
     "name": "stdout",
     "output_type": "stream",
     "text": [
      "440640.0\n"
     ]
    }
   ],
   "source": [
    "scenic_scores = np.zeros((height, width))\n",
    "\n",
    "for i in range(1, height - 1):\n",
    "    for j in range(1, width - 1):\n",
    "        target_tree = trees[i, j]\n",
    "        \n",
    "        left = trees[i, j-1::-1]\n",
    "        right = trees[i, j+1:]\n",
    "        up = trees[i-1::-1, j]\n",
    "        down = trees[i+1:, j]\n",
    "        \n",
    "        left_blocking_tree, = np.where(target_tree <= left)\n",
    "        right_blocking_tree, = np.where(target_tree <= right)\n",
    "        up_blocking_tree, = np.where(target_tree <= up)\n",
    "        down_blocking_tree, = np.where(target_tree <= down)\n",
    "        \n",
    "        if len(left_blocking_tree) == 0:\n",
    "            left_blocking_tree = j\n",
    "        else:\n",
    "            left_blocking_tree = left_blocking_tree[0] + 1\n",
    "        \n",
    "        if len(right_blocking_tree) == 0:\n",
    "            right_blocking_tree = width - j - 1\n",
    "        else:\n",
    "            right_blocking_tree = right_blocking_tree[0] + 1\n",
    "            \n",
    "        if len(up_blocking_tree) == 0:\n",
    "            up_blocking_tree = i\n",
    "        else:\n",
    "            up_blocking_tree = up_blocking_tree[0] + 1\n",
    "        \n",
    "        if len(down_blocking_tree) == 0:\n",
    "            down_blocking_tree = height - i - 1\n",
    "        else:\n",
    "            down_blocking_tree = down_blocking_tree[0] + 1\n",
    "            \n",
    "        scenic_scores[i, j] = left_blocking_tree * right_blocking_tree * up_blocking_tree * down_blocking_tree\n",
    "        \n",
    "print(np.max(scenic_scores))"
   ]
  }
 ],
 "metadata": {
  "kernelspec": {
   "display_name": "Python 3 (ipykernel)",
   "language": "python",
   "name": "python3"
  },
  "language_info": {
   "codemirror_mode": {
    "name": "ipython",
    "version": 3
   },
   "file_extension": ".py",
   "mimetype": "text/x-python",
   "name": "python",
   "nbconvert_exporter": "python",
   "pygments_lexer": "ipython3",
   "version": "3.10.4"
  }
 },
 "nbformat": 4,
 "nbformat_minor": 5
}
