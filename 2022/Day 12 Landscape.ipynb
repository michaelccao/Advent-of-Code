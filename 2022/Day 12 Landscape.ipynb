{
 "cells": [
  {
   "cell_type": "markdown",
   "id": "4da9eb17-d5e6-40a7-b03d-e6217a30c943",
   "metadata": {},
   "source": [
    "## Here we are, born to be Kings"
   ]
  },
  {
   "cell_type": "code",
   "execution_count": 8,
   "id": "18f137d2-815f-4a72-b668-673b054cc197",
   "metadata": {},
   "outputs": [],
   "source": [
    "import numpy as np\n",
    "from pathlib import Path"
   ]
  },
  {
   "cell_type": "code",
   "execution_count": 171,
   "id": "4700726d-bc97-45f4-8732-16a316593b03",
   "metadata": {},
   "outputs": [
    {
     "name": "stdout",
     "output_type": "stream",
     "text": [
      "S [20, 0]\n",
      "E [20, 137]\n"
     ]
    }
   ],
   "source": [
    "landscape = Path('landscape.txt').read_text().split('\\n')\n",
    "landscape = np.array([[ord(height)-97 for height in line] for line in landscape])\n",
    "\n",
    "S = [coord[0] for coord in np.where(landscape == ord('S')-97)]\n",
    "E = [coord[0] for coord in np.where(landscape == ord('E')-97)]\n",
    "\n",
    "print(f'S {S}')\n",
    "print(f'E {E}')\n",
    "\n",
    "landscape[tuple(S)] = ord('a') - 97\n",
    "landscape[tuple(E)] = ord('z') - 97"
   ]
  },
  {
   "cell_type": "code",
   "execution_count": 172,
   "id": "149ec49b-94fd-4930-a857-341e85167118",
   "metadata": {},
   "outputs": [],
   "source": [
    "def find_legal_moves(location):\n",
    "    moves = []\n",
    "    i, j = location\n",
    "    height = landscape[i, j]\n",
    "    \n",
    "    possible_moves = [[i - 1, j], [i + 1, j], [i, j - 1], [i, j + 1]]\n",
    "    \n",
    "    for move in possible_moves:\n",
    "        i2, j2 = move\n",
    "        \n",
    "        if i2 >= 0 and i2 < landscape.shape[0] and j2 >= 0 and j2 < landscape.shape[1] and landscape[i2, j2] <= height + 1:\n",
    "            moves += [move]\n",
    "    \n",
    "    return moves"
   ]
  },
  {
   "cell_type": "code",
   "execution_count": 196,
   "id": "68672538-7a08-45c2-bbe6-767cb41305f3",
   "metadata": {},
   "outputs": [
    {
     "name": "stdout",
     "output_type": "stream",
     "text": [
      "437\n"
     ]
    }
   ],
   "source": [
    "current_locations = [S]\n",
    "visited_locations = [S]\n",
    "\n",
    "depth = 0\n",
    "\n",
    "while E not in visited_locations:\n",
    "    depth += 1\n",
    "    new_locations = []\n",
    "    \n",
    "    for location in current_locations:\n",
    "        moves = find_legal_moves(location)\n",
    "        \n",
    "        moves = [move for move in moves if move not in visited_locations]\n",
    "        \n",
    "        visited_locations += moves\n",
    "        new_locations += moves\n",
    "        \n",
    "    current_locations = new_locations\n",
    "    \n",
    "print(depth)"
   ]
  },
  {
   "cell_type": "markdown",
   "id": "e69e3b63-4216-4b81-b276-32c4e4ecdb55",
   "metadata": {},
   "source": [
    "## Part 2 - There can only be one"
   ]
  },
  {
   "cell_type": "code",
   "execution_count": 197,
   "id": "9a17bb55-e76f-471a-b3cf-11f2f0202b31",
   "metadata": {},
   "outputs": [],
   "source": [
    "def find_backtrack_moves(location):\n",
    "    moves = []\n",
    "    i, j = location\n",
    "    height = landscape[i, j]\n",
    "    \n",
    "    possible_moves = [[i - 1, j], [i + 1, j], [i, j - 1], [i, j + 1]]\n",
    "    \n",
    "    for move in possible_moves:\n",
    "        i2, j2 = move\n",
    "        \n",
    "        if i2 >= 0 and i2 < landscape.shape[0] and j2 >= 0 and j2 < landscape.shape[1] and landscape[i2, j2] >= height - 1:\n",
    "            moves += [move]\n",
    "    \n",
    "    return moves"
   ]
  },
  {
   "cell_type": "code",
   "execution_count": 198,
   "id": "b3ffcd25-1f03-4250-acf3-21753dbd815e",
   "metadata": {},
   "outputs": [
    {
     "name": "stdout",
     "output_type": "stream",
     "text": [
      "430\n"
     ]
    }
   ],
   "source": [
    "current_heights = [25]\n",
    "current_locations = [E]\n",
    "\n",
    "visited_locations = [E]\n",
    "\n",
    "depth = 0\n",
    "\n",
    "while 0 not in current_heights:\n",
    "    depth += 1\n",
    "    new_locations = []\n",
    "    \n",
    "    for location in current_locations:\n",
    "        moves = find_backtrack_moves(location)\n",
    "        \n",
    "        moves = [move for move in moves if move not in visited_locations]\n",
    "        \n",
    "        visited_locations += moves\n",
    "        new_locations += moves\n",
    "        \n",
    "    current_locations = new_locations\n",
    "    current_heights = [landscape[i, j] for i, j in new_locations]\n",
    "    \n",
    "print(depth)"
   ]
  }
 ],
 "metadata": {
  "kernelspec": {
   "display_name": "Python 3 (ipykernel)",
   "language": "python",
   "name": "python3"
  },
  "language_info": {
   "codemirror_mode": {
    "name": "ipython",
    "version": 3
   },
   "file_extension": ".py",
   "mimetype": "text/x-python",
   "name": "python",
   "nbconvert_exporter": "python",
   "pygments_lexer": "ipython3",
   "version": "3.10.4"
  }
 },
 "nbformat": 4,
 "nbformat_minor": 5
}
