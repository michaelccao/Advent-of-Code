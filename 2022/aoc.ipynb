{
 "cells": [
  {
   "cell_type": "code",
   "execution_count": 10,
   "id": "a1fd1bae-6e1c-42a0-b679-6f2bd6c0b4bc",
   "metadata": {},
   "outputs": [],
   "source": [
    "import numpy as np\n",
    "from pathlib import Path"
   ]
  },
  {
   "cell_type": "code",
   "execution_count": 6,
   "id": "e6abd3f9-3540-4d4c-8f4f-d2b66dd5c606",
   "metadata": {},
   "outputs": [],
   "source": [
    "calories = Path('calories.txt')\n",
    "calories = calories.read_text().split('\\n')"
   ]
  },
  {
   "cell_type": "code",
   "execution_count": 7,
   "id": "7a633315-1190-4665-b3c2-9f875eb06dfd",
   "metadata": {},
   "outputs": [],
   "source": [
    "elf_inventories = []\n",
    "\n",
    "current_elf = []\n",
    "for item in calories:\n",
    "    if item != '':\n",
    "        current_elf += [item]\n",
    "    else:\n",
    "        elf_inventories += [current_elf]\n",
    "        current_elf = []"
   ]
  },
  {
   "cell_type": "code",
   "execution_count": 11,
   "id": "09c4e7c9-6955-4efa-bdac-af7014649336",
   "metadata": {},
   "outputs": [],
   "source": [
    "elf_totals = []\n",
    "\n",
    "for elf_inventory in elf_inventories:\n",
    "    elf_inventory = np.array(elf_inventory, dtype = 'int')\n",
    "    total_calories = np.sum(elf_inventory)\n",
    "    \n",
    "    elf_totals += [total_calories]"
   ]
  },
  {
   "cell_type": "code",
   "execution_count": 16,
   "id": "944e2cc7-d2e4-4757-abc3-7796c243bbe1",
   "metadata": {},
   "outputs": [
    {
     "data": {
      "text/plain": [
       "208567"
      ]
     },
     "execution_count": 16,
     "metadata": {},
     "output_type": "execute_result"
    }
   ],
   "source": [
    "np.sum(np.sort(elf_totals)[-3::])"
   ]
  },
  {
   "cell_type": "markdown",
   "id": "8bf32dd3-ff4a-45bc-bf3d-4730906e0ff9",
   "metadata": {},
   "source": [
    "## RPS"
   ]
  },
  {
   "cell_type": "code",
   "execution_count": 17,
   "id": "9236cb7c-c0fc-49b8-b360-fb4648ac6288",
   "metadata": {},
   "outputs": [],
   "source": [
    "rps = Path('rps.txt').read_text().split('\\n')"
   ]
  },
  {
   "cell_type": "code",
   "execution_count": 21,
   "id": "9a316dad-cead-4af0-bf44-6786c81bd378",
   "metadata": {},
   "outputs": [],
   "source": [
    "rps_rounds = np.array([item.split(' ') for item in rps])"
   ]
  },
  {
   "cell_type": "code",
   "execution_count": 26,
   "id": "649aa354-c591-4992-b791-86a999cef7c2",
   "metadata": {},
   "outputs": [
    {
     "name": "stdout",
     "output_type": "stream",
     "text": [
      "14163\n"
     ]
    }
   ],
   "source": [
    "outcomes = {'AX' : 3,\n",
    "            'AY' : 6,\n",
    "            'AZ' : 0,\n",
    "            'BX' : 0,\n",
    "            'BY' : 3,\n",
    "            'BZ' : 6,\n",
    "            'CX' : 6,\n",
    "            'CY' : 0,\n",
    "            'CZ' : 3}\n",
    "\n",
    "shapes = {'X': 1,\n",
    "          'Y': 2,\n",
    "          'Z': 3}\n",
    "\n",
    "total_score = 0\n",
    "\n",
    "for opponent, me in rps_rounds:\n",
    "    outcome_score = outcomes[opponent+me]\n",
    "    shape_score = shapes[me]\n",
    "    \n",
    "    total_score += shape_score + outcome_score\n",
    "    \n",
    "print(total_score)"
   ]
  },
  {
   "cell_type": "code",
   "execution_count": 32,
   "id": "278ec294-e18e-4c08-bd79-826728f2e885",
   "metadata": {},
   "outputs": [
    {
     "name": "stdout",
     "output_type": "stream",
     "text": [
      "12091\n"
     ]
    }
   ],
   "source": [
    "responses = {'AX' : 'Z',\n",
    "             'AY' : 'X',\n",
    "             'AZ' : 'Y',\n",
    "             'BX' : 'X',\n",
    "             'BY' : 'Y',\n",
    "             'BZ' : 'Z',\n",
    "             'CX' : 'Y',\n",
    "             'CY' : 'Z',\n",
    "             'CZ' : 'X'}\n",
    "\n",
    "\n",
    "outcomes = {'X': 0,\n",
    "            'Y': 3,\n",
    "            'Z': 6}\n",
    "\n",
    "total_score = 0\n",
    "\n",
    "for opponent, me in rps_rounds:\n",
    "    outcome_score = outcomes[me]\n",
    "    shape_score = shapes[responses[opponent+me]]\n",
    "    \n",
    "    total_score += shape_score + outcome_score\n",
    "    \n",
    "print(total_score)"
   ]
  },
  {
   "cell_type": "code",
   "execution_count": 28,
   "id": "bd8290f3-0a0b-4712-ad66-0efd63e5526b",
   "metadata": {},
   "outputs": [
    {
     "data": {
      "text/plain": [
       "('C', 'X')"
      ]
     },
     "execution_count": 28,
     "metadata": {},
     "output_type": "execute_result"
    }
   ],
   "source": [
    "opponent, me"
   ]
  },
  {
   "cell_type": "code",
   "execution_count": 30,
   "id": "dffda331-c0bc-4550-99e1-18ad55f9c5a8",
   "metadata": {},
   "outputs": [
    {
     "data": {
      "text/plain": [
       "1"
      ]
     },
     "execution_count": 30,
     "metadata": {},
     "output_type": "execute_result"
    }
   ],
   "source": [
    "shape_score"
   ]
  },
  {
   "cell_type": "markdown",
   "id": "89e32bb2-d0e9-4971-8012-24086a902d89",
   "metadata": {},
   "source": [
    "## Crates"
   ]
  },
  {
   "cell_type": "code",
   "execution_count": 33,
   "id": "5521af67-a023-489f-b24d-e914a506e3d7",
   "metadata": {},
   "outputs": [],
   "source": [
    "crates = Path('crates.txt').read_text().split('\\n')"
   ]
  },
  {
   "cell_type": "code",
   "execution_count": 36,
   "id": "f68e924f-fced-4a40-9ff6-3443848cd14a",
   "metadata": {},
   "outputs": [],
   "source": [
    "stacks_index = crates.index(' 1   2   3   4   5   6   7   8   9 ')"
   ]
  },
  {
   "cell_type": "code",
   "execution_count": 90,
   "id": "8329b02d-d3d9-4143-b441-f93855b75d2e",
   "metadata": {},
   "outputs": [],
   "source": [
    "stacks = {}\n",
    "for i in range(1, 10):\n",
    "    stacks[f'{i}'] = []\n",
    "    \n",
    "for i in range(stacks_index):\n",
    "    for j in range(9):\n",
    "        letter = crates[i][int(4*j + 1)]\n",
    "        if letter != ' ':\n",
    "            stacks[f'{j+1}'] += [letter]"
   ]
  },
  {
   "cell_type": "code",
   "execution_count": 92,
   "id": "f41f182c-c712-44cd-b1b9-ca23224c3c95",
   "metadata": {},
   "outputs": [
    {
     "data": {
      "text/plain": [
       "{'1': ['Z', 'V', 'T', 'B', 'J', 'G', 'R'],\n",
       " '2': ['L', 'V', 'R', 'J'],\n",
       " '3': ['F', 'Q', 'S'],\n",
       " '4': ['G', 'Q', 'V', 'F', 'L', 'N', 'H', 'Z'],\n",
       " '5': ['W', 'M', 'S', 'C', 'J', 'T', 'Q', 'R'],\n",
       " '6': ['F', 'H', 'C', 'T', 'W', 'S'],\n",
       " '7': ['J', 'N', 'F', 'V', 'C', 'Z', 'D'],\n",
       " '8': ['Q', 'F', 'R', 'W', 'D', 'Z', 'G', 'L'],\n",
       " '9': ['P', 'V', 'W', 'B', 'J']}"
      ]
     },
     "execution_count": 92,
     "metadata": {},
     "output_type": "execute_result"
    }
   ],
   "source": [
    "stacks"
   ]
  },
  {
   "cell_type": "code",
   "execution_count": 62,
   "id": "81b150a4-a6da-4cba-afd4-00b89c3b8d83",
   "metadata": {},
   "outputs": [],
   "source": [
    "instructions = crates[stacks_index+2::]"
   ]
  },
  {
   "cell_type": "code",
   "execution_count": 65,
   "id": "02290186-08b7-4d03-8486-64751f306a3a",
   "metadata": {},
   "outputs": [],
   "source": [
    "import re"
   ]
  },
  {
   "cell_type": "code",
   "execution_count": 93,
   "id": "160e3501-dd76-4658-a1b5-e23106d03763",
   "metadata": {},
   "outputs": [],
   "source": [
    "pattern = 'move (?P<num_items>\\d+) from (?P<src_stack>\\d+) to (?P<dest_stack>\\d+)'\n",
    "pattern = re.compile(pattern)\n",
    "\n",
    "for instruction in instructions:\n",
    "    \n",
    "    num_items, src_stack, dest_stack = re.match(pattern, instruction).groups()\n",
    "    \n",
    "    for i in range(int(num_items)):\n",
    "        moving_item = stacks[src_stack].pop(0)\n",
    "        stacks[dest_stack].insert(0, moving_item)"
   ]
  },
  {
   "cell_type": "code",
   "execution_count": 101,
   "id": "fcc4326f-9016-46e1-a721-3cf1832a7ff5",
   "metadata": {},
   "outputs": [],
   "source": [
    "result = [stacks[key][0] for key in stacks]\n",
    "result = ''.join(result)"
   ]
  },
  {
   "cell_type": "code",
   "execution_count": 102,
   "id": "76a109e8-7689-43d8-a3b3-21a64088c62a",
   "metadata": {},
   "outputs": [],
   "source": [
    "stacks = {}\n",
    "for i in range(1, 10):\n",
    "    stacks[f'{i}'] = []\n",
    "    \n",
    "for i in range(stacks_index):\n",
    "    for j in range(9):\n",
    "        letter = crates[i][int(4*j + 1)]\n",
    "        if letter != ' ':\n",
    "            stacks[f'{j+1}'] += [letter]"
   ]
  },
  {
   "cell_type": "code",
   "execution_count": 104,
   "id": "85ee266e-43ad-48a2-8c55-175cc97b997c",
   "metadata": {},
   "outputs": [],
   "source": [
    "for instruction in instructions:\n",
    "    \n",
    "    num_items, src_stack, dest_stack = re.match(pattern, instruction).groups()\n",
    "    \n",
    "    for i in range(int(num_items)):\n",
    "        moving_item = stacks[src_stack].pop(int(num_items) - i - 1)\n",
    "        stacks[dest_stack].insert(0, moving_item)"
   ]
  },
  {
   "cell_type": "code",
   "execution_count": 105,
   "id": "27869d6a-0a49-465c-8636-99ec87c9dd07",
   "metadata": {},
   "outputs": [
    {
     "name": "stdout",
     "output_type": "stream",
     "text": [
      "QZFJRWHGS\n"
     ]
    }
   ],
   "source": [
    "result = [stacks[key][0] for key in stacks]\n",
    "result = ''.join(result)\n",
    "\n",
    "print(result)"
   ]
  },
  {
   "cell_type": "markdown",
   "id": "3f8f7ca9-360b-4c60-bf06-0875b3d55371",
   "metadata": {},
   "source": [
    "## Signal"
   ]
  },
  {
   "cell_type": "code",
   "execution_count": 107,
   "id": "b7e5ee22-6f1b-4440-a433-459b1cc18cc4",
   "metadata": {},
   "outputs": [],
   "source": [
    "signal = 'sbpbwwrlwrwggscsfcsshsvhshphttzctztfflddvbvcbcvbcbnbrrstsspsvpvllncccqssqdssnsmshmshhtssbzzlplffzppddmhhwnhntnjtnjtnnqggjdgjdjrjffsdfsfbsffhtthwwfssqpspllcvcdvvfvfzfbzzgpglpgpmppfsfdfbfvvfjfsjjvqqbvqbvqbvvlvglvglvljvjzvvqcvqcqjcqqpddqbqcqrqmmvnvbnnfqnncznccqjcqqjzzwlltrrmmlwlllbjlblzlddfdmmscmsspfssqggbsbsjjdqdqgqgqbqdqrqlrrltttghthrtrwrdrnrfnfvftvtsvtvwtvwttvqtvtccqtqmqggwhhhlzhhrwwbwqwbbfrrmddwhdwdnwdwbdwwsswtwnnvvdggbbtwbbwllgffqpffpgpgmpmmjqqmpmffjgfgrffdzzspzptzzdszszbsbsbsvsbbhsbsbddnhhrqqcwwblbwlwnnthtsshmshmhgmgqgjqqpccfvcvbbbnllgmlgmmbnmnlmlzlffrrrgssmcmddnpdndtntrrqdqldldbbtppvddgndnwwctwccpbpffngnsgshggphggtssgngtnthtllzflzflzfzrfftgtstppghgnnpggrdgdnnswwccljlflwwgzgcgrrhssbwbllblnlvlddsffgrrnbbmsmmmhjmjvmjvmjmqqpdqppltlflmfmssqcqsqvsvsggpglplslggqtggmsmmmgffrccrvvsdvdvfddprdprrwjrjcjjmlmrmqmggqgdqdwdsdwwwgfwfddrcdcvcmmjbbmrrhlrrwcwvcclttwbwttgffnmnjmjdmmmlqmqrrlblplccdbcbwcbcpphpqpqlqrllqwwjsjgjbjqbbmcmzmrrqtrqqmcmmnjmjbbtnnbbjdjzzvbzvzjzdjzjrzzfzfbbmnmdnnzppmbpbhbdbvvqnqqnqrnrzrhhrddbqdqpqqwgwlglplglslhhpjpdjdjgddnppmvppjddczccgsccdsccbcvczccnbnmmsnsmmrwmwbmbbcpbbwbppzggdnnnzmnzzvrvcrvcvcrvrnrzzqzmzttjhhnffqggnqqwzwfzfwzwfwcwnccwgcwgcgqcgqcggzgwgfwgfffjttjddwswqqnttqwqsqhhcmchcscbbnwnlwlrlppqnnwjnjtntrtdtbbmzzrmzrzvrzvrzzwqwqllccnffvmmfmvmzzfttnnzttrbttdvvhdhzhzhvzzfsfszsvsttrqqdlldflfjjnqjjbhhqhzhcchppzsznntdntdddqqwjqjqmmgnnhrhjhnjnznwwdpplzzfzztbzzbmzmbbgjgtjtqjqpqhqgqhhtztpzpmzmjmhhjwwjsspbssvdsvsgvssghgvglgtltgllmhmtmhttfgglwgllpvpgpspzzhnnzcnzzldzdmzmlzzwtwhhlfhhvthhjdjsdsmddgzzsjjnznjnmjjgdgtdtzdtdvtddzwzgwwqvqccwrrrvddbtdbbshbhssnvsnvssswcwjcjlltvvltvvdsdqdsswlwttzfzhzjjgjsgjgttbccsvcscllbfbzzwwwznwwtzwzjzwjjgqjqrjrdjrddzsznsznzpzszhzzspzzbzrzhhsbspsqpqqqpddhdcdldttlccjrjsrsfftfdfrrtntpnpsnnwjnwnznpzzlqqlmqlmmcddlqqzssglsglssprmnvltqhslvqmvszjtvtwqjcdngjmftnhwvjdvtwwhtnsdmvjdspnhnlmjgnmwlspcvpdmlsrnbbzlmwwrslssmcbggmfvgzsnpnlnzdqsbhcfjdccrspnzfmhbvwstvccvqqjlwhpnlrrwszjnrtdfzwrwlzwvdvbzbvltdpfwrjlslmrctwvbbvdrctgtgwtwpjjghhvdsqhplfrsjqlgsrbfgwdjlzdpdljtvjmpwqqbghndqnvjhngtpnpvzfbtchncwdqjhmzjlpdggbdcqrfjlwvczvpspljqmpgtrsvwwhqncfvfrwbnvsfjqlsjdlrqzmlqjgcpghhgzfhjcglllnhtmchrrptbzhqnfntgqbfstrvpsqsvqvcvpgjnchbvmgtgzqfrqcjrvldzghdfrvllrtfcwnsmmgdrcbjmdqgbfwmpwhfjmnbqrbvqvnmjlqtsjqvhzpdsgbjpjngmzbgnznvjqprfvwzjrfrwfdqrtlcgqqlvrzwmqwjbdvprvpwvdcrfdrcttnmnvjfrsrrmjgfjdmpdpnfsrwnprtdpvdmdwssvjrqtlcvpgrqgqqqffvvssbmghzjrzrzlcrnfjtdbvwsjzfvcrsmgqbcrdrjwdwbltffwbgjwtgtdblmlhvhlcpgdmpcztmpmgjghqpwzwtpnmnmgnqqrrtwczgmgtdbgdqtpnlbnzhshsfzsmrztffrmlsgqcprbjpqwjlqgwvctpmpshgzbzsjgqhzvsrjfwplvjbvltrlfldvsmlppcmsfrbbctggmqmjnhppstzrcfjtdgfwrrnmlvjphwtlqtjqcntjtzvgjtwvthjfbgpwhlrzdqncmggvgthmgjvrbnzbndsldnlcgtcqbqdnnbnqhvtpfnrclttfwcpnqscjbzdvbqrrsbzpdfhjllbjwsltjpmdnbrrzvhvzzqnlbglsjrnjbqffnnzmldfvtvmldfsztrnpcjgblsdhzfzmfqzlfrtslglhfvszppptjnjqcdmjcwqmfzhnqbfhslwhvtjfvcftzsphvghvtjjswpwghnfngmzddbwwqddsphvhcrwtthsjfswfqbvdsqghmrspdldfqmchnnrcdvjsclcnlsncsplchvzrwqbtvvqlqspftrwmjcbgpzbsmnfccbzgnhqsfjgmmsqsscdscfjbrmmtjbsphhlrlsgbllrptqrcgnqchzfddjwlldsbpcnzfbspfpchclqfbbtjpmtmtjthcdvwhrtqbgmgldcgcnmmhtbnqpzzcwlrscbzcqjzgztwjrnbmsnqtcllznlctzrntftspmnvhtfwbljnmrwsstvbmwclqrfpmwvjphrwddzdwtlfcvzlvqdmzhnvslfnfjhvdndlgbvvzbztpwvqzbzsbtqpqfmgqfgpzctfrqfjwmsnmlfqbgrlmncntcbshjhdcbqnvznhtcgcmmhnsbwpzbvtqbntwgflhjgmvvfhdbwfqmnfjlzdvvnpmvjrdfdnrhpbtllhbtbswwvrbwjgnqpbgnfrjtvbczbpmrcbwdlhztzssnwshjmmcqchptrtchrqncdgdtmwrlnmmwqlzqswwwvpngvwcphgnzrhpprjnbldscvwlqdjwnhjrnscdwlnhnsbwgzjtgvzdgqcjcgvrdhntszhdnjsbbrfphlmdlldjdslbjnnsfbmcnvtlczmtnhrwblnbrdptcpmsbwqptgmwzsqnmmchwnnrvrlfsrglfzzqbnzmpdtnhhbmfqvsrsdsctvhqwfgbtvhbbrsrqmrvvplrnbfnbdmrvzpgctdtglndhcqnllvvcppgfbwjrpqcbghlqdbmpzwrqpmvwddqgthlmzmdsvzdfsmgzltbsvphctzgjsmqvgjlsbgnvmgprbcsfhgrtbwtnnrsqcwfzrhlgjcwcfrjhffrvrvtnpczvwvjnnhfdgcppnnjjpttptcbmdqvgdbhdmlqgcqsrnbcrbtcgzbvgmhbnwzsgnwzbhdqqmvtpssvlvsttgnmcclqnjcgjnvtdggrcwsgbpjljgzgtllsnfvfshtbbpwrjhzvzswlfdvhbpngvgddcmhbzqcvnjhfsqpnvvsdvdtmqlqpzcgsnwlflnqprbqnwdqchjvsptbtrvtzvhrmrvznfpzmcsgnqtdvghhzwrrwvqwrztvdbjjtfchpftdcbthpfdczwchpptwzdpswvbhppdphgvpfzhprpqtnprgfmdnqrbrdlclcmhrdfrcdhwpcqhnbwmhrrgnctpvsqmphcwwvlmslszhdz'"
   ]
  },
  {
   "cell_type": "code",
   "execution_count": 119,
   "id": "90e4fe6e-3f40-4259-8ab0-adcac93f4579",
   "metadata": {},
   "outputs": [
    {
     "name": "stdout",
     "output_type": "stream",
     "text": [
      "1779\n",
      "2635\n"
     ]
    }
   ],
   "source": [
    "for i in range(3, len(signal)):\n",
    "    last_four = signal[i-3:i+1]\n",
    "    last_four = [letter for letter in last_four]\n",
    "    \n",
    "    if len(set(last_four)) == 4:\n",
    "        print(i+1)\n",
    "        break\n",
    "        \n",
    "for i in range(13, len(signal)):\n",
    "    last_fourteen = signal[i-13:i+1]\n",
    "    last_fourteen = [letter for letter in last_fourteen]\n",
    "    \n",
    "    if len(set(last_fourteen)) == 14:\n",
    "        print(i+1)\n",
    "        break"
   ]
  },
  {
   "cell_type": "code",
   "execution_count": 115,
   "id": "47ca4446-de92-49ea-be62-5cdddf82a40f",
   "metadata": {},
   "outputs": [
    {
     "data": {
      "text/plain": [
       "3"
      ]
     },
     "execution_count": 115,
     "metadata": {},
     "output_type": "execute_result"
    }
   ],
   "source": [
    "len(set([item for item in last_four]))"
   ]
  },
  {
   "cell_type": "markdown",
   "id": "5b14fefd-1eb7-4f1e-b747-a831ca0a6575",
   "metadata": {},
   "source": [
    "## Directory"
   ]
  },
  {
   "cell_type": "code",
   "execution_count": 120,
   "id": "79a7aac2-d522-4e78-b515-0a8dbe353155",
   "metadata": {},
   "outputs": [],
   "source": [
    "commands = Path('commands.txt').read_text().split('\\n')"
   ]
  },
  {
   "cell_type": "code",
   "execution_count": 155,
   "id": "d6d8ad8e-394b-4c74-92bd-fad5fb89dc26",
   "metadata": {},
   "outputs": [],
   "source": [
    "class File():\n",
    "    \n",
    "    def __init__(self, name, size):\n",
    "        self.name = name\n",
    "        self.size = size\n",
    "        \n",
    "class Folder():\n",
    "    \n",
    "    def __init__(self, name, parent_folder = None):\n",
    "        self.name = name\n",
    "        self.parent_folder = parent_folder\n",
    "        self.folders = []\n",
    "        self.files = []\n",
    "        \n",
    "        \n",
    "    def add_folder(self, Folder):\n",
    "        self.folders += [Folder]\n",
    "        \n",
    "    def add_file(self, File):\n",
    "        self.files += [File]\n",
    "        \n",
    "class Filesystem():\n",
    "    \n",
    "    def __init__(self):\n",
    "        self.folders = []\n",
    "        self.files = []"
   ]
  },
  {
   "cell_type": "code",
   "execution_count": 184,
   "id": "637d39d3-2e4a-4fc1-8900-10a44938f068",
   "metadata": {},
   "outputs": [],
   "source": [
    "root_folder = Folder('/')\n",
    "\n",
    "folders = [root_folder]\n",
    "\n",
    "for command in commands:\n",
    "    if command.startswith('$ cd'):\n",
    "        target_folder = command.split(' ')[-1]\n",
    "        \n",
    "        if target_folder == '..':\n",
    "            current_folder = current_folder.parent_folder\n",
    "        \n",
    "        elif target_folder == '/':\n",
    "            current_folder = root_folder\n",
    "        \n",
    "        else:\n",
    "            for folder in current_folder.folders:\n",
    "                if folder.name == target_folder:\n",
    "                    current_folder = folder\n",
    "    \n",
    "    elif command == '$ ls':\n",
    "        continue\n",
    "    \n",
    "    elif command.startswith('dir'):\n",
    "        folder = command.split(' ')[-1]\n",
    "        new_folder = Folder(folder, current_folder)\n",
    "        folders += [new_folder]\n",
    "        current_folder.add_folder(new_folder)\n",
    "    \n",
    "    else:\n",
    "        size, file = command.split(' ')\n",
    "        size = int(size)\n",
    "        \n",
    "        current_folder.add_file(File(file, size))"
   ]
  },
  {
   "cell_type": "code",
   "execution_count": 163,
   "id": "89820468-c178-45ed-988b-ed74da4a79cc",
   "metadata": {},
   "outputs": [],
   "source": [
    "def get_folder_size(Folder):\n",
    "    files = Folder.files\n",
    "    \n",
    "    sizes = [file.size for file in files]\n",
    "    \n",
    "    size_of_files = np.sum(np.array(sizes))\n",
    "    \n",
    "    if len(Folder.folders) == 0:\n",
    "        return size_of_files\n",
    "    \n",
    "    else:\n",
    "        folders = Folder.folders\n",
    "        sizes = [get_folder_size(folder) for folder in folders]\n",
    "        size_of_folders = np.sum(np.array(sizes))\n",
    "        \n",
    "        return size_of_files + size_of_folders"
   ]
  },
  {
   "cell_type": "code",
   "execution_count": 186,
   "id": "2acb8181-f6d9-41ff-a3ad-42b9696c81d6",
   "metadata": {},
   "outputs": [],
   "source": [
    "folder_sizes = [get_folder_size(folder) for folder in folders]"
   ]
  },
  {
   "cell_type": "code",
   "execution_count": 187,
   "id": "62792ca6-351d-460f-a7fa-36963c3ab7c3",
   "metadata": {},
   "outputs": [
    {
     "name": "stdout",
     "output_type": "stream",
     "text": [
      "1491614.0\n"
     ]
    }
   ],
   "source": [
    "total = 0\n",
    "for size in folder_sizes:\n",
    "    if size <= 100000:\n",
    "        total += size\n",
    "        \n",
    "print(total)"
   ]
  },
  {
   "cell_type": "code",
   "execution_count": 196,
   "id": "272739c3-095d-42de-ad23-d12404e8c4b3",
   "metadata": {},
   "outputs": [],
   "source": [
    "filesize_limit = 70000000\n",
    "memory_needed = 30000000\n",
    "\n",
    "currently_used = get_folder_size(root_folder)\n",
    "\n",
    "memory_available = filesize_limit - currently_used\n",
    "\n",
    "need_to_delete = memory_needed - memory_available\n",
    "\n",
    "delete_folder_size = currently_used\n",
    "\n",
    "for folder in folders:\n",
    "    folder_size = get_folder_size(folder)\n",
    "    if folder_size > need_to_delete and folder_size < delete_folder_size:\n",
    "        delete_folder_size = folder_size\n",
    "    "
   ]
  },
  {
   "cell_type": "code",
   "execution_count": 199,
   "id": "494bac0f-9f5a-4b72-90db-38da8f30a633",
   "metadata": {},
   "outputs": [
    {
     "data": {
      "text/plain": [
       "6400111.0"
      ]
     },
     "execution_count": 199,
     "metadata": {},
     "output_type": "execute_result"
    }
   ],
   "source": [
    "delete_folder_size"
   ]
  },
  {
   "cell_type": "code",
   "execution_count": 198,
   "id": "d4a8efbc-4617-49eb-a2fd-113869956353",
   "metadata": {},
   "outputs": [
    {
     "data": {
      "text/plain": [
       "6090134.0"
      ]
     },
     "execution_count": 198,
     "metadata": {},
     "output_type": "execute_result"
    }
   ],
   "source": [
    "need_to_delete"
   ]
  }
 ],
 "metadata": {
  "kernelspec": {
   "display_name": "Python 3 (ipykernel)",
   "language": "python",
   "name": "python3"
  },
  "language_info": {
   "codemirror_mode": {
    "name": "ipython",
    "version": 3
   },
   "file_extension": ".py",
   "mimetype": "text/x-python",
   "name": "python",
   "nbconvert_exporter": "python",
   "pygments_lexer": "ipython3",
   "version": "3.10.4"
  }
 },
 "nbformat": 4,
 "nbformat_minor": 5
}
