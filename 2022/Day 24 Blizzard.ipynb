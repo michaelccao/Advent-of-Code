{
 "cells": [
  {
   "cell_type": "markdown",
   "id": "4112ba1c",
   "metadata": {},
   "source": [
    "## Well the weather outside is frightful"
   ]
  },
  {
   "cell_type": "code",
   "execution_count": 2,
   "id": "26f1026a",
   "metadata": {},
   "outputs": [],
   "source": [
    "from pathlib import Path\n",
    "import numpy as np"
   ]
  },
  {
   "cell_type": "code",
   "execution_count": 58,
   "id": "82e5e366",
   "metadata": {},
   "outputs": [],
   "source": [
    "blizzard = Path('blizzard.txt').read_text().split('\\n')\n",
    "blizzard = np.array([[char for char in line] for line in blizzard])"
   ]
  },
  {
   "cell_type": "code",
   "execution_count": 59,
   "id": "30f4132d",
   "metadata": {},
   "outputs": [],
   "source": [
    "horiz_cycle = len(blizzard[0]) - 2\n",
    "vert_cycle = len(blizzard) - 2\n",
    "\n",
    "bliz_cycle = np.lcm(horiz_cycle, vert_cycle)"
   ]
  },
  {
   "cell_type": "code",
   "execution_count": 60,
   "id": "9d51f597",
   "metadata": {},
   "outputs": [],
   "source": [
    "def update_blizzard(minute, blizzard = blizzard, \n",
    "                    horiz_cycle = horiz_cycle, vert_cycle = vert_cycle):\n",
    "\n",
    "    ys, xs = np.where(np.isin(blizzard, ['>', '<', 'v', '^']))\n",
    "\n",
    "    new_blizzard = np.copy(blizzard)\n",
    "    new_blizzard[(ys, xs)] = '.'\n",
    "\n",
    "    for y, x in zip(ys, xs):\n",
    "        blizz = blizzard[y, x]\n",
    "\n",
    "        if blizz == '>':\n",
    "            ny, nx = [y, (x + minute)%horiz_cycle]\n",
    "        elif blizz == '<':\n",
    "            ny, nx = [y, (x-minute)%horiz_cycle]\n",
    "\n",
    "        elif blizz == 'v':\n",
    "            ny, nx = [(y+minute)%vert_cycle, x]\n",
    "        elif blizz == '^':\n",
    "            ny, nx = [(y-minute)%vert_cycle, x]\n",
    "\n",
    "        if nx == 0:\n",
    "            nx = horiz_cycle\n",
    "\n",
    "        if ny == 0:\n",
    "            ny = vert_cycle\n",
    "\n",
    "        if new_blizzard[ny, nx] == '.':\n",
    "            new_blizzard[ny, nx] = blizz\n",
    "        elif new_blizzard[ny, nx] in ['>', '<', 'v', '^']:\n",
    "            new_blizzard[ny, nx] =  2\n",
    "        elif new_blizzard[ny, nx].isnumeric():\n",
    "            new_blizzard[ny, nx] = int(new_blizzard[ny, nx]) + 1\n",
    "            \n",
    "    return new_blizzard\n",
    "        "
   ]
  },
  {
   "cell_type": "code",
   "execution_count": 61,
   "id": "eb035b19",
   "metadata": {},
   "outputs": [],
   "source": [
    "blizzard_maps = {i:update_blizzard(i) for i in range(bliz_cycle)}"
   ]
  },
  {
   "cell_type": "code",
   "execution_count": 62,
   "id": "cf603329",
   "metadata": {},
   "outputs": [],
   "source": [
    "def find_legal_moves(y, x, bliz_timer, bliz_cycle = bliz_cycle, blizzard_maps = blizzard_maps):\n",
    "    next_time = (bliz_timer + 1) % bliz_cycle\n",
    "    \n",
    "    possible_moves = [(y, x), (y+1, x), (y-1, x), (y, x+1), (y, x-1)]\n",
    "    \n",
    "    blizz = blizzard_maps[next_time]\n",
    "    height, width = blizz.shape\n",
    "    \n",
    "    moves = [(my, mx) for my,mx in possible_moves if \n",
    "             my >= 0 and mx >= 0 and mx < width and my < height and blizz[my, mx] == '.']\n",
    "    \n",
    "    return moves, next_time\n",
    "\n",
    "def find_prev_moves(y, x, bliz_timer, bliz_cycle = bliz_cycle, blizzard_maps = blizzard_maps):\n",
    "    assert(blizzard_maps[bliz_timer][y,x] == '.')\n",
    "    \n",
    "    prev_time = (bliz_timer - 1) % bliz_cycle\n",
    "    \n",
    "    possible_moves = [(y, x), (y+1, x), (y-1, x), (y, x+1), (y, x-1)]\n",
    "    \n",
    "    blizz = blizzard_maps[prev_time]\n",
    "    height, width = blizz.shape\n",
    "    \n",
    "    moves = [(my, mx) for my,mx in possible_moves if \n",
    "             my >= 0 and mx >= 0 and mx < width and my < height and blizz[my, mx] == '.']\n",
    "    \n",
    "    return moves, prev_time"
   ]
  },
  {
   "cell_type": "code",
   "execution_count": 68,
   "id": "aa69ff4a",
   "metadata": {},
   "outputs": [],
   "source": [
    "ex = np.where(blizzard[-1] == '.')[0][0]\n",
    "ey = blizzard.shape[0]-1\n",
    "\n",
    "scores = {(ey,ex,time): 0 for time in blizzard_maps}\n",
    "\n",
    "current_score = 0\n",
    "\n",
    "last_positions = [(y,x,time) for y,x,time in scores if scores[y,x,time] == 0]\n",
    "\n",
    "while (0, 1, 0) not in scores:\n",
    "    for y,x,time in last_positions:\n",
    "        p_moves, p_time = find_prev_moves(y, x, time)\n",
    "        for py,px in p_moves:\n",
    "            if (py, px, p_time) not in scores:\n",
    "                scores[py, px, p_time] = current_score + 1\n",
    "\n",
    "    current_score += 1\n",
    "\n",
    "    last_positions = [(y,x,time) for y,x,time in scores if scores[y,x,time] == current_score]"
   ]
  },
  {
   "cell_type": "code",
   "execution_count": 69,
   "id": "aac36712",
   "metadata": {},
   "outputs": [
    {
     "data": {
      "text/plain": [
       "286"
      ]
     },
     "execution_count": 69,
     "metadata": {},
     "output_type": "execute_result"
    }
   ],
   "source": [
    "scores[0, 1, 0]"
   ]
  },
  {
   "cell_type": "markdown",
   "id": "a5578adf",
   "metadata": {},
   "source": [
    "## Part 2: Let it snow"
   ]
  },
  {
   "cell_type": "code",
   "execution_count": 70,
   "id": "4279d0eb",
   "metadata": {},
   "outputs": [],
   "source": [
    "# Start at [0, 1, 0] go to [ey, ex, time1] go back to [0, 1, time1+time2] go to [ey, ex, time1 + time2 + time3]"
   ]
  },
  {
   "cell_type": "code",
   "execution_count": 72,
   "id": "03c52d29",
   "metadata": {},
   "outputs": [],
   "source": [
    "def time_to_traverse(start_y, start_x, dest_y, dest_x, start_time, bliz_cycle = bliz_cycle):\n",
    "    scores = {(dest_y,dest_x,time): 0 for time in blizzard_maps}\n",
    "    \n",
    "    start_time = start_time % bliz_cycle\n",
    "    \n",
    "    current_score = 0\n",
    "\n",
    "    last_positions = [(y,x,time) for y,x,time in scores if scores[y,x,time] == 0]\n",
    "\n",
    "    while (start_y, start_x, start_time) not in scores:\n",
    "        for y,x,time in last_positions:\n",
    "            p_moves, p_time = find_prev_moves(y, x, time)\n",
    "            for py,px in p_moves:\n",
    "                if (py, px, p_time) not in scores:\n",
    "                    scores[py, px, p_time] = current_score + 1\n",
    "\n",
    "        current_score += 1\n",
    "\n",
    "        last_positions = [(y,x,time) for y,x,time in scores if scores[y,x,time] == current_score]\n",
    "        \n",
    "    return scores[start_y, start_x, start_time]"
   ]
  },
  {
   "cell_type": "code",
   "execution_count": 73,
   "id": "bfda068f",
   "metadata": {},
   "outputs": [],
   "source": [
    "ex = np.where(blizzard[-1] == '.')[0][0]\n",
    "ey = blizzard.shape[0]-1\n",
    "\n",
    "time1 = time_to_traverse(0, 1, ey, ex, 0)\n",
    "time2 = time_to_traverse(ey, ex, 0, 1, time1)\n",
    "time3 = time_to_traverse(0, 1, ey, ex, time1+time2)"
   ]
  },
  {
   "cell_type": "code",
   "execution_count": 75,
   "id": "d70c1cb8",
   "metadata": {},
   "outputs": [
    {
     "data": {
      "text/plain": [
       "820"
      ]
     },
     "execution_count": 75,
     "metadata": {},
     "output_type": "execute_result"
    }
   ],
   "source": [
    "time1 + time2 + time3"
   ]
  }
 ],
 "metadata": {
  "kernelspec": {
   "display_name": "Python 3 (ipykernel)",
   "language": "python",
   "name": "python3"
  },
  "language_info": {
   "codemirror_mode": {
    "name": "ipython",
    "version": 3
   },
   "file_extension": ".py",
   "mimetype": "text/x-python",
   "name": "python",
   "nbconvert_exporter": "python",
   "pygments_lexer": "ipython3",
   "version": "3.9.7"
  }
 },
 "nbformat": 4,
 "nbformat_minor": 5
}
