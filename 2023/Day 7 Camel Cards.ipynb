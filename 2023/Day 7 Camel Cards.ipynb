{
 "cells": [
  {
   "cell_type": "code",
   "execution_count": 52,
   "metadata": {},
   "outputs": [],
   "source": [
    "from pathlib import Path\n",
    "from collections import Counter"
   ]
  },
  {
   "cell_type": "code",
   "execution_count": 53,
   "metadata": {},
   "outputs": [],
   "source": [
    "data = [line.split() for line in Path('Day7.txt').read_text().splitlines()]"
   ]
  },
  {
   "cell_type": "markdown",
   "metadata": {},
   "source": [
    "# Part 1"
   ]
  },
  {
   "cell_type": "code",
   "execution_count": 54,
   "metadata": {},
   "outputs": [],
   "source": [
    "values = {'T': 10,\n",
    "          'J': 11,\n",
    "          'Q': 12,\n",
    "          'K': 13,\n",
    "          'A': 14}\n",
    "\n",
    "def hand_rank(hand):\n",
    "    count = sorted(Counter(hand).values(), reverse = True)\n",
    "    \n",
    "    hand = [int(card) if card.isdigit() else values[card] for card in hand]\n",
    "    \n",
    "    return count, hand"
   ]
  },
  {
   "cell_type": "code",
   "execution_count": 55,
   "metadata": {},
   "outputs": [
    {
     "name": "stdout",
     "output_type": "stream",
     "text": [
      "249726565\n"
     ]
    }
   ],
   "source": [
    "ranked_hands = sorted(data, key = lambda x: hand_rank(x[0]))\n",
    "\n",
    "print(sum([(i+1)*int(bid) for i, (hand, bid) in enumerate(ranked_hands)]))"
   ]
  },
  {
   "cell_type": "markdown",
   "metadata": {},
   "source": [
    "# Part 2"
   ]
  },
  {
   "cell_type": "code",
   "execution_count": 56,
   "metadata": {},
   "outputs": [],
   "source": [
    "values = {'T': 10,\n",
    "          'J': 0,\n",
    "          'Q': 12,\n",
    "          'K': 13,\n",
    "          'A': 14}\n",
    "\n",
    "def hand_rank2(hand):\n",
    "\n",
    "    jokers = hand.count('J')\n",
    "    count = sorted(Counter(hand.replace('J', '')).values(), reverse = True)\n",
    "\n",
    "    if not count:\n",
    "        count = [0]\n",
    "        \n",
    "    count[0] += jokers\n",
    "    \n",
    "    hand = [int(card) if card.isdigit() else values[card] for card in hand]\n",
    "\n",
    "    return count, hand"
   ]
  },
  {
   "cell_type": "code",
   "execution_count": 57,
   "metadata": {},
   "outputs": [
    {
     "name": "stdout",
     "output_type": "stream",
     "text": [
      "251135960\n"
     ]
    }
   ],
   "source": [
    "ranked_hands = sorted(data, key = lambda x: hand_rank2(x[0]), reverse = True)\n",
    "\n",
    "print(sum([(len(ranked_hands)-i)*int(bid) for i, (hand, bid) in enumerate(ranked_hands)]))"
   ]
  }
 ],
 "metadata": {
  "kernelspec": {
   "display_name": "base",
   "language": "python",
   "name": "python3"
  },
  "language_info": {
   "codemirror_mode": {
    "name": "ipython",
    "version": 3
   },
   "file_extension": ".py",
   "mimetype": "text/x-python",
   "name": "python",
   "nbconvert_exporter": "python",
   "pygments_lexer": "ipython3",
   "version": "3.10.9"
  }
 },
 "nbformat": 4,
 "nbformat_minor": 2
}
