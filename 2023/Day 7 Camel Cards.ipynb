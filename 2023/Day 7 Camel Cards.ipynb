{
 "cells": [
  {
   "cell_type": "code",
   "execution_count": 6,
   "metadata": {},
   "outputs": [],
   "source": [
    "from pathlib import Path\n",
    "from collections import Counter"
   ]
  },
  {
   "cell_type": "code",
   "execution_count": 73,
   "metadata": {},
   "outputs": [],
   "source": [
    "data = [line.split() for line in Path('Day7.txt').read_text().splitlines()]"
   ]
  },
  {
   "cell_type": "markdown",
   "metadata": {},
   "source": [
    "# Part 1"
   ]
  },
  {
   "cell_type": "code",
   "execution_count": 77,
   "metadata": {},
   "outputs": [],
   "source": [
    "values = {'T': 10,\n",
    "          'J': 11,\n",
    "          'Q': 12,\n",
    "          'K': 13,\n",
    "          'A': 14}\n",
    "\n",
    "def hand_rank(hand):\n",
    "    count = sorted([[card, count] for \n",
    "                    card,count in Counter(hand).items()], \n",
    "                    key = lambda x: x[1], reverse = True)\n",
    "    \n",
    "    hand = [int(card) if card.isdigit() else values[card] for card in hand]\n",
    "    \n",
    "    if count[0][1] == 5: # Five of a kind\n",
    "        return 7, hand\n",
    "    elif count[0][1] == 4: # Four of a kind\n",
    "        return 6, hand\n",
    "    elif count[0][1] == 3 and count[1][1] == 2: # Full House\n",
    "        return 5, hand\n",
    "    elif count[0][1] == 3 and count[1][1] == 1: # Three of a kind\n",
    "        return 4, hand\n",
    "    elif count[0][1] == 2 and count[1][1] == 2: # Two pair\n",
    "        return 3, hand\n",
    "    elif count[0][1] == 2 and count[1][1] == 1: # One pair\n",
    "        return 2, hand\n",
    "    else:\n",
    "        return 1, hand"
   ]
  },
  {
   "cell_type": "code",
   "execution_count": 78,
   "metadata": {},
   "outputs": [
    {
     "name": "stdout",
     "output_type": "stream",
     "text": [
      "249726565\n"
     ]
    }
   ],
   "source": [
    "ranked_hands = sorted(data, key = lambda x: hand_rank(x[0]), reverse = True)\n",
    "\n",
    "print(sum([(len(ranked_hands)-i)*int(bid) for i, (hand, bid) in enumerate(ranked_hands)]))"
   ]
  },
  {
   "cell_type": "markdown",
   "metadata": {},
   "source": [
    "# Part 2"
   ]
  },
  {
   "cell_type": "code",
   "execution_count": 97,
   "metadata": {},
   "outputs": [],
   "source": [
    "values = {'T': 10,\n",
    "          'J': 0,\n",
    "          'Q': 12,\n",
    "          'K': 13,\n",
    "          'A': 14}\n",
    "\n",
    "def hand_rank2(hand):\n",
    "    count = Counter(hand)\n",
    "    \n",
    "    jokers = count['J'] if 'J' in count else 0\n",
    "\n",
    "    count = sorted([[card, count] for card, count in count.items() if card != 'J'], key = lambda x: x[1], reverse = True)\n",
    "    \n",
    "    hand = [int(card) if card.isdigit() else values[card] for card in hand]\n",
    "\n",
    "    if not count: # All Jokers\n",
    "        return 7, hand\n",
    "\n",
    "    highest = count[0][1]\n",
    "    highest += jokers\n",
    "\n",
    "    \n",
    "    if highest == 5: # Five of a kind\n",
    "        return 7, hand\n",
    "    elif highest == 4: # Four of a kind\n",
    "        return 6, hand\n",
    "    elif highest == 3 and count[1][1] == 2: # Full House\n",
    "        return 5, hand\n",
    "    elif highest == 3 and count[1][1] == 1: # Three of a kind\n",
    "        return 4, hand\n",
    "    elif highest == 2 and count[1][1] == 2: # Two pair\n",
    "        return 3, hand\n",
    "    elif highest == 2 and count[1][1] == 1: # One pair\n",
    "        return 2, hand\n",
    "    else:\n",
    "        return 1, hand"
   ]
  },
  {
   "cell_type": "code",
   "execution_count": 101,
   "metadata": {},
   "outputs": [
    {
     "name": "stdout",
     "output_type": "stream",
     "text": [
      "251135960\n"
     ]
    }
   ],
   "source": [
    "ranked_hands = sorted(data, key = lambda x: hand_rank2(x[0]), reverse = True)\n",
    "\n",
    "print(sum([(len(ranked_hands)-i)*int(bid) for i, (hand, bid) in enumerate(ranked_hands)]))"
   ]
  }
 ],
 "metadata": {
  "kernelspec": {
   "display_name": "base",
   "language": "python",
   "name": "python3"
  },
  "language_info": {
   "codemirror_mode": {
    "name": "ipython",
    "version": 3
   },
   "file_extension": ".py",
   "mimetype": "text/x-python",
   "name": "python",
   "nbconvert_exporter": "python",
   "pygments_lexer": "ipython3",
   "version": "3.10.9"
  }
 },
 "nbformat": 4,
 "nbformat_minor": 2
}
