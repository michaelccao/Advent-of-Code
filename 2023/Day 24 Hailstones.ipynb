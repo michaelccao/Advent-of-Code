{
 "cells": [
  {
   "cell_type": "code",
   "execution_count": 15,
   "metadata": {},
   "outputs": [],
   "source": [
    "from pathlib import Path\n",
    "import numpy as np\n",
    "from itertools import combinations, permutations\n",
    "import sympy"
   ]
  },
  {
   "cell_type": "code",
   "execution_count": 16,
   "metadata": {},
   "outputs": [],
   "source": [
    "data = Path('Day24.txt').read_text().splitlines()\n",
    "data = [[[int(num) for num in nums.split(', ')] for nums in line.split('@')] for line in data]"
   ]
  },
  {
   "cell_type": "markdown",
   "metadata": {},
   "source": [
    "# Part 1"
   ]
  },
  {
   "cell_type": "code",
   "execution_count": 17,
   "metadata": {},
   "outputs": [],
   "source": [
    "def calculate_intercept(x, y, dx, dy, x2, y2, dx2, dy2):\n",
    "    a = [[dx, -dx2],\n",
    "         [dy, -dy2]]\n",
    "    \n",
    "    b = [x2 - x, y2 - y]\n",
    "\n",
    "    try:\n",
    "        t, t2 = np.linalg.solve(a, b)\n",
    "    except:\n",
    "        return None, None\n",
    "    \n",
    "    if t < 0 or t2 < 0:\n",
    "        return None, None\n",
    "    else:\n",
    "        return x + dx*t, y + dy*t\n",
    "    "
   ]
  },
  {
   "cell_type": "code",
   "execution_count": 18,
   "metadata": {},
   "outputs": [
    {
     "name": "stdout",
     "output_type": "stream",
     "text": [
      "14046\n"
     ]
    }
   ],
   "source": [
    "lower = 200000000000000\n",
    "upper = 400000000000000\n",
    "\n",
    "total = 0\n",
    "\n",
    "for [[x, y, z], [dx, dy, dz]], [[x2, y2, z2], [dx2, dy2, dz2]] in combinations(data, 2):\n",
    "    intx, inty = calculate_intercept(x, y, dx, dy, x2, y2, dx2, dy2)\n",
    "\n",
    "    if intx is not None and lower <= intx <= upper and lower <= inty <= upper:\n",
    "        total += 1\n",
    "\n",
    "print(total)"
   ]
  },
  {
   "cell_type": "markdown",
   "metadata": {},
   "source": [
    "# Part 2"
   ]
  },
  {
   "cell_type": "code",
   "execution_count": 21,
   "metadata": {},
   "outputs": [
    {
     "name": "stdout",
     "output_type": "stream",
     "text": [
      "808107741406756\n"
     ]
    }
   ],
   "source": [
    "x, y, z, dx, dy, dz, t1, t2, t3 = sympy.symbols('x, y, z, dx, dy, dz, t1, t2, t3')\n",
    "\n",
    "[x1, y1, z1], [dx1, dy1, dz1] = data[0]\n",
    "[x2, y2, z2], [dx2, dy2, dz2] = data[1]\n",
    "[x3, y3, z3], [dx3, dy3, dz3] = data[2]\n",
    "\n",
    "equations = [x + dx*t1 - dx1*t1 - x1, \n",
    "             y + dy*t1 - dy1*t1 - y1,\n",
    "             z + dz*t1 - dz1*t1 - z1,\n",
    "             x + dx*t2 - dx2*t2 - x2,\n",
    "             y + dy*t2 - dy2*t2 - y2,\n",
    "             z + dz*t2 - dz2*t2 - z2,\n",
    "             x + dx*t3 - dx3*t3 - x3, \n",
    "             y + dy*t3 - dy3*t3 - y3,\n",
    "             z + dz*t3 - dz3*t3 - z3,]\n",
    "\n",
    "[(x, y, z, dx, dy, dz, t1, t2, t3)] = sympy.solve(equations, [x, y, z, dx, dy, dz, t1, t2, t3])\n",
    "\n",
    "print(x + y + z)"
   ]
  }
 ],
 "metadata": {
  "kernelspec": {
   "display_name": "base",
   "language": "python",
   "name": "python3"
  },
  "language_info": {
   "codemirror_mode": {
    "name": "ipython",
    "version": 3
   },
   "file_extension": ".py",
   "mimetype": "text/x-python",
   "name": "python",
   "nbconvert_exporter": "python",
   "pygments_lexer": "ipython3",
   "version": "3.10.9"
  }
 },
 "nbformat": 4,
 "nbformat_minor": 2
}
