{
 "cells": [
  {
   "cell_type": "code",
   "execution_count": 163,
   "metadata": {},
   "outputs": [],
   "source": [
    "from pathlib import Path\n",
    "import re\n",
    "from functools import reduce\n",
    "from collections import deque\n",
    "from itertools import pairwise"
   ]
  },
  {
   "cell_type": "code",
   "execution_count": 225,
   "metadata": {},
   "outputs": [],
   "source": [
    "data = Path('Day19.txt').read_text().splitlines()\n",
    "workflow_part_split = data.index('')\n",
    "workflows = data[0:workflow_part_split]\n",
    "parts = data[workflow_part_split+1:]\n",
    "\n",
    "workflows = {workflow[0:ind]: workflow[ind+1:-1].split(',') for workflow in workflows if (ind:=workflow.index('{'))}\n",
    "parts = [re.match('{x=(?P<x>\\d+),m=(?P<m>\\d+),a=(?P<a>\\d+),s=(?P<s>\\d+)}', part) for part in parts]"
   ]
  },
  {
   "cell_type": "markdown",
   "metadata": {},
   "source": [
    "# Part 1"
   ]
  },
  {
   "cell_type": "code",
   "execution_count": 226,
   "metadata": {},
   "outputs": [],
   "source": [
    "workflow = workflows['in']\n",
    "part = parts[0]\n",
    "\n",
    "def apply_workflow(workflow, part):\n",
    "\n",
    "    for rule in workflow:\n",
    "        if (split:=rule.find(':')) > -1:\n",
    "            condition, out = rule.split(':')\n",
    "            \n",
    "            part_attr, op, value = re.match('([xmas])([<>])(\\d+)', condition).groups()\n",
    "\n",
    "            if op == '>':\n",
    "                if int(part[part_attr]) > int(value):\n",
    "                    return out\n",
    "            else:\n",
    "                if int(part[part_attr]) < int(value):\n",
    "                    return out\n",
    "        else:\n",
    "            return rule\n",
    "        \n",
    "def apply_workflows(workflows, start, part):\n",
    "    \n",
    "    while start not in 'AR':\n",
    "        start = apply_workflow(workflows[start], part)\n",
    "\n",
    "    return start"
   ]
  },
  {
   "cell_type": "code",
   "execution_count": 227,
   "metadata": {},
   "outputs": [
    {
     "data": {
      "text/plain": [
       "401674"
      ]
     },
     "execution_count": 227,
     "metadata": {},
     "output_type": "execute_result"
    }
   ],
   "source": [
    "sum([reduce(lambda a,b: a+b, map(int, part.groups())) for part in parts if apply_workflows(workflows, 'in', part) == 'A'])"
   ]
  },
  {
   "cell_type": "markdown",
   "metadata": {},
   "source": [
    "# Part 2"
   ]
  },
  {
   "cell_type": "code",
   "execution_count": 228,
   "metadata": {},
   "outputs": [],
   "source": [
    "to_visit = deque([['in', 0]])\n",
    "\n",
    "current_path = deque()\n",
    "\n",
    "successful_paths = set()\n",
    "\n",
    "\n",
    "while to_visit:\n",
    "    workflow_key, depth = to_visit.pop()\n",
    "\n",
    "    if ':' in workflow_key:\n",
    "        condition, workflow_key = workflow_key.split(':')\n",
    "    else:\n",
    "        condition = ''\n",
    "\n",
    "\n",
    "\n",
    "    while len(current_path) > 2*depth:\n",
    "        current_path.pop()\n",
    "\n",
    "    if workflow_key == 'A':\n",
    "        current_path.append(condition)\n",
    "        current_path.append('A')\n",
    "        successful_paths.add(','.join(current_path))\n",
    "        continue\n",
    "    elif workflow_key == 'R':\n",
    "        continue\n",
    "\n",
    "    current_path.append(condition)\n",
    "    current_path.append(workflow_key)\n",
    "\n",
    "\n",
    "    workflow = workflows[workflow_key]\n",
    "\n",
    "    outcomes = [[rule, depth+1] for rule in workflow]\n",
    "\n",
    "    for outcome in outcomes:\n",
    "        to_visit.append(outcome)\n",
    "    \n",
    "    "
   ]
  },
  {
   "cell_type": "code",
   "execution_count": 229,
   "metadata": {},
   "outputs": [],
   "source": [
    "def apply_condition(part, condition, negate = False):\n",
    "    part_attr, op, value = re.match('([xmas])([<>])(\\d+)', condition).groups()\n",
    "\n",
    "    if negate:\n",
    "        if op == '<':\n",
    "            op = '>='\n",
    "        elif op == '>':\n",
    "            op = '<='\n",
    "\n",
    "    value = int(value)\n",
    "\n",
    "    if part[part_attr]:\n",
    "        lower, upper = part[part_attr]\n",
    "    else:\n",
    "        return part\n",
    "\n",
    "    if op == '>':\n",
    "        if upper <= value:\n",
    "            part[part_attr] = []\n",
    "        \n",
    "        elif lower-1 <= value < upper:\n",
    "            part[part_attr] = [value+1, upper]\n",
    "        \n",
    "    elif op == '<':\n",
    "        if lower < value <= upper + 1:\n",
    "            part[part_attr] = [lower, value-1]\n",
    "        \n",
    "        elif lower >= value:\n",
    "            part[part_attr] = []\n",
    "\n",
    "    elif op == '>=':\n",
    "        if upper < value:\n",
    "            part[part_attr] = []\n",
    "        \n",
    "        elif lower <= value <= upper:\n",
    "            part[part_attr] = [value, upper]\n",
    "\n",
    "    elif op == '<=':\n",
    "        if lower <= value <= upper:\n",
    "            part[part_attr] = [lower, value]\n",
    "        \n",
    "        elif lower > value:\n",
    "            part[part_attr] = []\n",
    "\n",
    "    return part"
   ]
  },
  {
   "cell_type": "code",
   "execution_count": 230,
   "metadata": {},
   "outputs": [
    {
     "name": "stdout",
     "output_type": "stream",
     "text": [
      "134906204068564\n"
     ]
    }
   ],
   "source": [
    "total = 0\n",
    "\n",
    "for path in successful_paths:\n",
    "    part = {'x': [1, 4000], 'm': [1, 4000], 'a': [1, 4000], 's': [1, 4000]}\n",
    "\n",
    "    path = path.split(',')\n",
    "\n",
    "    for i in range(len(path)//2 - 1):\n",
    "        workflow_key = path[2*i+1]\n",
    "        target_condition = path[2*i+2]\n",
    "        target_outcome = path[2*i+3]\n",
    "    \n",
    "        workflow = workflows[workflow_key]\n",
    "\n",
    "\n",
    "        for rule in workflow:\n",
    "            if ':' in rule:\n",
    "                condition, outcome = rule.split(':')\n",
    "                part = apply_condition(part, condition, (outcome != target_outcome or condition != target_condition))\n",
    "\n",
    "            else:\n",
    "                condition = ''\n",
    "                outcome = rule\n",
    "\n",
    "            if outcome == target_outcome and condition == target_condition:\n",
    "                break\n",
    "\n",
    "    total += reduce(lambda a, b: a*b, [v[1]-v[0]+1 if v else 0 for k,v in part.items()])\n",
    "\n",
    "print(total)\n",
    "\n"
   ]
  },
  {
   "cell_type": "code",
   "execution_count": null,
   "metadata": {},
   "outputs": [],
   "source": []
  }
 ],
 "metadata": {
  "kernelspec": {
   "display_name": "trucking",
   "language": "python",
   "name": "python3"
  },
  "language_info": {
   "codemirror_mode": {
    "name": "ipython",
    "version": 3
   },
   "file_extension": ".py",
   "mimetype": "text/x-python",
   "name": "python",
   "nbconvert_exporter": "python",
   "pygments_lexer": "ipython3",
   "version": "3.11.4"
  }
 },
 "nbformat": 4,
 "nbformat_minor": 2
}
