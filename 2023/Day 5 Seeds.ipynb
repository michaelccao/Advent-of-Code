{
 "cells": [
  {
   "cell_type": "code",
   "execution_count": 12,
   "metadata": {},
   "outputs": [],
   "source": [
    "from pathlib import Path\n",
    "import re\n",
    "from itertools import pairwise\n",
    "from collections import deque"
   ]
  },
  {
   "cell_type": "code",
   "execution_count": 75,
   "metadata": {},
   "outputs": [],
   "source": [
    "data = Path('Day5.txt').read_text().split('\\n')"
   ]
  },
  {
   "cell_type": "markdown",
   "metadata": {},
   "source": [
    "# Part 1"
   ]
  },
  {
   "cell_type": "code",
   "execution_count": 76,
   "metadata": {},
   "outputs": [],
   "source": [
    "seeds = [int(seed) for seed in re.findall('\\d+', data[0])]"
   ]
  },
  {
   "cell_type": "code",
   "execution_count": 77,
   "metadata": {},
   "outputs": [],
   "source": [
    "maps = ['seed-to-soil', 'soil-to-fertilizer', 'fertilizer-to-water', 'water-to-light', 'light-to-temperature', 'temperature-to-humidity', 'humidity-to-location']"
   ]
  },
  {
   "cell_type": "code",
   "execution_count": 78,
   "metadata": {},
   "outputs": [],
   "source": [
    "map_lines = [data.index(f'{title} map:') for title in maps]\n",
    "\n",
    "mappings = [data[i+1:j-1] for i,j in pairwise(map_lines)] + [data[map_lines[-1]+1:]]\n",
    "mappings = [[[int(num) for num in numbers.split()] for numbers in mapping ] for mapping in mappings]"
   ]
  },
  {
   "cell_type": "code",
   "execution_count": 79,
   "metadata": {},
   "outputs": [
    {
     "name": "stdout",
     "output_type": "stream",
     "text": [
      "662197086\n"
     ]
    }
   ],
   "source": [
    "current = seeds.copy()\n",
    "\n",
    "for mapping in mappings:\n",
    "    next = current.copy()\n",
    "    for dest, src, rang in mapping:\n",
    "        for i, num in enumerate(current):\n",
    "            if src <= num < src+rang:\n",
    "                next[i] = dest + num - src\n",
    "    \n",
    "    current = next.copy()\n",
    "\n",
    "print(min(current))"
   ]
  },
  {
   "cell_type": "markdown",
   "metadata": {},
   "source": [
    "# Part 2"
   ]
  },
  {
   "cell_type": "code",
   "execution_count": 80,
   "metadata": {},
   "outputs": [],
   "source": [
    "seeds = [int(seed) for seed in re.findall('\\d+', data[0])]\n",
    "seeds = [seeds[i*2:i*2+2] for i in range(len(seeds) // 2)]"
   ]
  },
  {
   "cell_type": "code",
   "execution_count": 84,
   "metadata": {},
   "outputs": [
    {
     "name": "stdout",
     "output_type": "stream",
     "text": [
      "52510809\n"
     ]
    }
   ],
   "source": [
    "current = seeds.copy()\n",
    "for mapping in mappings:\n",
    "    next = []\n",
    "    for dest, src, rang in mapping:\n",
    "        for i in range(len(current)):\n",
    "            num, r2 = current.pop(0)\n",
    "            \n",
    "            if src <= num and num+r2 <= src + rang: # fully within\n",
    "                next.append([dest + num - src, r2])\n",
    "\n",
    "            elif src <= num < src+rang and num+r2 > src + rang: # right outside\n",
    "                next.append([dest + num - src, src + rang - num])\n",
    "                current.append([src+rang, num+r2 - src - rang])\n",
    "                \n",
    "\n",
    "            elif num < src and src < num + r2 <= src+rang: # left outside\n",
    "                next.append([dest, num+r2 - src])\n",
    "                current.append([num, src-num])\n",
    "\n",
    "            elif num < src and num+r2 > src + rang: # fully enclose\n",
    "                next.append([dest, rang])\n",
    "                current.append([num, src-num])\n",
    "                current.append([src+rang, num+r2 - src - rang])\n",
    "\n",
    "            else:\n",
    "                current.append([num, r2])\n",
    "\n",
    "    next += current\n",
    "    current = next.copy()\n",
    "\n",
    "print(min(current)[0])"
   ]
  }
 ],
 "metadata": {
  "kernelspec": {
   "display_name": "base",
   "language": "python",
   "name": "python3"
  },
  "language_info": {
   "codemirror_mode": {
    "name": "ipython",
    "version": 3
   },
   "file_extension": ".py",
   "mimetype": "text/x-python",
   "name": "python",
   "nbconvert_exporter": "python",
   "pygments_lexer": "ipython3",
   "version": "3.10.9"
  }
 },
 "nbformat": 4,
 "nbformat_minor": 2
}
