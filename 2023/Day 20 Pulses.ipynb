{
 "cells": [
  {
   "cell_type": "code",
   "execution_count": 68,
   "metadata": {},
   "outputs": [],
   "source": [
    "from pathlib import Path\n",
    "from collections import deque, defaultdict\n",
    "from copy import deepcopy"
   ]
  },
  {
   "cell_type": "code",
   "execution_count": 147,
   "metadata": {},
   "outputs": [],
   "source": [
    "data = Path('Day20.txt').read_text().splitlines()\n",
    "data = [line.split(' -> ') for line in data]"
   ]
  },
  {
   "cell_type": "markdown",
   "metadata": {},
   "source": [
    "# Part 1"
   ]
  },
  {
   "cell_type": "code",
   "execution_count": 148,
   "metadata": {},
   "outputs": [],
   "source": [
    "modules = defaultdict(lambda : {'module_type': '', 'inputs': [], 'outputs': [], 'input_states': [], 'module_state': False})\n",
    "modules['broadcaster']['inputs'] = ['button']\n",
    "\n",
    "for module_name, destinations in data:\n",
    "    if module_name != 'broadcaster':\n",
    "        module_type, module_name = module_name[:1], module_name[1:]\n",
    "    else:\n",
    "        module_type = 'broadcaster'\n",
    "    \n",
    "    modules[module_name]['module_type'] = module_type\n",
    "    modules[module_name]['outputs'] = destinations.split(', ')\n",
    "    \n",
    "    for d in destinations.split(', '):\n",
    "        modules[d]['inputs'].append(module_name)\n",
    "        modules[d]['input_states'].append(False)"
   ]
  },
  {
   "cell_type": "code",
   "execution_count": 137,
   "metadata": {},
   "outputs": [],
   "source": [
    "def pulse_output(input_pulse, origin, module):\n",
    "    module = modules[module]\n",
    "    mod_type = module['module_type']\n",
    "\n",
    "    match mod_type:\n",
    "        case 'broadcaster':\n",
    "            return input_pulse\n",
    "        case '%':\n",
    "            if input_pulse == True:\n",
    "                return None\n",
    "            else:\n",
    "                if module['module_state']:\n",
    "                    module['module_state'] = False\n",
    "                    return False\n",
    "                else:\n",
    "                    module['module_state'] = True\n",
    "                    return True\n",
    "        case '&':\n",
    "            module['input_states'][module['inputs'].index(origin)] = input_pulse\n",
    "\n",
    "            if False in module['input_states']:\n",
    "                return True\n",
    "            else:\n",
    "                return False"
   ]
  },
  {
   "cell_type": "code",
   "execution_count": 138,
   "metadata": {},
   "outputs": [],
   "source": [
    "def circuit_state(modules):\n",
    "    state = []\n",
    "    for module, module_props in modules.items():\n",
    "        if module_props['module_type'] == '%':\n",
    "            state.append(module_props['module_state'])\n",
    "        elif module_props['module_type'] == '&':\n",
    "            state += module_props['input_states']\n",
    "    \n",
    "    return tuple(state)"
   ]
  },
  {
   "cell_type": "code",
   "execution_count": 139,
   "metadata": {},
   "outputs": [],
   "source": [
    "states = {}\n",
    "button_presses = 0\n",
    "\n",
    "high_pulses = 0\n",
    "low_pulses = 0\n",
    "\n",
    "for i in range(1000):\n",
    "\n",
    "    button_presses += 1\n",
    "\n",
    "    pulses = deque([[False, 'button', 'broadcaster']])\n",
    "\n",
    "    start_state = circuit_state(modules)\n",
    "\n",
    "    while pulses:\n",
    "        input_pulse, origin, module = pulses.popleft()\n",
    "\n",
    "        if input_pulse:\n",
    "            high_pulses += 1\n",
    "        else:\n",
    "            low_pulses += 1\n",
    "\n",
    "        output_pulse = pulse_output(input_pulse, origin, module)\n",
    "\n",
    "        if output_pulse is None:\n",
    "            continue\n",
    "\n",
    "        for dest in modules[module]['outputs']:\n",
    "            pulses.append([output_pulse, module, dest])\n",
    "    "
   ]
  },
  {
   "cell_type": "code",
   "execution_count": 141,
   "metadata": {},
   "outputs": [
    {
     "data": {
      "text/plain": [
       "825896364"
      ]
     },
     "execution_count": 141,
     "metadata": {},
     "output_type": "execute_result"
    }
   ],
   "source": [
    "high_pulses*low_pulses"
   ]
  },
  {
   "cell_type": "markdown",
   "metadata": {},
   "source": [
    "# Part 2"
   ]
  },
  {
   "cell_type": "code",
   "execution_count": 155,
   "metadata": {},
   "outputs": [
    {
     "data": {
      "text/plain": [
       "88"
      ]
     },
     "execution_count": 155,
     "metadata": {},
     "output_type": "execute_result"
    }
   ],
   "source": [
    "backtrack = deque(['rx'])"
   ]
  }
 ],
 "metadata": {
  "kernelspec": {
   "display_name": "trucking",
   "language": "python",
   "name": "python3"
  },
  "language_info": {
   "codemirror_mode": {
    "name": "ipython",
    "version": 3
   },
   "file_extension": ".py",
   "mimetype": "text/x-python",
   "name": "python",
   "nbconvert_exporter": "python",
   "pygments_lexer": "ipython3",
   "version": "3.11.4"
  }
 },
 "nbformat": 4,
 "nbformat_minor": 2
}
