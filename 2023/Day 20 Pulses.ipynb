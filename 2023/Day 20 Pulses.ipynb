{
 "cells": [
  {
   "cell_type": "code",
   "execution_count": 13,
   "metadata": {},
   "outputs": [],
   "source": [
    "from pathlib import Path\n",
    "from collections import deque, defaultdict\n",
    "from copy import deepcopy"
   ]
  },
  {
   "cell_type": "code",
   "execution_count": 14,
   "metadata": {},
   "outputs": [],
   "source": [
    "data = Path('Day20.txt').read_text().splitlines()\n",
    "data = [line.split(' -> ') for line in data]"
   ]
  },
  {
   "cell_type": "markdown",
   "metadata": {},
   "source": [
    "# Part 1"
   ]
  },
  {
   "cell_type": "code",
   "execution_count": 15,
   "metadata": {},
   "outputs": [],
   "source": [
    "modules = defaultdict(lambda : {'module_type': '', 'inputs': [], 'outputs': [], 'input_states': [], 'module_state': False})\n",
    "modules['broadcaster']['inputs'] = ['button']\n",
    "\n",
    "for module_name, destinations in data:\n",
    "    if module_name != 'broadcaster':\n",
    "        module_type, module_name = module_name[:1], module_name[1:]\n",
    "    else:\n",
    "        module_type = 'broadcaster'\n",
    "    \n",
    "    modules[module_name]['module_type'] = module_type\n",
    "    modules[module_name]['outputs'] = destinations.split(', ')\n",
    "    \n",
    "    for d in destinations.split(', '):\n",
    "        modules[d]['inputs'].append(module_name)\n",
    "        modules[d]['input_states'].append(False)"
   ]
  },
  {
   "cell_type": "code",
   "execution_count": 16,
   "metadata": {},
   "outputs": [],
   "source": [
    "def pulse_output(input_pulse, origin, module, modules):\n",
    "    module = modules[module]\n",
    "    mod_type = module['module_type']\n",
    "\n",
    "    match mod_type:\n",
    "        case 'broadcaster':\n",
    "            return input_pulse\n",
    "        case '%':\n",
    "            if input_pulse == True:\n",
    "                return None\n",
    "            else:\n",
    "                if module['module_state']:\n",
    "                    module['module_state'] = False\n",
    "                    return False\n",
    "                else:\n",
    "                    module['module_state'] = True\n",
    "                    return True\n",
    "        case '&':\n",
    "            module['input_states'][module['inputs'].index(origin)] = input_pulse\n",
    "\n",
    "            if False in module['input_states']:\n",
    "                return True\n",
    "            else:\n",
    "                return False"
   ]
  },
  {
   "cell_type": "code",
   "execution_count": 17,
   "metadata": {},
   "outputs": [],
   "source": [
    "def circuit_state(modules):\n",
    "    state = []\n",
    "    for module, module_props in modules.items():\n",
    "        if module_props['module_type'] == '%':\n",
    "            state.append(module_props['module_state'])\n",
    "        elif module_props['module_type'] == '&':\n",
    "            state += module_props['input_states']\n",
    "    \n",
    "    return tuple(state)"
   ]
  },
  {
   "cell_type": "code",
   "execution_count": 20,
   "metadata": {},
   "outputs": [
    {
     "name": "stdout",
     "output_type": "stream",
     "text": [
      "825896364\n"
     ]
    }
   ],
   "source": [
    "button_presses = 0\n",
    "\n",
    "high_pulses = 0\n",
    "low_pulses = 0\n",
    "\n",
    "modules2 = deepcopy(modules)\n",
    "\n",
    "for i in range(1000):\n",
    "\n",
    "    pulses = deque([[False, 'button', 'broadcaster']])\n",
    "\n",
    "    while pulses:\n",
    "        input_pulse, origin, module = pulses.popleft()\n",
    "\n",
    "        if input_pulse:\n",
    "            high_pulses += 1\n",
    "        else:\n",
    "            low_pulses += 1\n",
    "\n",
    "        output_pulse = pulse_output(input_pulse, origin, module, modules2)\n",
    "\n",
    "        if output_pulse is None:\n",
    "            continue\n",
    "\n",
    "        for dest in modules2[module]['outputs']:\n",
    "            pulses.append([output_pulse, module, dest])\n",
    "    \n",
    "print(high_pulses*low_pulses)"
   ]
  },
  {
   "cell_type": "markdown",
   "metadata": {},
   "source": [
    "# Part 2"
   ]
  },
  {
   "cell_type": "code",
   "execution_count": 237,
   "metadata": {},
   "outputs": [
    {
     "data": {
      "text/plain": [
       "{'module_type': '&',\n",
       " 'inputs': ['vm', 'lm', 'jd', 'fv'],\n",
       " 'outputs': ['rx'],\n",
       " 'input_states': [False, False, False, False],\n",
       " 'module_state': False}"
      ]
     },
     "execution_count": 237,
     "metadata": {},
     "output_type": "execute_result"
    }
   ],
   "source": [
    "modules['zg']"
   ]
  },
  {
   "cell_type": "code",
   "execution_count": 239,
   "metadata": {},
   "outputs": [
    {
     "name": "stdout",
     "output_type": "stream",
     "text": [
      "jd 3906\n",
      "fv 3910\n",
      "lm 3928\n",
      "vm 4056\n",
      "jd 7813\n",
      "fv 7821\n",
      "lm 7857\n",
      "vm 8113\n",
      "jd 11720\n",
      "fv 11732\n",
      "lm 11786\n",
      "vm 12170\n",
      "jd 15627\n",
      "fv 15643\n",
      "lm 15715\n",
      "vm 16227\n",
      "jd 19534\n",
      "fv 19554\n",
      "lm 19644\n"
     ]
    }
   ],
   "source": [
    "modules2 = deepcopy(modules)\n",
    "\n",
    "outputs = {module: [] for module in modules2}\n",
    "\n",
    "for i in range(20000):\n",
    "\n",
    "    outputs = {module: output_history + [None] for module, output_history in outputs.items()}\n",
    "\n",
    "    pulses = deque([[False, 'button', 'broadcaster']])\n",
    "\n",
    "    while pulses:\n",
    "        input_pulse, origin, module = pulses.popleft()\n",
    "\n",
    "        output_pulse = pulse_output(input_pulse, origin, module, modules2)\n",
    "\n",
    "        if output_pulse is None:\n",
    "            continue\n",
    "    \n",
    "        outputs[module][-1] = output_pulse\n",
    "\n",
    "        if origin in ['vm', 'lm', 'jd', 'fv'] and input_pulse:\n",
    "            print(origin, i)\n",
    "\n",
    "        for dest in modules2[module]['outputs']:\n",
    "            pulses.append([output_pulse, module, dest])"
   ]
  },
  {
   "cell_type": "code",
   "execution_count": 240,
   "metadata": {},
   "outputs": [
    {
     "data": {
      "text/plain": [
       "243566897206981"
      ]
     },
     "execution_count": 240,
     "metadata": {},
     "output_type": "execute_result"
    }
   ],
   "source": [
    "3907*3911*3929*4057"
   ]
  }
 ],
 "metadata": {
  "kernelspec": {
   "display_name": "trucking",
   "language": "python",
   "name": "python3"
  },
  "language_info": {
   "codemirror_mode": {
    "name": "ipython",
    "version": 3
   },
   "file_extension": ".py",
   "mimetype": "text/x-python",
   "name": "python",
   "nbconvert_exporter": "python",
   "pygments_lexer": "ipython3",
   "version": "3.10.9"
  }
 },
 "nbformat": 4,
 "nbformat_minor": 2
}
