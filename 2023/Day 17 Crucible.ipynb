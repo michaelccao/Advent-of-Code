{
 "cells": [
  {
   "cell_type": "code",
   "execution_count": 173,
   "metadata": {},
   "outputs": [],
   "source": [
    "from pathlib import Path\n",
    "import numpy as np\n",
    "from collections import deque"
   ]
  },
  {
   "cell_type": "code",
   "execution_count": 174,
   "metadata": {},
   "outputs": [],
   "source": [
    "data = Path('Day17.txt').read_text().splitlines()\n",
    "data = np.array([[int(c) for c in line] for line in data])\n",
    "\n",
    "h, w = data.shape"
   ]
  },
  {
   "cell_type": "markdown",
   "metadata": {},
   "source": [
    "# Part 1"
   ]
  },
  {
   "cell_type": "code",
   "execution_count": 175,
   "metadata": {},
   "outputs": [],
   "source": [
    "# order of keys in directions matter for DFS\n",
    "directions = {'N' : [-1, 0],\n",
    "              'W' : [0, -1],\n",
    "              'S' : [1, 0], \n",
    "              'E' : [0, 1]}\n",
    "\n",
    "opposite = {'N' : 'S',\n",
    "            'S' : 'N',\n",
    "            'E' : 'W',\n",
    "            'W' : 'E'}"
   ]
  },
  {
   "cell_type": "code",
   "execution_count": 176,
   "metadata": {},
   "outputs": [],
   "source": [
    "def trail_key(trail):\n",
    "    match len(trail):\n",
    "        case 0:\n",
    "            return ''\n",
    "        case 1:\n",
    "            return trail[-1]\n",
    "        case 2:\n",
    "            return trail[-1]*2 if trail[-1] == trail[-2] else trail[-1]\n",
    "        case 3:\n",
    "            return trail[-1] if trail[-2] != trail[-1] else trail[-1]*2 if trail[-2] != trail[-3] else trail[-1]*3"
   ]
  },
  {
   "cell_type": "code",
   "execution_count": 177,
   "metadata": {},
   "outputs": [
    {
     "data": {
      "text/plain": [
       "1044"
      ]
     },
     "execution_count": 177,
     "metadata": {},
     "output_type": "execute_result"
    }
   ],
   "source": [
    "lowest = {}\n",
    "\n",
    "visited = deque([[0, 0, 0, '', '']])\n",
    "\n",
    "best_heat = None\n",
    "\n",
    "ti = h-1\n",
    "tj = w-1\n",
    "\n",
    "\n",
    "while visited:\n",
    "    i, j, heat, trail, tk = visited.pop()\n",
    "\n",
    "    lowest[i, j, tk] = heat\n",
    "\n",
    "    if i == ti and j == tj: # Reached target, end current path\n",
    "        if not best_heat or heat < best_heat:\n",
    "            best_heat = heat\n",
    "        \n",
    "        continue\n",
    "\n",
    "    if best_heat and heat + abs(ti - i) + abs(tj - j) > best_heat: # No hope of beating, end current path\n",
    "        continue\n",
    "    \n",
    "    forbidden = ''\n",
    "    if len(trail) == 3 and len(set(trail)) == 1:\n",
    "        forbidden = trail[-1]\n",
    "    \n",
    "    \n",
    "    for k, (di, dj) in directions.items():\n",
    "        if k == forbidden or (trail and k == opposite[trail[-1]]):\n",
    "            continue\n",
    "\n",
    "        i2 = i + di\n",
    "        j2 = j + dj\n",
    "\n",
    "        if 0 <= i2 < h and 0 <= j2 < w:\n",
    "            h2 = heat + data[i2, j2]\n",
    "            t2 = trail + k\n",
    "            t2 = t2[-3::]\n",
    "\n",
    "            tk2 = trail_key(t2)\n",
    "            \n",
    "            \n",
    "            if (i2, j2, tk2) not in lowest or h2 < lowest[i2, j2, tk2]:\n",
    "                visited.append([i2, j2, h2, t2, tk2])\n",
    "\n",
    "            \n",
    "      \n",
    "\n",
    "min([v for (i, j, tk), v in lowest.items() if i == ti and j == tj])"
   ]
  },
  {
   "cell_type": "markdown",
   "metadata": {},
   "source": [
    "# Part 2"
   ]
  },
  {
   "cell_type": "code",
   "execution_count": 178,
   "metadata": {},
   "outputs": [],
   "source": [
    "def trail_tail(trail):\n",
    "    trail_length = len(trail)\n",
    "\n",
    "    if trail_length <= 4:\n",
    "        return trail\n",
    "    else:\n",
    "        tail = ''\n",
    "        for c in trail[::-1]:\n",
    "            if not tail:\n",
    "                tail += c\n",
    "            elif c == trail[-1]:\n",
    "                tail += c\n",
    "            else:\n",
    "                return tail"
   ]
  },
  {
   "cell_type": "code",
   "execution_count": 179,
   "metadata": {},
   "outputs": [
    {
     "data": {
      "text/plain": [
       "1227"
      ]
     },
     "execution_count": 179,
     "metadata": {},
     "output_type": "execute_result"
    }
   ],
   "source": [
    "lowest = {}\n",
    "\n",
    "visited = deque([[0, 0, 0, '', '']])\n",
    "\n",
    "best_heat = None\n",
    "\n",
    "ti = h-1\n",
    "tj = w-1\n",
    "\n",
    "\n",
    "while visited:\n",
    "    i, j, heat, trail, tk = visited.pop()\n",
    "\n",
    "    lowest[i, j, tk] = heat\n",
    "\n",
    "    if i == ti and j == tj: # Reached target, end current path\n",
    "        if not best_heat or heat < best_heat:\n",
    "            best_heat = heat\n",
    "        \n",
    "        continue\n",
    "\n",
    "    if best_heat and heat + abs(ti - i) + abs(tj - j) > best_heat: # No hope of beating, end current path\n",
    "        continue\n",
    "    \n",
    "    \n",
    "    \n",
    "    if len(trail) == 10 and len(set(trail)) == 1:\n",
    "        forbidden = trail[-1]\n",
    "    elif not tk:\n",
    "        forbidden = ''\n",
    "    elif tk.count(trail[-1]) < 4:\n",
    "        forbidden = [c for c in 'NESW' if c != trail[-1]]\n",
    "    else:\n",
    "        forbidden = ''\n",
    "    \n",
    "    \n",
    "    for k, (di, dj) in directions.items():\n",
    "        if k in forbidden or (trail and k == opposite[trail[-1]]):\n",
    "            continue\n",
    "\n",
    "        i2 = i + di\n",
    "        j2 = j + dj\n",
    "\n",
    "        if 0 <= i2 < h and 0 <= j2 < w:\n",
    "            h2 = heat + data[i2, j2]\n",
    "            t2 = trail + k\n",
    "            t2 = t2[-10::]\n",
    "\n",
    "            tk2 = trail_tail(t2)\n",
    "            \n",
    "            \n",
    "            if (i2, j2, tk2) not in lowest or h2 < lowest[i2, j2, tk2]:\n",
    "                visited.append([i2, j2, h2, t2, tk2])\n",
    "\n",
    "            \n",
    "min([v for (i, j, tk), v in lowest.items() if i == ti and j == tj])"
   ]
  }
 ],
 "metadata": {
  "kernelspec": {
   "display_name": "base",
   "language": "python",
   "name": "python3"
  },
  "language_info": {
   "codemirror_mode": {
    "name": "ipython",
    "version": 3
   },
   "file_extension": ".py",
   "mimetype": "text/x-python",
   "name": "python",
   "nbconvert_exporter": "python",
   "pygments_lexer": "ipython3",
   "version": "3.10.9"
  }
 },
 "nbformat": 4,
 "nbformat_minor": 2
}
