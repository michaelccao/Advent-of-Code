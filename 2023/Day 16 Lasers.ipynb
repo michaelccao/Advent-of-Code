{
 "cells": [
  {
   "cell_type": "code",
   "execution_count": 35,
   "metadata": {},
   "outputs": [],
   "source": [
    "from pathlib import Path\n",
    "import numpy as np\n",
    "from collections import deque, defaultdict"
   ]
  },
  {
   "cell_type": "code",
   "execution_count": 104,
   "metadata": {},
   "outputs": [],
   "source": [
    "data = Path('Day16.txt').read_text().splitlines()\n",
    "data = np.array([[c for c in line] for line in data])\n",
    "\n",
    "h, w = data.shape"
   ]
  },
  {
   "cell_type": "markdown",
   "metadata": {},
   "source": [
    "# Part 1"
   ]
  },
  {
   "cell_type": "code",
   "execution_count": 108,
   "metadata": {},
   "outputs": [],
   "source": [
    "def energize(lasers):\n",
    "    directions = {'N': [-1, 0],\n",
    "                'S': [1, 0],\n",
    "                'E': [0, 1],\n",
    "                'W': [0, -1]}\n",
    "    activated = defaultdict(list)\n",
    "\n",
    "\n",
    "    while lasers:\n",
    "        i, j, v = lasers.popleft()\n",
    "        di, dj = directions[v]\n",
    "\n",
    "        i2 = i + di\n",
    "        j2 = j + dj\n",
    "\n",
    "        if 0 <= i2 < h and 0 <= j2 < w:\n",
    "            if v in activated[i2, j2]:\n",
    "                continue\n",
    "            else:\n",
    "                activated[i2, j2].append(v)\n",
    "\n",
    "            element = data[i2, j2]\n",
    "\n",
    "            match v, element:\n",
    "                case _, '.':\n",
    "                    lasers.append([i2, j2, v])\n",
    "                case 'E', '/':\n",
    "                    lasers.append([i2, j2, 'N'])\n",
    "                case 'E', '\\\\':\n",
    "                    lasers.append([i2, j2, 'S'])\n",
    "                case 'W', '/':\n",
    "                    lasers.append([i2, j2, 'S'])\n",
    "                case 'W', '\\\\':\n",
    "                    lasers.append([i2, j2, 'N'])\n",
    "                case 'N', '/':\n",
    "                    lasers.append([i2, j2, 'E'])\n",
    "                case 'N', '\\\\':\n",
    "                    lasers.append([i2, j2, 'W'])\n",
    "                case 'S', '/':\n",
    "                    lasers.append([i2, j2, 'W'])\n",
    "                case 'S', '\\\\':\n",
    "                    lasers.append([i2, j2, 'E'])\n",
    "                case 'E'|'W', '|':\n",
    "                    lasers.append([i2, j2, 'N'])\n",
    "                    lasers.append([i2, j2, 'S'])\n",
    "                case 'N'|'S', '-':\n",
    "                    lasers.append([i2, j2, 'E'])\n",
    "                    lasers.append([i2, j2, 'W'])\n",
    "                case 'E'|'W', '-':\n",
    "                    lasers.append([i2, j2, v])\n",
    "                case 'N'|'S', '|':\n",
    "                    lasers.append([i2, j2, v])\n",
    "\n",
    "    return len(activated)"
   ]
  },
  {
   "cell_type": "code",
   "execution_count": 109,
   "metadata": {},
   "outputs": [
    {
     "data": {
      "text/plain": [
       "8098"
      ]
     },
     "execution_count": 109,
     "metadata": {},
     "output_type": "execute_result"
    }
   ],
   "source": [
    "energize(deque([[0, -1, 'E']]))"
   ]
  },
  {
   "cell_type": "markdown",
   "metadata": {},
   "source": [
    "# Part 2"
   ]
  },
  {
   "cell_type": "code",
   "execution_count": 113,
   "metadata": {},
   "outputs": [],
   "source": [
    "east_lasers = [[row, -1, 'E'] for row in range(h)]\n",
    "west_lasers = [[row, w, 'W'] for row in range(h)]\n",
    "south_lasers = [[-1, col, 'S'] for col in range(w)]\n",
    "north_lasers = [[h, col, 'N'] for col in range(w)]\n",
    "\n",
    "possible_lasers = east_lasers + west_lasers + south_lasers + north_lasers"
   ]
  },
  {
   "cell_type": "code",
   "execution_count": 119,
   "metadata": {},
   "outputs": [
    {
     "data": {
      "text/plain": [
       "8335"
      ]
     },
     "execution_count": 119,
     "metadata": {},
     "output_type": "execute_result"
    }
   ],
   "source": [
    "max([energize(deque([laser])) for laser in possible_lasers])"
   ]
  }
 ],
 "metadata": {
  "kernelspec": {
   "display_name": "base",
   "language": "python",
   "name": "python3"
  },
  "language_info": {
   "codemirror_mode": {
    "name": "ipython",
    "version": 3
   },
   "file_extension": ".py",
   "mimetype": "text/x-python",
   "name": "python",
   "nbconvert_exporter": "python",
   "pygments_lexer": "ipython3",
   "version": "3.10.9"
  }
 },
 "nbformat": 4,
 "nbformat_minor": 2
}
