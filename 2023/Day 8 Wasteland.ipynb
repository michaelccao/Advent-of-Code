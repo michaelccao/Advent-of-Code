{
 "cells": [
  {
   "cell_type": "code",
   "execution_count": 114,
   "metadata": {},
   "outputs": [],
   "source": [
    "from pathlib import Path\n",
    "import re\n",
    "import math"
   ]
  },
  {
   "cell_type": "code",
   "execution_count": 103,
   "metadata": {},
   "outputs": [],
   "source": [
    "data = Path('Day8.txt').read_text().splitlines()"
   ]
  },
  {
   "cell_type": "markdown",
   "metadata": {},
   "source": [
    "# Part 1"
   ]
  },
  {
   "cell_type": "code",
   "execution_count": 104,
   "metadata": {},
   "outputs": [],
   "source": [
    "directions = data[0]"
   ]
  },
  {
   "cell_type": "code",
   "execution_count": 105,
   "metadata": {},
   "outputs": [],
   "source": [
    "network = {loc[0]: [loc[1], loc[2]]  for line in data[2:] if (loc := re.findall('[A-Z]+', line))}"
   ]
  },
  {
   "cell_type": "code",
   "execution_count": 106,
   "metadata": {},
   "outputs": [
    {
     "name": "stdout",
     "output_type": "stream",
     "text": [
      "17621\n"
     ]
    }
   ],
   "source": [
    "current = 'AAA'\n",
    "steps = 0\n",
    "\n",
    "while current != 'ZZZ':\n",
    "    turn = directions[steps % len(directions)]\n",
    "    current = network[current][0] if turn == 'L' else network[current][1]\n",
    "    steps += 1\n",
    "\n",
    "print(steps)"
   ]
  },
  {
   "cell_type": "markdown",
   "metadata": {},
   "source": [
    "# Part 2"
   ]
  },
  {
   "cell_type": "code",
   "execution_count": 117,
   "metadata": {},
   "outputs": [
    {
     "name": "stdout",
     "output_type": "stream",
     "text": [
      "20685524831999\n"
     ]
    }
   ],
   "source": [
    "# After reaching a Z destination, each path makes an exact cycle\n",
    "# Just need to find LCM of all steps to reach first Z destination\n",
    "starts = [key for key in network if key.endswith('A')]\n",
    "\n",
    "step_cycles = []\n",
    "\n",
    "for loc in starts:\n",
    "    \n",
    "    current = loc\n",
    "\n",
    "    steps = 0\n",
    "\n",
    "    while not current.endswith('Z'):\n",
    "        turn = directions[steps % len(directions)]\n",
    "        current = network[current][0] if turn == 'L' else network[current][1]\n",
    "        steps += 1\n",
    "    \n",
    "    step_cycles.append(steps)\n",
    "\n",
    "print(math.lcm(*step_cycles))\n"
   ]
  }
 ],
 "metadata": {
  "kernelspec": {
   "display_name": "base",
   "language": "python",
   "name": "python3"
  },
  "language_info": {
   "codemirror_mode": {
    "name": "ipython",
    "version": 3
   },
   "file_extension": ".py",
   "mimetype": "text/x-python",
   "name": "python",
   "nbconvert_exporter": "python",
   "pygments_lexer": "ipython3",
   "version": "3.10.9"
  }
 },
 "nbformat": 4,
 "nbformat_minor": 2
}
