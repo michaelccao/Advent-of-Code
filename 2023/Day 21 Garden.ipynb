{
 "cells": [
  {
   "cell_type": "code",
   "execution_count": 2,
   "metadata": {},
   "outputs": [],
   "source": [
    "from pathlib import Path\n",
    "import numpy as np\n",
    "from collections import deque"
   ]
  },
  {
   "cell_type": "code",
   "execution_count": 224,
   "metadata": {},
   "outputs": [],
   "source": [
    "data = Path('Day21.txt').read_text().splitlines()\n",
    "data = np.array([[c for c in line] for line in data])\n",
    "\n",
    "h, w = data.shape"
   ]
  },
  {
   "cell_type": "code",
   "execution_count": 225,
   "metadata": {},
   "outputs": [],
   "source": [
    "start_i, start_j = np.where(data == 'S')\n",
    "start_i, start_j = start_i[0], start_j[0]"
   ]
  },
  {
   "cell_type": "code",
   "execution_count": 226,
   "metadata": {},
   "outputs": [],
   "source": [
    "to_visit = deque([[start_i, start_j, 0]])\n",
    "\n",
    "shortest_distance = {(start_i, start_j): 0}\n",
    "\n",
    "neighbors = [[1, 0], [-1, 0], [0, 1], [0, -1]]\n",
    "\n",
    "while to_visit:\n",
    "    i, j, dist = to_visit.popleft()\n",
    "\n",
    "    for di, dj in neighbors:\n",
    "        i2 = i + di\n",
    "        j2 = j + dj\n",
    "\n",
    "        if 0 <= i2 < h and 0 <= j2 < w and data[i2, j2] != '#' and (i2, j2) not in shortest_distance:\n",
    "            shortest_distance[i2, j2] = dist + 1\n",
    "            to_visit.append([i2, j2, dist + 1])"
   ]
  },
  {
   "cell_type": "code",
   "execution_count": 227,
   "metadata": {},
   "outputs": [
    {
     "data": {
      "text/plain": [
       "3660"
      ]
     },
     "execution_count": 227,
     "metadata": {},
     "output_type": "execute_result"
    }
   ],
   "source": [
    "len([k for k, v in shortest_distance.items() if v in range(0, 66, 2)])"
   ]
  },
  {
   "cell_type": "markdown",
   "metadata": {},
   "source": [
    "# Part 2"
   ]
  },
  {
   "cell_type": "code",
   "execution_count": 228,
   "metadata": {},
   "outputs": [],
   "source": [
    "data2 = np.copy(data)\n",
    "data2[h//2, w//2] = '.'\n",
    "data2 = np.tile(data2, (11, 11))\n",
    "\n",
    "h2, w2 = data2.shape\n",
    "\n",
    "start_i = h2 // 2\n",
    "start_j = w2 // 2"
   ]
  },
  {
   "cell_type": "code",
   "execution_count": 229,
   "metadata": {},
   "outputs": [],
   "source": [
    "to_visit = deque([[start_i, start_j, 0]])\n",
    "\n",
    "shortest_distance = {(start_i, start_j): 0}\n",
    "\n",
    "neighbors = [[1, 0], [-1, 0], [0, 1], [0, -1]]\n",
    "\n",
    "while to_visit:\n",
    "    i, j, dist = to_visit.popleft()\n",
    "\n",
    "    for di, dj in neighbors:\n",
    "        i2 = i + di\n",
    "        j2 = j + dj\n",
    "\n",
    "        if 0 <= i2 < h2 and 0 <= j2 < w2 and data2[i2, j2] != '#' and (i2, j2) not in shortest_distance:\n",
    "            shortest_distance[i2, j2] = dist + 1\n",
    "            to_visit.append([i2, j2, dist + 1])"
   ]
  },
  {
   "cell_type": "code",
   "execution_count": 230,
   "metadata": {},
   "outputs": [
    {
     "name": "stdout",
     "output_type": "stream",
     "text": [
      "605492675373144\n"
     ]
    }
   ],
   "source": [
    "target_steps = 26501365\n",
    "total = 0\n",
    "\n",
    "\n",
    "for i in range(h2//2 - h//2, h2//2 + h//2 + 1):\n",
    "    for j in range(w2//2 - w//2, w2//2 + w//2 + 1):\n",
    "        if (i,j) not in shortest_distance:\n",
    "            continue\n",
    "        \n",
    "        center = shortest_distance[i,j]\n",
    "        north = shortest_distance[i-h, j]\n",
    "        south = shortest_distance[i+h, j]\n",
    "        east = shortest_distance[i, j+w]\n",
    "        west = shortest_distance[i, j-w]\n",
    "\n",
    "        northeast = shortest_distance[i-h, j+w]\n",
    "        northwest = shortest_distance[i-h, j-w]\n",
    "        southeast = shortest_distance[i+h, j+w]\n",
    "        southwest = shortest_distance[i+h, j-w]\n",
    "\n",
    "\n",
    "        # Center\n",
    "        if (target_steps - center) % 2 == 0 and center <= target_steps:\n",
    "            total += 1\n",
    "        \n",
    "        for line in [north, south, east, west]:\n",
    "            if (target_steps - line) % 2 == 0 and line <= target_steps:\n",
    "                total += (target_steps - line) // (2*h) + 1\n",
    "\n",
    "            elif (target_steps - line - h) % 2 == 0 and line+h <= target_steps:\n",
    "                total += (target_steps - (line + h)) // (2*h) + 1\n",
    "\n",
    "\n",
    "\n",
    "        for diag in [northeast, northwest, southeast, southwest]:\n",
    "            \n",
    "            if (target_steps - diag) % 2 == 0 and diag <= target_steps: # arithmetic sequence 1, 3, 5, ...\n",
    "                num_terms = (target_steps - diag) // (w + h) + 1\n",
    "                \n",
    "                first_term = 1\n",
    "                last_term = num_terms*2 - 1\n",
    "\n",
    "                total += int(num_terms * (first_term + last_term)/2)\n",
    "\n",
    "            elif (target_steps - diag - h) % 2 == 0 and diag+h <= target_steps: # arithmetic sequence 2, 4, 6...\n",
    "                num_terms = (target_steps - (diag + h)) // (w + h) + 1\n",
    "                \n",
    "                first_term = 2\n",
    "                last_term = num_terms*2\n",
    "\n",
    "                total += int(num_terms * (first_term + last_term)/2)\n",
    "\n",
    "print(total)"
   ]
  },
  {
   "cell_type": "code",
   "execution_count": null,
   "metadata": {},
   "outputs": [],
   "source": []
  }
 ],
 "metadata": {
  "kernelspec": {
   "display_name": "trucking",
   "language": "python",
   "name": "python3"
  },
  "language_info": {
   "codemirror_mode": {
    "name": "ipython",
    "version": 3
   },
   "file_extension": ".py",
   "mimetype": "text/x-python",
   "name": "python",
   "nbconvert_exporter": "python",
   "pygments_lexer": "ipython3",
   "version": "3.10.9"
  }
 },
 "nbformat": 4,
 "nbformat_minor": 2
}
