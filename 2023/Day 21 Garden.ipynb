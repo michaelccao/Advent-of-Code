{
 "cells": [
  {
   "cell_type": "code",
   "execution_count": 1,
   "metadata": {},
   "outputs": [],
   "source": [
    "from pathlib import Path\n",
    "import numpy as np\n",
    "from collections import deque"
   ]
  },
  {
   "cell_type": "code",
   "execution_count": 58,
   "metadata": {},
   "outputs": [],
   "source": [
    "data = Path('Day21.txt').read_text().splitlines()\n",
    "data = np.array([[c for c in line] for line in data])\n",
    "\n",
    "h, w = data.shape"
   ]
  },
  {
   "cell_type": "code",
   "execution_count": 59,
   "metadata": {},
   "outputs": [],
   "source": [
    "start_i, start_j = np.where(data == 'S')\n",
    "start_i, start_j = start_i[0], start_j[0]"
   ]
  },
  {
   "cell_type": "code",
   "execution_count": 60,
   "metadata": {},
   "outputs": [],
   "source": [
    "to_visit = deque([[start_i, start_j, 0]])\n",
    "\n",
    "shortest_distance = {(start_i, start_j): 0}\n",
    "\n",
    "neighbors = [[1, 0], [-1, 0], [0, 1], [0, -1]]\n",
    "\n",
    "while to_visit:\n",
    "    i, j, dist = to_visit.popleft()\n",
    "\n",
    "    for di, dj in neighbors:\n",
    "        i2 = i + di\n",
    "        j2 = j + dj\n",
    "\n",
    "        if 0 <= i2 < h and 0 <= j2 < w and data[i2, j2] != '#' and (i2, j2) not in shortest_distance:\n",
    "            shortest_distance[i2, j2] = dist + 1\n",
    "            to_visit.append([i2, j2, dist + 1])"
   ]
  },
  {
   "cell_type": "code",
   "execution_count": 61,
   "metadata": {},
   "outputs": [
    {
     "data": {
      "text/plain": [
       "3660"
      ]
     },
     "execution_count": 61,
     "metadata": {},
     "output_type": "execute_result"
    }
   ],
   "source": [
    "len([k for k, v in shortest_distance.items() if v in range(0, 66, 2)])"
   ]
  },
  {
   "cell_type": "markdown",
   "metadata": {},
   "source": [
    "# Part 2"
   ]
  },
  {
   "cell_type": "code",
   "execution_count": 75,
   "metadata": {},
   "outputs": [],
   "source": [
    "data2 = np.copy(data)\n",
    "data2[h//2, w//2] = '.'\n",
    "data2 = np.tile(data2, (3, 3))\n",
    "\n",
    "h2, w2 = data2.shape\n",
    "\n",
    "start_i = h2 // 2\n",
    "start_j = w2 // 2"
   ]
  },
  {
   "cell_type": "code",
   "execution_count": 76,
   "metadata": {},
   "outputs": [],
   "source": [
    "to_visit = deque([[start_i, start_j, 0]])\n",
    "\n",
    "shortest_distance = {(start_i, start_j): 0}\n",
    "\n",
    "neighbors = [[1, 0], [-1, 0], [0, 1], [0, -1]]\n",
    "\n",
    "while to_visit:\n",
    "    i, j, dist = to_visit.popleft()\n",
    "\n",
    "    for di, dj in neighbors:\n",
    "        i2 = i + di\n",
    "        j2 = j + dj\n",
    "\n",
    "        if 0 <= i2 < h2 and 0 <= j2 < w2 and data2[i2, j2] != '#' and (i2, j2) not in shortest_distance:\n",
    "            shortest_distance[i2, j2] = dist + 1\n",
    "            to_visit.append([i2, j2, dist + 1])"
   ]
  },
  {
   "cell_type": "code",
   "execution_count": 84,
   "metadata": {},
   "outputs": [
    {
     "data": {
      "text/plain": [
       "131"
      ]
     },
     "execution_count": 84,
     "metadata": {},
     "output_type": "execute_result"
    }
   ],
   "source": [
    "target_steps = 26501365\n",
    "total = 0\n",
    "\n",
    "for i in range(-(h//2), h//2 + 1):\n",
    "    for j in range(-(w//2), w//2+1):\n",
    "        if (i,j) not in shortest_distance:\n",
    "            continue\n",
    "        \n",
    "        center = shortest_distance[i,j]\n",
    "        north = shortest_distance[i-h, j]\n",
    "        south = shortest_distance[i+h, j]\n",
    "        east = shortest_distance[i, j+w]\n",
    "        west = shortest_distance[i, j-w]\n",
    "\n",
    "        northeast = shortest_distance[i-h, j+w]\n",
    "        northwest = shortest_distance[i-h, j-w]\n",
    "        southeast = shortest_distance[i+h, j+w]\n",
    "        southwest = shortest_distance[i+h, j-w]\n",
    "\n",
    "        # Center\n",
    "        if shortest_distance[i, j] % 2 == 1:\n",
    "            total += 1\n",
    "        \n",
    "        # North\n",
    "        if north % 2 == 1:\n",
    "            total += (target_steps - north) // 2*h + 1\n",
    "        else:\n",
    "            total += (target_steps - (north + h)) // 2*h + 1\n",
    "\n",
    "        # South\n",
    "        if south % 2 == 1:\n",
    "            total += (target_steps - south) // 2*h + 1\n",
    "        else:\n",
    "            total += (target_steps - (south + h)) // 2*h + 1\n",
    "\n",
    "        # West\n",
    "        if west % 2 == 1:\n",
    "            total += (target_steps - west) // 2*w + 1\n",
    "        else:\n",
    "            total += (target_steps - (west + w)) // 2*w + 1\n",
    "\n",
    "        # East\n",
    "        if east % 2 == 1:\n",
    "            total += (target_steps - east) // 2*w + 1\n",
    "        else:\n",
    "            total += (target_steps - (east + w)) // 2*w + 1\n",
    "\n",
    "        # Northeast\n",
    "        if northeast % 2 == 1:\n",
    "            (target_steps - northeast) // (w + h)\n"
   ]
  },
  {
   "cell_type": "code",
   "execution_count": 85,
   "metadata": {},
   "outputs": [
    {
     "data": {
      "text/plain": [
       "(131, 131)"
      ]
     },
     "execution_count": 85,
     "metadata": {},
     "output_type": "execute_result"
    }
   ],
   "source": [
    "h, w"
   ]
  },
  {
   "cell_type": "code",
   "execution_count": 79,
   "metadata": {},
   "outputs": [
    {
     "data": {
      "text/plain": [
       "196"
      ]
     },
     "execution_count": 79,
     "metadata": {},
     "output_type": "execute_result"
    }
   ],
   "source": [
    "start_i"
   ]
  }
 ],
 "metadata": {
  "kernelspec": {
   "display_name": "trucking",
   "language": "python",
   "name": "python3"
  },
  "language_info": {
   "codemirror_mode": {
    "name": "ipython",
    "version": 3
   },
   "file_extension": ".py",
   "mimetype": "text/x-python",
   "name": "python",
   "nbconvert_exporter": "python",
   "pygments_lexer": "ipython3",
   "version": "3.11.4"
  }
 },
 "nbformat": 4,
 "nbformat_minor": 2
}
