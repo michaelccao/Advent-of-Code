{
 "cells": [
  {
   "cell_type": "markdown",
   "metadata": {},
   "source": [
    "# We built this city on rock and roll"
   ]
  },
  {
   "cell_type": "code",
   "execution_count": 71,
   "metadata": {},
   "outputs": [],
   "source": [
    "from pathlib import Path\n",
    "import numpy as np\n",
    "from collections import defaultdict"
   ]
  },
  {
   "cell_type": "code",
   "execution_count": 81,
   "metadata": {},
   "outputs": [],
   "source": [
    "data = Path('Day14.txt').read_text().splitlines()\n",
    "data = np.array([[c for c in line] for line in data])"
   ]
  },
  {
   "cell_type": "markdown",
   "metadata": {},
   "source": [
    "# Part 1"
   ]
  },
  {
   "cell_type": "code",
   "execution_count": 82,
   "metadata": {},
   "outputs": [],
   "source": [
    "def tilt_west(arr):\n",
    "    \n",
    "    for line in arr:\n",
    "        stop = 0\n",
    "        for i, c in enumerate(line):\n",
    "            if c == 'O':\n",
    "                line[stop] = 'O'\n",
    "                if stop != i:\n",
    "                    line[i] = '.'\n",
    "                stop += 1\n",
    "            if c == '#':\n",
    "                stop = i+1\n",
    "\n",
    "    return arr\n",
    "\n",
    "def tilt_north(arr):\n",
    "\n",
    "    return tilt_west(arr.T).T\n",
    "\n",
    "def tilt_east(arr):\n",
    "\n",
    "    return tilt_west(arr[:,::-1])[:,::-1]\n",
    "\n",
    "def tilt_south(arr):\n",
    "\n",
    "    return tilt_north(arr[::-1])[::-1]\n",
    "\n",
    "def tilt_cycle(arr):\n",
    "    \n",
    "    return tilt_east(tilt_south(tilt_west(tilt_north(arr))))\n",
    "\n",
    "def arr_to_string(arr):\n",
    "    return '\\n'.join([''.join(line) for line in arr])"
   ]
  },
  {
   "cell_type": "code",
   "execution_count": 83,
   "metadata": {},
   "outputs": [
    {
     "data": {
      "text/plain": [
       "109755"
      ]
     },
     "execution_count": 83,
     "metadata": {},
     "output_type": "execute_result"
    }
   ],
   "source": [
    "sum([(len(data) - i)*np.sum(line == 'O') for i, line in enumerate(tilt_north(np.copy(data)))])"
   ]
  },
  {
   "cell_type": "markdown",
   "metadata": {},
   "source": [
    "# Part 2"
   ]
  },
  {
   "cell_type": "code",
   "execution_count": 92,
   "metadata": {},
   "outputs": [],
   "source": [
    "start = np.copy(data)\n",
    "\n",
    "configs = defaultdict(list)\n",
    "\n",
    "for i in range(300):\n",
    "    start = tilt_cycle(start)\n",
    "\n",
    "    str_rep = arr_to_string(start)\n",
    "\n",
    "    if str_rep in configs:\n",
    "        configs[str_rep].append(i)\n",
    "        cycle = str_rep\n",
    "        \n",
    "        break\n",
    "\n",
    "    else:\n",
    "        configs[str_rep].append(i)\n"
   ]
  },
  {
   "cell_type": "code",
   "execution_count": 93,
   "metadata": {},
   "outputs": [],
   "source": [
    "cycle_start = configs[cycle][0]\n",
    "cycle_length = configs[cycle][1] - configs[cycle][0]\n",
    "\n",
    "end_cycle = (1000000000 - cycle_start) % cycle_length\n",
    "\n",
    "target_cycle = cycle_start + end_cycle"
   ]
  },
  {
   "cell_type": "code",
   "execution_count": 94,
   "metadata": {},
   "outputs": [
    {
     "data": {
      "text/plain": [
       "90928"
      ]
     },
     "execution_count": 94,
     "metadata": {},
     "output_type": "execute_result"
    }
   ],
   "source": [
    "start = np.copy(data)\n",
    "\n",
    "configs = defaultdict(list)\n",
    "\n",
    "for i in range(target_cycle):\n",
    "    start = tilt_cycle(start)\n",
    "\n",
    "sum([(len(data) - i)*np.sum(line == 'O') for i, line in enumerate(start)])"
   ]
  }
 ],
 "metadata": {
  "kernelspec": {
   "display_name": "base",
   "language": "python",
   "name": "python3"
  },
  "language_info": {
   "codemirror_mode": {
    "name": "ipython",
    "version": 3
   },
   "file_extension": ".py",
   "mimetype": "text/x-python",
   "name": "python",
   "nbconvert_exporter": "python",
   "pygments_lexer": "ipython3",
   "version": "3.10.9"
  }
 },
 "nbformat": 4,
 "nbformat_minor": 2
}
