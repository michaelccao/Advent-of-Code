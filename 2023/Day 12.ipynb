{
 "cells": [
  {
   "cell_type": "code",
   "execution_count": 18,
   "metadata": {},
   "outputs": [],
   "source": [
    "from pathlib import Path\n",
    "from itertools import product"
   ]
  },
  {
   "cell_type": "code",
   "execution_count": 96,
   "metadata": {},
   "outputs": [],
   "source": [
    "data = Path('Day12_Test.txt').read_text().splitlines()\n",
    "data = [[line.split()[0], list(map(int, line.split()[1].split(',')))] for line in data]"
   ]
  },
  {
   "cell_type": "code",
   "execution_count": 97,
   "metadata": {},
   "outputs": [
    {
     "data": {
      "text/plain": [
       "[['???.###', [1, 1, 3]],\n",
       " ['.??..??...?##.', [1, 1, 3]],\n",
       " ['?#?#?#?#?#?#?#?', [1, 3, 1, 6]],\n",
       " ['????.#...#...', [4, 1, 1]],\n",
       " ['????.######..#####.', [1, 6, 5]],\n",
       " ['?###????????', [3, 2, 1]]]"
      ]
     },
     "execution_count": 97,
     "metadata": {},
     "output_type": "execute_result"
    }
   ],
   "source": [
    "data"
   ]
  },
  {
   "cell_type": "code",
   "execution_count": 72,
   "metadata": {},
   "outputs": [
    {
     "name": "stdout",
     "output_type": "stream",
     "text": [
      "7732\n"
     ]
    }
   ],
   "source": [
    "result = 0\n",
    "\n",
    "for string, check in data:\n",
    "    \n",
    "    num_wilds = string.count('?')\n",
    "\n",
    "    for chars in list(product(*([['.', '#']]*num_wilds))):\n",
    "        new_str = ''\n",
    "        i = 0\n",
    "        for c in string:\n",
    "            if c == '?':\n",
    "                new_str += chars[i]\n",
    "                i += 1\n",
    "            else:\n",
    "                new_str += c\n",
    "        \n",
    "        count = [len(spl) for spl in new_str.split('.') if len(spl) > 0]\n",
    "\n",
    "        if count == check:\n",
    "            result += 1\n",
    "\n",
    "print(result)"
   ]
  },
  {
   "cell_type": "markdown",
   "metadata": {},
   "source": [
    "# Part 2"
   ]
  },
  {
   "cell_type": "code",
   "execution_count": 74,
   "metadata": {},
   "outputs": [
    {
     "name": "stdout",
     "output_type": "stream",
     "text": [
      "341212782119\n"
     ]
    }
   ],
   "source": [
    "\n",
    "result = 0\n",
    "\n",
    "for string, check in data:\n",
    "\n",
    "    initial = 0\n",
    "    tile = 0\n",
    "\n",
    "    num_wilds = string.count('?')\n",
    "\n",
    "    for chars in list(product(*([['.', '#']]*num_wilds))):\n",
    "        new_str = ''\n",
    "        i = 0\n",
    "        for c in string:\n",
    "            if c == '?':\n",
    "                new_str += chars[i]\n",
    "                i += 1\n",
    "            else:\n",
    "                new_str += c\n",
    "        \n",
    "        count = [len(spl) for spl in new_str.split('.') if len(spl) > 0]\n",
    "\n",
    "        if count == check:\n",
    "            initial += 1\n",
    "    \n",
    "    if string.endswith('#'):\n",
    "        tile = initial\n",
    "    else:\n",
    "        tile = 0\n",
    "\n",
    "        if string.endswith('.'):\n",
    "            string2 = '?' + string\n",
    "        else:\n",
    "            string2 = string + '?'\n",
    "\n",
    "        for chars in list(product(*([['.', '#']]*(num_wilds+1)))):\n",
    "            new_str = ''\n",
    "            i = 0\n",
    "            for c in string2:\n",
    "                if c == '?':\n",
    "                    new_str += chars[i]\n",
    "                    i += 1\n",
    "                else:\n",
    "                    new_str += c\n",
    "            \n",
    "            count = [len(spl) for spl in new_str.split('.') if len(spl) > 0]\n",
    "\n",
    "            if count == check:\n",
    "                tile += 1\n",
    "\n",
    "    result += initial*tile**4\n",
    "\n",
    "\n",
    "print(result)\n",
    "    "
   ]
  },
  {
   "cell_type": "code",
   "execution_count": 75,
   "metadata": {},
   "outputs": [],
   "source": [
    "from collections import deque"
   ]
  },
  {
   "cell_type": "code",
   "execution_count": 98,
   "metadata": {},
   "outputs": [
    {
     "name": "stdout",
     "output_type": "stream",
     "text": [
      ".###........\n",
      ".###.......#\n",
      ".###......#.\n",
      ".###......##\n",
      ".###.....#..\n",
      ".###.....##.\n",
      ".###....#...\n",
      ".###....##..\n",
      ".###....##.#\n",
      ".###...#....\n",
      ".###...##...\n",
      ".###...##..#\n",
      ".###...##.#.\n",
      ".###..#.....\n",
      ".###..##....\n",
      ".###..##...#\n",
      ".###..##..#.\n",
      ".###..##.#..\n",
      ".###..##.#.#\n",
      ".###.#......\n",
      ".###.##.....\n",
      ".###.##....#\n",
      ".###.##...#.\n",
      ".###.##..#..\n",
      ".###.##..#.#\n",
      ".###.##.#...\n",
      ".###.##.#..#\n",
      ".###.##.#.#.\n",
      ".###.##.#.##\n"
     ]
    }
   ],
   "source": [
    "string = '?###????????'\n",
    "check = [3, 2, 1]\n",
    "\n",
    "nodes = deque([''])\n",
    "\n",
    "while nodes:\n",
    "    node = nodes.popleft()\n",
    "\n",
    "    if len(node) == len(string):\n",
    "        print(node)\n",
    "        continue\n",
    "\n",
    "    next_char = string[len(node)]\n",
    "\n",
    "    if next_char == '?':\n",
    "        if possible_match(node + '.', check):\n",
    "            nodes.append(node + '.')\n",
    "        if possible_match(node + '#', check):\n",
    "            nodes.append(node + '#')\n",
    "    else:\n",
    "        if possible_match(node + next_char, check):\n",
    "            nodes.append(node + next_char)"
   ]
  }
 ],
 "metadata": {
  "kernelspec": {
   "display_name": "base",
   "language": "python",
   "name": "python3"
  },
  "language_info": {
   "codemirror_mode": {
    "name": "ipython",
    "version": 3
   },
   "file_extension": ".py",
   "mimetype": "text/x-python",
   "name": "python",
   "nbconvert_exporter": "python",
   "pygments_lexer": "ipython3",
   "version": "3.10.9"
  }
 },
 "nbformat": 4,
 "nbformat_minor": 2
}
