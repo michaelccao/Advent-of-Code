{
 "cells": [
  {
   "cell_type": "code",
   "execution_count": 5,
   "metadata": {},
   "outputs": [],
   "source": [
    "from pathlib import Path\n",
    "from itertools import product\n",
    "from collections import deque"
   ]
  },
  {
   "cell_type": "code",
   "execution_count": 51,
   "metadata": {},
   "outputs": [],
   "source": [
    "data = Path('Day12_Test.txt').read_text().splitlines()\n",
    "data = [[line.split()[0], list(map(int, line.split()[1].split(',')))] for line in data]"
   ]
  },
  {
   "cell_type": "code",
   "execution_count": 52,
   "metadata": {},
   "outputs": [],
   "source": [
    "def possible_match(string, orig, check):\n",
    "    count = [len(spl) for spl in string.split('.') if spl]\n",
    "\n",
    "    if len(count) > len(check):\n",
    "        return False\n",
    "    \n",
    "    if len(string) == len(orig):\n",
    "        return count == check\n",
    "\n",
    "    for i, (ct, ck) in enumerate(zip(count, check)):\n",
    "        if ct > ck:\n",
    "            return False\n",
    "        elif ct < ck and i != len(count)-1:\n",
    "            return False\n",
    "        elif ct < ck and i == len(count)-1:\n",
    "            if len(orig) - len(string) < ck - ct:\n",
    "                return False\n",
    "    \n",
    "    return True\n",
    "\n",
    "def possible_matches(string, check):\n",
    "    nodes = deque([''])\n",
    "    matches = []\n",
    "\n",
    "    valid = 0\n",
    "\n",
    "    while nodes:\n",
    "        node = nodes.pop()\n",
    "\n",
    "        if len(node) == len(string):\n",
    "            valid += 1\n",
    "            matches.append(node)\n",
    "            continue\n",
    "\n",
    "        next_char = string[len(node)]\n",
    "\n",
    "        if next_char == '?':\n",
    "            if possible_match(node + '.', string, check):\n",
    "                nodes.append(node + '.')\n",
    "            if possible_match(node + '#', string, check):\n",
    "                nodes.append(node + '#')\n",
    "        else:\n",
    "            if possible_match(node + next_char, string, check):\n",
    "                nodes.append(node + next_char)\n",
    "\n",
    "    return valid, matches"
   ]
  },
  {
   "cell_type": "code",
   "execution_count": 53,
   "metadata": {},
   "outputs": [
    {
     "data": {
      "text/plain": [
       "21"
      ]
     },
     "execution_count": 53,
     "metadata": {},
     "output_type": "execute_result"
    }
   ],
   "source": [
    "sum([possible_matches(string, check)[0] for string,check in data])"
   ]
  },
  {
   "cell_type": "markdown",
   "metadata": {},
   "source": [
    "# Part 2"
   ]
  },
  {
   "cell_type": "code",
   "execution_count": 54,
   "metadata": {},
   "outputs": [],
   "source": [
    "data2 = [['?'.join([string]*5), check*5] for string, check in data]"
   ]
  },
  {
   "cell_type": "code",
   "execution_count": 58,
   "metadata": {},
   "outputs": [
    {
     "name": "stdout",
     "output_type": "stream",
     "text": [
      "81\n",
      "16384\n",
      "1\n",
      "16\n",
      "2500\n",
      "506250\n",
      "525232\n"
     ]
    }
   ],
   "source": [
    "results = 0\n",
    "\n",
    "for string, check in data:\n",
    "\n",
    "    base, base_m = possible_matches(string, check)\n",
    "    suffix, suffix_m = possible_matches(string + '?', check)\n",
    "    prefix, prefix_m = possible_matches('?' + string, check)\n",
    "\n",
    "    if base == suffix == prefix:\n",
    "        results += base**5\n",
    "        print(base**5)\n",
    "    elif base == prefix and suffix > base:\n",
    "        results += suffix**4*base\n",
    "        print(suffix**4*base)\n",
    "    elif base == suffix and prefix > base:\n",
    "        results += base*prefix**4\n",
    "        print(base*prefix**4)\n",
    "    else:\n",
    "        results += suffix**4*base\n",
    "        results += base*prefix**4\n",
    "\n",
    "print(results)"
   ]
  },
  {
   "cell_type": "code",
   "execution_count": 59,
   "metadata": {},
   "outputs": [],
   "source": [
    "string, check = data[0]\n",
    "\n",
    "base, base_m = possible_matches(string, check)\n",
    "suffix, suffix_m = possible_matches(string + '?', check)\n",
    "prefix, prefix_m = possible_matches('?' + string, check)"
   ]
  },
  {
   "cell_type": "code",
   "execution_count": 63,
   "metadata": {},
   "outputs": [
    {
     "data": {
      "text/plain": [
       "['#.#..###', '#..#.###', '.#.#.###']"
      ]
     },
     "execution_count": 63,
     "metadata": {},
     "output_type": "execute_result"
    }
   ],
   "source": [
    "prefix_m"
   ]
  }
 ],
 "metadata": {
  "kernelspec": {
   "display_name": "base",
   "language": "python",
   "name": "python3"
  },
  "language_info": {
   "codemirror_mode": {
    "name": "ipython",
    "version": 3
   },
   "file_extension": ".py",
   "mimetype": "text/x-python",
   "name": "python",
   "nbconvert_exporter": "python",
   "pygments_lexer": "ipython3",
   "version": "3.10.9"
  }
 },
 "nbformat": 4,
 "nbformat_minor": 2
}
