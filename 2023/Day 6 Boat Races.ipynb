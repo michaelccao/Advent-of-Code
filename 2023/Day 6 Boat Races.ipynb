{
 "cells": [
  {
   "cell_type": "code",
   "execution_count": 23,
   "metadata": {},
   "outputs": [],
   "source": [
    "from pathlib import Path\n",
    "import re\n",
    "import numpy as np\n",
    "from math import floor, ceil\n"
   ]
  },
  {
   "cell_type": "code",
   "execution_count": 45,
   "metadata": {},
   "outputs": [],
   "source": [
    "data = Path('Day6.txt').read_text().split('\\n')\n",
    "\n",
    "times, distances = [re.findall('\\d+', line) for line in data]"
   ]
  },
  {
   "cell_type": "markdown",
   "metadata": {},
   "source": [
    "# Part 1"
   ]
  },
  {
   "cell_type": "code",
   "execution_count": 46,
   "metadata": {},
   "outputs": [
    {
     "name": "stdout",
     "output_type": "stream",
     "text": [
      "608902\n"
     ]
    }
   ],
   "source": [
    "result = 1\n",
    "\n",
    "for time, dist in zip(times, distances):\n",
    "    t1, t2 = sorted(np.roots([-1, int(time), -int(dist)]))\n",
    "\n",
    "    t1 = lower if (lower:=ceil(t1)) != t1 else int(t1+1)\n",
    "    t2 = upper if (upper:=floor(t2)) != t2 else int(t2-1)\n",
    "\n",
    "    result *= (t2-t1+1)\n",
    "\n",
    "print(result)   "
   ]
  },
  {
   "cell_type": "markdown",
   "metadata": {},
   "source": [
    "# Part 2"
   ]
  },
  {
   "cell_type": "code",
   "execution_count": 47,
   "metadata": {},
   "outputs": [],
   "source": [
    "time = ''.join(times)\n",
    "distance = ''.join(distances)"
   ]
  },
  {
   "cell_type": "code",
   "execution_count": 48,
   "metadata": {},
   "outputs": [
    {
     "name": "stdout",
     "output_type": "stream",
     "text": [
      "46173809\n"
     ]
    }
   ],
   "source": [
    "t1, t2 = sorted(np.roots([-1, int(time), -int(distance)]))\n",
    "\n",
    "t1 = lower if (lower:=ceil(t1)) != t1 else int(t1+1)\n",
    "t2 = upper if (upper:=floor(t2)) != t2 else int(t2-1)\n",
    "\n",
    "print(t2-t1+1)"
   ]
  }
 ],
 "metadata": {
  "kernelspec": {
   "display_name": "base",
   "language": "python",
   "name": "python3"
  },
  "language_info": {
   "codemirror_mode": {
    "name": "ipython",
    "version": 3
   },
   "file_extension": ".py",
   "mimetype": "text/x-python",
   "name": "python",
   "nbconvert_exporter": "python",
   "pygments_lexer": "ipython3",
   "version": "3.10.9"
  }
 },
 "nbformat": 4,
 "nbformat_minor": 2
}
