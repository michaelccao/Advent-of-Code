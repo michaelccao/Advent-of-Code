{
 "cells": [
  {
   "cell_type": "code",
   "execution_count": 256,
   "metadata": {},
   "outputs": [],
   "source": [
    "from pathlib import Path\n",
    "import numpy as np\n",
    "from itertools import product\n",
    "from collections import deque"
   ]
  },
  {
   "cell_type": "code",
   "execution_count": 266,
   "metadata": {},
   "outputs": [],
   "source": [
    "data = Path('Day10.txt').read_text().splitlines()"
   ]
  },
  {
   "cell_type": "code",
   "execution_count": 267,
   "metadata": {},
   "outputs": [],
   "source": [
    "pipes = np.array([[c for c in line] for line in data])\n",
    "\n",
    "h, w = pipes.shape"
   ]
  },
  {
   "cell_type": "markdown",
   "metadata": {},
   "source": [
    "# Part 1"
   ]
  },
  {
   "cell_type": "code",
   "execution_count": 268,
   "metadata": {},
   "outputs": [],
   "source": [
    "si, sj = np.where(pipes == 'S')\n",
    "si = si[0]\n",
    "sj = sj[0]\n",
    "\n",
    "\n",
    "depths = {(si, sj): 0}"
   ]
  },
  {
   "cell_type": "code",
   "execution_count": 269,
   "metadata": {},
   "outputs": [],
   "source": [
    "dv = [[1, 0], [-1, 0], [0, 1], [0, -1]]\n",
    "\n",
    "connections = {'|': [[-1, 0], [1, 0]],\n",
    "               '-': [[0, 1], [0, -1]],\n",
    "               'L': [[-1, 0], [0, 1]],\n",
    "               'J': [[-1, 0], [0, -1]],\n",
    "               '7': [[1, 0], [0, -1]],\n",
    "               'F': [[1, 0], [0, 1]],\n",
    "               '.': []}"
   ]
  },
  {
   "cell_type": "code",
   "execution_count": 270,
   "metadata": {},
   "outputs": [
    {
     "name": "stdout",
     "output_type": "stream",
     "text": [
      "6812\n"
     ]
    }
   ],
   "source": [
    "si, sj = np.where(pipes == 'S')\n",
    "si = si[0]\n",
    "sj = sj[0]\n",
    "\n",
    "\n",
    "depths = {(si, sj): 0}\n",
    "\n",
    "unvisited = deque([[si, sj]])\n",
    "\n",
    "depth = 0\n",
    "\n",
    "\n",
    "while unvisited:\n",
    "    \n",
    "    for _ in range(len(unvisited)):\n",
    "        i, j = unvisited.popleft()\n",
    "\n",
    "        if i == si and j == sj:\n",
    "            for di,dj in dv:\n",
    "                if 0 <= i + di < h and 0 <= j + dj < w and [-di, -dj] in connections[pipes[i+di][j+dj]]:\n",
    "                    unvisited.append([i+di, j+dj])\n",
    "                    depths[i+di,j+dj] = depth + 1\n",
    "        else:\n",
    "            for di,dj in connections[pipes[i, j]]:\n",
    "                if 0 <= i + di < h and 0 <= j + dj < w and not (i+di, j+dj) in depths:\n",
    "                    unvisited.append([i+di, j+dj])\n",
    "                    depths[i+di,j+dj] = depth + 1\n",
    "\n",
    "    depth += 1\n",
    "\n",
    "print(depth-1)"
   ]
  },
  {
   "cell_type": "markdown",
   "metadata": {},
   "source": [
    "# Part 2"
   ]
  },
  {
   "cell_type": "code",
   "execution_count": 271,
   "metadata": {},
   "outputs": [],
   "source": [
    "s_neighbors = [[i-si, j-sj] for (i, j), v in depths.items() if v == 1]\n",
    "\n",
    "s_replace = [k for k,v in connections.items() if s_neighbors[0] in v and s_neighbors[1] in v]\n",
    "\n",
    "pipes[si, sj] = s_replace[0]"
   ]
  },
  {
   "cell_type": "code",
   "execution_count": 272,
   "metadata": {},
   "outputs": [],
   "source": [
    "connections_3x = {'F': [['X', 'X', 'X'],\n",
    "                        ['X', 'P', 'P'],\n",
    "                        ['X', 'P', 'X']],\n",
    "                  '7': [['X', 'X', 'X'],\n",
    "                        ['P', 'P', 'X'],\n",
    "                        ['X', 'P', 'X']],\n",
    "                  'J': [['X', 'P', 'X'],\n",
    "                        ['P', 'P', 'X'],\n",
    "                        ['X', 'X', 'X']],\n",
    "                  'L': [['X', 'P', 'X'],\n",
    "                        ['X', 'P', 'P'],\n",
    "                        ['X', 'X', 'X']],\n",
    "                  '|': [['X', 'P', 'X'],\n",
    "                        ['X', 'P', 'X'],\n",
    "                        ['X', 'P', 'X']],\n",
    "                  '-': [['X', 'X', 'X'],\n",
    "                        ['P', 'P', 'P'],\n",
    "                        ['X', 'X', 'X']],\n",
    "                        }"
   ]
  },
  {
   "cell_type": "code",
   "execution_count": 273,
   "metadata": {},
   "outputs": [],
   "source": [
    "h3, w3 = 3*h, 3*w\n",
    "\n",
    "pipes_3x = np.zeros((h3, w3), dtype = str)\n",
    "\n",
    "for i in range(h):\n",
    "    for j in range(w):\n",
    "        if (i, j) in depths:\n",
    "            pipes_3x[3*i:3*i+3, 3*j: 3*j + 3] = connections_3x[pipes[i,j]]\n",
    "        else:\n",
    "            pipes_3x[3*i:3*i+3, 3*j: 3*j + 3] = 'O'\n",
    "\n",
    "pipes_3x_padded = np.zeros((h3+2, w3+2), dtype = str)\n",
    "pipes_3x_padded[1:-1, 1:-1] = pipes_3x"
   ]
  },
  {
   "cell_type": "code",
   "execution_count": 287,
   "metadata": {},
   "outputs": [
    {
     "name": "stdout",
     "output_type": "stream",
     "text": [
      "527.0\n"
     ]
    }
   ],
   "source": [
    "unvisited = deque([[0, 0]])\n",
    "visited = {}\n",
    "outside = 0\n",
    "\n",
    "while unvisited:\n",
    "    i, j = unvisited.popleft()\n",
    "\n",
    "    visited[i, j] = pipes_3x_padded[i, j]\n",
    "    # print(visited)\n",
    "    if pipes_3x_padded[i,j] == 'O':\n",
    "        outside += 1\n",
    "    \n",
    "    for di, dj in dv:\n",
    "        if 0 <= i + di < h3+2 and 0 <= j + dj < w3 + 2 and pipes_3x_padded[i+di,j+dj] != 'P' and (i+di, j+dj) not in visited and [i+di, j+dj] not in unvisited:\n",
    "            unvisited.append([i+di, j+dj])\n",
    "\n",
    "print(np.count_nonzero(pipes_3x_padded == 'O') / 9 - outside / 9)"
   ]
  }
 ],
 "metadata": {
  "kernelspec": {
   "display_name": "base",
   "language": "python",
   "name": "python3"
  },
  "language_info": {
   "codemirror_mode": {
    "name": "ipython",
    "version": 3
   },
   "file_extension": ".py",
   "mimetype": "text/x-python",
   "name": "python",
   "nbconvert_exporter": "python",
   "pygments_lexer": "ipython3",
   "version": "3.10.9"
  }
 },
 "nbformat": 4,
 "nbformat_minor": 2
}
