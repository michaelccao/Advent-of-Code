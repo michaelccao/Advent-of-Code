{
 "cells": [
  {
   "cell_type": "code",
   "execution_count": 63,
   "metadata": {},
   "outputs": [],
   "source": [
    "from pathlib import Path\n",
    "import numpy as np\n",
    "from collections import deque\n",
    "from itertools import pairwise"
   ]
  },
  {
   "cell_type": "code",
   "execution_count": 169,
   "metadata": {},
   "outputs": [],
   "source": [
    "data = Path('Day18.txt').read_text().splitlines()\n",
    "data = [line.split() for line in data]"
   ]
  },
  {
   "cell_type": "markdown",
   "metadata": {},
   "source": [
    "# Part 1"
   ]
  },
  {
   "cell_type": "code",
   "execution_count": 170,
   "metadata": {},
   "outputs": [],
   "source": [
    "i_min, i_max, i = 0, 0, 0\n",
    "j_min, j_max, j = 0, 0, 0\n",
    "\n",
    "for dir, steps, color in data:\n",
    "    steps = int(steps)\n",
    "\n",
    "    match dir:\n",
    "        case 'R':\n",
    "            j += steps\n",
    "        case 'L':\n",
    "            j -= steps\n",
    "        case 'U':\n",
    "            i -= steps\n",
    "        case 'D':\n",
    "            i += steps\n",
    "    \n",
    "    i_min = min(i, i_min)\n",
    "    i_max = max(i, i_max)\n",
    "\n",
    "    j_min = min(j, j_min)\n",
    "    j_max = max(j, j_max)\n",
    "\n",
    "h = (i_max - i_min + 1) + 2\n",
    "w = (j_max - j_min + 1) + 2\n",
    "\n",
    "arr = np.zeros((h, w), dtype = str)\n",
    "arr[:, :] = '.'\n",
    "\n",
    "\n",
    "i = 1 - i_min\n",
    "j = 1 - j_min\n",
    "\n",
    "for dir, steps, color in data:\n",
    "    steps = int(steps)\n",
    "\n",
    "    match dir:\n",
    "        case 'R':\n",
    "            arr[i, j+1:j+steps+1] = '#'\n",
    "            j += steps\n",
    "        case 'L':\n",
    "            arr[i, j-1:j-steps-1:-1] = '#'\n",
    "            j -= steps\n",
    "        case 'U':\n",
    "            arr[i-1:i-steps-1:-1, j] = '#'\n",
    "            i -= steps\n",
    "        case 'D':\n",
    "            arr[i+1:i+steps+1, j] = '#'\n",
    "            i += steps"
   ]
  },
  {
   "cell_type": "code",
   "execution_count": 171,
   "metadata": {},
   "outputs": [
    {
     "name": "stdout",
     "output_type": "stream",
     "text": [
      "61661\n"
     ]
    }
   ],
   "source": [
    "dv = [[1, 0], [-1, 0], [0, 1], [0, -1]]\n",
    "\n",
    "unvisited = deque([[0, 0]])\n",
    "visited = {}\n",
    "outside = 0\n",
    "\n",
    "while unvisited:\n",
    "    i, j = unvisited.popleft()\n",
    "\n",
    "    visited[i, j] = arr[i, j]\n",
    "    # print(visited)\n",
    "    if arr[i,j] == 'O':\n",
    "        outside += 1\n",
    "    \n",
    "    for di, dj in dv:\n",
    "        if 0 <= i + di < h and 0 <= j + dj < w and arr[i+di,j+dj] != '#' and (i+di, j+dj) not in visited and [i+di, j+dj] not in unvisited:\n",
    "            unvisited.append([i+di, j+dj])\n",
    "\n",
    "print(arr.size - len(visited))"
   ]
  },
  {
   "cell_type": "markdown",
   "metadata": {},
   "source": [
    "# Part 2"
   ]
  },
  {
   "cell_type": "code",
   "execution_count": 172,
   "metadata": {},
   "outputs": [],
   "source": [
    "data2 = [[int(color[2:-2], 16), color[-2]]for dir, steps, color in data]"
   ]
  },
  {
   "cell_type": "code",
   "execution_count": 173,
   "metadata": {},
   "outputs": [],
   "source": [
    "points = deque()\n",
    "\n",
    "directions = {'0': [0, 1],\n",
    "              '1': [1, 0],\n",
    "              '2': [0, -1],\n",
    "              '3': [-1, 0]}\n",
    "\n",
    "# data2 = [[1, '0'], [1, '1'], [1, '2'], [1, '3']]\n",
    "\n",
    "y, x = 0, 0\n",
    "\n",
    "path_length = 0\n",
    "\n",
    "convex_corners = 0\n",
    "\n",
    "for i, (steps, dir) in enumerate(data2):\n",
    "    steps = int(steps)\n",
    "\n",
    "    dy, dx = directions[dir]\n",
    "\n",
    "    y += dy*steps\n",
    "    x += dx*steps\n",
    "\n",
    "    next_dir = data2[i+1][1] if i < len(data2)-1 else data2[0][1]\n",
    "\n",
    "    if int(next_dir) - int(dir) == 1 or (dir == '3' and next_dir == '0'):\n",
    "        convex_corners += 1\n",
    "\n",
    "    path_length += steps\n",
    "\n",
    "    points.append([y, x])\n",
    "\n",
    "corners = len(data2)\n",
    "concave_corners = corners - convex_corners"
   ]
  },
  {
   "cell_type": "code",
   "execution_count": 174,
   "metadata": {},
   "outputs": [
    {
     "data": {
      "text/plain": [
       "111131796939729.0"
      ]
     },
     "execution_count": 174,
     "metadata": {},
     "output_type": "execute_result"
    }
   ],
   "source": [
    "sum([0.5*(points[i][0] + points[i+1][0])*(points[i][1] - points[i+1][1]) if i < len(points)-1 else\n",
    "  0.5*(points[i][0] + points[0][0])*(points[i][1] - points[0][1]) for i in range(0, len(points))]) + 0.5*(path_length - corners) + 0.25*concave_corners + 0.75*convex_corners"
   ]
  }
 ],
 "metadata": {
  "kernelspec": {
   "display_name": "base",
   "language": "python",
   "name": "python3"
  },
  "language_info": {
   "codemirror_mode": {
    "name": "ipython",
    "version": 3
   },
   "file_extension": ".py",
   "mimetype": "text/x-python",
   "name": "python",
   "nbconvert_exporter": "python",
   "pygments_lexer": "ipython3",
   "version": "3.10.9"
  }
 },
 "nbformat": 4,
 "nbformat_minor": 2
}
