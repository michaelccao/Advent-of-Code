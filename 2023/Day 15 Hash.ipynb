{
 "cells": [
  {
   "cell_type": "code",
   "execution_count": 46,
   "metadata": {},
   "outputs": [],
   "source": [
    "from pathlib import Path\n",
    "from collections import defaultdict, deque"
   ]
  },
  {
   "cell_type": "code",
   "execution_count": 62,
   "metadata": {},
   "outputs": [],
   "source": [
    "data = Path('Day15.txt').read_text().splitlines()\n",
    "data = [spl for line in data for spl in line.split(',')]"
   ]
  },
  {
   "cell_type": "markdown",
   "metadata": {},
   "source": [
    "# Part 1"
   ]
  },
  {
   "cell_type": "code",
   "execution_count": 63,
   "metadata": {},
   "outputs": [],
   "source": [
    "def holi_hash(seq):\n",
    "    cv = 0\n",
    "    for c in seq:\n",
    "        cv += ord(c)\n",
    "        cv *= 17\n",
    "        cv %= 256\n",
    "\n",
    "    return cv"
   ]
  },
  {
   "cell_type": "code",
   "execution_count": 64,
   "metadata": {},
   "outputs": [
    {
     "data": {
      "text/plain": [
       "509152"
      ]
     },
     "execution_count": 64,
     "metadata": {},
     "output_type": "execute_result"
    }
   ],
   "source": [
    "sum([holi_hash(seq) for seq in data])"
   ]
  },
  {
   "cell_type": "markdown",
   "metadata": {},
   "source": [
    "# Part 2"
   ]
  },
  {
   "cell_type": "code",
   "execution_count": 65,
   "metadata": {},
   "outputs": [],
   "source": [
    "boxes = defaultdict(lambda : {'labels': deque(), 'lenses': deque()})\n",
    "\n",
    "for seq in data:\n",
    "    if '=' in seq:\n",
    "        label, lens = seq.split('=')\n",
    "        box = holi_hash(label)\n",
    "\n",
    "        if label in boxes[box]['labels']:\n",
    "            ind = boxes[box]['labels'].index(label)\n",
    "            boxes[box]['lenses'][ind] = lens\n",
    "        else:\n",
    "            boxes[box]['labels'].append(label)\n",
    "            boxes[box]['lenses'].append(lens)\n",
    "\n",
    "    elif '-' in seq:\n",
    "        label = seq.split('-')[0]\n",
    "        box = holi_hash(label)\n",
    "\n",
    "        if label in boxes[box]['labels']:\n",
    "            ind = boxes[box]['labels'].index(label)\n",
    "            del boxes[box]['labels'][ind]\n",
    "            del boxes[box]['lenses'][ind]"
   ]
  },
  {
   "cell_type": "code",
   "execution_count": 66,
   "metadata": {},
   "outputs": [
    {
     "name": "stdout",
     "output_type": "stream",
     "text": [
      "244403\n"
     ]
    }
   ],
   "source": [
    "total = 0\n",
    "for box in boxes:\n",
    "    for i,lens in enumerate(boxes[box]['lenses']):\n",
    "        total += (box + 1)*(i + 1)*(int(lens))\n",
    "\n",
    "print(total)"
   ]
  },
  {
   "cell_type": "code",
   "execution_count": null,
   "metadata": {},
   "outputs": [],
   "source": []
  }
 ],
 "metadata": {
  "kernelspec": {
   "display_name": "trucking",
   "language": "python",
   "name": "python3"
  },
  "language_info": {
   "codemirror_mode": {
    "name": "ipython",
    "version": 3
   },
   "file_extension": ".py",
   "mimetype": "text/x-python",
   "name": "python",
   "nbconvert_exporter": "python",
   "pygments_lexer": "ipython3",
   "version": "3.11.4"
  }
 },
 "nbformat": 4,
 "nbformat_minor": 2
}
