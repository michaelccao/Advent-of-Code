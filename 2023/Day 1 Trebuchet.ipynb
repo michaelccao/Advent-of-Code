{
 "cells": [
  {
   "cell_type": "code",
   "execution_count": 1,
   "metadata": {},
   "outputs": [],
   "source": [
    "from pathlib import Path"
   ]
  },
  {
   "cell_type": "code",
   "execution_count": 3,
   "metadata": {},
   "outputs": [],
   "source": [
    "data = Path('Day1.txt').read_text().split('\\n')"
   ]
  },
  {
   "cell_type": "markdown",
   "metadata": {},
   "source": [
    "# Part 1"
   ]
  },
  {
   "cell_type": "code",
   "execution_count": 14,
   "metadata": {},
   "outputs": [
    {
     "name": "stdout",
     "output_type": "stream",
     "text": [
      "56465\n"
     ]
    }
   ],
   "source": [
    "digits = [[char for char in line if char.isdigit()] for line in data]\n",
    "numbers = [int(digit[0] + digit[-1]) for digit in digits]\n",
    "\n",
    "print(sum(numbers))"
   ]
  },
  {
   "cell_type": "markdown",
   "metadata": {},
   "source": [
    "# Part 2"
   ]
  },
  {
   "cell_type": "code",
   "execution_count": 43,
   "metadata": {},
   "outputs": [],
   "source": [
    "number_strings = {'one': 'o1e', \n",
    "                  'two': 't2o', \n",
    "                  'three': 't3e', \n",
    "                  'four': 'f4r', \n",
    "                  'five': 'f5e', \n",
    "                  'six': 's6x', \n",
    "                  'seven': 's7n', \n",
    "                  'eight': 'e8t', \n",
    "                  'nine': 'n9e'}"
   ]
  },
  {
   "cell_type": "code",
   "execution_count": 48,
   "metadata": {},
   "outputs": [],
   "source": [
    "data2 = '\\n'.join(data)\n",
    "\n",
    "for k, v in number_strings.items():\n",
    "    data2 = data2.replace(k, v)\n",
    "\n",
    "data2 = data2.split('\\n')"
   ]
  },
  {
   "cell_type": "code",
   "execution_count": 50,
   "metadata": {},
   "outputs": [
    {
     "name": "stdout",
     "output_type": "stream",
     "text": [
      "55902\n"
     ]
    }
   ],
   "source": [
    "digits = [[char for char in line if char.isdigit()] for line in data2]\n",
    "numbers = [int(digit[0] + digit[-1]) for digit in digits]\n",
    "\n",
    "print(sum(numbers))"
   ]
  }
 ],
 "metadata": {
  "kernelspec": {
   "display_name": "base",
   "language": "python",
   "name": "python3"
  },
  "language_info": {
   "codemirror_mode": {
    "name": "ipython",
    "version": 3
   },
   "file_extension": ".py",
   "mimetype": "text/x-python",
   "name": "python",
   "nbconvert_exporter": "python",
   "pygments_lexer": "ipython3",
   "version": "3.10.9"
  },
  "vscode": {
   "interpreter": {
    "hash": "3f196a898649953439d4e1489d12a148acaa256d4f91c3ce1913e9e7c137c2b7"
   }
  }
 },
 "nbformat": 4,
 "nbformat_minor": 2
}
