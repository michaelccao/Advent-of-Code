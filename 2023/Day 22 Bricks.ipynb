{
 "cells": [
  {
   "cell_type": "code",
   "execution_count": 441,
   "metadata": {},
   "outputs": [],
   "source": [
    "from pathlib import Path\n",
    "import numpy as np\n",
    "from collections import defaultdict, deque"
   ]
  },
  {
   "cell_type": "code",
   "execution_count": 476,
   "metadata": {},
   "outputs": [],
   "source": [
    "data = Path('Day22.txt').read_text().splitlines()\n",
    "data = sorted([[[int(coord) for coord in brick.split(',')] for brick in line.split('~') ] for i, line in enumerate(data)], key = lambda brick: brick[0][2])"
   ]
  },
  {
   "cell_type": "markdown",
   "metadata": {},
   "source": [
    "# Part 1"
   ]
  },
  {
   "cell_type": "code",
   "execution_count": 477,
   "metadata": {},
   "outputs": [
    {
     "name": "stdout",
     "output_type": "stream",
     "text": [
      "376 9 9\n"
     ]
    }
   ],
   "source": [
    "max_x = max([end[0] for bricks in data for end in bricks])\n",
    "max_y = max([end[1] for bricks in data for end in bricks])\n",
    "max_z = max([end[2] for bricks in data for end in bricks])\n",
    "\n",
    "print(max_z, max_y, max_x)"
   ]
  },
  {
   "cell_type": "code",
   "execution_count": 478,
   "metadata": {},
   "outputs": [],
   "source": [
    "shaft = np.zeros((max_z + 1, max_y+1, max_x+1)) # [z, y, x] order\n",
    "\n",
    "h, w, d = shaft.shape\n",
    "\n",
    "for i, ([[x, y, z], [x2, y2, z2]]) in enumerate(data):\n",
    "    shaft[h-z:h-z2-1:-1, y:y2+1, x:x2+1] = i+1"
   ]
  },
  {
   "cell_type": "code",
   "execution_count": 479,
   "metadata": {},
   "outputs": [],
   "source": [
    "settled_shaft = np.copy(shaft)\n",
    "\n",
    "settled = []\n",
    "\n",
    "for i, ([x, y, z], [x2, y2, z2]) in enumerate(data):\n",
    "    below = settled_shaft[h-z+1:, y:y2+1, x:x2+1]\n",
    "\n",
    "    drops = np.nonzero(below)[0]\n",
    "    \n",
    "    if len(drops) > 0:\n",
    "        drops = drops[0]\n",
    "    else:\n",
    "        drops = z-1\n",
    "\n",
    "    if drops != 0:\n",
    "        settled_shaft[h-z:h-z2-1:-1, y:y2+1, x:x2+1] = 0\n",
    "        settled_shaft[h-z+drops:h-z2-1+drops:-1, y:y2+1, x:x2+1] = i+1\n",
    "\n",
    "    settled.append([[x, y, z - drops], [x2, y2, z2-drops]])"
   ]
  },
  {
   "cell_type": "code",
   "execution_count": 480,
   "metadata": {},
   "outputs": [
    {
     "data": {
      "text/plain": [
       "512"
      ]
     },
     "execution_count": 480,
     "metadata": {},
     "output_type": "execute_result"
    }
   ],
   "source": [
    "removeable_bricks = set(range(1, len(data)+1))\n",
    "\n",
    "for i, ([x, y, z], [x2, y2, z2]) in enumerate(settled):\n",
    "\n",
    "    bricks_below = {int(brick) for brick in settled_shaft[h-z+1:h-z+2, y:y2+1, x:x2+1].ravel() if brick > 0}\n",
    "    \n",
    "    if len(bricks_below) == 1:\n",
    "        for brick in bricks_below:\n",
    "            if brick in removeable_bricks:\n",
    "                removeable_bricks.remove(brick)\n",
    "\n",
    "len(removeable_bricks)"
   ]
  },
  {
   "cell_type": "markdown",
   "metadata": {},
   "source": [
    "# Part 2"
   ]
  },
  {
   "cell_type": "code",
   "execution_count": 481,
   "metadata": {},
   "outputs": [],
   "source": [
    "supported_by = defaultdict(set)\n",
    "supports = defaultdict(set)\n",
    "\n",
    "for i, ([x, y, z], [x2, y2, z2]) in enumerate(settled):\n",
    "\n",
    "    bricks_below = {int(brick) for brick in settled_shaft[h-z+1:h-z+2, y:y2+1, x:x2+1].ravel() if brick > 0}\n",
    "    bricks_above = {int(brick) for brick in settled_shaft[h-z2-1:h-z2-2:-1, y:y2+1, x:x2+1].ravel() if brick > 0}\n",
    "\n",
    "    supported_by[i+1] = bricks_below\n",
    "    supports[i+1] = bricks_above"
   ]
  },
  {
   "cell_type": "code",
   "execution_count": 482,
   "metadata": {},
   "outputs": [],
   "source": [
    "def chain_reaction(brick, supports, supported_by):\n",
    "    removed_bricks = set([brick])\n",
    "\n",
    "    to_remove = deque([b for b in supports[brick]])\n",
    "\n",
    "    while to_remove:\n",
    "        rb = to_remove.popleft()\n",
    "\n",
    "        if supported_by[rb].intersection(removed_bricks) == supported_by[rb]:\n",
    "            removed_bricks.add(rb)\n",
    "            for b in supports[rb]:\n",
    "                if b not in to_remove:\n",
    "                    to_remove.append(b)\n",
    "\n",
    "    return len(removed_bricks) - 1\n",
    "    "
   ]
  },
  {
   "cell_type": "code",
   "execution_count": 483,
   "metadata": {},
   "outputs": [
    {
     "data": {
      "text/plain": [
       "98167"
      ]
     },
     "execution_count": 483,
     "metadata": {},
     "output_type": "execute_result"
    }
   ],
   "source": [
    "sum([chain_reaction(brick, supports, supported_by) for brick in range(1, len(data)+1)])"
   ]
  }
 ],
 "metadata": {
  "kernelspec": {
   "display_name": "base",
   "language": "python",
   "name": "python3"
  },
  "language_info": {
   "codemirror_mode": {
    "name": "ipython",
    "version": 3
   },
   "file_extension": ".py",
   "mimetype": "text/x-python",
   "name": "python",
   "nbconvert_exporter": "python",
   "pygments_lexer": "ipython3",
   "version": "3.10.9"
  }
 },
 "nbformat": 4,
 "nbformat_minor": 2
}
