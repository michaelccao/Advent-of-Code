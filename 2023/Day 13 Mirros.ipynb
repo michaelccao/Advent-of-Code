{
 "cells": [
  {
   "cell_type": "code",
   "execution_count": 6,
   "metadata": {},
   "outputs": [],
   "source": [
    "from pathlib import Path\n",
    "import numpy as np"
   ]
  },
  {
   "cell_type": "code",
   "execution_count": 14,
   "metadata": {},
   "outputs": [],
   "source": [
    "data = Path('Day13_Test.txt').read_text().split('\\n\\n')\n",
    "data = [line.splitlines() for line in data]\n",
    "data = np.array([[[c for c in line] for line in arr] for arr in data])"
   ]
  },
  {
   "cell_type": "code",
   "execution_count": 15,
   "metadata": {},
   "outputs": [],
   "source": [
    "arr = data[0]"
   ]
  },
  {
   "cell_type": "code",
   "execution_count": 31,
   "metadata": {},
   "outputs": [
    {
     "data": {
      "text/plain": [
       "array([['#', '.', '#', '#', '.', '.', '#', '#', '.'],\n",
       "       ['.', '.', '#', '.', '#', '#', '.', '#', '.'],\n",
       "       ['#', '#', '.', '.', '.', '.', '.', '.', '#'],\n",
       "       ['#', '#', '.', '.', '.', '.', '.', '.', '#'],\n",
       "       ['.', '.', '#', '.', '#', '#', '.', '#', '.'],\n",
       "       ['.', '.', '#', '#', '.', '.', '#', '#', '.'],\n",
       "       ['#', '.', '#', '.', '#', '#', '.', '#', '.']], dtype='<U1')"
      ]
     },
     "execution_count": 31,
     "metadata": {},
     "output_type": "execute_result"
    }
   ],
   "source": [
    "arr"
   ]
  },
  {
   "cell_type": "code",
   "execution_count": 18,
   "metadata": {},
   "outputs": [
    {
     "data": {
      "text/plain": [
       "array([['#', '.', '#', '#', '.'],\n",
       "       ['.', '.', '#', '.', '#'],\n",
       "       ['#', '#', '.', '.', '.'],\n",
       "       ['#', '#', '.', '.', '.'],\n",
       "       ['.', '.', '#', '.', '#'],\n",
       "       ['.', '.', '#', '#', '.'],\n",
       "       ['#', '.', '#', '.', '#']], dtype='<U1')"
      ]
     },
     "execution_count": 18,
     "metadata": {},
     "output_type": "execute_result"
    }
   ],
   "source": [
    "arr[:, :5]"
   ]
  },
  {
   "cell_type": "code",
   "execution_count": 34,
   "metadata": {},
   "outputs": [
    {
     "data": {
      "text/plain": [
       "array([['.', '#', '#', '.'],\n",
       "       ['.', '#', '.', '#'],\n",
       "       ['#', '.', '.', '.'],\n",
       "       ['#', '.', '.', '.'],\n",
       "       ['.', '#', '.', '#'],\n",
       "       ['.', '#', '#', '.'],\n",
       "       ['.', '#', '.', '#']], dtype='<U1')"
      ]
     },
     "execution_count": 34,
     "metadata": {},
     "output_type": "execute_result"
    }
   ],
   "source": [
    "arr[:, :4:-1]"
   ]
  }
 ],
 "metadata": {
  "kernelspec": {
   "display_name": "base",
   "language": "python",
   "name": "python3"
  },
  "language_info": {
   "codemirror_mode": {
    "name": "ipython",
    "version": 3
   },
   "file_extension": ".py",
   "mimetype": "text/x-python",
   "name": "python",
   "nbconvert_exporter": "python",
   "pygments_lexer": "ipython3",
   "version": "3.10.9"
  }
 },
 "nbformat": 4,
 "nbformat_minor": 2
}
