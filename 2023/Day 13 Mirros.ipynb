{
 "cells": [
  {
   "cell_type": "code",
   "execution_count": 37,
   "metadata": {},
   "outputs": [],
   "source": [
    "from pathlib import Path\n",
    "import numpy as np"
   ]
  },
  {
   "cell_type": "code",
   "execution_count": 118,
   "metadata": {},
   "outputs": [],
   "source": [
    "data = Path('Day13.txt').read_text().split('\\n\\n')\n",
    "data = [line.splitlines() for line in data]\n",
    "data = [np.array([[c for c in line] for line in arr]) for arr in data]"
   ]
  },
  {
   "cell_type": "markdown",
   "metadata": {},
   "source": [
    "# Part 1"
   ]
  },
  {
   "cell_type": "code",
   "execution_count": 132,
   "metadata": {},
   "outputs": [],
   "source": [
    "def find_vertical(arr, part1 = True):\n",
    "    for i in range(1, arr.shape[1]):\n",
    "        left = arr[:, :i]\n",
    "        right = arr[:, i:]\n",
    "\n",
    "        left_cols, right_cols = left.shape[1], right.shape[1]\n",
    "\n",
    "        if left_cols > right_cols:\n",
    "            left = left[:, left_cols - right_cols:]\n",
    "            \n",
    "        elif right_cols > left_cols:\n",
    "            right = right[:, :left_cols]\n",
    "        \n",
    "        right = right[:, ::-1]\n",
    "\n",
    "        if part1 and np.all(left == right):\n",
    "            return i\n",
    "        elif not part1 and np.sum(left == right) == left.size - 1:\n",
    "            return i\n",
    "    \n",
    "    return -1\n",
    "\n",
    "def find_horizontal(arr, part1 = True):\n",
    "    for i in range(1, arr.shape[0]):\n",
    "        top = arr[:i]\n",
    "        bot = arr[i:]\n",
    "\n",
    "        top_rows, bot_rows = top.shape[0], bot.shape[0]\n",
    "\n",
    "        if top_rows > bot_rows:\n",
    "            top = top[top_rows - bot_rows:]\n",
    "        elif bot_rows > top_rows:\n",
    "            bot = bot[:top_rows]\n",
    "        \n",
    "        bot = bot[::-1]\n",
    "\n",
    "        if part1 and np.all(top == bot):\n",
    "            return i\n",
    "        elif not part1 and np.sum(top == bot) == top.size - 1:\n",
    "            return i\n",
    "    \n",
    "    return -1"
   ]
  },
  {
   "cell_type": "code",
   "execution_count": 133,
   "metadata": {},
   "outputs": [
    {
     "name": "stdout",
     "output_type": "stream",
     "text": [
      "33195\n"
     ]
    }
   ],
   "source": [
    "result = 0\n",
    "\n",
    "for arr in data:\n",
    "    if (cols:=find_vertical(arr)) > 0:\n",
    "        result += cols\n",
    "    elif (rows:=find_horizontal(arr)) > 0:\n",
    "        result += 100*rows\n",
    "\n",
    "print(result)"
   ]
  },
  {
   "cell_type": "markdown",
   "metadata": {},
   "source": [
    "# Part 2"
   ]
  },
  {
   "cell_type": "code",
   "execution_count": 134,
   "metadata": {},
   "outputs": [
    {
     "name": "stdout",
     "output_type": "stream",
     "text": [
      "31836\n"
     ]
    }
   ],
   "source": [
    "result = 0\n",
    "\n",
    "for arr in data:\n",
    "    if (cols:=find_vertical(arr, part1 = False)) > 0:\n",
    "        result += cols\n",
    "    elif (rows:=find_horizontal(arr, part1 = False)) > 0:\n",
    "        result += 100*rows\n",
    "\n",
    "\n",
    "print(result)"
   ]
  }
 ],
 "metadata": {
  "kernelspec": {
   "display_name": "base",
   "language": "python",
   "name": "python3"
  },
  "language_info": {
   "codemirror_mode": {
    "name": "ipython",
    "version": 3
   },
   "file_extension": ".py",
   "mimetype": "text/x-python",
   "name": "python",
   "nbconvert_exporter": "python",
   "pygments_lexer": "ipython3",
   "version": "3.10.9"
  }
 },
 "nbformat": 4,
 "nbformat_minor": 2
}
