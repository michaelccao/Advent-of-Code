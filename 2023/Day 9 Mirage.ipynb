{
 "cells": [
  {
   "cell_type": "code",
   "execution_count": 2,
   "metadata": {},
   "outputs": [],
   "source": [
    "from pathlib import Path\n",
    "from itertools import pairwise\n",
    "import numpy as np"
   ]
  },
  {
   "cell_type": "code",
   "execution_count": 3,
   "metadata": {},
   "outputs": [],
   "source": [
    "data = [[int(num) for num in line.split()] for line in Path('Day9.txt').read_text().splitlines()]"
   ]
  },
  {
   "cell_type": "markdown",
   "metadata": {},
   "source": [
    "# Part 1"
   ]
  },
  {
   "cell_type": "code",
   "execution_count": 4,
   "metadata": {},
   "outputs": [
    {
     "name": "stdout",
     "output_type": "stream",
     "text": [
      "1819125966\n"
     ]
    }
   ],
   "source": [
    "predictions = []\n",
    "\n",
    "for line in data:\n",
    "    ends = [line[-1]]\n",
    "    diff = [b-a for a,b in pairwise(line)]\n",
    "\n",
    "    while len(set(diff)) != 1:\n",
    "        ends.append(diff[-1])\n",
    "        diff = [b-a for a,b in pairwise(diff)]\n",
    "\n",
    "    \n",
    "    prediction = diff[-1]\n",
    "\n",
    "    while ends:\n",
    "        prediction += ends.pop(-1)\n",
    "\n",
    "    predictions.append(prediction)\n",
    "\n",
    "print(sum(predictions))\n",
    "    \n"
   ]
  },
  {
   "cell_type": "markdown",
   "metadata": {},
   "source": [
    "# Part 2"
   ]
  },
  {
   "cell_type": "code",
   "execution_count": 5,
   "metadata": {},
   "outputs": [
    {
     "name": "stdout",
     "output_type": "stream",
     "text": [
      "1140\n"
     ]
    }
   ],
   "source": [
    "predictions = []\n",
    "\n",
    "for line in data:\n",
    "    starts = [line[0]]\n",
    "    diff = [b-a for a,b in pairwise(line)]\n",
    "\n",
    "    while len(set(diff)) != 1:\n",
    "        starts.append(diff[0])\n",
    "        diff = [b-a for a,b in pairwise(diff)]\n",
    "\n",
    "    prediction = diff[0]\n",
    "\n",
    "    while starts:\n",
    "        prediction = starts.pop(-1) - prediction\n",
    "\n",
    "    predictions.append(prediction)\n",
    "\n",
    "print(sum(predictions))\n",
    "    \n"
   ]
  },
  {
   "cell_type": "markdown",
   "metadata": {},
   "source": [
    "# Alternate funny way for Part 2\n",
    "\n",
    "## Just use Part 1 algo but with data reversed"
   ]
  },
  {
   "cell_type": "code",
   "execution_count": 7,
   "metadata": {},
   "outputs": [
    {
     "name": "stdout",
     "output_type": "stream",
     "text": [
      "1140\n"
     ]
    }
   ],
   "source": [
    "reversed_data = [line[::-1] for line in data]\n",
    "\n",
    "predictions = []\n",
    "\n",
    "for line in reversed_data:\n",
    "    ends = [line[-1]]\n",
    "    diff = [b-a for a,b in pairwise(line)]\n",
    "\n",
    "    while len(set(diff)) != 1:\n",
    "        ends.append(diff[-1])\n",
    "        diff = [b-a for a,b in pairwise(diff)]\n",
    "\n",
    "    \n",
    "    prediction = diff[-1]\n",
    "\n",
    "    while ends:\n",
    "        prediction += ends.pop(-1)\n",
    "\n",
    "    predictions.append(prediction)\n",
    "\n",
    "print(sum(predictions))\n",
    "    \n"
   ]
  }
 ],
 "metadata": {
  "kernelspec": {
   "display_name": "base",
   "language": "python",
   "name": "python3"
  },
  "language_info": {
   "codemirror_mode": {
    "name": "ipython",
    "version": 3
   },
   "file_extension": ".py",
   "mimetype": "text/x-python",
   "name": "python",
   "nbconvert_exporter": "python",
   "pygments_lexer": "ipython3",
   "version": "3.10.9"
  }
 },
 "nbformat": 4,
 "nbformat_minor": 2
}
