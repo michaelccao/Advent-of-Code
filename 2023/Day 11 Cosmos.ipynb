{
 "cells": [
  {
   "cell_type": "code",
   "execution_count": 41,
   "metadata": {},
   "outputs": [],
   "source": [
    "from pathlib import Path\n",
    "import numpy as np\n",
    "from itertools import combinations"
   ]
  },
  {
   "cell_type": "code",
   "execution_count": 46,
   "metadata": {},
   "outputs": [],
   "source": [
    "data = Path('Day11.txt').read_text().splitlines()"
   ]
  },
  {
   "cell_type": "markdown",
   "metadata": {},
   "source": [
    "# Part 1"
   ]
  },
  {
   "cell_type": "code",
   "execution_count": 47,
   "metadata": {},
   "outputs": [],
   "source": [
    "cosmos = np.array([[0 if c == '.' else 1 for c in line] for line in data])"
   ]
  },
  {
   "cell_type": "code",
   "execution_count": 48,
   "metadata": {},
   "outputs": [],
   "source": [
    "columns = np.max(cosmos, axis = 0)\n",
    "empty_columns = np.where(columns == 0)[0]\n",
    "\n",
    "rows = np.max(cosmos, axis = 1)\n",
    "empty_rows = np.where(rows == 0)[0]"
   ]
  },
  {
   "cell_type": "code",
   "execution_count": 52,
   "metadata": {},
   "outputs": [],
   "source": [
    "gi, gj = np.where(cosmos == 1)"
   ]
  },
  {
   "cell_type": "code",
   "execution_count": 57,
   "metadata": {},
   "outputs": [
    {
     "name": "stdout",
     "output_type": "stream",
     "text": [
      "9329143\n"
     ]
    }
   ],
   "source": [
    "total_distance = 0\n",
    "\n",
    "for [ai, aj], [bi, bj] in combinations(zip(gi, gj), 2):\n",
    "    distance = abs(bj - aj) + abs(bi - ai)\n",
    "\n",
    "    col_range = range(min(aj, bj), max(aj, bj))\n",
    "    row_range = range(min(ai, bi), max(ai, bi))\n",
    "\n",
    "    for col in empty_columns:\n",
    "        if col in col_range:\n",
    "            distance += 1\n",
    "    \n",
    "    for row in empty_rows:\n",
    "        if row in row_range:\n",
    "            distance += 1\n",
    "\n",
    "    total_distance += distance\n",
    "\n",
    "print(total_distance)"
   ]
  },
  {
   "cell_type": "markdown",
   "metadata": {},
   "source": [
    "# Part 2"
   ]
  },
  {
   "cell_type": "code",
   "execution_count": 58,
   "metadata": {},
   "outputs": [
    {
     "name": "stdout",
     "output_type": "stream",
     "text": [
      "710674907809\n"
     ]
    }
   ],
   "source": [
    "total_distance = 0\n",
    "\n",
    "for [ai, aj], [bi, bj] in combinations(zip(gi, gj), 2):\n",
    "    distance = abs(bj - aj) + abs(bi - ai)\n",
    "\n",
    "    col_range = range(min(aj, bj), max(aj, bj))\n",
    "    row_range = range(min(ai, bi), max(ai, bi))\n",
    "\n",
    "    for col in empty_columns:\n",
    "        if col in col_range:\n",
    "            distance += 999999\n",
    "    \n",
    "    for row in empty_rows:\n",
    "        if row in row_range:\n",
    "            distance += 999999\n",
    "\n",
    "    total_distance += distance\n",
    "\n",
    "print(total_distance)"
   ]
  }
 ],
 "metadata": {
  "kernelspec": {
   "display_name": "base",
   "language": "python",
   "name": "python3"
  },
  "language_info": {
   "codemirror_mode": {
    "name": "ipython",
    "version": 3
   },
   "file_extension": ".py",
   "mimetype": "text/x-python",
   "name": "python",
   "nbconvert_exporter": "python",
   "pygments_lexer": "ipython3",
   "version": "3.10.9"
  }
 },
 "nbformat": 4,
 "nbformat_minor": 2
}
