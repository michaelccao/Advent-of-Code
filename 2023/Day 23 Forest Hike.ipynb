{
 "cells": [
  {
   "cell_type": "code",
   "execution_count": 56,
   "metadata": {},
   "outputs": [],
   "source": [
    "from pathlib import Path\n",
    "import numpy as np\n",
    "from collections import deque\n",
    "from copy import copy\n",
    "\n",
    "np.set_printoptions(threshold = np.inf, linewidth = np.inf)"
   ]
  },
  {
   "cell_type": "code",
   "execution_count": 57,
   "metadata": {},
   "outputs": [],
   "source": [
    "data = Path('Day23.txt').read_text().splitlines()\n",
    "data = np.array([[c for c in line] for line in data])\n",
    "\n",
    "h, w = data.shape"
   ]
  },
  {
   "cell_type": "code",
   "execution_count": 58,
   "metadata": {},
   "outputs": [
    {
     "name": "stdout",
     "output_type": "stream",
     "text": [
      "2318\n"
     ]
    }
   ],
   "source": [
    "to_visit = deque([[set(), 0, 1]])\n",
    "\n",
    "neighbors = [[1, 0], [-1, 0], [0, 1], [0, -1]]\n",
    "\n",
    "max_dist = 0\n",
    "best_path = None\n",
    "\n",
    "while to_visit:\n",
    "    visited, i, j = to_visit.popleft()\n",
    "\n",
    "    if i == h -1:\n",
    "        if len(visited) > max_dist:\n",
    "            max_dist = len(visited)\n",
    "            best_path = visited\n",
    "\n",
    "    visited = copy(visited)\n",
    "    visited.add((i,j))\n",
    "\n",
    "    if data[i,j] == '>':\n",
    "        if (i, j+1) not in visited:\n",
    "            to_visit.append([visited, i, j+1])\n",
    "    elif data[i,j] == 'v':\n",
    "        if (i+1, j) not in visited:\n",
    "            to_visit.append([visited, i+1, j])\n",
    "    else:\n",
    "        for di, dj in neighbors:\n",
    "            i2 = i + di\n",
    "            j2 = j + dj\n",
    "\n",
    "            if 0 <= i2 < h and 0<= j2 < w and data[i2, j2] != '#' and (i2,j2) not in visited:\n",
    "                to_visit.append([visited, i2, j2])\n",
    "\n",
    "print(max_dist)"
   ]
  },
  {
   "cell_type": "markdown",
   "metadata": {},
   "source": [
    "# Part 2"
   ]
  },
  {
   "cell_type": "code",
   "execution_count": 59,
   "metadata": {},
   "outputs": [],
   "source": [
    "forks = []\n",
    "\n",
    "for i in range(h):\n",
    "    for j in range(w):\n",
    "        if data[i,j] != '#':\n",
    "            valid_neighbors = 0\n",
    "\n",
    "            for di, dj in neighbors:\n",
    "                i2 = i + di\n",
    "                j2 = j + dj\n",
    "\n",
    "                if 0 <= i2 < h and 0 <= j2 < w and data[i2, j2] != '#':\n",
    "                    valid_neighbors += 1\n",
    "            \n",
    "            if valid_neighbors > 2:\n",
    "                forks.append([i, j])"
   ]
  },
  {
   "cell_type": "code",
   "execution_count": 60,
   "metadata": {},
   "outputs": [],
   "source": [
    "neighbors = [[1, 0], [-1, 0], [0, 1], [0, -1]]\n",
    "\n",
    "def follow_to_fork(start_i, start_j):\n",
    "    to_visit = deque([[start_i, start_j, 0]])\n",
    "    visited = set()\n",
    "\n",
    "    end_forks = []\n",
    "\n",
    "    while to_visit:\n",
    "        i, j, steps = to_visit.popleft()\n",
    "\n",
    "        visited.add((i, j))\n",
    "\n",
    "        valid_paths = [[i2, j2] for di,dj in neighbors if \n",
    "            0 <= (i2:=i+di) < h and 0 <= (j2:=j+dj) < w and data[i2, j2] != '#' and (i2, j2) not in visited]\n",
    "        \n",
    "        if len(valid_paths) == 1 or (i == start_i and j == start_j):\n",
    "            for [i2, j2] in valid_paths:\n",
    "                to_visit.append([i2, j2, steps+1])\n",
    "        else:\n",
    "            end_forks.append([i, j, steps])\n",
    "\n",
    "    return end_forks"
   ]
  },
  {
   "cell_type": "code",
   "execution_count": 61,
   "metadata": {},
   "outputs": [],
   "source": [
    "paths = {}\n",
    "\n",
    "for fork in [[0, 1]] + forks:\n",
    "    end_forks = follow_to_fork(fork[0], fork[1])\n",
    "\n",
    "    paths[tuple(fork)] = {(i, j): steps for i,j,steps in end_forks}"
   ]
  },
  {
   "cell_type": "code",
   "execution_count": 62,
   "metadata": {},
   "outputs": [
    {
     "name": "stdout",
     "output_type": "stream",
     "text": [
      "6426\n"
     ]
    }
   ],
   "source": [
    "to_visit = deque([[0, 1, set(), 0]])\n",
    "\n",
    "max_steps = 0\n",
    "\n",
    "while to_visit:\n",
    "    i, j, visited, steps = to_visit.popleft()\n",
    "\n",
    "    if i == h-1:\n",
    "        max_steps = max(max_steps, steps)\n",
    "        continue\n",
    "\n",
    "    visited = copy(visited)\n",
    "    visited.add((i, j))\n",
    "\n",
    "    for (i2, j2), steps2 in paths[i,j].items():\n",
    "        if (i2, j2) not in visited:\n",
    "            to_visit.append([i2, j2, visited, steps + steps2])\n",
    "\n",
    "print(max_steps)"
   ]
  }
 ],
 "metadata": {
  "kernelspec": {
   "display_name": "base",
   "language": "python",
   "name": "python3"
  },
  "language_info": {
   "codemirror_mode": {
    "name": "ipython",
    "version": 3
   },
   "file_extension": ".py",
   "mimetype": "text/x-python",
   "name": "python",
   "nbconvert_exporter": "python",
   "pygments_lexer": "ipython3",
   "version": "3.10.9"
  }
 },
 "nbformat": 4,
 "nbformat_minor": 2
}
