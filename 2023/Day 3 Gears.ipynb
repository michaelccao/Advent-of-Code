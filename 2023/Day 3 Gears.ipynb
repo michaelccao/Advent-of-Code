{
 "cells": [
  {
   "cell_type": "markdown",
   "metadata": {},
   "source": [
    "# A weapon to surpass Metal Gear"
   ]
  },
  {
   "cell_type": "code",
   "execution_count": 3,
   "metadata": {},
   "outputs": [],
   "source": [
    "from pathlib import Path\n",
    "import numpy as np"
   ]
  },
  {
   "cell_type": "code",
   "execution_count": 121,
   "metadata": {},
   "outputs": [],
   "source": [
    "data = Path('Day3.txt').read_text().split('\\n')"
   ]
  },
  {
   "cell_type": "markdown",
   "metadata": {},
   "source": [
    "# Part 1"
   ]
  },
  {
   "cell_type": "code",
   "execution_count": 122,
   "metadata": {},
   "outputs": [],
   "source": [
    "data_arr = np.array([[char for char in line] for line in data])\n",
    "\n",
    "h, w = data_arr.shape"
   ]
  },
  {
   "cell_type": "code",
   "execution_count": 123,
   "metadata": {},
   "outputs": [],
   "source": [
    "numbers = []\n",
    "\n",
    "for i,line in enumerate(data_arr):\n",
    "    buffer = ''\n",
    "    for j, c in enumerate(line):\n",
    "        if c.isdigit():\n",
    "            buffer += c\n",
    "        else:\n",
    "            if buffer:\n",
    "                numbers.append([int(buffer), i, j-len(buffer)])\n",
    "            buffer = ''\n",
    "    if buffer:\n",
    "        numbers.append([int(buffer), i, j-len(buffer)+1])"
   ]
  },
  {
   "cell_type": "code",
   "execution_count": 124,
   "metadata": {},
   "outputs": [
    {
     "name": "stdout",
     "output_type": "stream",
     "text": [
      "530495\n"
     ]
    }
   ],
   "source": [
    "result = 0\n",
    "\n",
    "for num, i, j in numbers:\n",
    "    num_digits = len(str(num))\n",
    "\n",
    "    left_border = [[i+di, j - 1] for di in [1, 0, -1] if 0 <= i + di < h and 0 <= j-1 < w]\n",
    "    right_border = [[i+di, j + num_digits] for di in [1, 0, -1] if 0 <= i + di < h and 0 <= j+num_digits < w]\n",
    "    top_bot = [[i+di, j2] for j2 in range(j, j+num_digits) for di in [1, -1] if 0 <= i + di < h]\n",
    "\n",
    "    neighbors = left_border + right_border + top_bot\n",
    "\n",
    "    for i,j in neighbors:\n",
    "        if ~data_arr[i, j].isdigit() and data_arr[i,j] != '.':\n",
    "            result += num\n",
    "            # print(num)\n",
    "            break\n",
    "\n",
    "print(result)\n"
   ]
  },
  {
   "cell_type": "markdown",
   "metadata": {},
   "source": [
    "# Part 2"
   ]
  },
  {
   "cell_type": "code",
   "execution_count": 125,
   "metadata": {},
   "outputs": [
    {
     "data": {
      "text/plain": [
       "80253814"
      ]
     },
     "execution_count": 125,
     "metadata": {},
     "output_type": "execute_result"
    }
   ],
   "source": [
    "result = 0\n",
    "\n",
    "gear_dict = {}\n",
    "\n",
    "for num, i, j in numbers:\n",
    "    num_digits = len(str(num))\n",
    "\n",
    "    left_border = [[i+di, j - 1] for di in [1, 0, -1] if 0 <= i + di < h and 0 <= j-1 < w]\n",
    "    right_border = [[i+di, j + num_digits] for di in [1, 0, -1] if 0 <= i + di < h and 0 <= j+num_digits < w]\n",
    "    top_bot = [[i+di, j2] for j2 in range(j, j+num_digits) for di in [1, -1] if 0 <= i + di < h]\n",
    "\n",
    "    neighbors = left_border + right_border + top_bot\n",
    "\n",
    "    for i,j in neighbors:\n",
    "        if data_arr[i, j] == '*':\n",
    "            if (i,j) in gear_dict:\n",
    "                gear_dict[i,j].append(num)\n",
    "            else:\n",
    "                gear_dict[i,j] = [num]\n",
    "\n",
    "sum([v[0]*v[1] for k,v in gear_dict.items() if len(v) == 2])"
   ]
  },
  {
   "cell_type": "code",
   "execution_count": null,
   "metadata": {},
   "outputs": [],
   "source": []
  }
 ],
 "metadata": {
  "kernelspec": {
   "display_name": "base",
   "language": "python",
   "name": "python3"
  },
  "language_info": {
   "codemirror_mode": {
    "name": "ipython",
    "version": 3
   },
   "file_extension": ".py",
   "mimetype": "text/x-python",
   "name": "python",
   "nbconvert_exporter": "python",
   "pygments_lexer": "ipython3",
   "version": "3.10.9"
  }
 },
 "nbformat": 4,
 "nbformat_minor": 2
}
