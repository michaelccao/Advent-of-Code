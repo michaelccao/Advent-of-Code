{
 "cells": [
  {
   "cell_type": "code",
   "execution_count": 1,
   "metadata": {},
   "outputs": [],
   "source": [
    "from pathlib import Path\n",
    "from itertools import product\n",
    "from collections import deque, Counter\n",
    "from functools import reduce"
   ]
  },
  {
   "cell_type": "code",
   "execution_count": 2,
   "metadata": {},
   "outputs": [],
   "source": [
    "data = Path('Day12.txt').read_text().splitlines()\n",
    "data = [[line.split()[0], list(map(int, line.split()[1].split(',')))] for line in data]"
   ]
  },
  {
   "cell_type": "code",
   "execution_count": 3,
   "metadata": {},
   "outputs": [],
   "source": [
    "memo = {}\n",
    "\n",
    "def num_matches(string, check):\n",
    "    if not string:\n",
    "        return 1 if not check else 0\n",
    "    if not check:\n",
    "        return 1 if '#' not in string else 0\n",
    "    \n",
    "    if (string, tuple(check)) in memo:\n",
    "        return memo[string, tuple(check)]\n",
    "\n",
    "    match string[0]:\n",
    "        case '.':\n",
    "            total = num_matches(string[1:], check)\n",
    "        case '?':\n",
    "            total = num_matches('.' + string[1:], check) + num_matches('#' + string[1:], check)\n",
    "        case '#':\n",
    "            \n",
    "            for i,c in enumerate(string):\n",
    "                if c != '#':\n",
    "                    i = i-1\n",
    "                    break\n",
    "            \n",
    "            consecutive_hashes = i+1\n",
    "            if consecutive_hashes > check[0]:\n",
    "                total = 0\n",
    "            elif consecutive_hashes == check[0]:\n",
    "                leftover = string[consecutive_hashes:]\n",
    "                \n",
    "                if leftover:\n",
    "                    total = num_matches('.' + leftover[1:], check[1:])\n",
    "                else:\n",
    "                    total = num_matches('', check[1:])\n",
    "            else:\n",
    "                leftover = string[consecutive_hashes:]\n",
    "                \n",
    "                if leftover and leftover[0] == '?':\n",
    "                    total = num_matches('#' + leftover[1:], [check[0] - consecutive_hashes] + check[1:])\n",
    "                else:\n",
    "                    total = 0\n",
    "                    \n",
    "    memo[string, tuple(check)] = total\n",
    "\n",
    "    return total"
   ]
  },
  {
   "cell_type": "code",
   "execution_count": 4,
   "metadata": {},
   "outputs": [
    {
     "name": "stdout",
     "output_type": "stream",
     "text": [
      "7732\n"
     ]
    }
   ],
   "source": [
    "total = 0\n",
    "for string, check in data:\n",
    "    total += num_matches(string, check)\n",
    "\n",
    "print(total)"
   ]
  },
  {
   "cell_type": "markdown",
   "metadata": {},
   "source": [
    "# Part 2"
   ]
  },
  {
   "cell_type": "code",
   "execution_count": 5,
   "metadata": {},
   "outputs": [
    {
     "name": "stdout",
     "output_type": "stream",
     "text": [
      "4500070301581\n"
     ]
    }
   ],
   "source": [
    "total = 0\n",
    "\n",
    "for string, check in data:\n",
    "    total += num_matches('?'.join([string]*5), check*5)\n",
    "\n",
    "print(total)"
   ]
  }
 ],
 "metadata": {
  "kernelspec": {
   "display_name": "base",
   "language": "python",
   "name": "python3"
  },
  "language_info": {
   "codemirror_mode": {
    "name": "ipython",
    "version": 3
   },
   "file_extension": ".py",
   "mimetype": "text/x-python",
   "name": "python",
   "nbconvert_exporter": "python",
   "pygments_lexer": "ipython3",
   "version": "3.10.9"
  }
 },
 "nbformat": 4,
 "nbformat_minor": 2
}
